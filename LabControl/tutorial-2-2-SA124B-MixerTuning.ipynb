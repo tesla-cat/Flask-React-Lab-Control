{
 "metadata": {
  "language_info": {
   "codemirror_mode": {
    "name": "ipython",
    "version": 3
   },
   "file_extension": ".py",
   "mimetype": "text/x-python",
   "name": "python",
   "nbconvert_exporter": "python",
   "pygments_lexer": "ipython3",
   "version": "3.8.5-final"
  },
  "orig_nbformat": 2,
  "kernelspec": {
   "name": "python3",
   "display_name": "Python 3",
   "language": "python"
  }
 },
 "nbformat": 4,
 "nbformat_minor": 2,
 "cells": [
  {
   "cell_type": "code",
   "execution_count": 1,
   "metadata": {},
   "outputs": [],
   "source": [
    "import time\n",
    "import numpy as np\n",
    "import matplotlib.pyplot as plt\n",
    "import plotly.graph_objects as go\n",
    "from Instruments.SA124B.SA124B import SA124B\n",
    "# qm\n",
    "from qm.QuantumMachinesManager import QuantumMachinesManager\n",
    "from qm.qua import program, infinite_loop_, play\n",
    "from configuration import config, qubit_IF, qubit_LO, IQ_imbalance\n",
    "from scipy.optimize import minimize\n",
    "\n",
    "class MixerTuner:\n",
    "    def __init__(self, carrier, sideBand, power):\n",
    "        self.sa124B = SA124B(serialNumber = 19184645, mode = 'sweep')\n",
    "        self.initQM()\n",
    "\n",
    "        self.carrier = carrier\n",
    "        self.sideBand = sideBand # pos / neg <=> upper / lower\n",
    "        self.power = power\n",
    "        \n",
    "    def initQM(self):\n",
    "        qmm = QuantumMachinesManager()\n",
    "        self.qm = qmm.open_qm(config)\n",
    "        with program() as hello_qua:\n",
    "            with infinite_loop_():\n",
    "                play(\"CW\", \"qubit\")\n",
    "        self.job = self.qm.execute(hello_qua)\n",
    "\n",
    "    def step1CoarseSweep(self, I=0, Q=0, gain=0, phase=0):\n",
    "        self.qm.set_dc_offset_by_qe(\"qubit\", \"I\", float(I))\n",
    "        self.qm.set_dc_offset_by_qe(\"qubit\", \"Q\", float(Q))\n",
    "        self.qm.set_mixer_correction(\"mixer_qubit\", qubit_IF, qubit_LO, IQ_imbalance(gain, phase))\n",
    "        freqs, amps = self.sa124B.initSweep(self.carrier, self.sideBand*10, 100, self.power)\n",
    "        plt.figure()\n",
    "        plt.plot(freqs, amps)\n",
    "\n",
    "    def minimize(self, centers, spans, callback, amps, numIters, numGrids, shrink):\n",
    "        spans = np.array(spans)\n",
    "        def minimizeIter(centers_, spans_):\n",
    "            x = np.linspace(centers_[0]-spans_[0]/2, centers_[0]+spans_[0]/2, numGrids[0])\n",
    "            y = np.linspace(centers_[1]-spans_[1]/2, centers_[1]+spans_[1]/2, numGrids[1])\n",
    "            power = np.zeros(numGrids)\n",
    "            for i, xi in enumerate(x):\n",
    "                for j, yj in enumerate(y):\n",
    "                    callback(xi, yj)\n",
    "                    power[i, j] = self.sa124B.getSweepSingle(len(amps))\n",
    "            if numGrids[0] == 1:\n",
    "                plt.plot(y, power[0, :])\n",
    "                plt.show()\n",
    "            elif numGrids[1] == 1:\n",
    "                plt.plot(x, power[:, 0])\n",
    "                plt.show()\n",
    "            else:\n",
    "                fig = go.Figure( data=[go.Surface(z=power, x=x, y=y)] )\n",
    "                fig.show()\n",
    "            ind = np.unravel_index(np.argmin(power, axis=None), power.shape)\n",
    "            minx, miny = x[ind[0]], y[ind[1]]\n",
    "            return minx, miny\n",
    "        for i in range(numIters):\n",
    "            print('iter, centers, spans:', i, centers, spans)\n",
    "            centers = minimizeIter(centers, spans)\n",
    "            spans = spans * shrink**(i+1)\n",
    "        print('final centers:', centers)\n",
    "        return centers\n",
    "      \n",
    "    def step2CarrierLeakage(self, centers, spans, numIters, numGrids, shrink):\n",
    "        print('step2CarrierLeakage')\n",
    "        _, amps = self.sa124B.initSweepSingle(center=self.carrier, power=self.power)\n",
    "        def callback(I, Q):\n",
    "            self.qm.set_dc_offset_by_qe(\"qubit\", \"I\", float(I))\n",
    "            self.qm.set_dc_offset_by_qe(\"qubit\", \"Q\", float(Q))\n",
    "        return self.minimize(centers, spans, callback, amps, numIters, numGrids, shrink)\n",
    "    \n",
    "    def step3IqImbalance(self, centers, spans, numIters, numGrids, shrink):\n",
    "        print('step3IqImbalance')\n",
    "        _, amps = self.sa124B.initSweepSingle(center=self.carrier+self.sideBand, power=self.power)\n",
    "        def callback(gain, phase):\n",
    "            self.qm.set_mixer_correction(\"mixer_qubit\", qubit_IF, qubit_LO, IQ_imbalance(gain, phase))\n",
    "        return self.minimize(centers, spans, callback, amps, numIters, numGrids, shrink)\n",
    "    "
   ]
  },
  {
   "cell_type": "code",
   "execution_count": 2,
   "metadata": {},
   "outputs": [
    {
     "output_type": "stream",
     "name": "stdout",
     "text": [
      "2021-01-13 16:08:14,306 - qm - INFO - Performing health check\n",
      "2021-01-13 16:08:14,310 - qm - INFO - Health check passed\n",
      "2021-01-13 16:08:14,617 - qm - INFO - Flags: \n",
      "2021-01-13 16:08:14,618 - qm - INFO - Executing high level program\n"
     ]
    }
   ],
   "source": [
    "mixerTuner = MixerTuner(carrier = 6e9, sideBand = 50e6, power = 0)"
   ]
  },
  {
   "cell_type": "code",
   "execution_count": 3,
   "metadata": {},
   "outputs": [],
   "source": [
    "#mixerTuner.step1CoarseSweep()"
   ]
  },
  {
   "cell_type": "code",
   "execution_count": 4,
   "metadata": {},
   "outputs": [
    {
     "output_type": "stream",
     "name": "stdout",
     "text": [
      "step2CarrierLeakage\n",
      "@SA124B.initSweep: resolution= 250000.0\n",
      "iter, centers, spans: 0 [0, 0] [0.2 0.2]\n"
     ]
    },
    {
     "output_type": "display_data",
     "data": {
      "application/vnd.plotly.v1+json": {
       "config": {
        "plotlyServerURL": "https://plot.ly"
       },
       "data": [
        {
         "type": "surface",
         "x": [
          -0.1,
          -0.08,
          -0.060000000000000005,
          -0.04000000000000001,
          -0.020000000000000004,
          0,
          0.01999999999999999,
          0.04000000000000001,
          0.06,
          0.07999999999999999,
          0.1
         ],
         "y": [
          -0.1,
          -0.08,
          -0.060000000000000005,
          -0.04000000000000001,
          -0.020000000000000004,
          0,
          0.01999999999999999,
          0.04000000000000001,
          0.06,
          0.07999999999999999,
          0.1
         ],
         "z": [
          [
           -20.528205160243512,
           -21.334132824251807,
           -22.075305492816124,
           -22.758872841333154,
           -23.26364768202897,
           -23.528662167994096,
           -23.522801055369552,
           -23.226219157908393,
           -22.716237954316494,
           -22.03710478047535,
           -21.258648661756663
          ],
          [
           -21.418813557469196,
           -22.38434199621481,
           -23.3486104019314,
           -24.237955799820543,
           -24.917810994900723,
           -25.27066969344082,
           -25.19880497016103,
           -24.733773003093578,
           -23.965429429082103,
           -23.050725192091004,
           -22.078913365465947
          ],
          [
           -22.329253864645334,
           -23.52309929468146,
           -24.773009586254044,
           -25.970169493598053,
           -26.953768789527448,
           -27.434228596575313,
           -27.242042263561355,
           -26.440596986490387,
           -25.306703609867863,
           -24.065220457235693,
           -22.836037018477906
          ],
          [
           -23.195954245988883,
           -24.656207311667142,
           -26.282521454498795,
           -28.01765781872444,
           -29.569941156262477,
           -30.32294788038811,
           -29.789185207660932,
           -28.333040403984757,
           -26.608990698550368,
           -24.94221496160547,
           -23.45084281280837
          ],
          [
           -23.949098006494143,
           -25.712614721670644,
           -27.823193736453707,
           -30.365650920137238,
           -33.18825971359806,
           -34.66386757258489,
           -33.00944558455791,
           -30.190719727610823,
           -27.654713201875982,
           -25.587510257335335,
           -23.852158258634457
          ],
          [
           -24.522288366701037,
           -26.5063605860317,
           -29.05739641832763,
           -32.628352945495706,
           -38.33884488976926,
           -43.35986004997689,
           -36.140904781749214,
           -31.31361430403678,
           -28.16688043008598,
           -25.820280258809806,
           -23.964470368710668
          ],
          [
           -24.766972050339287,
           -26.813720632280695,
           -29.480407779352486,
           -33.30840866777908,
           -39.69994686037779,
           -43.74170246540152,
           -35.599182918489305,
           -30.91601733204997,
           -27.830468011247657,
           -25.581795471662563,
           -23.7650039494405
          ],
          [
           -24.640137019618404,
           -26.53147871065794,
           -28.86668649675971,
           -31.652873315216677,
           -34.48219398618866,
           -34.80779022274514,
           -32.20080458674859,
           -29.308053665335105,
           -26.905943673375514,
           -24.955618766433428,
           -23.31299008547943
          ],
          [
           -24.162380641122635,
           -25.762256517120516,
           -27.509162688380226,
           -29.270469401102,
           -30.476142904682714,
           -30.400712965326836,
           -29.145369017272902,
           -27.394888264103212,
           -25.65239865263283,
           -24.05243210948908,
           -22.6460200517829
          ],
          [
           -23.458553772608038,
           -24.72885177909396,
           -25.98285989464441,
           -27.045730175325584,
           -27.62807612609245,
           -27.505120620081467,
           -26.726275396164407,
           -25.574081841516847,
           -24.303006054705275,
           -23.054137513291455,
           -21.87557652903276
          ],
          [
           -22.597773493577517,
           -23.581863017071367,
           -24.466218927264112,
           -25.124438556608677,
           -25.442560458625206,
           -25.326256852348177,
           -24.783075121288416,
           -23.979987661299813,
           -23.0188741978185,
           -22.032243952537566,
           -21.055377898668944
          ]
         ]
        }
       ],
       "layout": {
        "template": {
         "data": {
          "bar": [
           {
            "error_x": {
             "color": "#2a3f5f"
            },
            "error_y": {
             "color": "#2a3f5f"
            },
            "marker": {
             "line": {
              "color": "#E5ECF6",
              "width": 0.5
             }
            },
            "type": "bar"
           }
          ],
          "barpolar": [
           {
            "marker": {
             "line": {
              "color": "#E5ECF6",
              "width": 0.5
             }
            },
            "type": "barpolar"
           }
          ],
          "carpet": [
           {
            "aaxis": {
             "endlinecolor": "#2a3f5f",
             "gridcolor": "white",
             "linecolor": "white",
             "minorgridcolor": "white",
             "startlinecolor": "#2a3f5f"
            },
            "baxis": {
             "endlinecolor": "#2a3f5f",
             "gridcolor": "white",
             "linecolor": "white",
             "minorgridcolor": "white",
             "startlinecolor": "#2a3f5f"
            },
            "type": "carpet"
           }
          ],
          "choropleth": [
           {
            "colorbar": {
             "outlinewidth": 0,
             "ticks": ""
            },
            "type": "choropleth"
           }
          ],
          "contour": [
           {
            "colorbar": {
             "outlinewidth": 0,
             "ticks": ""
            },
            "colorscale": [
             [
              0,
              "#0d0887"
             ],
             [
              0.1111111111111111,
              "#46039f"
             ],
             [
              0.2222222222222222,
              "#7201a8"
             ],
             [
              0.3333333333333333,
              "#9c179e"
             ],
             [
              0.4444444444444444,
              "#bd3786"
             ],
             [
              0.5555555555555556,
              "#d8576b"
             ],
             [
              0.6666666666666666,
              "#ed7953"
             ],
             [
              0.7777777777777778,
              "#fb9f3a"
             ],
             [
              0.8888888888888888,
              "#fdca26"
             ],
             [
              1,
              "#f0f921"
             ]
            ],
            "type": "contour"
           }
          ],
          "contourcarpet": [
           {
            "colorbar": {
             "outlinewidth": 0,
             "ticks": ""
            },
            "type": "contourcarpet"
           }
          ],
          "heatmap": [
           {
            "colorbar": {
             "outlinewidth": 0,
             "ticks": ""
            },
            "colorscale": [
             [
              0,
              "#0d0887"
             ],
             [
              0.1111111111111111,
              "#46039f"
             ],
             [
              0.2222222222222222,
              "#7201a8"
             ],
             [
              0.3333333333333333,
              "#9c179e"
             ],
             [
              0.4444444444444444,
              "#bd3786"
             ],
             [
              0.5555555555555556,
              "#d8576b"
             ],
             [
              0.6666666666666666,
              "#ed7953"
             ],
             [
              0.7777777777777778,
              "#fb9f3a"
             ],
             [
              0.8888888888888888,
              "#fdca26"
             ],
             [
              1,
              "#f0f921"
             ]
            ],
            "type": "heatmap"
           }
          ],
          "heatmapgl": [
           {
            "colorbar": {
             "outlinewidth": 0,
             "ticks": ""
            },
            "colorscale": [
             [
              0,
              "#0d0887"
             ],
             [
              0.1111111111111111,
              "#46039f"
             ],
             [
              0.2222222222222222,
              "#7201a8"
             ],
             [
              0.3333333333333333,
              "#9c179e"
             ],
             [
              0.4444444444444444,
              "#bd3786"
             ],
             [
              0.5555555555555556,
              "#d8576b"
             ],
             [
              0.6666666666666666,
              "#ed7953"
             ],
             [
              0.7777777777777778,
              "#fb9f3a"
             ],
             [
              0.8888888888888888,
              "#fdca26"
             ],
             [
              1,
              "#f0f921"
             ]
            ],
            "type": "heatmapgl"
           }
          ],
          "histogram": [
           {
            "marker": {
             "colorbar": {
              "outlinewidth": 0,
              "ticks": ""
             }
            },
            "type": "histogram"
           }
          ],
          "histogram2d": [
           {
            "colorbar": {
             "outlinewidth": 0,
             "ticks": ""
            },
            "colorscale": [
             [
              0,
              "#0d0887"
             ],
             [
              0.1111111111111111,
              "#46039f"
             ],
             [
              0.2222222222222222,
              "#7201a8"
             ],
             [
              0.3333333333333333,
              "#9c179e"
             ],
             [
              0.4444444444444444,
              "#bd3786"
             ],
             [
              0.5555555555555556,
              "#d8576b"
             ],
             [
              0.6666666666666666,
              "#ed7953"
             ],
             [
              0.7777777777777778,
              "#fb9f3a"
             ],
             [
              0.8888888888888888,
              "#fdca26"
             ],
             [
              1,
              "#f0f921"
             ]
            ],
            "type": "histogram2d"
           }
          ],
          "histogram2dcontour": [
           {
            "colorbar": {
             "outlinewidth": 0,
             "ticks": ""
            },
            "colorscale": [
             [
              0,
              "#0d0887"
             ],
             [
              0.1111111111111111,
              "#46039f"
             ],
             [
              0.2222222222222222,
              "#7201a8"
             ],
             [
              0.3333333333333333,
              "#9c179e"
             ],
             [
              0.4444444444444444,
              "#bd3786"
             ],
             [
              0.5555555555555556,
              "#d8576b"
             ],
             [
              0.6666666666666666,
              "#ed7953"
             ],
             [
              0.7777777777777778,
              "#fb9f3a"
             ],
             [
              0.8888888888888888,
              "#fdca26"
             ],
             [
              1,
              "#f0f921"
             ]
            ],
            "type": "histogram2dcontour"
           }
          ],
          "mesh3d": [
           {
            "colorbar": {
             "outlinewidth": 0,
             "ticks": ""
            },
            "type": "mesh3d"
           }
          ],
          "parcoords": [
           {
            "line": {
             "colorbar": {
              "outlinewidth": 0,
              "ticks": ""
             }
            },
            "type": "parcoords"
           }
          ],
          "pie": [
           {
            "automargin": true,
            "type": "pie"
           }
          ],
          "scatter": [
           {
            "marker": {
             "colorbar": {
              "outlinewidth": 0,
              "ticks": ""
             }
            },
            "type": "scatter"
           }
          ],
          "scatter3d": [
           {
            "line": {
             "colorbar": {
              "outlinewidth": 0,
              "ticks": ""
             }
            },
            "marker": {
             "colorbar": {
              "outlinewidth": 0,
              "ticks": ""
             }
            },
            "type": "scatter3d"
           }
          ],
          "scattercarpet": [
           {
            "marker": {
             "colorbar": {
              "outlinewidth": 0,
              "ticks": ""
             }
            },
            "type": "scattercarpet"
           }
          ],
          "scattergeo": [
           {
            "marker": {
             "colorbar": {
              "outlinewidth": 0,
              "ticks": ""
             }
            },
            "type": "scattergeo"
           }
          ],
          "scattergl": [
           {
            "marker": {
             "colorbar": {
              "outlinewidth": 0,
              "ticks": ""
             }
            },
            "type": "scattergl"
           }
          ],
          "scattermapbox": [
           {
            "marker": {
             "colorbar": {
              "outlinewidth": 0,
              "ticks": ""
             }
            },
            "type": "scattermapbox"
           }
          ],
          "scatterpolar": [
           {
            "marker": {
             "colorbar": {
              "outlinewidth": 0,
              "ticks": ""
             }
            },
            "type": "scatterpolar"
           }
          ],
          "scatterpolargl": [
           {
            "marker": {
             "colorbar": {
              "outlinewidth": 0,
              "ticks": ""
             }
            },
            "type": "scatterpolargl"
           }
          ],
          "scatterternary": [
           {
            "marker": {
             "colorbar": {
              "outlinewidth": 0,
              "ticks": ""
             }
            },
            "type": "scatterternary"
           }
          ],
          "surface": [
           {
            "colorbar": {
             "outlinewidth": 0,
             "ticks": ""
            },
            "colorscale": [
             [
              0,
              "#0d0887"
             ],
             [
              0.1111111111111111,
              "#46039f"
             ],
             [
              0.2222222222222222,
              "#7201a8"
             ],
             [
              0.3333333333333333,
              "#9c179e"
             ],
             [
              0.4444444444444444,
              "#bd3786"
             ],
             [
              0.5555555555555556,
              "#d8576b"
             ],
             [
              0.6666666666666666,
              "#ed7953"
             ],
             [
              0.7777777777777778,
              "#fb9f3a"
             ],
             [
              0.8888888888888888,
              "#fdca26"
             ],
             [
              1,
              "#f0f921"
             ]
            ],
            "type": "surface"
           }
          ],
          "table": [
           {
            "cells": {
             "fill": {
              "color": "#EBF0F8"
             },
             "line": {
              "color": "white"
             }
            },
            "header": {
             "fill": {
              "color": "#C8D4E3"
             },
             "line": {
              "color": "white"
             }
            },
            "type": "table"
           }
          ]
         },
         "layout": {
          "annotationdefaults": {
           "arrowcolor": "#2a3f5f",
           "arrowhead": 0,
           "arrowwidth": 1
          },
          "autotypenumbers": "strict",
          "coloraxis": {
           "colorbar": {
            "outlinewidth": 0,
            "ticks": ""
           }
          },
          "colorscale": {
           "diverging": [
            [
             0,
             "#8e0152"
            ],
            [
             0.1,
             "#c51b7d"
            ],
            [
             0.2,
             "#de77ae"
            ],
            [
             0.3,
             "#f1b6da"
            ],
            [
             0.4,
             "#fde0ef"
            ],
            [
             0.5,
             "#f7f7f7"
            ],
            [
             0.6,
             "#e6f5d0"
            ],
            [
             0.7,
             "#b8e186"
            ],
            [
             0.8,
             "#7fbc41"
            ],
            [
             0.9,
             "#4d9221"
            ],
            [
             1,
             "#276419"
            ]
           ],
           "sequential": [
            [
             0,
             "#0d0887"
            ],
            [
             0.1111111111111111,
             "#46039f"
            ],
            [
             0.2222222222222222,
             "#7201a8"
            ],
            [
             0.3333333333333333,
             "#9c179e"
            ],
            [
             0.4444444444444444,
             "#bd3786"
            ],
            [
             0.5555555555555556,
             "#d8576b"
            ],
            [
             0.6666666666666666,
             "#ed7953"
            ],
            [
             0.7777777777777778,
             "#fb9f3a"
            ],
            [
             0.8888888888888888,
             "#fdca26"
            ],
            [
             1,
             "#f0f921"
            ]
           ],
           "sequentialminus": [
            [
             0,
             "#0d0887"
            ],
            [
             0.1111111111111111,
             "#46039f"
            ],
            [
             0.2222222222222222,
             "#7201a8"
            ],
            [
             0.3333333333333333,
             "#9c179e"
            ],
            [
             0.4444444444444444,
             "#bd3786"
            ],
            [
             0.5555555555555556,
             "#d8576b"
            ],
            [
             0.6666666666666666,
             "#ed7953"
            ],
            [
             0.7777777777777778,
             "#fb9f3a"
            ],
            [
             0.8888888888888888,
             "#fdca26"
            ],
            [
             1,
             "#f0f921"
            ]
           ]
          },
          "colorway": [
           "#636efa",
           "#EF553B",
           "#00cc96",
           "#ab63fa",
           "#FFA15A",
           "#19d3f3",
           "#FF6692",
           "#B6E880",
           "#FF97FF",
           "#FECB52"
          ],
          "font": {
           "color": "#2a3f5f"
          },
          "geo": {
           "bgcolor": "white",
           "lakecolor": "white",
           "landcolor": "#E5ECF6",
           "showlakes": true,
           "showland": true,
           "subunitcolor": "white"
          },
          "hoverlabel": {
           "align": "left"
          },
          "hovermode": "closest",
          "mapbox": {
           "style": "light"
          },
          "paper_bgcolor": "white",
          "plot_bgcolor": "#E5ECF6",
          "polar": {
           "angularaxis": {
            "gridcolor": "white",
            "linecolor": "white",
            "ticks": ""
           },
           "bgcolor": "#E5ECF6",
           "radialaxis": {
            "gridcolor": "white",
            "linecolor": "white",
            "ticks": ""
           }
          },
          "scene": {
           "xaxis": {
            "backgroundcolor": "#E5ECF6",
            "gridcolor": "white",
            "gridwidth": 2,
            "linecolor": "white",
            "showbackground": true,
            "ticks": "",
            "zerolinecolor": "white"
           },
           "yaxis": {
            "backgroundcolor": "#E5ECF6",
            "gridcolor": "white",
            "gridwidth": 2,
            "linecolor": "white",
            "showbackground": true,
            "ticks": "",
            "zerolinecolor": "white"
           },
           "zaxis": {
            "backgroundcolor": "#E5ECF6",
            "gridcolor": "white",
            "gridwidth": 2,
            "linecolor": "white",
            "showbackground": true,
            "ticks": "",
            "zerolinecolor": "white"
           }
          },
          "shapedefaults": {
           "line": {
            "color": "#2a3f5f"
           }
          },
          "ternary": {
           "aaxis": {
            "gridcolor": "white",
            "linecolor": "white",
            "ticks": ""
           },
           "baxis": {
            "gridcolor": "white",
            "linecolor": "white",
            "ticks": ""
           },
           "bgcolor": "#E5ECF6",
           "caxis": {
            "gridcolor": "white",
            "linecolor": "white",
            "ticks": ""
           }
          },
          "title": {
           "x": 0.05
          },
          "xaxis": {
           "automargin": true,
           "gridcolor": "white",
           "linecolor": "white",
           "ticks": "",
           "title": {
            "standoff": 15
           },
           "zerolinecolor": "white",
           "zerolinewidth": 2
          },
          "yaxis": {
           "automargin": true,
           "gridcolor": "white",
           "linecolor": "white",
           "ticks": "",
           "title": {
            "standoff": 15
           },
           "zerolinecolor": "white",
           "zerolinewidth": 2
          }
         }
        }
       }
      }
     },
     "metadata": {}
    },
    {
     "output_type": "stream",
     "name": "stdout",
     "text": [
      "iter, centers, spans: 1 (0.01999999999999999, 0.0) [0.1 0.1]\n"
     ]
    },
    {
     "output_type": "display_data",
     "data": {
      "application/vnd.plotly.v1+json": {
       "config": {
        "plotlyServerURL": "https://plot.ly"
       },
       "data": [
        {
         "type": "surface",
         "x": [
          -0.030000000000000013,
          -0.02000000000000001,
          -0.010000000000000012,
          -1.3877787807814457e-17,
          0.009999999999999988,
          0.01999999999999999,
          0.029999999999999985,
          0.039999999999999994,
          0.04999999999999999,
          0.059999999999999984,
          0.06999999999999999
         ],
         "y": [
          -0.05,
          -0.04,
          -0.030000000000000002,
          -0.020000000000000004,
          -0.010000000000000002,
          0,
          0.009999999999999995,
          0.020000000000000004,
          0.03,
          0.039999999999999994,
          0.05
         ],
         "z": [
          [
           -28.09446841061371,
           -29.15535257165467,
           -30.238400133040845,
           -31.20086988393317,
           -31.92008654517716,
           -32.23531144821716,
           -31.969700995675563,
           -31.300213037799846,
           -30.352966599635604,
           -29.289616284865534,
           -28.226230747956986
          ],
          [
           -29.047670799741827,
           -30.37474086162776,
           -31.790680106936517,
           -33.13743378517225,
           -34.255425447565756,
           -34.634418498822285,
           -34.16410083300397,
           -33.00022867189982,
           -31.585908571288176,
           -30.190767529117135,
           -28.87111734635746
          ],
          [
           -29.940622981561543,
           -31.58236280752163,
           -33.458482637250924,
           -35.55879516223382,
           -37.44117578938271,
           -38.06374697855641,
           -36.787639932910494,
           -34.74791764168852,
           -32.709731702683925,
           -30.924751192853844,
           -29.366389717266014
          ],
          [
           -30.674657002846036,
           -32.62438433465188,
           -35.09384175474568,
           -38.34446836402873,
           -42.28735188540364,
           -43.33961152618278,
           -39.664100339589055,
           -36.176633541901026,
           -33.426316421798376,
           -31.320548895408425,
           -29.599132344002488
          ],
          [
           -31.103814737365912,
           -33.27994564010386,
           -36.14382099582434,
           -40.44202845675807,
           -49.288549157008276,
           -51.105173333261206,
           -41.02400576416534,
           -36.517142906223526,
           -33.540129804124135,
           -31.33158995515785,
           -29.56791408196018
          ],
          [
           -31.207889008923072,
           -33.30887356596642,
           -36.01382776398067,
           -39.68386252642121,
           -44.38956054928296,
           -43.72803719800214,
           -39.135267855063574,
           -35.591640248238065,
           -32.97565042262664,
           -30.91751246448904,
           -29.26899414349057
          ],
          [
           -30.8541462216438,
           -32.66653555235318,
           -34.835153118088854,
           -37.098982220076195,
           -38.65760138823633,
           -38.26585323309624,
           -36.227550604212084,
           -33.97051205922972,
           -31.89540983268638,
           -30.216084859853463,
           -28.709274683236277
          ],
          [
           -30.21346224378622,
           -31.671938249435353,
           -33.170315637852156,
           -34.4729728491354,
           -35.1264846659719,
           -34.80661795687203,
           -33.653303201460545,
           -32.19403743802283,
           -30.706467982802284,
           -29.313276043673095,
           -28.06549622823096
          ],
          [
           -29.363724386612272,
           -30.48599373867467,
           -31.50830191358671,
           -32.323983370438185,
           -32.61319679832991,
           -32.36201204798671,
           -31.63605815479357,
           -30.596274897755354,
           -29.475840568489797,
           -28.34747134864767,
           -27.279070098376803
          ],
          [
           -28.42089128953496,
           -29.248902442430417,
           -29.983402169474747,
           -30.46194811394859,
           -30.602860286250344,
           -30.426614832022945,
           -29.8591310624598,
           -29.137960555669093,
           -28.295150382730736,
           -27.38637407753814,
           -26.477351023236796
          ],
          [
           -27.456783310269426,
           -28.102614116953124,
           -28.61444028913986,
           -28.933317794100528,
           -29.01339026119498,
           -28.847668166310303,
           -28.430500771363437,
           -27.869015146754084,
           -27.177121158002674,
           -26.443871825348413,
           -25.70016255865541
          ]
         ]
        }
       ],
       "layout": {
        "template": {
         "data": {
          "bar": [
           {
            "error_x": {
             "color": "#2a3f5f"
            },
            "error_y": {
             "color": "#2a3f5f"
            },
            "marker": {
             "line": {
              "color": "#E5ECF6",
              "width": 0.5
             }
            },
            "type": "bar"
           }
          ],
          "barpolar": [
           {
            "marker": {
             "line": {
              "color": "#E5ECF6",
              "width": 0.5
             }
            },
            "type": "barpolar"
           }
          ],
          "carpet": [
           {
            "aaxis": {
             "endlinecolor": "#2a3f5f",
             "gridcolor": "white",
             "linecolor": "white",
             "minorgridcolor": "white",
             "startlinecolor": "#2a3f5f"
            },
            "baxis": {
             "endlinecolor": "#2a3f5f",
             "gridcolor": "white",
             "linecolor": "white",
             "minorgridcolor": "white",
             "startlinecolor": "#2a3f5f"
            },
            "type": "carpet"
           }
          ],
          "choropleth": [
           {
            "colorbar": {
             "outlinewidth": 0,
             "ticks": ""
            },
            "type": "choropleth"
           }
          ],
          "contour": [
           {
            "colorbar": {
             "outlinewidth": 0,
             "ticks": ""
            },
            "colorscale": [
             [
              0,
              "#0d0887"
             ],
             [
              0.1111111111111111,
              "#46039f"
             ],
             [
              0.2222222222222222,
              "#7201a8"
             ],
             [
              0.3333333333333333,
              "#9c179e"
             ],
             [
              0.4444444444444444,
              "#bd3786"
             ],
             [
              0.5555555555555556,
              "#d8576b"
             ],
             [
              0.6666666666666666,
              "#ed7953"
             ],
             [
              0.7777777777777778,
              "#fb9f3a"
             ],
             [
              0.8888888888888888,
              "#fdca26"
             ],
             [
              1,
              "#f0f921"
             ]
            ],
            "type": "contour"
           }
          ],
          "contourcarpet": [
           {
            "colorbar": {
             "outlinewidth": 0,
             "ticks": ""
            },
            "type": "contourcarpet"
           }
          ],
          "heatmap": [
           {
            "colorbar": {
             "outlinewidth": 0,
             "ticks": ""
            },
            "colorscale": [
             [
              0,
              "#0d0887"
             ],
             [
              0.1111111111111111,
              "#46039f"
             ],
             [
              0.2222222222222222,
              "#7201a8"
             ],
             [
              0.3333333333333333,
              "#9c179e"
             ],
             [
              0.4444444444444444,
              "#bd3786"
             ],
             [
              0.5555555555555556,
              "#d8576b"
             ],
             [
              0.6666666666666666,
              "#ed7953"
             ],
             [
              0.7777777777777778,
              "#fb9f3a"
             ],
             [
              0.8888888888888888,
              "#fdca26"
             ],
             [
              1,
              "#f0f921"
             ]
            ],
            "type": "heatmap"
           }
          ],
          "heatmapgl": [
           {
            "colorbar": {
             "outlinewidth": 0,
             "ticks": ""
            },
            "colorscale": [
             [
              0,
              "#0d0887"
             ],
             [
              0.1111111111111111,
              "#46039f"
             ],
             [
              0.2222222222222222,
              "#7201a8"
             ],
             [
              0.3333333333333333,
              "#9c179e"
             ],
             [
              0.4444444444444444,
              "#bd3786"
             ],
             [
              0.5555555555555556,
              "#d8576b"
             ],
             [
              0.6666666666666666,
              "#ed7953"
             ],
             [
              0.7777777777777778,
              "#fb9f3a"
             ],
             [
              0.8888888888888888,
              "#fdca26"
             ],
             [
              1,
              "#f0f921"
             ]
            ],
            "type": "heatmapgl"
           }
          ],
          "histogram": [
           {
            "marker": {
             "colorbar": {
              "outlinewidth": 0,
              "ticks": ""
             }
            },
            "type": "histogram"
           }
          ],
          "histogram2d": [
           {
            "colorbar": {
             "outlinewidth": 0,
             "ticks": ""
            },
            "colorscale": [
             [
              0,
              "#0d0887"
             ],
             [
              0.1111111111111111,
              "#46039f"
             ],
             [
              0.2222222222222222,
              "#7201a8"
             ],
             [
              0.3333333333333333,
              "#9c179e"
             ],
             [
              0.4444444444444444,
              "#bd3786"
             ],
             [
              0.5555555555555556,
              "#d8576b"
             ],
             [
              0.6666666666666666,
              "#ed7953"
             ],
             [
              0.7777777777777778,
              "#fb9f3a"
             ],
             [
              0.8888888888888888,
              "#fdca26"
             ],
             [
              1,
              "#f0f921"
             ]
            ],
            "type": "histogram2d"
           }
          ],
          "histogram2dcontour": [
           {
            "colorbar": {
             "outlinewidth": 0,
             "ticks": ""
            },
            "colorscale": [
             [
              0,
              "#0d0887"
             ],
             [
              0.1111111111111111,
              "#46039f"
             ],
             [
              0.2222222222222222,
              "#7201a8"
             ],
             [
              0.3333333333333333,
              "#9c179e"
             ],
             [
              0.4444444444444444,
              "#bd3786"
             ],
             [
              0.5555555555555556,
              "#d8576b"
             ],
             [
              0.6666666666666666,
              "#ed7953"
             ],
             [
              0.7777777777777778,
              "#fb9f3a"
             ],
             [
              0.8888888888888888,
              "#fdca26"
             ],
             [
              1,
              "#f0f921"
             ]
            ],
            "type": "histogram2dcontour"
           }
          ],
          "mesh3d": [
           {
            "colorbar": {
             "outlinewidth": 0,
             "ticks": ""
            },
            "type": "mesh3d"
           }
          ],
          "parcoords": [
           {
            "line": {
             "colorbar": {
              "outlinewidth": 0,
              "ticks": ""
             }
            },
            "type": "parcoords"
           }
          ],
          "pie": [
           {
            "automargin": true,
            "type": "pie"
           }
          ],
          "scatter": [
           {
            "marker": {
             "colorbar": {
              "outlinewidth": 0,
              "ticks": ""
             }
            },
            "type": "scatter"
           }
          ],
          "scatter3d": [
           {
            "line": {
             "colorbar": {
              "outlinewidth": 0,
              "ticks": ""
             }
            },
            "marker": {
             "colorbar": {
              "outlinewidth": 0,
              "ticks": ""
             }
            },
            "type": "scatter3d"
           }
          ],
          "scattercarpet": [
           {
            "marker": {
             "colorbar": {
              "outlinewidth": 0,
              "ticks": ""
             }
            },
            "type": "scattercarpet"
           }
          ],
          "scattergeo": [
           {
            "marker": {
             "colorbar": {
              "outlinewidth": 0,
              "ticks": ""
             }
            },
            "type": "scattergeo"
           }
          ],
          "scattergl": [
           {
            "marker": {
             "colorbar": {
              "outlinewidth": 0,
              "ticks": ""
             }
            },
            "type": "scattergl"
           }
          ],
          "scattermapbox": [
           {
            "marker": {
             "colorbar": {
              "outlinewidth": 0,
              "ticks": ""
             }
            },
            "type": "scattermapbox"
           }
          ],
          "scatterpolar": [
           {
            "marker": {
             "colorbar": {
              "outlinewidth": 0,
              "ticks": ""
             }
            },
            "type": "scatterpolar"
           }
          ],
          "scatterpolargl": [
           {
            "marker": {
             "colorbar": {
              "outlinewidth": 0,
              "ticks": ""
             }
            },
            "type": "scatterpolargl"
           }
          ],
          "scatterternary": [
           {
            "marker": {
             "colorbar": {
              "outlinewidth": 0,
              "ticks": ""
             }
            },
            "type": "scatterternary"
           }
          ],
          "surface": [
           {
            "colorbar": {
             "outlinewidth": 0,
             "ticks": ""
            },
            "colorscale": [
             [
              0,
              "#0d0887"
             ],
             [
              0.1111111111111111,
              "#46039f"
             ],
             [
              0.2222222222222222,
              "#7201a8"
             ],
             [
              0.3333333333333333,
              "#9c179e"
             ],
             [
              0.4444444444444444,
              "#bd3786"
             ],
             [
              0.5555555555555556,
              "#d8576b"
             ],
             [
              0.6666666666666666,
              "#ed7953"
             ],
             [
              0.7777777777777778,
              "#fb9f3a"
             ],
             [
              0.8888888888888888,
              "#fdca26"
             ],
             [
              1,
              "#f0f921"
             ]
            ],
            "type": "surface"
           }
          ],
          "table": [
           {
            "cells": {
             "fill": {
              "color": "#EBF0F8"
             },
             "line": {
              "color": "white"
             }
            },
            "header": {
             "fill": {
              "color": "#C8D4E3"
             },
             "line": {
              "color": "white"
             }
            },
            "type": "table"
           }
          ]
         },
         "layout": {
          "annotationdefaults": {
           "arrowcolor": "#2a3f5f",
           "arrowhead": 0,
           "arrowwidth": 1
          },
          "autotypenumbers": "strict",
          "coloraxis": {
           "colorbar": {
            "outlinewidth": 0,
            "ticks": ""
           }
          },
          "colorscale": {
           "diverging": [
            [
             0,
             "#8e0152"
            ],
            [
             0.1,
             "#c51b7d"
            ],
            [
             0.2,
             "#de77ae"
            ],
            [
             0.3,
             "#f1b6da"
            ],
            [
             0.4,
             "#fde0ef"
            ],
            [
             0.5,
             "#f7f7f7"
            ],
            [
             0.6,
             "#e6f5d0"
            ],
            [
             0.7,
             "#b8e186"
            ],
            [
             0.8,
             "#7fbc41"
            ],
            [
             0.9,
             "#4d9221"
            ],
            [
             1,
             "#276419"
            ]
           ],
           "sequential": [
            [
             0,
             "#0d0887"
            ],
            [
             0.1111111111111111,
             "#46039f"
            ],
            [
             0.2222222222222222,
             "#7201a8"
            ],
            [
             0.3333333333333333,
             "#9c179e"
            ],
            [
             0.4444444444444444,
             "#bd3786"
            ],
            [
             0.5555555555555556,
             "#d8576b"
            ],
            [
             0.6666666666666666,
             "#ed7953"
            ],
            [
             0.7777777777777778,
             "#fb9f3a"
            ],
            [
             0.8888888888888888,
             "#fdca26"
            ],
            [
             1,
             "#f0f921"
            ]
           ],
           "sequentialminus": [
            [
             0,
             "#0d0887"
            ],
            [
             0.1111111111111111,
             "#46039f"
            ],
            [
             0.2222222222222222,
             "#7201a8"
            ],
            [
             0.3333333333333333,
             "#9c179e"
            ],
            [
             0.4444444444444444,
             "#bd3786"
            ],
            [
             0.5555555555555556,
             "#d8576b"
            ],
            [
             0.6666666666666666,
             "#ed7953"
            ],
            [
             0.7777777777777778,
             "#fb9f3a"
            ],
            [
             0.8888888888888888,
             "#fdca26"
            ],
            [
             1,
             "#f0f921"
            ]
           ]
          },
          "colorway": [
           "#636efa",
           "#EF553B",
           "#00cc96",
           "#ab63fa",
           "#FFA15A",
           "#19d3f3",
           "#FF6692",
           "#B6E880",
           "#FF97FF",
           "#FECB52"
          ],
          "font": {
           "color": "#2a3f5f"
          },
          "geo": {
           "bgcolor": "white",
           "lakecolor": "white",
           "landcolor": "#E5ECF6",
           "showlakes": true,
           "showland": true,
           "subunitcolor": "white"
          },
          "hoverlabel": {
           "align": "left"
          },
          "hovermode": "closest",
          "mapbox": {
           "style": "light"
          },
          "paper_bgcolor": "white",
          "plot_bgcolor": "#E5ECF6",
          "polar": {
           "angularaxis": {
            "gridcolor": "white",
            "linecolor": "white",
            "ticks": ""
           },
           "bgcolor": "#E5ECF6",
           "radialaxis": {
            "gridcolor": "white",
            "linecolor": "white",
            "ticks": ""
           }
          },
          "scene": {
           "xaxis": {
            "backgroundcolor": "#E5ECF6",
            "gridcolor": "white",
            "gridwidth": 2,
            "linecolor": "white",
            "showbackground": true,
            "ticks": "",
            "zerolinecolor": "white"
           },
           "yaxis": {
            "backgroundcolor": "#E5ECF6",
            "gridcolor": "white",
            "gridwidth": 2,
            "linecolor": "white",
            "showbackground": true,
            "ticks": "",
            "zerolinecolor": "white"
           },
           "zaxis": {
            "backgroundcolor": "#E5ECF6",
            "gridcolor": "white",
            "gridwidth": 2,
            "linecolor": "white",
            "showbackground": true,
            "ticks": "",
            "zerolinecolor": "white"
           }
          },
          "shapedefaults": {
           "line": {
            "color": "#2a3f5f"
           }
          },
          "ternary": {
           "aaxis": {
            "gridcolor": "white",
            "linecolor": "white",
            "ticks": ""
           },
           "baxis": {
            "gridcolor": "white",
            "linecolor": "white",
            "ticks": ""
           },
           "bgcolor": "#E5ECF6",
           "caxis": {
            "gridcolor": "white",
            "linecolor": "white",
            "ticks": ""
           }
          },
          "title": {
           "x": 0.05
          },
          "xaxis": {
           "automargin": true,
           "gridcolor": "white",
           "linecolor": "white",
           "ticks": "",
           "title": {
            "standoff": 15
           },
           "zerolinecolor": "white",
           "zerolinewidth": 2
          },
          "yaxis": {
           "automargin": true,
           "gridcolor": "white",
           "linecolor": "white",
           "ticks": "",
           "title": {
            "standoff": 15
           },
           "zerolinecolor": "white",
           "zerolinewidth": 2
          }
         }
        }
       }
      }
     },
     "metadata": {}
    },
    {
     "output_type": "stream",
     "name": "stdout",
     "text": [
      "iter, centers, spans: 2 (0.009999999999999988, 0.0) [0.025 0.025]\n"
     ]
    },
    {
     "output_type": "display_data",
     "data": {
      "application/vnd.plotly.v1+json": {
       "config": {
        "plotlyServerURL": "https://plot.ly"
       },
       "data": [
        {
         "type": "surface",
         "x": [
          -0.0025000000000000126,
          -1.2576745200831851e-17,
          0.0024999999999999875,
          0.004999999999999987,
          0.007499999999999988,
          0.009999999999999988,
          0.012499999999999987,
          0.014999999999999989,
          0.017499999999999988,
          0.019999999999999987,
          0.02249999999999999
         ],
         "y": [
          -0.0125,
          -0.01,
          -0.007500000000000001,
          -0.005000000000000001,
          -0.0025000000000000005,
          0,
          0.0024999999999999988,
          0.005000000000000001,
          0.0075,
          0.009999999999999998,
          0.0125
         ],
         "z": [
          [
           -40.01715701630586,
           -40.847040211523705,
           -41.388656436009924,
           -41.83536986323634,
           -42.01554599932342,
           -41.754405069311986,
           -41.26732890815393,
           -40.61392102756176,
           -39.863336925609914,
           -39.02067582079816,
           -38.165684743366896
          ],
          [
           -41.2358443132361,
           -42.17240189984017,
           -43.06130236037134,
           -43.57248330834064,
           -43.67272744287715,
           -43.359683853384894,
           -42.644006250264624,
           -41.78736489958759,
           -40.693230742448236,
           -39.708766198020754,
           -38.701713719321575
          ],
          [
           -42.50303524520379,
           -43.57832248749082,
           -45.091088295937084,
           -45.74556263300461,
           -45.84778994167888,
           -45.14589220489174,
           -44.12609731691673,
           -42.886043262976685,
           -41.508746045866545,
           -40.270697414248545,
           -39.15810883587518
          ],
          [
           -43.921754994649845,
           -45.6665310058342,
           -47.31471283870454,
           -48.6099461055575,
           -48.808833912616635,
           -47.39739402257416,
           -45.60110822230874,
           -43.846935767541865,
           -42.19869552174323,
           -40.74560017500701,
           -39.48671622797009
          ],
          [
           -45.27895343953239,
           -47.685694742032624,
           -50.75866460705386,
           -53.436565896002875,
           -52.82040354717404,
           -49.726996642386126,
           -46.951508630473484,
           -44.52287116536989,
           -42.72381524242894,
           -41.0465300608295,
           -39.66042753748161
          ],
          [
           -46.05921789531281,
           -49.33780431638452,
           -53.97926398165809,
           -62.133398131585125,
           -57.09644344385681,
           -50.894140763797,
           -47.345605927733786,
           -44.69599677845585,
           -42.66383800540241,
           -41.060024193135675,
           -39.65895753827341
          ],
          [
           -46.32192464865773,
           -49.31604510561962,
           -53.88474374087822,
           -58.702491854616355,
           -54.98141680210672,
           -50.170288780991044,
           -46.86880281637579,
           -44.36911295552018,
           -42.40000674328641,
           -40.862080399310344,
           -39.51578251401733
          ],
          [
           -45.63531531644591,
           -48.11389635899394,
           -50.52512281225397,
           -51.80453051400778,
           -50.50435097332445,
           -47.94630000584263,
           -45.500959891839145,
           -43.58281486682384,
           -41.7951260445477,
           -40.4185819791939,
           -39.19566695158784
          ],
          [
           -44.61258284078315,
           -46.22083539465966,
           -47.530488604515455,
           -48.07355496955235,
           -47.20289145581398,
           -45.683094331525936,
           -44.08318506957954,
           -42.48706883312174,
           -41.106185303827246,
           -39.829975843539316,
           -38.6501306075631
          ],
          [
           -43.23552629097455,
           -44.29485831718958,
           -45.0626666847038,
           -45.212575503213486,
           -44.60591182132116,
           -43.713734572010324,
           -42.60832960873395,
           -41.31958229891046,
           -40.160044316906095,
           -39.15182358973725,
           -38.14631440112824
          ],
          [
           -41.873725357150875,
           -42.684406060758505,
           -43.06830857508611,
           -43.11557115930502,
           -42.759193983774,
           -42.02815079367545,
           -41.18314042889807,
           -40.24921850844166,
           -39.335083311695314,
           -38.40151019400156,
           -37.55607143494346
          ]
         ]
        }
       ],
       "layout": {
        "template": {
         "data": {
          "bar": [
           {
            "error_x": {
             "color": "#2a3f5f"
            },
            "error_y": {
             "color": "#2a3f5f"
            },
            "marker": {
             "line": {
              "color": "#E5ECF6",
              "width": 0.5
             }
            },
            "type": "bar"
           }
          ],
          "barpolar": [
           {
            "marker": {
             "line": {
              "color": "#E5ECF6",
              "width": 0.5
             }
            },
            "type": "barpolar"
           }
          ],
          "carpet": [
           {
            "aaxis": {
             "endlinecolor": "#2a3f5f",
             "gridcolor": "white",
             "linecolor": "white",
             "minorgridcolor": "white",
             "startlinecolor": "#2a3f5f"
            },
            "baxis": {
             "endlinecolor": "#2a3f5f",
             "gridcolor": "white",
             "linecolor": "white",
             "minorgridcolor": "white",
             "startlinecolor": "#2a3f5f"
            },
            "type": "carpet"
           }
          ],
          "choropleth": [
           {
            "colorbar": {
             "outlinewidth": 0,
             "ticks": ""
            },
            "type": "choropleth"
           }
          ],
          "contour": [
           {
            "colorbar": {
             "outlinewidth": 0,
             "ticks": ""
            },
            "colorscale": [
             [
              0,
              "#0d0887"
             ],
             [
              0.1111111111111111,
              "#46039f"
             ],
             [
              0.2222222222222222,
              "#7201a8"
             ],
             [
              0.3333333333333333,
              "#9c179e"
             ],
             [
              0.4444444444444444,
              "#bd3786"
             ],
             [
              0.5555555555555556,
              "#d8576b"
             ],
             [
              0.6666666666666666,
              "#ed7953"
             ],
             [
              0.7777777777777778,
              "#fb9f3a"
             ],
             [
              0.8888888888888888,
              "#fdca26"
             ],
             [
              1,
              "#f0f921"
             ]
            ],
            "type": "contour"
           }
          ],
          "contourcarpet": [
           {
            "colorbar": {
             "outlinewidth": 0,
             "ticks": ""
            },
            "type": "contourcarpet"
           }
          ],
          "heatmap": [
           {
            "colorbar": {
             "outlinewidth": 0,
             "ticks": ""
            },
            "colorscale": [
             [
              0,
              "#0d0887"
             ],
             [
              0.1111111111111111,
              "#46039f"
             ],
             [
              0.2222222222222222,
              "#7201a8"
             ],
             [
              0.3333333333333333,
              "#9c179e"
             ],
             [
              0.4444444444444444,
              "#bd3786"
             ],
             [
              0.5555555555555556,
              "#d8576b"
             ],
             [
              0.6666666666666666,
              "#ed7953"
             ],
             [
              0.7777777777777778,
              "#fb9f3a"
             ],
             [
              0.8888888888888888,
              "#fdca26"
             ],
             [
              1,
              "#f0f921"
             ]
            ],
            "type": "heatmap"
           }
          ],
          "heatmapgl": [
           {
            "colorbar": {
             "outlinewidth": 0,
             "ticks": ""
            },
            "colorscale": [
             [
              0,
              "#0d0887"
             ],
             [
              0.1111111111111111,
              "#46039f"
             ],
             [
              0.2222222222222222,
              "#7201a8"
             ],
             [
              0.3333333333333333,
              "#9c179e"
             ],
             [
              0.4444444444444444,
              "#bd3786"
             ],
             [
              0.5555555555555556,
              "#d8576b"
             ],
             [
              0.6666666666666666,
              "#ed7953"
             ],
             [
              0.7777777777777778,
              "#fb9f3a"
             ],
             [
              0.8888888888888888,
              "#fdca26"
             ],
             [
              1,
              "#f0f921"
             ]
            ],
            "type": "heatmapgl"
           }
          ],
          "histogram": [
           {
            "marker": {
             "colorbar": {
              "outlinewidth": 0,
              "ticks": ""
             }
            },
            "type": "histogram"
           }
          ],
          "histogram2d": [
           {
            "colorbar": {
             "outlinewidth": 0,
             "ticks": ""
            },
            "colorscale": [
             [
              0,
              "#0d0887"
             ],
             [
              0.1111111111111111,
              "#46039f"
             ],
             [
              0.2222222222222222,
              "#7201a8"
             ],
             [
              0.3333333333333333,
              "#9c179e"
             ],
             [
              0.4444444444444444,
              "#bd3786"
             ],
             [
              0.5555555555555556,
              "#d8576b"
             ],
             [
              0.6666666666666666,
              "#ed7953"
             ],
             [
              0.7777777777777778,
              "#fb9f3a"
             ],
             [
              0.8888888888888888,
              "#fdca26"
             ],
             [
              1,
              "#f0f921"
             ]
            ],
            "type": "histogram2d"
           }
          ],
          "histogram2dcontour": [
           {
            "colorbar": {
             "outlinewidth": 0,
             "ticks": ""
            },
            "colorscale": [
             [
              0,
              "#0d0887"
             ],
             [
              0.1111111111111111,
              "#46039f"
             ],
             [
              0.2222222222222222,
              "#7201a8"
             ],
             [
              0.3333333333333333,
              "#9c179e"
             ],
             [
              0.4444444444444444,
              "#bd3786"
             ],
             [
              0.5555555555555556,
              "#d8576b"
             ],
             [
              0.6666666666666666,
              "#ed7953"
             ],
             [
              0.7777777777777778,
              "#fb9f3a"
             ],
             [
              0.8888888888888888,
              "#fdca26"
             ],
             [
              1,
              "#f0f921"
             ]
            ],
            "type": "histogram2dcontour"
           }
          ],
          "mesh3d": [
           {
            "colorbar": {
             "outlinewidth": 0,
             "ticks": ""
            },
            "type": "mesh3d"
           }
          ],
          "parcoords": [
           {
            "line": {
             "colorbar": {
              "outlinewidth": 0,
              "ticks": ""
             }
            },
            "type": "parcoords"
           }
          ],
          "pie": [
           {
            "automargin": true,
            "type": "pie"
           }
          ],
          "scatter": [
           {
            "marker": {
             "colorbar": {
              "outlinewidth": 0,
              "ticks": ""
             }
            },
            "type": "scatter"
           }
          ],
          "scatter3d": [
           {
            "line": {
             "colorbar": {
              "outlinewidth": 0,
              "ticks": ""
             }
            },
            "marker": {
             "colorbar": {
              "outlinewidth": 0,
              "ticks": ""
             }
            },
            "type": "scatter3d"
           }
          ],
          "scattercarpet": [
           {
            "marker": {
             "colorbar": {
              "outlinewidth": 0,
              "ticks": ""
             }
            },
            "type": "scattercarpet"
           }
          ],
          "scattergeo": [
           {
            "marker": {
             "colorbar": {
              "outlinewidth": 0,
              "ticks": ""
             }
            },
            "type": "scattergeo"
           }
          ],
          "scattergl": [
           {
            "marker": {
             "colorbar": {
              "outlinewidth": 0,
              "ticks": ""
             }
            },
            "type": "scattergl"
           }
          ],
          "scattermapbox": [
           {
            "marker": {
             "colorbar": {
              "outlinewidth": 0,
              "ticks": ""
             }
            },
            "type": "scattermapbox"
           }
          ],
          "scatterpolar": [
           {
            "marker": {
             "colorbar": {
              "outlinewidth": 0,
              "ticks": ""
             }
            },
            "type": "scatterpolar"
           }
          ],
          "scatterpolargl": [
           {
            "marker": {
             "colorbar": {
              "outlinewidth": 0,
              "ticks": ""
             }
            },
            "type": "scatterpolargl"
           }
          ],
          "scatterternary": [
           {
            "marker": {
             "colorbar": {
              "outlinewidth": 0,
              "ticks": ""
             }
            },
            "type": "scatterternary"
           }
          ],
          "surface": [
           {
            "colorbar": {
             "outlinewidth": 0,
             "ticks": ""
            },
            "colorscale": [
             [
              0,
              "#0d0887"
             ],
             [
              0.1111111111111111,
              "#46039f"
             ],
             [
              0.2222222222222222,
              "#7201a8"
             ],
             [
              0.3333333333333333,
              "#9c179e"
             ],
             [
              0.4444444444444444,
              "#bd3786"
             ],
             [
              0.5555555555555556,
              "#d8576b"
             ],
             [
              0.6666666666666666,
              "#ed7953"
             ],
             [
              0.7777777777777778,
              "#fb9f3a"
             ],
             [
              0.8888888888888888,
              "#fdca26"
             ],
             [
              1,
              "#f0f921"
             ]
            ],
            "type": "surface"
           }
          ],
          "table": [
           {
            "cells": {
             "fill": {
              "color": "#EBF0F8"
             },
             "line": {
              "color": "white"
             }
            },
            "header": {
             "fill": {
              "color": "#C8D4E3"
             },
             "line": {
              "color": "white"
             }
            },
            "type": "table"
           }
          ]
         },
         "layout": {
          "annotationdefaults": {
           "arrowcolor": "#2a3f5f",
           "arrowhead": 0,
           "arrowwidth": 1
          },
          "autotypenumbers": "strict",
          "coloraxis": {
           "colorbar": {
            "outlinewidth": 0,
            "ticks": ""
           }
          },
          "colorscale": {
           "diverging": [
            [
             0,
             "#8e0152"
            ],
            [
             0.1,
             "#c51b7d"
            ],
            [
             0.2,
             "#de77ae"
            ],
            [
             0.3,
             "#f1b6da"
            ],
            [
             0.4,
             "#fde0ef"
            ],
            [
             0.5,
             "#f7f7f7"
            ],
            [
             0.6,
             "#e6f5d0"
            ],
            [
             0.7,
             "#b8e186"
            ],
            [
             0.8,
             "#7fbc41"
            ],
            [
             0.9,
             "#4d9221"
            ],
            [
             1,
             "#276419"
            ]
           ],
           "sequential": [
            [
             0,
             "#0d0887"
            ],
            [
             0.1111111111111111,
             "#46039f"
            ],
            [
             0.2222222222222222,
             "#7201a8"
            ],
            [
             0.3333333333333333,
             "#9c179e"
            ],
            [
             0.4444444444444444,
             "#bd3786"
            ],
            [
             0.5555555555555556,
             "#d8576b"
            ],
            [
             0.6666666666666666,
             "#ed7953"
            ],
            [
             0.7777777777777778,
             "#fb9f3a"
            ],
            [
             0.8888888888888888,
             "#fdca26"
            ],
            [
             1,
             "#f0f921"
            ]
           ],
           "sequentialminus": [
            [
             0,
             "#0d0887"
            ],
            [
             0.1111111111111111,
             "#46039f"
            ],
            [
             0.2222222222222222,
             "#7201a8"
            ],
            [
             0.3333333333333333,
             "#9c179e"
            ],
            [
             0.4444444444444444,
             "#bd3786"
            ],
            [
             0.5555555555555556,
             "#d8576b"
            ],
            [
             0.6666666666666666,
             "#ed7953"
            ],
            [
             0.7777777777777778,
             "#fb9f3a"
            ],
            [
             0.8888888888888888,
             "#fdca26"
            ],
            [
             1,
             "#f0f921"
            ]
           ]
          },
          "colorway": [
           "#636efa",
           "#EF553B",
           "#00cc96",
           "#ab63fa",
           "#FFA15A",
           "#19d3f3",
           "#FF6692",
           "#B6E880",
           "#FF97FF",
           "#FECB52"
          ],
          "font": {
           "color": "#2a3f5f"
          },
          "geo": {
           "bgcolor": "white",
           "lakecolor": "white",
           "landcolor": "#E5ECF6",
           "showlakes": true,
           "showland": true,
           "subunitcolor": "white"
          },
          "hoverlabel": {
           "align": "left"
          },
          "hovermode": "closest",
          "mapbox": {
           "style": "light"
          },
          "paper_bgcolor": "white",
          "plot_bgcolor": "#E5ECF6",
          "polar": {
           "angularaxis": {
            "gridcolor": "white",
            "linecolor": "white",
            "ticks": ""
           },
           "bgcolor": "#E5ECF6",
           "radialaxis": {
            "gridcolor": "white",
            "linecolor": "white",
            "ticks": ""
           }
          },
          "scene": {
           "xaxis": {
            "backgroundcolor": "#E5ECF6",
            "gridcolor": "white",
            "gridwidth": 2,
            "linecolor": "white",
            "showbackground": true,
            "ticks": "",
            "zerolinecolor": "white"
           },
           "yaxis": {
            "backgroundcolor": "#E5ECF6",
            "gridcolor": "white",
            "gridwidth": 2,
            "linecolor": "white",
            "showbackground": true,
            "ticks": "",
            "zerolinecolor": "white"
           },
           "zaxis": {
            "backgroundcolor": "#E5ECF6",
            "gridcolor": "white",
            "gridwidth": 2,
            "linecolor": "white",
            "showbackground": true,
            "ticks": "",
            "zerolinecolor": "white"
           }
          },
          "shapedefaults": {
           "line": {
            "color": "#2a3f5f"
           }
          },
          "ternary": {
           "aaxis": {
            "gridcolor": "white",
            "linecolor": "white",
            "ticks": ""
           },
           "baxis": {
            "gridcolor": "white",
            "linecolor": "white",
            "ticks": ""
           },
           "bgcolor": "#E5ECF6",
           "caxis": {
            "gridcolor": "white",
            "linecolor": "white",
            "ticks": ""
           }
          },
          "title": {
           "x": 0.05
          },
          "xaxis": {
           "automargin": true,
           "gridcolor": "white",
           "linecolor": "white",
           "ticks": "",
           "title": {
            "standoff": 15
           },
           "zerolinecolor": "white",
           "zerolinewidth": 2
          },
          "yaxis": {
           "automargin": true,
           "gridcolor": "white",
           "linecolor": "white",
           "ticks": "",
           "title": {
            "standoff": 15
           },
           "zerolinecolor": "white",
           "zerolinewidth": 2
          }
         }
        }
       }
      }
     },
     "metadata": {}
    },
    {
     "output_type": "stream",
     "name": "stdout",
     "text": [
      "iter, centers, spans: 3 (0.009999999999999988, -0.005000000000000001) [0.003125 0.003125]\n"
     ]
    },
    {
     "output_type": "display_data",
     "data": {
      "application/vnd.plotly.v1+json": {
       "config": {
        "plotlyServerURL": "https://plot.ly"
       },
       "data": [
        {
         "type": "surface",
         "x": [
          0.008437499999999988,
          0.008749999999999989,
          0.009062499999999989,
          0.009374999999999988,
          0.009687499999999988,
          0.009999999999999988,
          0.010312499999999988,
          0.010624999999999989,
          0.010937499999999989,
          0.011249999999999987,
          0.011562499999999988
         ],
         "y": [
          -0.006562500000000001,
          -0.00625,
          -0.005937500000000001,
          -0.005625000000000001,
          -0.005312500000000001,
          -0.005000000000000001,
          -0.004687500000000001,
          -0.004375,
          -0.004062500000000001,
          -0.003750000000000001,
          -0.003437500000000001
         ],
         "z": [
          [
           -53.53275688735826,
           -53.986500529863605,
           -54.276844339028685,
           -54.77190826817102,
           -55.1722151361832,
           -55.838128859878125,
           -55.9138268750431,
           -56.10685495182804,
           -56.26280691904475,
           -55.81787491238849,
           -55.730216497234494
          ],
          [
           -53.9379213275441,
           -54.683534932359095,
           -55.215407726889765,
           -55.74176001446291,
           -56.29305413300122,
           -56.541223667268895,
           -56.54847563217098,
           -56.752758639352265,
           -57.10565600428549,
           -56.895043697518034,
           -56.74622997857871
          ],
          [
           -54.55560679490863,
           -55.18442300035379,
           -56.128738488008636,
           -56.81895427470569,
           -57.02553429408913,
           -57.61578596747961,
           -57.927491207197065,
           -58.05751066982364,
           -57.77059599024139,
           -58.17338166186674,
           -57.65306563385164
          ],
          [
           -55.16575140212829,
           -56.123779903454235,
           -56.61039466818484,
           -57.35097479355973,
           -58.46711268497047,
           -58.2077784431995,
           -59.53654617660456,
           -59.452580466147964,
           -58.80578869147993,
           -58.68681586287187,
           -58.19453584309295
          ],
          [
           -55.44288898375876,
           -56.13820650104938,
           -57.20125372298811,
           -58.13187171795549,
           -59.431798797538576,
           -60.02270234946772,
           -60.72268197095222,
           -60.826846242155085,
           -60.54014628788221,
           -60.23374028950268,
           -59.68764140947508
          ],
          [
           -56.4749837507193,
           -57.47263853314246,
           -58.38084533569159,
           -59.54249693090401,
           -60.30554940992427,
           -61.73119920826338,
           -62.15011369179483,
           -61.84157912081285,
           -62.110288292285546,
           -61.38100095519775,
           -60.275434162874575
          ],
          [
           -56.748554129904036,
           -57.60771438798601,
           -58.7703230422773,
           -60.129275949432014,
           -61.55513959888269,
           -63.648521447579526,
           -63.687673101833184,
           -63.845615773665514,
           -63.276880819004134,
           -61.83869133241001,
           -61.10812455682468
          ],
          [
           -57.14926777706603,
           -58.19466058479763,
           -59.47714762951347,
           -61.25274978524742,
           -62.89056113512396,
           -63.558374261046566,
           -65.01194068184168,
           -65.01014273322605,
           -64.10380999102816,
           -63.12790654440957,
           -61.14290945508107
          ],
          [
           -57.12033946302219,
           -58.52891310891246,
           -60.089148470545354,
           -61.44011802346843,
           -62.85466579775627,
           -64.05833371352097,
           -65.13289819146138,
           -64.90243644230787,
           -63.982478736743644,
           -62.82739389824789,
           -61.20558430371055
          ],
          [
           -57.418782114769854,
           -58.24661390763738,
           -59.77776161466609,
           -61.498182129133866,
           -62.528704230361896,
           -63.44073859503547,
           -64.54466568450634,
           -64.34735668718142,
           -63.439903734437166,
           -62.18936869701598,
           -60.553868761329085
          ],
          [
           -57.00480783844171,
           -58.33860375163751,
           -59.31125138074644,
           -60.70930670685688,
           -61.38672048826139,
           -63.163009118422025,
           -63.54253267417084,
           -62.863429099506945,
           -62.44823977361463,
           -61.005887512563376,
           -59.99013957665311
          ]
         ]
        }
       ],
       "layout": {
        "template": {
         "data": {
          "bar": [
           {
            "error_x": {
             "color": "#2a3f5f"
            },
            "error_y": {
             "color": "#2a3f5f"
            },
            "marker": {
             "line": {
              "color": "#E5ECF6",
              "width": 0.5
             }
            },
            "type": "bar"
           }
          ],
          "barpolar": [
           {
            "marker": {
             "line": {
              "color": "#E5ECF6",
              "width": 0.5
             }
            },
            "type": "barpolar"
           }
          ],
          "carpet": [
           {
            "aaxis": {
             "endlinecolor": "#2a3f5f",
             "gridcolor": "white",
             "linecolor": "white",
             "minorgridcolor": "white",
             "startlinecolor": "#2a3f5f"
            },
            "baxis": {
             "endlinecolor": "#2a3f5f",
             "gridcolor": "white",
             "linecolor": "white",
             "minorgridcolor": "white",
             "startlinecolor": "#2a3f5f"
            },
            "type": "carpet"
           }
          ],
          "choropleth": [
           {
            "colorbar": {
             "outlinewidth": 0,
             "ticks": ""
            },
            "type": "choropleth"
           }
          ],
          "contour": [
           {
            "colorbar": {
             "outlinewidth": 0,
             "ticks": ""
            },
            "colorscale": [
             [
              0,
              "#0d0887"
             ],
             [
              0.1111111111111111,
              "#46039f"
             ],
             [
              0.2222222222222222,
              "#7201a8"
             ],
             [
              0.3333333333333333,
              "#9c179e"
             ],
             [
              0.4444444444444444,
              "#bd3786"
             ],
             [
              0.5555555555555556,
              "#d8576b"
             ],
             [
              0.6666666666666666,
              "#ed7953"
             ],
             [
              0.7777777777777778,
              "#fb9f3a"
             ],
             [
              0.8888888888888888,
              "#fdca26"
             ],
             [
              1,
              "#f0f921"
             ]
            ],
            "type": "contour"
           }
          ],
          "contourcarpet": [
           {
            "colorbar": {
             "outlinewidth": 0,
             "ticks": ""
            },
            "type": "contourcarpet"
           }
          ],
          "heatmap": [
           {
            "colorbar": {
             "outlinewidth": 0,
             "ticks": ""
            },
            "colorscale": [
             [
              0,
              "#0d0887"
             ],
             [
              0.1111111111111111,
              "#46039f"
             ],
             [
              0.2222222222222222,
              "#7201a8"
             ],
             [
              0.3333333333333333,
              "#9c179e"
             ],
             [
              0.4444444444444444,
              "#bd3786"
             ],
             [
              0.5555555555555556,
              "#d8576b"
             ],
             [
              0.6666666666666666,
              "#ed7953"
             ],
             [
              0.7777777777777778,
              "#fb9f3a"
             ],
             [
              0.8888888888888888,
              "#fdca26"
             ],
             [
              1,
              "#f0f921"
             ]
            ],
            "type": "heatmap"
           }
          ],
          "heatmapgl": [
           {
            "colorbar": {
             "outlinewidth": 0,
             "ticks": ""
            },
            "colorscale": [
             [
              0,
              "#0d0887"
             ],
             [
              0.1111111111111111,
              "#46039f"
             ],
             [
              0.2222222222222222,
              "#7201a8"
             ],
             [
              0.3333333333333333,
              "#9c179e"
             ],
             [
              0.4444444444444444,
              "#bd3786"
             ],
             [
              0.5555555555555556,
              "#d8576b"
             ],
             [
              0.6666666666666666,
              "#ed7953"
             ],
             [
              0.7777777777777778,
              "#fb9f3a"
             ],
             [
              0.8888888888888888,
              "#fdca26"
             ],
             [
              1,
              "#f0f921"
             ]
            ],
            "type": "heatmapgl"
           }
          ],
          "histogram": [
           {
            "marker": {
             "colorbar": {
              "outlinewidth": 0,
              "ticks": ""
             }
            },
            "type": "histogram"
           }
          ],
          "histogram2d": [
           {
            "colorbar": {
             "outlinewidth": 0,
             "ticks": ""
            },
            "colorscale": [
             [
              0,
              "#0d0887"
             ],
             [
              0.1111111111111111,
              "#46039f"
             ],
             [
              0.2222222222222222,
              "#7201a8"
             ],
             [
              0.3333333333333333,
              "#9c179e"
             ],
             [
              0.4444444444444444,
              "#bd3786"
             ],
             [
              0.5555555555555556,
              "#d8576b"
             ],
             [
              0.6666666666666666,
              "#ed7953"
             ],
             [
              0.7777777777777778,
              "#fb9f3a"
             ],
             [
              0.8888888888888888,
              "#fdca26"
             ],
             [
              1,
              "#f0f921"
             ]
            ],
            "type": "histogram2d"
           }
          ],
          "histogram2dcontour": [
           {
            "colorbar": {
             "outlinewidth": 0,
             "ticks": ""
            },
            "colorscale": [
             [
              0,
              "#0d0887"
             ],
             [
              0.1111111111111111,
              "#46039f"
             ],
             [
              0.2222222222222222,
              "#7201a8"
             ],
             [
              0.3333333333333333,
              "#9c179e"
             ],
             [
              0.4444444444444444,
              "#bd3786"
             ],
             [
              0.5555555555555556,
              "#d8576b"
             ],
             [
              0.6666666666666666,
              "#ed7953"
             ],
             [
              0.7777777777777778,
              "#fb9f3a"
             ],
             [
              0.8888888888888888,
              "#fdca26"
             ],
             [
              1,
              "#f0f921"
             ]
            ],
            "type": "histogram2dcontour"
           }
          ],
          "mesh3d": [
           {
            "colorbar": {
             "outlinewidth": 0,
             "ticks": ""
            },
            "type": "mesh3d"
           }
          ],
          "parcoords": [
           {
            "line": {
             "colorbar": {
              "outlinewidth": 0,
              "ticks": ""
             }
            },
            "type": "parcoords"
           }
          ],
          "pie": [
           {
            "automargin": true,
            "type": "pie"
           }
          ],
          "scatter": [
           {
            "marker": {
             "colorbar": {
              "outlinewidth": 0,
              "ticks": ""
             }
            },
            "type": "scatter"
           }
          ],
          "scatter3d": [
           {
            "line": {
             "colorbar": {
              "outlinewidth": 0,
              "ticks": ""
             }
            },
            "marker": {
             "colorbar": {
              "outlinewidth": 0,
              "ticks": ""
             }
            },
            "type": "scatter3d"
           }
          ],
          "scattercarpet": [
           {
            "marker": {
             "colorbar": {
              "outlinewidth": 0,
              "ticks": ""
             }
            },
            "type": "scattercarpet"
           }
          ],
          "scattergeo": [
           {
            "marker": {
             "colorbar": {
              "outlinewidth": 0,
              "ticks": ""
             }
            },
            "type": "scattergeo"
           }
          ],
          "scattergl": [
           {
            "marker": {
             "colorbar": {
              "outlinewidth": 0,
              "ticks": ""
             }
            },
            "type": "scattergl"
           }
          ],
          "scattermapbox": [
           {
            "marker": {
             "colorbar": {
              "outlinewidth": 0,
              "ticks": ""
             }
            },
            "type": "scattermapbox"
           }
          ],
          "scatterpolar": [
           {
            "marker": {
             "colorbar": {
              "outlinewidth": 0,
              "ticks": ""
             }
            },
            "type": "scatterpolar"
           }
          ],
          "scatterpolargl": [
           {
            "marker": {
             "colorbar": {
              "outlinewidth": 0,
              "ticks": ""
             }
            },
            "type": "scatterpolargl"
           }
          ],
          "scatterternary": [
           {
            "marker": {
             "colorbar": {
              "outlinewidth": 0,
              "ticks": ""
             }
            },
            "type": "scatterternary"
           }
          ],
          "surface": [
           {
            "colorbar": {
             "outlinewidth": 0,
             "ticks": ""
            },
            "colorscale": [
             [
              0,
              "#0d0887"
             ],
             [
              0.1111111111111111,
              "#46039f"
             ],
             [
              0.2222222222222222,
              "#7201a8"
             ],
             [
              0.3333333333333333,
              "#9c179e"
             ],
             [
              0.4444444444444444,
              "#bd3786"
             ],
             [
              0.5555555555555556,
              "#d8576b"
             ],
             [
              0.6666666666666666,
              "#ed7953"
             ],
             [
              0.7777777777777778,
              "#fb9f3a"
             ],
             [
              0.8888888888888888,
              "#fdca26"
             ],
             [
              1,
              "#f0f921"
             ]
            ],
            "type": "surface"
           }
          ],
          "table": [
           {
            "cells": {
             "fill": {
              "color": "#EBF0F8"
             },
             "line": {
              "color": "white"
             }
            },
            "header": {
             "fill": {
              "color": "#C8D4E3"
             },
             "line": {
              "color": "white"
             }
            },
            "type": "table"
           }
          ]
         },
         "layout": {
          "annotationdefaults": {
           "arrowcolor": "#2a3f5f",
           "arrowhead": 0,
           "arrowwidth": 1
          },
          "autotypenumbers": "strict",
          "coloraxis": {
           "colorbar": {
            "outlinewidth": 0,
            "ticks": ""
           }
          },
          "colorscale": {
           "diverging": [
            [
             0,
             "#8e0152"
            ],
            [
             0.1,
             "#c51b7d"
            ],
            [
             0.2,
             "#de77ae"
            ],
            [
             0.3,
             "#f1b6da"
            ],
            [
             0.4,
             "#fde0ef"
            ],
            [
             0.5,
             "#f7f7f7"
            ],
            [
             0.6,
             "#e6f5d0"
            ],
            [
             0.7,
             "#b8e186"
            ],
            [
             0.8,
             "#7fbc41"
            ],
            [
             0.9,
             "#4d9221"
            ],
            [
             1,
             "#276419"
            ]
           ],
           "sequential": [
            [
             0,
             "#0d0887"
            ],
            [
             0.1111111111111111,
             "#46039f"
            ],
            [
             0.2222222222222222,
             "#7201a8"
            ],
            [
             0.3333333333333333,
             "#9c179e"
            ],
            [
             0.4444444444444444,
             "#bd3786"
            ],
            [
             0.5555555555555556,
             "#d8576b"
            ],
            [
             0.6666666666666666,
             "#ed7953"
            ],
            [
             0.7777777777777778,
             "#fb9f3a"
            ],
            [
             0.8888888888888888,
             "#fdca26"
            ],
            [
             1,
             "#f0f921"
            ]
           ],
           "sequentialminus": [
            [
             0,
             "#0d0887"
            ],
            [
             0.1111111111111111,
             "#46039f"
            ],
            [
             0.2222222222222222,
             "#7201a8"
            ],
            [
             0.3333333333333333,
             "#9c179e"
            ],
            [
             0.4444444444444444,
             "#bd3786"
            ],
            [
             0.5555555555555556,
             "#d8576b"
            ],
            [
             0.6666666666666666,
             "#ed7953"
            ],
            [
             0.7777777777777778,
             "#fb9f3a"
            ],
            [
             0.8888888888888888,
             "#fdca26"
            ],
            [
             1,
             "#f0f921"
            ]
           ]
          },
          "colorway": [
           "#636efa",
           "#EF553B",
           "#00cc96",
           "#ab63fa",
           "#FFA15A",
           "#19d3f3",
           "#FF6692",
           "#B6E880",
           "#FF97FF",
           "#FECB52"
          ],
          "font": {
           "color": "#2a3f5f"
          },
          "geo": {
           "bgcolor": "white",
           "lakecolor": "white",
           "landcolor": "#E5ECF6",
           "showlakes": true,
           "showland": true,
           "subunitcolor": "white"
          },
          "hoverlabel": {
           "align": "left"
          },
          "hovermode": "closest",
          "mapbox": {
           "style": "light"
          },
          "paper_bgcolor": "white",
          "plot_bgcolor": "#E5ECF6",
          "polar": {
           "angularaxis": {
            "gridcolor": "white",
            "linecolor": "white",
            "ticks": ""
           },
           "bgcolor": "#E5ECF6",
           "radialaxis": {
            "gridcolor": "white",
            "linecolor": "white",
            "ticks": ""
           }
          },
          "scene": {
           "xaxis": {
            "backgroundcolor": "#E5ECF6",
            "gridcolor": "white",
            "gridwidth": 2,
            "linecolor": "white",
            "showbackground": true,
            "ticks": "",
            "zerolinecolor": "white"
           },
           "yaxis": {
            "backgroundcolor": "#E5ECF6",
            "gridcolor": "white",
            "gridwidth": 2,
            "linecolor": "white",
            "showbackground": true,
            "ticks": "",
            "zerolinecolor": "white"
           },
           "zaxis": {
            "backgroundcolor": "#E5ECF6",
            "gridcolor": "white",
            "gridwidth": 2,
            "linecolor": "white",
            "showbackground": true,
            "ticks": "",
            "zerolinecolor": "white"
           }
          },
          "shapedefaults": {
           "line": {
            "color": "#2a3f5f"
           }
          },
          "ternary": {
           "aaxis": {
            "gridcolor": "white",
            "linecolor": "white",
            "ticks": ""
           },
           "baxis": {
            "gridcolor": "white",
            "linecolor": "white",
            "ticks": ""
           },
           "bgcolor": "#E5ECF6",
           "caxis": {
            "gridcolor": "white",
            "linecolor": "white",
            "ticks": ""
           }
          },
          "title": {
           "x": 0.05
          },
          "xaxis": {
           "automargin": true,
           "gridcolor": "white",
           "linecolor": "white",
           "ticks": "",
           "title": {
            "standoff": 15
           },
           "zerolinecolor": "white",
           "zerolinewidth": 2
          },
          "yaxis": {
           "automargin": true,
           "gridcolor": "white",
           "linecolor": "white",
           "ticks": "",
           "title": {
            "standoff": 15
           },
           "zerolinecolor": "white",
           "zerolinewidth": 2
          }
         }
        }
       }
      }
     },
     "metadata": {}
    },
    {
     "output_type": "stream",
     "name": "stdout",
     "text": [
      "final centers: (0.010937499999999989, -0.004687500000000001)\n@SA124B.initSweep: resolution= 250000.0\n"
     ]
    },
    {
     "output_type": "display_data",
     "data": {
      "text/plain": "<Figure size 432x288 with 1 Axes>",
      "image/svg+xml": "<?xml version=\"1.0\" encoding=\"utf-8\" standalone=\"no\"?>\r\n<!DOCTYPE svg PUBLIC \"-//W3C//DTD SVG 1.1//EN\"\r\n  \"http://www.w3.org/Graphics/SVG/1.1/DTD/svg11.dtd\">\r\n<!-- Created with matplotlib (https://matplotlib.org/) -->\r\n<svg height=\"261.19625pt\" version=\"1.1\" viewBox=\"0 0 377.304687 261.19625\" width=\"377.304687pt\" xmlns=\"http://www.w3.org/2000/svg\" xmlns:xlink=\"http://www.w3.org/1999/xlink\">\r\n <metadata>\r\n  <rdf:RDF xmlns:cc=\"http://creativecommons.org/ns#\" xmlns:dc=\"http://purl.org/dc/elements/1.1/\" xmlns:rdf=\"http://www.w3.org/1999/02/22-rdf-syntax-ns#\">\r\n   <cc:Work>\r\n    <dc:type rdf:resource=\"http://purl.org/dc/dcmitype/StillImage\"/>\r\n    <dc:date>2021-01-13T16:08:36.461946</dc:date>\r\n    <dc:format>image/svg+xml</dc:format>\r\n    <dc:creator>\r\n     <cc:Agent>\r\n      <dc:title>Matplotlib v3.3.2, https://matplotlib.org/</dc:title>\r\n     </cc:Agent>\r\n    </dc:creator>\r\n   </cc:Work>\r\n  </rdf:RDF>\r\n </metadata>\r\n <defs>\r\n  <style type=\"text/css\">*{stroke-linecap:butt;stroke-linejoin:round;}</style>\r\n </defs>\r\n <g id=\"figure_1\">\r\n  <g id=\"patch_1\">\r\n   <path d=\"M 0 261.19625 \r\nL 377.304687 261.19625 \r\nL 377.304687 0 \r\nL 0 0 \r\nz\r\n\" style=\"fill:none;\"/>\r\n  </g>\r\n  <g id=\"axes_1\">\r\n   <g id=\"patch_2\">\r\n    <path d=\"M 35.304688 224.64 \r\nL 370.104688 224.64 \r\nL 370.104688 7.2 \r\nL 35.304688 7.2 \r\nz\r\n\" style=\"fill:#ffffff;\"/>\r\n   </g>\r\n   <g id=\"matplotlib.axis_1\">\r\n    <g id=\"xtick_1\">\r\n     <g id=\"line2d_1\">\r\n      <defs>\r\n       <path d=\"M 0 0 \r\nL 0 3.5 \r\n\" id=\"m070bfeb0d5\" style=\"stroke:#000000;stroke-width:0.8;\"/>\r\n      </defs>\r\n      <g>\r\n       <use style=\"stroke:#000000;stroke-width:0.8;\" x=\"80.910515\" xlink:href=\"#m070bfeb0d5\" y=\"224.64\"/>\r\n      </g>\r\n     </g>\r\n     <g id=\"text_1\">\r\n      <!-- 5.8 -->\r\n      <g transform=\"translate(72.958953 239.238437)scale(0.1 -0.1)\">\r\n       <defs>\r\n        <path d=\"M 10.796875 72.90625 \r\nL 49.515625 72.90625 \r\nL 49.515625 64.59375 \r\nL 19.828125 64.59375 \r\nL 19.828125 46.734375 \r\nQ 21.96875 47.46875 24.109375 47.828125 \r\nQ 26.265625 48.1875 28.421875 48.1875 \r\nQ 40.625 48.1875 47.75 41.5 \r\nQ 54.890625 34.8125 54.890625 23.390625 \r\nQ 54.890625 11.625 47.5625 5.09375 \r\nQ 40.234375 -1.421875 26.90625 -1.421875 \r\nQ 22.3125 -1.421875 17.546875 -0.640625 \r\nQ 12.796875 0.140625 7.71875 1.703125 \r\nL 7.71875 11.625 \r\nQ 12.109375 9.234375 16.796875 8.0625 \r\nQ 21.484375 6.890625 26.703125 6.890625 \r\nQ 35.15625 6.890625 40.078125 11.328125 \r\nQ 45.015625 15.765625 45.015625 23.390625 \r\nQ 45.015625 31 40.078125 35.4375 \r\nQ 35.15625 39.890625 26.703125 39.890625 \r\nQ 22.75 39.890625 18.8125 39.015625 \r\nQ 14.890625 38.140625 10.796875 36.28125 \r\nz\r\n\" id=\"DejaVuSans-53\"/>\r\n        <path d=\"M 10.6875 12.40625 \r\nL 21 12.40625 \r\nL 21 0 \r\nL 10.6875 0 \r\nz\r\n\" id=\"DejaVuSans-46\"/>\r\n        <path d=\"M 31.78125 34.625 \r\nQ 24.75 34.625 20.71875 30.859375 \r\nQ 16.703125 27.09375 16.703125 20.515625 \r\nQ 16.703125 13.921875 20.71875 10.15625 \r\nQ 24.75 6.390625 31.78125 6.390625 \r\nQ 38.8125 6.390625 42.859375 10.171875 \r\nQ 46.921875 13.96875 46.921875 20.515625 \r\nQ 46.921875 27.09375 42.890625 30.859375 \r\nQ 38.875 34.625 31.78125 34.625 \r\nz\r\nM 21.921875 38.8125 \r\nQ 15.578125 40.375 12.03125 44.71875 \r\nQ 8.5 49.078125 8.5 55.328125 \r\nQ 8.5 64.0625 14.71875 69.140625 \r\nQ 20.953125 74.21875 31.78125 74.21875 \r\nQ 42.671875 74.21875 48.875 69.140625 \r\nQ 55.078125 64.0625 55.078125 55.328125 \r\nQ 55.078125 49.078125 51.53125 44.71875 \r\nQ 48 40.375 41.703125 38.8125 \r\nQ 48.828125 37.15625 52.796875 32.3125 \r\nQ 56.78125 27.484375 56.78125 20.515625 \r\nQ 56.78125 9.90625 50.3125 4.234375 \r\nQ 43.84375 -1.421875 31.78125 -1.421875 \r\nQ 19.734375 -1.421875 13.25 4.234375 \r\nQ 6.78125 9.90625 6.78125 20.515625 \r\nQ 6.78125 27.484375 10.78125 32.3125 \r\nQ 14.796875 37.15625 21.921875 38.8125 \r\nz\r\nM 18.3125 54.390625 \r\nQ 18.3125 48.734375 21.84375 45.5625 \r\nQ 25.390625 42.390625 31.78125 42.390625 \r\nQ 38.140625 42.390625 41.71875 45.5625 \r\nQ 45.3125 48.734375 45.3125 54.390625 \r\nQ 45.3125 60.0625 41.71875 63.234375 \r\nQ 38.140625 66.40625 31.78125 66.40625 \r\nQ 25.390625 66.40625 21.84375 63.234375 \r\nQ 18.3125 60.0625 18.3125 54.390625 \r\nz\r\n\" id=\"DejaVuSans-56\"/>\r\n       </defs>\r\n       <use xlink:href=\"#DejaVuSans-53\"/>\r\n       <use x=\"63.623047\" xlink:href=\"#DejaVuSans-46\"/>\r\n       <use x=\"95.410156\" xlink:href=\"#DejaVuSans-56\"/>\r\n      </g>\r\n     </g>\r\n    </g>\r\n    <g id=\"xtick_2\">\r\n     <g id=\"line2d_2\">\r\n      <g>\r\n       <use style=\"stroke:#000000;stroke-width:0.8;\" x=\"141.807601\" xlink:href=\"#m070bfeb0d5\" y=\"224.64\"/>\r\n      </g>\r\n     </g>\r\n     <g id=\"text_2\">\r\n      <!-- 5.9 -->\r\n      <g transform=\"translate(133.856039 239.238437)scale(0.1 -0.1)\">\r\n       <defs>\r\n        <path d=\"M 10.984375 1.515625 \r\nL 10.984375 10.5 \r\nQ 14.703125 8.734375 18.5 7.8125 \r\nQ 22.3125 6.890625 25.984375 6.890625 \r\nQ 35.75 6.890625 40.890625 13.453125 \r\nQ 46.046875 20.015625 46.78125 33.40625 \r\nQ 43.953125 29.203125 39.59375 26.953125 \r\nQ 35.25 24.703125 29.984375 24.703125 \r\nQ 19.046875 24.703125 12.671875 31.3125 \r\nQ 6.296875 37.9375 6.296875 49.421875 \r\nQ 6.296875 60.640625 12.9375 67.421875 \r\nQ 19.578125 74.21875 30.609375 74.21875 \r\nQ 43.265625 74.21875 49.921875 64.515625 \r\nQ 56.59375 54.828125 56.59375 36.375 \r\nQ 56.59375 19.140625 48.40625 8.859375 \r\nQ 40.234375 -1.421875 26.421875 -1.421875 \r\nQ 22.703125 -1.421875 18.890625 -0.6875 \r\nQ 15.09375 0.046875 10.984375 1.515625 \r\nz\r\nM 30.609375 32.421875 \r\nQ 37.25 32.421875 41.125 36.953125 \r\nQ 45.015625 41.5 45.015625 49.421875 \r\nQ 45.015625 57.28125 41.125 61.84375 \r\nQ 37.25 66.40625 30.609375 66.40625 \r\nQ 23.96875 66.40625 20.09375 61.84375 \r\nQ 16.21875 57.28125 16.21875 49.421875 \r\nQ 16.21875 41.5 20.09375 36.953125 \r\nQ 23.96875 32.421875 30.609375 32.421875 \r\nz\r\n\" id=\"DejaVuSans-57\"/>\r\n       </defs>\r\n       <use xlink:href=\"#DejaVuSans-53\"/>\r\n       <use x=\"63.623047\" xlink:href=\"#DejaVuSans-46\"/>\r\n       <use x=\"95.410156\" xlink:href=\"#DejaVuSans-57\"/>\r\n      </g>\r\n     </g>\r\n    </g>\r\n    <g id=\"xtick_3\">\r\n     <g id=\"line2d_3\">\r\n      <g>\r\n       <use style=\"stroke:#000000;stroke-width:0.8;\" x=\"202.704687\" xlink:href=\"#m070bfeb0d5\" y=\"224.64\"/>\r\n      </g>\r\n     </g>\r\n     <g id=\"text_3\">\r\n      <!-- 6.0 -->\r\n      <g transform=\"translate(194.753125 239.238437)scale(0.1 -0.1)\">\r\n       <defs>\r\n        <path d=\"M 33.015625 40.375 \r\nQ 26.375 40.375 22.484375 35.828125 \r\nQ 18.609375 31.296875 18.609375 23.390625 \r\nQ 18.609375 15.53125 22.484375 10.953125 \r\nQ 26.375 6.390625 33.015625 6.390625 \r\nQ 39.65625 6.390625 43.53125 10.953125 \r\nQ 47.40625 15.53125 47.40625 23.390625 \r\nQ 47.40625 31.296875 43.53125 35.828125 \r\nQ 39.65625 40.375 33.015625 40.375 \r\nz\r\nM 52.59375 71.296875 \r\nL 52.59375 62.3125 \r\nQ 48.875 64.0625 45.09375 64.984375 \r\nQ 41.3125 65.921875 37.59375 65.921875 \r\nQ 27.828125 65.921875 22.671875 59.328125 \r\nQ 17.53125 52.734375 16.796875 39.40625 \r\nQ 19.671875 43.65625 24.015625 45.921875 \r\nQ 28.375 48.1875 33.59375 48.1875 \r\nQ 44.578125 48.1875 50.953125 41.515625 \r\nQ 57.328125 34.859375 57.328125 23.390625 \r\nQ 57.328125 12.15625 50.6875 5.359375 \r\nQ 44.046875 -1.421875 33.015625 -1.421875 \r\nQ 20.359375 -1.421875 13.671875 8.265625 \r\nQ 6.984375 17.96875 6.984375 36.375 \r\nQ 6.984375 53.65625 15.1875 63.9375 \r\nQ 23.390625 74.21875 37.203125 74.21875 \r\nQ 40.921875 74.21875 44.703125 73.484375 \r\nQ 48.484375 72.75 52.59375 71.296875 \r\nz\r\n\" id=\"DejaVuSans-54\"/>\r\n        <path d=\"M 31.78125 66.40625 \r\nQ 24.171875 66.40625 20.328125 58.90625 \r\nQ 16.5 51.421875 16.5 36.375 \r\nQ 16.5 21.390625 20.328125 13.890625 \r\nQ 24.171875 6.390625 31.78125 6.390625 \r\nQ 39.453125 6.390625 43.28125 13.890625 \r\nQ 47.125 21.390625 47.125 36.375 \r\nQ 47.125 51.421875 43.28125 58.90625 \r\nQ 39.453125 66.40625 31.78125 66.40625 \r\nz\r\nM 31.78125 74.21875 \r\nQ 44.046875 74.21875 50.515625 64.515625 \r\nQ 56.984375 54.828125 56.984375 36.375 \r\nQ 56.984375 17.96875 50.515625 8.265625 \r\nQ 44.046875 -1.421875 31.78125 -1.421875 \r\nQ 19.53125 -1.421875 13.0625 8.265625 \r\nQ 6.59375 17.96875 6.59375 36.375 \r\nQ 6.59375 54.828125 13.0625 64.515625 \r\nQ 19.53125 74.21875 31.78125 74.21875 \r\nz\r\n\" id=\"DejaVuSans-48\"/>\r\n       </defs>\r\n       <use xlink:href=\"#DejaVuSans-54\"/>\r\n       <use x=\"63.623047\" xlink:href=\"#DejaVuSans-46\"/>\r\n       <use x=\"95.410156\" xlink:href=\"#DejaVuSans-48\"/>\r\n      </g>\r\n     </g>\r\n    </g>\r\n    <g id=\"xtick_4\">\r\n     <g id=\"line2d_4\">\r\n      <g>\r\n       <use style=\"stroke:#000000;stroke-width:0.8;\" x=\"263.601774\" xlink:href=\"#m070bfeb0d5\" y=\"224.64\"/>\r\n      </g>\r\n     </g>\r\n     <g id=\"text_4\">\r\n      <!-- 6.1 -->\r\n      <g transform=\"translate(255.650211 239.238437)scale(0.1 -0.1)\">\r\n       <defs>\r\n        <path d=\"M 12.40625 8.296875 \r\nL 28.515625 8.296875 \r\nL 28.515625 63.921875 \r\nL 10.984375 60.40625 \r\nL 10.984375 69.390625 \r\nL 28.421875 72.90625 \r\nL 38.28125 72.90625 \r\nL 38.28125 8.296875 \r\nL 54.390625 8.296875 \r\nL 54.390625 0 \r\nL 12.40625 0 \r\nz\r\n\" id=\"DejaVuSans-49\"/>\r\n       </defs>\r\n       <use xlink:href=\"#DejaVuSans-54\"/>\r\n       <use x=\"63.623047\" xlink:href=\"#DejaVuSans-46\"/>\r\n       <use x=\"95.410156\" xlink:href=\"#DejaVuSans-49\"/>\r\n      </g>\r\n     </g>\r\n    </g>\r\n    <g id=\"xtick_5\">\r\n     <g id=\"line2d_5\">\r\n      <g>\r\n       <use style=\"stroke:#000000;stroke-width:0.8;\" x=\"324.49886\" xlink:href=\"#m070bfeb0d5\" y=\"224.64\"/>\r\n      </g>\r\n     </g>\r\n     <g id=\"text_5\">\r\n      <!-- 6.2 -->\r\n      <g transform=\"translate(316.547297 239.238437)scale(0.1 -0.1)\">\r\n       <defs>\r\n        <path d=\"M 19.1875 8.296875 \r\nL 53.609375 8.296875 \r\nL 53.609375 0 \r\nL 7.328125 0 \r\nL 7.328125 8.296875 \r\nQ 12.9375 14.109375 22.625 23.890625 \r\nQ 32.328125 33.6875 34.8125 36.53125 \r\nQ 39.546875 41.84375 41.421875 45.53125 \r\nQ 43.3125 49.21875 43.3125 52.78125 \r\nQ 43.3125 58.59375 39.234375 62.25 \r\nQ 35.15625 65.921875 28.609375 65.921875 \r\nQ 23.96875 65.921875 18.8125 64.3125 \r\nQ 13.671875 62.703125 7.8125 59.421875 \r\nL 7.8125 69.390625 \r\nQ 13.765625 71.78125 18.9375 73 \r\nQ 24.125 74.21875 28.421875 74.21875 \r\nQ 39.75 74.21875 46.484375 68.546875 \r\nQ 53.21875 62.890625 53.21875 53.421875 \r\nQ 53.21875 48.921875 51.53125 44.890625 \r\nQ 49.859375 40.875 45.40625 35.40625 \r\nQ 44.1875 33.984375 37.640625 27.21875 \r\nQ 31.109375 20.453125 19.1875 8.296875 \r\nz\r\n\" id=\"DejaVuSans-50\"/>\r\n       </defs>\r\n       <use xlink:href=\"#DejaVuSans-54\"/>\r\n       <use x=\"63.623047\" xlink:href=\"#DejaVuSans-46\"/>\r\n       <use x=\"95.410156\" xlink:href=\"#DejaVuSans-50\"/>\r\n      </g>\r\n     </g>\r\n    </g>\r\n    <g id=\"text_6\">\r\n     <!-- 1e9 -->\r\n     <g transform=\"translate(351.226562 251.916562)scale(0.1 -0.1)\">\r\n      <defs>\r\n       <path d=\"M 56.203125 29.59375 \r\nL 56.203125 25.203125 \r\nL 14.890625 25.203125 \r\nQ 15.484375 15.921875 20.484375 11.0625 \r\nQ 25.484375 6.203125 34.421875 6.203125 \r\nQ 39.59375 6.203125 44.453125 7.46875 \r\nQ 49.3125 8.734375 54.109375 11.28125 \r\nL 54.109375 2.78125 \r\nQ 49.265625 0.734375 44.1875 -0.34375 \r\nQ 39.109375 -1.421875 33.890625 -1.421875 \r\nQ 20.796875 -1.421875 13.15625 6.1875 \r\nQ 5.515625 13.8125 5.515625 26.8125 \r\nQ 5.515625 40.234375 12.765625 48.109375 \r\nQ 20.015625 56 32.328125 56 \r\nQ 43.359375 56 49.78125 48.890625 \r\nQ 56.203125 41.796875 56.203125 29.59375 \r\nz\r\nM 47.21875 32.234375 \r\nQ 47.125 39.59375 43.09375 43.984375 \r\nQ 39.0625 48.390625 32.421875 48.390625 \r\nQ 24.90625 48.390625 20.390625 44.140625 \r\nQ 15.875 39.890625 15.1875 32.171875 \r\nz\r\n\" id=\"DejaVuSans-101\"/>\r\n      </defs>\r\n      <use xlink:href=\"#DejaVuSans-49\"/>\r\n      <use x=\"63.623047\" xlink:href=\"#DejaVuSans-101\"/>\r\n      <use x=\"125.146484\" xlink:href=\"#DejaVuSans-57\"/>\r\n     </g>\r\n    </g>\r\n   </g>\r\n   <g id=\"matplotlib.axis_2\">\r\n    <g id=\"ytick_1\">\r\n     <g id=\"line2d_6\">\r\n      <defs>\r\n       <path d=\"M 0 0 \r\nL -3.5 0 \r\n\" id=\"mfe32c6f6e0\" style=\"stroke:#000000;stroke-width:0.8;\"/>\r\n      </defs>\r\n      <g>\r\n       <use style=\"stroke:#000000;stroke-width:0.8;\" x=\"35.304688\" xlink:href=\"#mfe32c6f6e0\" y=\"189.544143\"/>\r\n      </g>\r\n     </g>\r\n     <g id=\"text_7\">\r\n      <!-- −60 -->\r\n      <g transform=\"translate(7.2 193.343362)scale(0.1 -0.1)\">\r\n       <defs>\r\n        <path d=\"M 10.59375 35.5 \r\nL 73.1875 35.5 \r\nL 73.1875 27.203125 \r\nL 10.59375 27.203125 \r\nz\r\n\" id=\"DejaVuSans-8722\"/>\r\n       </defs>\r\n       <use xlink:href=\"#DejaVuSans-8722\"/>\r\n       <use x=\"83.789062\" xlink:href=\"#DejaVuSans-54\"/>\r\n       <use x=\"147.412109\" xlink:href=\"#DejaVuSans-48\"/>\r\n      </g>\r\n     </g>\r\n    </g>\r\n    <g id=\"ytick_2\">\r\n     <g id=\"line2d_7\">\r\n      <g>\r\n       <use style=\"stroke:#000000;stroke-width:0.8;\" x=\"35.304688\" xlink:href=\"#mfe32c6f6e0\" y=\"151.330929\"/>\r\n      </g>\r\n     </g>\r\n     <g id=\"text_8\">\r\n      <!-- −50 -->\r\n      <g transform=\"translate(7.2 155.130147)scale(0.1 -0.1)\">\r\n       <use xlink:href=\"#DejaVuSans-8722\"/>\r\n       <use x=\"83.789062\" xlink:href=\"#DejaVuSans-53\"/>\r\n       <use x=\"147.412109\" xlink:href=\"#DejaVuSans-48\"/>\r\n      </g>\r\n     </g>\r\n    </g>\r\n    <g id=\"ytick_3\">\r\n     <g id=\"line2d_8\">\r\n      <g>\r\n       <use style=\"stroke:#000000;stroke-width:0.8;\" x=\"35.304688\" xlink:href=\"#mfe32c6f6e0\" y=\"113.117715\"/>\r\n      </g>\r\n     </g>\r\n     <g id=\"text_9\">\r\n      <!-- −40 -->\r\n      <g transform=\"translate(7.2 116.916933)scale(0.1 -0.1)\">\r\n       <defs>\r\n        <path d=\"M 37.796875 64.3125 \r\nL 12.890625 25.390625 \r\nL 37.796875 25.390625 \r\nz\r\nM 35.203125 72.90625 \r\nL 47.609375 72.90625 \r\nL 47.609375 25.390625 \r\nL 58.015625 25.390625 \r\nL 58.015625 17.1875 \r\nL 47.609375 17.1875 \r\nL 47.609375 0 \r\nL 37.796875 0 \r\nL 37.796875 17.1875 \r\nL 4.890625 17.1875 \r\nL 4.890625 26.703125 \r\nz\r\n\" id=\"DejaVuSans-52\"/>\r\n       </defs>\r\n       <use xlink:href=\"#DejaVuSans-8722\"/>\r\n       <use x=\"83.789062\" xlink:href=\"#DejaVuSans-52\"/>\r\n       <use x=\"147.412109\" xlink:href=\"#DejaVuSans-48\"/>\r\n      </g>\r\n     </g>\r\n    </g>\r\n    <g id=\"ytick_4\">\r\n     <g id=\"line2d_9\">\r\n      <g>\r\n       <use style=\"stroke:#000000;stroke-width:0.8;\" x=\"35.304688\" xlink:href=\"#mfe32c6f6e0\" y=\"74.904501\"/>\r\n      </g>\r\n     </g>\r\n     <g id=\"text_10\">\r\n      <!-- −30 -->\r\n      <g transform=\"translate(7.2 78.703719)scale(0.1 -0.1)\">\r\n       <defs>\r\n        <path d=\"M 40.578125 39.3125 \r\nQ 47.65625 37.796875 51.625 33 \r\nQ 55.609375 28.21875 55.609375 21.1875 \r\nQ 55.609375 10.40625 48.1875 4.484375 \r\nQ 40.765625 -1.421875 27.09375 -1.421875 \r\nQ 22.515625 -1.421875 17.65625 -0.515625 \r\nQ 12.796875 0.390625 7.625 2.203125 \r\nL 7.625 11.71875 \r\nQ 11.71875 9.328125 16.59375 8.109375 \r\nQ 21.484375 6.890625 26.8125 6.890625 \r\nQ 36.078125 6.890625 40.9375 10.546875 \r\nQ 45.796875 14.203125 45.796875 21.1875 \r\nQ 45.796875 27.640625 41.28125 31.265625 \r\nQ 36.765625 34.90625 28.71875 34.90625 \r\nL 20.21875 34.90625 \r\nL 20.21875 43.015625 \r\nL 29.109375 43.015625 \r\nQ 36.375 43.015625 40.234375 45.921875 \r\nQ 44.09375 48.828125 44.09375 54.296875 \r\nQ 44.09375 59.90625 40.109375 62.90625 \r\nQ 36.140625 65.921875 28.71875 65.921875 \r\nQ 24.65625 65.921875 20.015625 65.03125 \r\nQ 15.375 64.15625 9.8125 62.3125 \r\nL 9.8125 71.09375 \r\nQ 15.4375 72.65625 20.34375 73.4375 \r\nQ 25.25 74.21875 29.59375 74.21875 \r\nQ 40.828125 74.21875 47.359375 69.109375 \r\nQ 53.90625 64.015625 53.90625 55.328125 \r\nQ 53.90625 49.265625 50.4375 45.09375 \r\nQ 46.96875 40.921875 40.578125 39.3125 \r\nz\r\n\" id=\"DejaVuSans-51\"/>\r\n       </defs>\r\n       <use xlink:href=\"#DejaVuSans-8722\"/>\r\n       <use x=\"83.789062\" xlink:href=\"#DejaVuSans-51\"/>\r\n       <use x=\"147.412109\" xlink:href=\"#DejaVuSans-48\"/>\r\n      </g>\r\n     </g>\r\n    </g>\r\n    <g id=\"ytick_5\">\r\n     <g id=\"line2d_10\">\r\n      <g>\r\n       <use style=\"stroke:#000000;stroke-width:0.8;\" x=\"35.304688\" xlink:href=\"#mfe32c6f6e0\" y=\"36.691286\"/>\r\n      </g>\r\n     </g>\r\n     <g id=\"text_11\">\r\n      <!-- −20 -->\r\n      <g transform=\"translate(7.2 40.490505)scale(0.1 -0.1)\">\r\n       <use xlink:href=\"#DejaVuSans-8722\"/>\r\n       <use x=\"83.789062\" xlink:href=\"#DejaVuSans-50\"/>\r\n       <use x=\"147.412109\" xlink:href=\"#DejaVuSans-48\"/>\r\n      </g>\r\n     </g>\r\n    </g>\r\n   </g>\r\n   <g id=\"line2d_11\">\r\n    <path clip-path=\"url(#pc9f3049688)\" d=\"M 50.522869 196.987374 \r\nL 50.766458 213.426785 \r\nL 51.010046 211.076144 \r\nL 51.13184 211.201007 \r\nL 51.253634 210.279598 \r\nL 51.497223 211.515678 \r\nL 51.619017 211.455518 \r\nL 51.740811 211.279614 \r\nL 51.862605 211.826866 \r\nL 51.984399 209.46407 \r\nL 52.106194 212.378392 \r\nL 52.227988 210.484481 \r\nL 52.59337 211.801641 \r\nL 52.715164 211.32595 \r\nL 52.836959 209.845467 \r\nL 52.958753 210.314706 \r\nL 53.080547 211.629537 \r\nL 53.202341 211.643358 \r\nL 53.324135 210.223085 \r\nL 53.567724 211.796678 \r\nL 53.689518 210.405259 \r\nL 53.933106 211.210001 \r\nL 54.0549 209.963426 \r\nL 54.298489 210.825825 \r\nL 54.420283 210.395651 \r\nL 54.663871 211.740677 \r\nL 54.90746 210.503527 \r\nL 55.151048 209.418402 \r\nL 55.51643 211.245477 \r\nL 55.760019 209.969032 \r\nL 55.881813 210.103955 \r\nL 56.247195 211.806806 \r\nL 56.36899 210.001011 \r\nL 56.490784 212.341675 \r\nL 56.612578 210.313557 \r\nL 56.734372 211.338564 \r\nL 56.856166 210.297739 \r\nL 56.97796 212.499706 \r\nL 57.099755 212.097414 \r\nL 57.343343 209.411142 \r\nL 57.465137 213.353343 \r\nL 57.586931 210.854581 \r\nL 57.708725 210.888901 \r\nL 57.83052 209.967766 \r\nL 57.952314 211.58924 \r\nL 58.074108 209.287885 \r\nL 58.195902 211.473971 \r\nL 58.439491 209.371882 \r\nL 58.561285 210.431036 \r\nL 58.683079 208.518434 \r\nL 58.804873 212.766821 \r\nL 59.048461 210.270945 \r\nL 59.170256 211.921838 \r\nL 59.29205 211.602171 \r\nL 59.535638 211.880624 \r\nL 59.657432 209.841212 \r\nL 59.779226 211.684133 \r\nL 59.901021 209.309672 \r\nL 60.022815 212.106539 \r\nL 60.144609 210.586545 \r\nL 60.266403 211.042603 \r\nL 60.388197 210.275525 \r\nL 60.509991 210.332951 \r\nL 60.75358 211.471233 \r\nL 60.875374 212.332115 \r\nL 61.118962 211.545307 \r\nL 61.240756 211.518726 \r\nL 61.362551 211.744072 \r\nL 61.484345 209.752527 \r\nL 61.606139 211.330476 \r\nL 61.849727 209.95568 \r\nL 61.971522 209.827155 \r\nL 62.093316 211.494458 \r\nL 62.21511 211.627503 \r\nL 62.336904 211.579779 \r\nL 62.458698 211.864946 \r\nL 62.580492 211.57359 \r\nL 62.702287 210.902152 \r\nL 62.824081 210.880817 \r\nL 63.067669 209.834894 \r\nL 63.189463 211.310684 \r\nL 63.311257 209.700344 \r\nL 63.433052 213.067874 \r\nL 63.554846 209.690566 \r\nL 63.67664 210.457099 \r\nL 63.798434 212.913681 \r\nL 63.920228 210.003789 \r\nL 64.042022 211.93536 \r\nL 64.163817 210.697158 \r\nL 64.285611 213.360962 \r\nL 64.529199 211.021084 \r\nL 64.772787 209.045664 \r\nL 64.894582 211.341527 \r\nL 65.016376 210.829019 \r\nL 65.13817 211.899224 \r\nL 65.381758 209.002235 \r\nL 65.503553 211.845149 \r\nL 65.625347 210.493699 \r\nL 65.747141 211.877955 \r\nL 65.868935 209.38481 \r\nL 65.990729 209.921491 \r\nL 66.112523 209.253011 \r\nL 66.356112 212.36938 \r\nL 66.477906 210.016848 \r\nL 66.5997 212.12272 \r\nL 66.721494 209.966196 \r\nL 66.843288 210.463945 \r\nL 66.965083 209.737245 \r\nL 67.086877 209.721702 \r\nL 67.208671 209.260913 \r\nL 67.330465 210.094533 \r\nL 67.452259 209.975099 \r\nL 67.695848 211.326295 \r\nL 67.817642 211.382656 \r\nL 67.939436 210.005941 \r\nL 68.06123 211.133627 \r\nL 68.304818 209.559693 \r\nL 68.548407 210.921357 \r\nL 68.913789 208.66888 \r\nL 69.035583 211.213225 \r\nL 69.157378 210.920395 \r\nL 69.279172 211.461738 \r\nL 69.400966 209.590126 \r\nL 69.52276 211.162193 \r\nL 69.644554 210.583579 \r\nL 69.766349 211.126451 \r\nL 69.888143 210.121747 \r\nL 70.009937 212.199115 \r\nL 70.131731 211.802691 \r\nL 70.253525 210.288485 \r\nL 70.375319 210.557864 \r\nL 70.497114 213.076226 \r\nL 70.618908 208.846256 \r\nL 70.740702 210.62352 \r\nL 70.862496 209.708253 \r\nL 70.98429 211.182566 \r\nL 71.106084 210.619361 \r\nL 71.471467 213.014651 \r\nL 71.715055 209.68991 \r\nL 71.836849 212.202289 \r\nL 71.958644 209.904213 \r\nL 72.202232 211.726876 \r\nL 72.324026 210.201499 \r\nL 72.44582 211.48918 \r\nL 72.689409 209.669723 \r\nL 72.811203 211.518512 \r\nL 72.932997 210.285963 \r\nL 73.054791 211.952654 \r\nL 73.29838 209.334587 \r\nL 73.541968 210.202539 \r\nL 73.663762 210.747627 \r\nL 73.785556 209.25613 \r\nL 73.90735 211.648932 \r\nL 74.029145 211.280338 \r\nL 74.150939 211.773922 \r\nL 74.272733 211.423525 \r\nL 74.394527 211.654739 \r\nL 74.516321 209.669061 \r\nL 74.638115 211.252879 \r\nL 74.75991 210.264266 \r\nL 74.881704 212.226851 \r\nL 75.003498 210.528201 \r\nL 75.247086 211.553323 \r\nL 75.36888 210.097221 \r\nL 75.490675 211.787688 \r\nL 75.612469 210.068696 \r\nL 75.734263 210.061657 \r\nL 75.856057 210.84522 \r\nL 76.099645 209.84216 \r\nL 76.22144 211.818683 \r\nL 76.343234 209.571241 \r\nL 76.465028 209.719327 \r\nL 76.586822 211.151208 \r\nL 76.708616 210.58481 \r\nL 76.830411 211.606518 \r\nL 76.952205 211.103883 \r\nL 77.073999 211.845253 \r\nL 77.195793 209.748274 \r\nL 77.317587 213.269022 \r\nL 77.439381 211.160008 \r\nL 77.561176 211.214825 \r\nL 77.804764 209.562484 \r\nL 78.048352 210.73158 \r\nL 78.170146 211.062689 \r\nL 78.413735 209.457433 \r\nL 78.535529 211.744044 \r\nL 78.657323 210.801841 \r\nL 78.779117 211.775017 \r\nL 78.900911 208.888029 \r\nL 79.022706 209.984743 \r\nL 79.1445 209.317987 \r\nL 79.266294 210.021378 \r\nL 79.388088 212.26186 \r\nL 79.509882 211.187371 \r\nL 79.631676 212.013366 \r\nL 79.753471 209.855926 \r\nL 79.875265 211.618228 \r\nL 79.997059 209.625141 \r\nL 80.118853 209.639447 \r\nL 80.362442 210.805487 \r\nL 80.484236 208.845869 \r\nL 80.60603 209.958322 \r\nL 80.727824 208.877334 \r\nL 80.849618 211.264137 \r\nL 80.971412 209.889369 \r\nL 81.093207 211.021866 \r\nL 81.215001 211.059105 \r\nL 81.336795 211.593348 \r\nL 81.458589 210.119311 \r\nL 81.702177 212.015568 \r\nL 81.823972 210.892304 \r\nL 82.06756 211.123724 \r\nL 82.189354 210.829214 \r\nL 82.311148 211.123319 \r\nL 82.432942 209.324867 \r\nL 82.554737 211.065973 \r\nL 82.676531 210.485679 \r\nL 82.798325 211.026872 \r\nL 82.920119 210.020488 \r\nL 83.041913 210.014308 \r\nL 83.163707 209.469274 \r\nL 83.285502 210.498637 \r\nL 83.407296 210.449886 \r\nL 83.52909 210.553324 \r\nL 83.650884 209.774303 \r\nL 83.772678 209.74437 \r\nL 83.894473 208.54081 \r\nL 84.016267 211.06619 \r\nL 84.138061 210.501305 \r\nL 84.381649 211.411182 \r\nL 84.503443 212.891556 \r\nL 84.868826 209.489285 \r\nL 85.112414 212.236158 \r\nL 85.234208 209.375647 \r\nL 85.356003 212.01558 \r\nL 85.477797 211.352648 \r\nL 85.599591 212.15768 \r\nL 85.721385 210.094238 \r\nL 85.843179 211.332325 \r\nL 85.964973 210.142712 \r\nL 86.086768 211.051262 \r\nL 86.208562 210.995768 \r\nL 86.330356 209.762581 \r\nL 86.45215 210.875157 \r\nL 86.573944 209.186183 \r\nL 86.695738 210.594298 \r\nL 86.817533 210.418428 \r\nL 87.304709 211.753668 \r\nL 87.426503 209.817542 \r\nL 87.548298 211.317494 \r\nL 87.670092 209.526302 \r\nL 87.791886 210.089028 \r\nL 87.91368 212.018913 \r\nL 88.035474 210.320455 \r\nL 88.279063 211.241139 \r\nL 88.400857 209.89005 \r\nL 88.522651 210.852628 \r\nL 88.644445 209.86191 \r\nL 88.766239 210.87697 \r\nL 88.888034 210.638817 \r\nL 89.009828 210.702625 \r\nL 89.131622 209.636142 \r\nL 89.253416 211.612856 \r\nL 89.37521 210.957414 \r\nL 89.497004 209.513885 \r\nL 89.618799 210.945957 \r\nL 89.740593 210.379751 \r\nL 89.862387 211.401652 \r\nL 90.227769 209.543984 \r\nL 90.349564 209.867235 \r\nL 90.471358 211.031096 \r\nL 90.593152 211.01111 \r\nL 90.714946 208.932992 \r\nL 90.83674 209.359153 \r\nL 91.080329 211.1887 \r\nL 91.202123 210.534267 \r\nL 91.323917 210.832385 \r\nL 91.445711 209.642291 \r\nL 91.567505 209.62591 \r\nL 91.811094 210.894352 \r\nL 91.932888 209.541125 \r\nL 92.054682 209.783332 \r\nL 92.176476 209.116768 \r\nL 92.29827 209.820351 \r\nL 92.420065 207.200387 \r\nL 92.663653 211.604023 \r\nL 93.029035 211.288828 \r\nL 93.15083 209.797337 \r\nL 93.394418 210.610264 \r\nL 93.516212 208.811433 \r\nL 93.638006 210.956691 \r\nL 93.7598 208.732953 \r\nL 93.881595 210.759985 \r\nL 94.003389 209.331134 \r\nL 94.125183 210.826408 \r\nL 94.246977 210.862321 \r\nL 94.368771 211.392659 \r\nL 94.490565 209.336391 \r\nL 94.734154 211.803164 \r\nL 94.855948 210.675996 \r\nL 94.977742 210.778393 \r\nL 95.221331 211.612241 \r\nL 95.464919 210.800648 \r\nL 95.586713 208.95875 \r\nL 95.708507 209.386294 \r\nL 95.830301 208.671546 \r\nL 96.07389 209.75895 \r\nL 96.317478 210.235469 \r\nL 96.439272 211.532767 \r\nL 96.561066 209.631737 \r\nL 96.682861 209.499421 \r\nL 96.804655 209.580433 \r\nL 96.926449 209.795133 \r\nL 97.048243 210.39425 \r\nL 97.170037 209.677984 \r\nL 97.291831 210.563603 \r\nL 97.53542 210.028618 \r\nL 97.900802 211.547699 \r\nL 98.022596 210.11644 \r\nL 98.144391 211.914417 \r\nL 98.266185 208.8485 \r\nL 98.387979 211.68603 \r\nL 98.509773 210.277486 \r\nL 98.631567 211.820319 \r\nL 98.753362 209.752973 \r\nL 99.118744 211.611897 \r\nL 99.240538 210.638738 \r\nL 99.362332 210.821559 \r\nL 99.484127 210.509739 \r\nL 99.605921 208.816571 \r\nL 99.727715 209.010311 \r\nL 99.849509 210.040428 \r\nL 99.971303 209.854873 \r\nL 100.093097 211.619943 \r\nL 100.214892 210.321237 \r\nL 100.336686 211.372729 \r\nL 100.45848 210.360512 \r\nL 100.580274 210.939238 \r\nL 100.702068 209.231936 \r\nL 100.945657 210.628754 \r\nL 101.067451 209.463176 \r\nL 101.311039 210.87093 \r\nL 101.432833 209.876629 \r\nL 101.554627 210.485101 \r\nL 101.676422 209.882738 \r\nL 101.798216 210.512126 \r\nL 101.92001 209.815085 \r\nL 102.041804 210.340463 \r\nL 102.163598 209.268195 \r\nL 102.285393 209.369921 \r\nL 102.407187 210.599276 \r\nL 102.650775 208.075693 \r\nL 102.894363 211.559558 \r\nL 103.137952 210.091149 \r\nL 103.259746 211.042226 \r\nL 103.38154 208.987347 \r\nL 103.503334 210.685028 \r\nL 103.625128 210.622422 \r\nL 103.746923 208.589607 \r\nL 103.990511 209.183741 \r\nL 104.112305 210.849339 \r\nL 104.234099 210.196247 \r\nL 104.355893 210.495706 \r\nL 104.477688 209.705881 \r\nL 104.599482 210.735068 \r\nL 104.721276 208.750956 \r\nL 104.964864 211.254931 \r\nL 105.086658 209.392093 \r\nL 105.208453 209.329015 \r\nL 105.330247 208.555137 \r\nL 105.452041 208.789369 \r\nL 105.695629 211.290901 \r\nL 105.817424 211.129347 \r\nL 105.939218 211.561532 \r\nL 106.061012 210.987276 \r\nL 106.426394 207.766308 \r\nL 106.548189 210.479151 \r\nL 106.669983 210.667083 \r\nL 106.791777 212.140297 \r\nL 106.913571 208.889348 \r\nL 107.157159 210.610294 \r\nL 107.278954 208.607616 \r\nL 107.400748 210.498184 \r\nL 107.522542 209.321438 \r\nL 107.644336 209.42659 \r\nL 107.76613 209.286766 \r\nL 107.887924 210.441934 \r\nL 108.009719 209.45379 \r\nL 108.253307 211.351571 \r\nL 108.496895 210.54443 \r\nL 108.618689 208.704757 \r\nL 108.740484 210.100408 \r\nL 108.862278 209.919976 \r\nL 108.984072 210.552411 \r\nL 109.105866 209.347407 \r\nL 109.22766 209.863654 \r\nL 109.349454 209.585587 \r\nL 109.471249 211.294356 \r\nL 109.593043 210.901632 \r\nL 109.714837 209.265462 \r\nL 110.08022 209.511608 \r\nL 110.202014 210.459042 \r\nL 110.445602 210.004552 \r\nL 110.567396 208.594123 \r\nL 110.68919 210.848983 \r\nL 110.810985 209.865961 \r\nL 111.054573 211.677326 \r\nL 111.176367 210.415897 \r\nL 111.419955 203.419453 \r\nL 111.663544 209.342618 \r\nL 111.785338 209.745476 \r\nL 111.907132 209.620565 \r\nL 112.15072 211.473123 \r\nL 112.272515 210.172077 \r\nL 112.394309 210.703261 \r\nL 112.516103 210.226803 \r\nL 112.637897 211.423201 \r\nL 112.759691 208.922943 \r\nL 112.881485 208.91851 \r\nL 113.00328 209.450737 \r\nL 113.125074 211.563505 \r\nL 113.246868 209.568799 \r\nL 113.368662 210.572454 \r\nL 113.490456 210.335004 \r\nL 113.612251 209.670409 \r\nL 113.734045 210.185794 \r\nL 113.977633 208.895175 \r\nL 114.099427 211.345259 \r\nL 114.343016 209.296234 \r\nL 114.46481 209.933602 \r\nL 114.586604 211.620048 \r\nL 114.708398 209.960331 \r\nL 114.830192 209.852198 \r\nL 114.951986 209.913299 \r\nL 115.195575 209.294666 \r\nL 115.317369 209.499065 \r\nL 115.439163 210.590094 \r\nL 115.682751 208.191588 \r\nL 115.92634 211.740253 \r\nL 116.169928 208.708444 \r\nL 116.291722 211.25385 \r\nL 116.535311 209.407074 \r\nL 116.657105 209.56882 \r\nL 116.900693 210.845857 \r\nL 117.022487 210.686377 \r\nL 117.266076 209.901296 \r\nL 117.38787 210.672323 \r\nL 117.509664 210.009066 \r\nL 117.631458 211.025482 \r\nL 117.753252 209.028599 \r\nL 117.875047 209.834693 \r\nL 117.996841 211.507032 \r\nL 118.118635 211.515374 \r\nL 118.362223 208.767667 \r\nL 118.484017 210.914385 \r\nL 118.727606 209.334783 \r\nL 118.971194 211.697632 \r\nL 119.092988 210.2718 \r\nL 119.214782 210.22575 \r\nL 119.336577 209.341048 \r\nL 119.580165 211.07375 \r\nL 119.701959 210.127127 \r\nL 119.823753 212.169393 \r\nL 119.945547 209.925759 \r\nL 120.067342 209.909888 \r\nL 120.189136 210.593531 \r\nL 120.31093 209.040922 \r\nL 120.432724 209.996836 \r\nL 120.676313 209.111715 \r\nL 120.798107 209.193572 \r\nL 121.041695 210.523904 \r\nL 121.407078 208.995114 \r\nL 121.528872 209.446218 \r\nL 121.650666 207.794979 \r\nL 121.77246 210.392387 \r\nL 121.894254 209.699146 \r\nL 122.016048 210.306355 \r\nL 122.137843 208.328327 \r\nL 122.259637 208.855559 \r\nL 122.381431 210.002629 \r\nL 122.503225 209.915749 \r\nL 122.746813 210.735527 \r\nL 122.990402 209.194847 \r\nL 123.112196 209.127976 \r\nL 123.23399 210.060123 \r\nL 123.355784 209.92402 \r\nL 123.599373 208.157603 \r\nL 123.721167 210.413691 \r\nL 123.842961 208.350458 \r\nL 124.086549 211.24572 \r\nL 124.451932 207.480965 \r\nL 124.573726 209.209361 \r\nL 124.69552 208.334085 \r\nL 124.939109 209.755384 \r\nL 125.060903 208.99582 \r\nL 125.182697 209.663486 \r\nL 125.304491 209.694295 \r\nL 125.426285 208.347224 \r\nL 125.669874 210.925719 \r\nL 125.791668 207.952607 \r\nL 125.913462 209.617195 \r\nL 126.035256 208.991323 \r\nL 126.15705 209.352706 \r\nL 126.278844 209.038485 \r\nL 126.400639 210.035574 \r\nL 126.522433 209.258814 \r\nL 126.644227 210.849782 \r\nL 126.766021 209.629214 \r\nL 126.887815 207.108507 \r\nL 127.131404 210.768981 \r\nL 127.253198 210.708035 \r\nL 127.374992 211.073495 \r\nL 127.496786 209.890577 \r\nL 127.61858 211.017504 \r\nL 127.740375 208.255391 \r\nL 127.862169 210.221403 \r\nL 128.105757 208.827181 \r\nL 128.227551 210.168926 \r\nL 128.349345 208.633975 \r\nL 128.592934 211.211602 \r\nL 128.836522 206.714893 \r\nL 128.958316 207.454203 \r\nL 129.201905 208.288494 \r\nL 129.323699 211.426102 \r\nL 129.445493 209.161948 \r\nL 129.567287 209.524213 \r\nL 129.689081 208.855863 \r\nL 129.93267 210.124635 \r\nL 130.054464 209.961022 \r\nL 130.176258 208.937585 \r\nL 130.419846 209.934568 \r\nL 130.54164 209.381813 \r\nL 130.663435 209.41693 \r\nL 130.785229 208.336147 \r\nL 130.907023 210.172463 \r\nL 131.028817 209.106085 \r\nL 131.150611 210.879766 \r\nL 131.272405 209.027757 \r\nL 131.3942 208.915669 \r\nL 131.515994 210.816461 \r\nL 131.759582 208.167759 \r\nL 131.881376 209.726334 \r\nL 132.003171 209.40889 \r\nL 132.124965 209.787774 \r\nL 132.246759 209.760672 \r\nL 132.368553 210.364972 \r\nL 132.490347 209.769339 \r\nL 132.612141 210.665516 \r\nL 132.733936 209.498869 \r\nL 132.85573 209.889511 \r\nL 132.977524 209.574368 \r\nL 133.099318 210.289907 \r\nL 133.221112 208.86408 \r\nL 133.342906 209.046392 \r\nL 133.586495 210.209212 \r\nL 133.708289 208.890656 \r\nL 133.951877 210.049279 \r\nL 134.073671 210.343044 \r\nL 134.195466 211.981154 \r\nL 134.439054 207.778089 \r\nL 134.682642 210.630539 \r\nL 134.804436 210.760727 \r\nL 135.048025 208.492442 \r\nL 135.169819 209.619828 \r\nL 135.291613 209.074012 \r\nL 135.413407 210.030195 \r\nL 135.535202 209.894077 \r\nL 135.656996 209.344447 \r\nL 135.77879 210.81901 \r\nL 135.900584 210.085534 \r\nL 136.022378 208.266252 \r\nL 136.144172 211.861462 \r\nL 136.265967 209.763667 \r\nL 136.387761 210.092982 \r\nL 136.509555 208.621959 \r\nL 136.631349 208.518551 \r\nL 136.753143 209.220444 \r\nL 136.874937 206.850989 \r\nL 136.996732 210.109305 \r\nL 137.118526 209.551308 \r\nL 137.24032 208.459902 \r\nL 137.362114 209.214483 \r\nL 137.483908 207.679929 \r\nL 137.605702 209.408906 \r\nL 137.727497 207.962239 \r\nL 137.971085 209.956672 \r\nL 138.092879 210.130533 \r\nL 138.214673 207.844396 \r\nL 138.580056 209.729561 \r\nL 138.823644 208.124021 \r\nL 138.945438 209.823131 \r\nL 139.067233 209.19784 \r\nL 139.189027 210.882632 \r\nL 139.310821 209.068205 \r\nL 139.432615 209.601726 \r\nL 139.554409 209.467655 \r\nL 139.676203 211.059204 \r\nL 139.797998 209.343195 \r\nL 139.919792 211.629391 \r\nL 140.16338 209.698233 \r\nL 140.406968 211.286404 \r\nL 140.528763 210.155029 \r\nL 140.650557 207.891141 \r\nL 140.772351 208.470043 \r\nL 140.894145 210.436636 \r\nL 141.015939 210.136976 \r\nL 141.137733 209.043576 \r\nL 141.259528 210.385902 \r\nL 141.381322 208.851532 \r\nL 141.503116 209.083076 \r\nL 141.62491 211.430322 \r\nL 141.746704 209.818783 \r\nL 141.868498 211.590771 \r\nL 141.990293 209.209892 \r\nL 142.112087 210.678323 \r\nL 142.233881 209.87006 \r\nL 142.355675 211.675783 \r\nL 142.599264 209.787267 \r\nL 142.721058 210.314995 \r\nL 142.964646 209.411176 \r\nL 143.08644 209.542802 \r\nL 143.208234 209.223123 \r\nL 143.330029 210.079307 \r\nL 143.451823 210.086638 \r\nL 143.573617 209.680111 \r\nL 143.817205 209.702161 \r\nL 143.938999 210.483522 \r\nL 144.060794 209.474721 \r\nL 144.182588 209.628357 \r\nL 144.426176 209.243741 \r\nL 144.54797 211.148787 \r\nL 144.669764 210.225707 \r\nL 144.791559 208.144828 \r\nL 145.035147 211.081886 \r\nL 145.156941 208.774508 \r\nL 145.400529 210.727073 \r\nL 145.522324 210.135693 \r\nL 145.644118 210.414115 \r\nL 145.765912 209.87373 \r\nL 146.0095 210.831601 \r\nL 146.131295 210.677528 \r\nL 146.253089 209.232203 \r\nL 146.374883 209.519587 \r\nL 146.618471 210.613847 \r\nL 146.740265 209.299545 \r\nL 146.86206 210.188707 \r\nL 146.983854 209.040513 \r\nL 147.105648 209.74805 \r\nL 147.227442 212.407056 \r\nL 147.47103 209.112009 \r\nL 147.714619 211.073456 \r\nL 147.836413 211.207897 \r\nL 148.080001 208.673416 \r\nL 148.201795 210.055038 \r\nL 148.32359 209.682116 \r\nL 148.445384 210.418594 \r\nL 148.567178 208.976453 \r\nL 148.688972 210.648449 \r\nL 148.810766 209.419135 \r\nL 148.93256 212.161413 \r\nL 149.054355 208.356694 \r\nL 149.176149 212.258078 \r\nL 149.419737 209.480568 \r\nL 149.78512 208.548854 \r\nL 149.906914 211.399563 \r\nL 150.150502 209.917664 \r\nL 150.394091 211.00566 \r\nL 150.515885 212.472764 \r\nL 150.759473 209.178746 \r\nL 150.881267 209.796619 \r\nL 151.003061 209.447318 \r\nL 151.124856 210.466629 \r\nL 151.24665 209.332186 \r\nL 151.368444 209.671623 \r\nL 151.490238 210.443651 \r\nL 151.612032 209.835267 \r\nL 151.855621 210.471712 \r\nL 151.977415 210.07526 \r\nL 152.099209 208.308449 \r\nL 152.221003 211.184686 \r\nL 152.342797 209.773279 \r\nL 152.464591 211.038736 \r\nL 152.586386 209.945608 \r\nL 152.70818 210.157514 \r\nL 152.829974 209.694552 \r\nL 152.951768 211.90875 \r\nL 153.195356 208.561429 \r\nL 153.317151 208.986354 \r\nL 153.438945 208.424529 \r\nL 153.560739 210.415475 \r\nL 153.804327 208.455374 \r\nL 153.926122 208.416561 \r\nL 154.047916 210.3843 \r\nL 154.16971 208.521919 \r\nL 154.413298 209.7733 \r\nL 154.535092 208.498985 \r\nL 154.656887 210.812287 \r\nL 154.778681 209.758043 \r\nL 154.900475 211.836683 \r\nL 155.022269 209.726657 \r\nL 155.265857 211.133591 \r\nL 155.387652 209.191599 \r\nL 155.509446 211.601135 \r\nL 155.63124 208.096666 \r\nL 155.874828 211.845575 \r\nL 155.996622 209.604245 \r\nL 156.118417 209.729999 \r\nL 156.240211 209.315938 \r\nL 156.483799 210.256221 \r\nL 156.727387 209.786293 \r\nL 156.849182 209.85413 \r\nL 157.09277 210.482052 \r\nL 157.214564 209.935048 \r\nL 157.336358 208.736174 \r\nL 157.458153 209.041981 \r\nL 157.701741 212.06598 \r\nL 157.945329 210.369937 \r\nL 158.067123 211.175141 \r\nL 158.432506 210.25182 \r\nL 158.5543 208.549406 \r\nL 158.676094 208.974708 \r\nL 158.797888 208.746777 \r\nL 159.041477 210.877886 \r\nL 159.285065 208.30313 \r\nL 159.528653 209.680584 \r\nL 159.650448 207.537304 \r\nL 159.772242 208.208487 \r\nL 159.894036 210.193892 \r\nL 160.137624 208.392727 \r\nL 160.381213 210.448935 \r\nL 160.503007 209.093508 \r\nL 160.624801 208.993682 \r\nL 160.746595 210.142918 \r\nL 160.990184 208.94241 \r\nL 161.111978 211.434582 \r\nL 161.233772 209.696949 \r\nL 161.355566 209.668466 \r\nL 161.47736 209.471434 \r\nL 161.599154 211.47391 \r\nL 161.842743 209.939906 \r\nL 161.964537 212.175947 \r\nL 162.451714 209.51765 \r\nL 162.573508 209.679865 \r\nL 162.817096 207.613831 \r\nL 162.93889 211.459193 \r\nL 163.060684 209.15348 \r\nL 163.304273 210.441559 \r\nL 163.426067 211.087837 \r\nL 163.547861 212.560578 \r\nL 163.669655 211.189085 \r\nL 163.791449 211.561808 \r\nL 163.913244 209.271475 \r\nL 164.035038 209.916679 \r\nL 164.156832 208.860649 \r\nL 164.40042 210.227802 \r\nL 164.522215 210.57656 \r\nL 164.644009 209.973814 \r\nL 164.887597 210.621532 \r\nL 165.009391 210.138649 \r\nL 165.131185 208.55953 \r\nL 165.496568 211.216741 \r\nL 165.740156 210.890213 \r\nL 165.86195 211.638551 \r\nL 166.105539 210.263422 \r\nL 166.227333 208.770327 \r\nL 166.349127 209.583419 \r\nL 166.470921 208.632983 \r\nL 166.592715 210.413231 \r\nL 166.836304 209.083565 \r\nL 166.958098 210.04841 \r\nL 167.079892 208.309673 \r\nL 167.201686 209.773751 \r\nL 167.32348 209.703165 \r\nL 167.445275 209.965924 \r\nL 167.567069 210.691037 \r\nL 167.688863 210.647255 \r\nL 168.17604 209.751518 \r\nL 168.297834 211.296548 \r\nL 168.419628 209.987953 \r\nL 168.541422 211.755616 \r\nL 168.785011 207.62807 \r\nL 168.906805 211.987341 \r\nL 169.150393 208.024238 \r\nL 169.272187 210.047479 \r\nL 169.393981 209.958334 \r\nL 169.515776 209.370386 \r\nL 169.63757 210.049041 \r\nL 169.759364 209.898392 \r\nL 169.881158 209.307493 \r\nL 170.002952 210.540788 \r\nL 170.124746 210.581437 \r\nL 170.368335 209.54691 \r\nL 170.490129 210.550094 \r\nL 170.611923 210.488668 \r\nL 170.733717 212.144174 \r\nL 170.977306 210.011045 \r\nL 171.0991 212.268569 \r\nL 171.220894 210.962957 \r\nL 171.342688 210.897384 \r\nL 171.464482 210.304584 \r\nL 171.708071 206.868689 \r\nL 171.829865 201.13874 \r\nL 172.073453 158.536488 \r\nL 172.195247 17.222455 \r\nL 172.317042 17.083636 \r\nL 172.56063 186.660205 \r\nL 172.804218 204.813312 \r\nL 173.413189 210.46524 \r\nL 173.534983 208.944266 \r\nL 173.656777 211.084458 \r\nL 173.778572 210.914517 \r\nL 173.900366 210.123823 \r\nL 174.143954 211.438095 \r\nL 174.265748 209.664343 \r\nL 174.387542 210.100203 \r\nL 174.509337 208.868425 \r\nL 174.631131 211.468896 \r\nL 174.874719 209.930628 \r\nL 175.118307 211.445674 \r\nL 175.48369 209.097052 \r\nL 175.605484 210.687244 \r\nL 175.727278 207.897366 \r\nL 175.849073 209.994969 \r\nL 176.092661 209.340071 \r\nL 176.214455 210.259442 \r\nL 176.336249 208.72849 \r\nL 176.579838 211.584379 \r\nL 176.701632 211.147828 \r\nL 176.823426 211.518419 \r\nL 176.94522 210.472355 \r\nL 177.067014 212.591562 \r\nL 177.188808 210.504794 \r\nL 177.310603 212.318382 \r\nL 177.554191 209.339562 \r\nL 177.797779 210.131708 \r\nL 177.919573 209.802257 \r\nL 178.041368 210.293756 \r\nL 178.163162 209.162457 \r\nL 178.284956 209.681058 \r\nL 178.40675 209.602026 \r\nL 178.650338 211.040532 \r\nL 178.772133 211.807964 \r\nL 178.893927 211.557037 \r\nL 179.137515 210.176808 \r\nL 179.259309 210.828934 \r\nL 179.502898 208.746857 \r\nL 179.624692 210.336921 \r\nL 179.746486 208.565743 \r\nL 179.990074 209.982025 \r\nL 180.111869 209.779102 \r\nL 180.233663 209.713983 \r\nL 180.355457 209.430611 \r\nL 180.599045 211.067416 \r\nL 180.964428 209.77063 \r\nL 181.086222 210.145386 \r\nL 181.208016 209.718216 \r\nL 181.32981 210.069434 \r\nL 181.451604 209.961267 \r\nL 181.573399 210.013585 \r\nL 181.695193 208.841318 \r\nL 181.938781 211.445952 \r\nL 182.182369 208.418549 \r\nL 182.304164 210.043952 \r\nL 182.425958 209.28527 \r\nL 182.547752 209.302351 \r\nL 182.79134 209.957242 \r\nL 182.913135 209.320507 \r\nL 183.034929 207.838183 \r\nL 183.278517 209.429004 \r\nL 183.400311 209.573158 \r\nL 183.522105 210.57965 \r\nL 184.009282 208.702448 \r\nL 184.131076 212.314667 \r\nL 184.25287 208.094418 \r\nL 184.496459 211.251828 \r\nL 184.740047 208.359867 \r\nL 184.861841 208.29197 \r\nL 184.983635 210.824026 \r\nL 185.10543 208.88169 \r\nL 185.349018 209.730055 \r\nL 185.470812 208.586071 \r\nL 185.7144 209.693734 \r\nL 185.836195 208.190803 \r\nL 185.957989 208.986675 \r\nL 186.079783 211.298162 \r\nL 186.201577 209.252256 \r\nL 186.323371 210.035728 \r\nL 186.56696 208.746582 \r\nL 186.810548 211.578401 \r\nL 186.932342 210.561398 \r\nL 187.175931 211.247941 \r\nL 187.297725 211.101164 \r\nL 187.541313 208.822206 \r\nL 187.663107 209.387277 \r\nL 187.784901 211.38213 \r\nL 187.906696 209.115442 \r\nL 188.02849 209.377662 \r\nL 188.150284 211.52682 \r\nL 188.515666 209.038403 \r\nL 188.637461 210.624443 \r\nL 188.881049 209.923864 \r\nL 189.002843 210.932336 \r\nL 189.124637 209.260661 \r\nL 189.246431 209.348001 \r\nL 189.368226 209.218646 \r\nL 189.49002 209.420624 \r\nL 189.611814 208.93477 \r\nL 189.733608 210.423779 \r\nL 189.855402 210.265673 \r\nL 189.977197 210.363879 \r\nL 190.098991 212.478933 \r\nL 190.220785 210.388013 \r\nL 190.342579 212.197449 \r\nL 190.586167 209.078621 \r\nL 190.707962 208.812821 \r\nL 190.829756 211.110169 \r\nL 190.95155 210.056033 \r\nL 191.073344 210.154589 \r\nL 191.195138 209.020623 \r\nL 191.316932 209.035351 \r\nL 191.438727 209.503365 \r\nL 191.560521 208.840238 \r\nL 191.804109 211.654254 \r\nL 191.925903 210.739019 \r\nL 192.169492 208.312295 \r\nL 192.291286 210.713018 \r\nL 192.534874 209.178789 \r\nL 192.656668 209.476489 \r\nL 192.778462 210.62304 \r\nL 192.900257 210.148909 \r\nL 193.022051 209.089029 \r\nL 193.265639 211.131776 \r\nL 193.387433 209.247654 \r\nL 193.631022 210.87996 \r\nL 193.752816 208.626679 \r\nL 193.87461 209.444787 \r\nL 193.996404 209.308375 \r\nL 194.239993 209.999584 \r\nL 194.361787 210.492237 \r\nL 194.483581 212.068662 \r\nL 194.727169 208.633615 \r\nL 194.848963 210.301097 \r\nL 194.970758 208.741013 \r\nL 195.214346 210.421111 \r\nL 195.457934 209.453845 \r\nL 195.579728 209.0789 \r\nL 195.945111 210.428747 \r\nL 196.066905 209.081484 \r\nL 196.188699 209.640672 \r\nL 196.310493 209.192055 \r\nL 196.432288 209.571254 \r\nL 196.554082 207.692239 \r\nL 196.675876 210.624872 \r\nL 196.919464 209.05781 \r\nL 197.041258 208.468835 \r\nL 197.163053 210.090206 \r\nL 197.284847 208.465892 \r\nL 197.528435 211.030323 \r\nL 197.772024 208.446365 \r\nL 198.015612 210.627698 \r\nL 198.137406 208.691655 \r\nL 198.2592 209.421236 \r\nL 198.380994 211.033341 \r\nL 198.624583 208.920043 \r\nL 198.868171 210.148549 \r\nL 198.989965 208.964419 \r\nL 199.111759 211.158482 \r\nL 199.355348 209.908636 \r\nL 199.477142 210.292851 \r\nL 199.598936 208.993929 \r\nL 199.842524 211.476486 \r\nL 199.964319 210.59949 \r\nL 200.207907 211.164909 \r\nL 200.329701 211.024426 \r\nL 200.451495 208.027797 \r\nL 200.816878 211.330568 \r\nL 201.060466 209.640022 \r\nL 201.18226 211.494141 \r\nL 201.425849 210.8444 \r\nL 201.547643 209.024607 \r\nL 201.669437 210.38909 \r\nL 201.791231 210.303424 \r\nL 201.913025 209.869724 \r\nL 202.03482 210.943717 \r\nL 202.156614 210.444728 \r\nL 202.278408 210.642702 \r\nL 202.400202 209.248909 \r\nL 202.521996 209.677093 \r\nL 202.64379 210.974936 \r\nL 202.765585 210.946037 \r\nL 203.130967 209.43346 \r\nL 203.252761 209.745123 \r\nL 203.374555 211.371567 \r\nL 203.739938 208.90233 \r\nL 203.861732 211.203575 \r\nL 204.10532 210.188034 \r\nL 204.227115 210.205242 \r\nL 204.348909 211.524096 \r\nL 204.592497 208.957021 \r\nL 204.714291 212.104853 \r\nL 204.836086 209.824739 \r\nL 204.95788 211.874907 \r\nL 205.201468 209.009785 \r\nL 205.323262 210.853179 \r\nL 205.566851 209.326743 \r\nL 205.810439 210.778786 \r\nL 205.932233 210.399433 \r\nL 206.054027 208.674598 \r\nL 206.297616 211.303107 \r\nL 206.41941 208.658329 \r\nL 206.541204 209.629072 \r\nL 206.662998 209.143417 \r\nL 206.784792 209.798461 \r\nL 206.906586 208.03893 \r\nL 207.028381 209.707958 \r\nL 207.150175 208.159944 \r\nL 207.393763 210.698635 \r\nL 207.515557 212.278956 \r\nL 207.759146 209.776887 \r\nL 207.88094 210.257987 \r\nL 208.002734 208.966893 \r\nL 208.246322 210.654783 \r\nL 208.611705 208.832447 \r\nL 208.855293 210.332825 \r\nL 208.977087 210.684973 \r\nL 209.098882 212.047518 \r\nL 209.220676 209.903592 \r\nL 209.464264 209.840868 \r\nL 209.586058 208.382018 \r\nL 209.707852 210.898775 \r\nL 209.951441 208.980276 \r\nL 210.073235 209.189193 \r\nL 210.195029 207.841007 \r\nL 210.316823 213.274384 \r\nL 210.560412 209.741278 \r\nL 210.682206 210.480837 \r\nL 210.804 208.996291 \r\nL 211.047588 212.264107 \r\nL 211.169382 208.906516 \r\nL 211.291177 209.676123 \r\nL 211.412971 211.286765 \r\nL 211.656559 209.074955 \r\nL 211.900148 210.652286 \r\nL 212.143736 209.327364 \r\nL 212.26553 212.717316 \r\nL 212.387324 209.637801 \r\nL 212.509118 210.533111 \r\nL 212.630913 209.430887 \r\nL 212.752707 209.434887 \r\nL 212.996295 210.833898 \r\nL 213.118089 210.763392 \r\nL 213.361678 211.254446 \r\nL 213.483472 209.162237 \r\nL 213.72706 211.764629 \r\nL 213.848854 210.742332 \r\nL 213.970648 211.075678 \r\nL 214.214237 209.014072 \r\nL 214.336031 211.381683 \r\nL 214.579619 210.601393 \r\nL 214.701413 209.784472 \r\nL 214.823208 209.863728 \r\nL 214.945002 210.077583 \r\nL 215.066796 208.654783 \r\nL 215.18859 210.844868 \r\nL 215.310384 210.827302 \r\nL 215.432178 209.357135 \r\nL 215.553973 209.846188 \r\nL 215.675767 211.136278 \r\nL 215.797561 211.100083 \r\nL 215.919355 210.265969 \r\nL 216.041149 211.47314 \r\nL 216.162944 210.712321 \r\nL 216.284738 210.733343 \r\nL 216.528326 211.83489 \r\nL 216.771914 207.625204 \r\nL 216.893709 210.841646 \r\nL 217.259091 210.277214 \r\nL 217.380885 211.58923 \r\nL 217.624474 208.718203 \r\nL 217.746268 212.149468 \r\nL 217.868062 209.862515 \r\nL 217.989856 211.905844 \r\nL 218.11165 209.706947 \r\nL 218.233444 209.760625 \r\nL 218.355239 210.414167 \r\nL 218.598827 209.321108 \r\nL 218.720621 210.537563 \r\nL 218.842415 210.189038 \r\nL 218.964209 210.375653 \r\nL 219.086004 208.320932 \r\nL 219.207798 208.352102 \r\nL 219.329592 210.624465 \r\nL 219.451386 208.607192 \r\nL 219.816769 209.726806 \r\nL 219.938563 207.960435 \r\nL 220.060357 209.622624 \r\nL 220.182151 208.003835 \r\nL 220.303945 209.620574 \r\nL 220.42574 209.296312 \r\nL 220.547534 210.688786 \r\nL 220.912916 209.03431 \r\nL 221.278299 210.460922 \r\nL 221.400093 208.665952 \r\nL 221.521887 208.557001 \r\nL 221.765475 208.811147 \r\nL 221.88727 210.709473 \r\nL 222.009064 207.349817 \r\nL 222.130858 211.899081 \r\nL 222.252652 209.016818 \r\nL 222.49624 210.092273 \r\nL 222.739829 208.996567 \r\nL 222.861623 210.455842 \r\nL 222.983417 208.970102 \r\nL 223.105211 211.02101 \r\nL 223.227006 209.900777 \r\nL 223.3488 213.117565 \r\nL 223.592388 208.611469 \r\nL 223.714182 210.321503 \r\nL 223.835976 209.437269 \r\nL 224.079565 212.329291 \r\nL 224.323153 209.176065 \r\nL 224.444947 210.640649 \r\nL 224.688536 209.558421 \r\nL 224.81033 210.448038 \r\nL 224.932124 210.484572 \r\nL 225.175712 209.682889 \r\nL 225.297506 212.547086 \r\nL 225.419301 209.404361 \r\nL 225.541095 211.524686 \r\nL 225.662889 209.258143 \r\nL 225.784683 209.500373 \r\nL 225.906477 209.45067 \r\nL 226.028271 208.454527 \r\nL 226.150066 210.201093 \r\nL 226.515448 208.983626 \r\nL 226.759037 211.584342 \r\nL 226.880831 210.561206 \r\nL 227.002625 211.927827 \r\nL 227.246213 208.840507 \r\nL 227.489802 210.751095 \r\nL 227.611596 210.722365 \r\nL 227.855184 210.028802 \r\nL 227.976978 211.270189 \r\nL 228.098772 210.523862 \r\nL 228.220567 210.734054 \r\nL 228.342361 208.694471 \r\nL 228.464155 209.757078 \r\nL 228.585949 209.762151 \r\nL 228.951332 211.474958 \r\nL 229.073126 211.447505 \r\nL 229.19492 210.698854 \r\nL 229.316714 210.732045 \r\nL 229.560302 211.857928 \r\nL 229.682097 209.747236 \r\nL 229.803891 211.632811 \r\nL 230.047479 209.840056 \r\nL 230.169273 210.577655 \r\nL 230.412862 209.167905 \r\nL 230.534656 210.458605 \r\nL 230.900038 208.681809 \r\nL 231.021833 210.719283 \r\nL 231.143627 209.273622 \r\nL 231.265421 209.954021 \r\nL 231.387215 209.714977 \r\nL 231.509009 209.835633 \r\nL 231.630803 210.802814 \r\nL 231.752598 209.759099 \r\nL 231.874392 211.811943 \r\nL 231.996186 209.490657 \r\nL 232.11798 211.286901 \r\nL 232.239774 209.982432 \r\nL 232.361568 211.655506 \r\nL 232.483363 209.211821 \r\nL 232.605157 209.821245 \r\nL 232.726951 209.129752 \r\nL 232.848745 202.370644 \r\nL 232.970539 184.097849 \r\nL 233.092333 46.095058 \r\nL 233.214128 46.406917 \r\nL 233.457716 199.757217 \r\nL 233.701304 210.41941 \r\nL 233.823099 210.493689 \r\nL 233.944893 209.128734 \r\nL 234.310275 210.820249 \r\nL 234.432069 209.018874 \r\nL 234.553864 210.086314 \r\nL 234.675658 209.187531 \r\nL 234.797452 209.375501 \r\nL 234.919246 211.036777 \r\nL 235.04104 209.105882 \r\nL 235.162834 210.597919 \r\nL 235.284629 209.653689 \r\nL 235.406423 210.465788 \r\nL 235.528217 212.166105 \r\nL 235.771805 209.111497 \r\nL 235.893599 210.754907 \r\nL 236.015394 210.654946 \r\nL 236.137188 211.284268 \r\nL 236.258982 210.15763 \r\nL 236.624364 211.727962 \r\nL 236.746159 208.965007 \r\nL 236.867953 212.269237 \r\nL 236.989747 211.751919 \r\nL 237.111541 212.541313 \r\nL 237.233335 210.236624 \r\nL 237.476924 210.833456 \r\nL 237.598718 208.964858 \r\nL 237.842306 210.621632 \r\nL 237.9641 208.546938 \r\nL 238.085895 209.869694 \r\nL 238.207689 209.837269 \r\nL 238.329483 210.520291 \r\nL 238.451277 209.490951 \r\nL 238.573071 211.659852 \r\nL 238.694865 211.110941 \r\nL 238.938454 209.411309 \r\nL 239.060248 210.257195 \r\nL 239.182042 209.858219 \r\nL 239.303836 209.872673 \r\nL 239.547425 208.086065 \r\nL 239.791013 211.643824 \r\nL 239.912807 210.133052 \r\nL 240.034601 212.024453 \r\nL 240.27819 209.41629 \r\nL 240.399984 209.970902 \r\nL 240.521778 209.816823 \r\nL 240.643572 210.786217 \r\nL 240.88716 210.078201 \r\nL 241.008955 211.312362 \r\nL 241.130749 210.927533 \r\nL 241.252543 211.209169 \r\nL 241.374337 208.940105 \r\nL 241.496131 209.770345 \r\nL 241.617926 209.768192 \r\nL 241.73972 208.720364 \r\nL 241.861514 211.402607 \r\nL 241.983308 211.45932 \r\nL 242.105102 209.68201 \r\nL 242.226896 210.145799 \r\nL 242.348691 209.314234 \r\nL 242.592279 211.517339 \r\nL 242.714073 209.091862 \r\nL 242.835867 211.566587 \r\nL 242.957661 211.141618 \r\nL 243.079456 209.146462 \r\nL 243.323044 212.112957 \r\nL 243.444838 209.06555 \r\nL 243.566632 208.940489 \r\nL 243.932015 210.621406 \r\nL 244.053809 209.618882 \r\nL 244.175603 210.522472 \r\nL 244.297397 209.752448 \r\nL 244.419191 209.825728 \r\nL 244.540986 208.644799 \r\nL 244.784574 211.270364 \r\nL 244.906368 211.62287 \r\nL 245.028162 210.920802 \r\nL 245.149957 211.083375 \r\nL 245.271751 210.373069 \r\nL 245.393545 211.43589 \r\nL 245.515339 209.696989 \r\nL 245.637133 209.580629 \r\nL 245.758927 207.503705 \r\nL 246.002516 209.909179 \r\nL 246.12431 210.886406 \r\nL 246.246104 207.960757 \r\nL 246.489692 211.56281 \r\nL 246.611487 207.018343 \r\nL 246.733281 208.643988 \r\nL 246.855075 207.504348 \r\nL 246.976869 207.603664 \r\nL 247.220457 210.567946 \r\nL 247.464046 208.998816 \r\nL 247.707634 209.955794 \r\nL 247.951222 209.523717 \r\nL 248.073017 209.680135 \r\nL 248.194811 210.353298 \r\nL 248.316605 209.411688 \r\nL 248.438399 210.226408 \r\nL 248.560193 211.929346 \r\nL 248.803782 208.152942 \r\nL 248.925576 210.526011 \r\nL 249.04737 210.6179 \r\nL 249.290958 209.094112 \r\nL 249.534547 210.836401 \r\nL 249.656341 211.514791 \r\nL 249.778135 209.406828 \r\nL 249.899929 212.061308 \r\nL 250.265312 209.519772 \r\nL 250.387106 210.505416 \r\nL 250.630694 208.772655 \r\nL 250.752488 211.156955 \r\nL 250.874283 210.292456 \r\nL 250.996077 208.362597 \r\nL 251.117871 209.126814 \r\nL 251.239665 209.025076 \r\nL 251.361459 210.343813 \r\nL 251.483253 209.281428 \r\nL 251.605048 210.845141 \r\nL 251.726842 210.954698 \r\nL 251.848636 209.70929 \r\nL 251.97043 209.804314 \r\nL 252.092224 210.123663 \r\nL 252.214019 209.732257 \r\nL 252.335813 208.816347 \r\nL 252.457607 210.358922 \r\nL 252.579401 209.057907 \r\nL 252.822989 211.259111 \r\nL 252.944784 210.02009 \r\nL 253.066578 210.10678 \r\nL 253.188372 210.541593 \r\nL 253.310166 209.308355 \r\nL 253.43196 213.213539 \r\nL 253.675549 208.191301 \r\nL 253.919137 209.855235 \r\nL 254.040931 209.001757 \r\nL 254.284519 211.114638 \r\nL 254.406314 208.847249 \r\nL 254.528108 210.425168 \r\nL 254.649902 207.754809 \r\nL 254.89349 209.393378 \r\nL 255.015284 211.591606 \r\nL 255.137079 209.599207 \r\nL 255.258873 210.064671 \r\nL 255.380667 211.456249 \r\nL 255.502461 210.266225 \r\nL 255.624255 211.441238 \r\nL 255.746049 210.429453 \r\nL 255.867844 210.38573 \r\nL 255.989638 211.070543 \r\nL 256.111432 209.034971 \r\nL 256.35502 212.046909 \r\nL 256.476815 208.623408 \r\nL 256.842197 210.122433 \r\nL 256.963991 210.563735 \r\nL 257.085785 209.678909 \r\nL 257.20758 210.468152 \r\nL 257.329374 209.699804 \r\nL 257.451168 209.77476 \r\nL 257.572962 210.687618 \r\nL 257.694756 207.95162 \r\nL 257.81655 211.217272 \r\nL 257.938345 208.655073 \r\nL 258.060139 210.865341 \r\nL 258.181933 210.822808 \r\nL 258.547315 209.6417 \r\nL 258.66911 210.863415 \r\nL 258.790904 207.873688 \r\nL 258.912698 210.513561 \r\nL 259.034492 209.862247 \r\nL 259.156286 210.841562 \r\nL 259.27808 209.206234 \r\nL 259.521669 211.524234 \r\nL 259.643463 207.93712 \r\nL 259.765257 210.074106 \r\nL 259.887051 208.349035 \r\nL 260.008846 210.398597 \r\nL 260.13064 209.920459 \r\nL 260.252434 210.541905 \r\nL 260.374228 208.942986 \r\nL 260.861405 210.278575 \r\nL 260.983199 209.51021 \r\nL 261.104993 209.668717 \r\nL 261.348581 210.469943 \r\nL 261.59217 209.582779 \r\nL 261.713964 210.457038 \r\nL 261.835758 208.658023 \r\nL 262.079346 211.008254 \r\nL 262.322935 209.103586 \r\nL 262.688317 210.789277 \r\nL 262.810111 209.424658 \r\nL 262.931906 209.534215 \r\nL 263.0537 211.424885 \r\nL 263.297288 209.545959 \r\nL 263.419082 208.233384 \r\nL 263.540877 209.290478 \r\nL 263.662671 208.687994 \r\nL 263.784465 211.205555 \r\nL 264.028053 207.782872 \r\nL 264.149847 209.937648 \r\nL 264.271642 209.506061 \r\nL 264.393436 209.770818 \r\nL 264.51523 209.396314 \r\nL 264.637024 210.49713 \r\nL 264.758818 210.492885 \r\nL 264.880612 209.843708 \r\nL 265.002407 209.945243 \r\nL 265.124201 209.663977 \r\nL 265.245995 210.759608 \r\nL 265.367789 210.285529 \r\nL 265.489583 210.525895 \r\nL 265.611377 209.23139 \r\nL 265.733172 209.225781 \r\nL 265.854966 211.445616 \r\nL 265.97676 209.84435 \r\nL 266.098554 210.306306 \r\nL 266.342142 209.074626 \r\nL 266.463937 213.432598 \r\nL 266.585731 210.989864 \r\nL 266.707525 211.459389 \r\nL 266.829319 209.821145 \r\nL 266.951113 210.533816 \r\nL 267.072908 210.441624 \r\nL 267.194702 209.750051 \r\nL 267.560084 210.702826 \r\nL 267.681878 208.951308 \r\nL 268.047261 211.895306 \r\nL 268.169055 209.800941 \r\nL 268.290849 209.874407 \r\nL 268.412643 211.779482 \r\nL 268.656232 210.611986 \r\nL 268.778026 210.772219 \r\nL 269.021614 209.023845 \r\nL 269.265203 212.850596 \r\nL 269.386997 212.163891 \r\nL 269.508791 209.841276 \r\nL 269.630585 211.256137 \r\nL 269.752379 209.478684 \r\nL 269.874173 210.438143 \r\nL 269.995968 209.874788 \r\nL 270.117762 210.055894 \r\nL 270.36135 210.826029 \r\nL 270.483144 208.703329 \r\nL 270.604939 211.093193 \r\nL 270.726733 207.919024 \r\nL 270.848527 211.37013 \r\nL 270.970321 210.147416 \r\nL 271.213909 211.92464 \r\nL 271.335704 209.0427 \r\nL 271.579292 210.745467 \r\nL 271.701086 211.213297 \r\nL 271.82288 209.342863 \r\nL 272.066469 211.701119 \r\nL 272.188263 211.282756 \r\nL 272.431851 209.241215 \r\nL 272.553645 211.711034 \r\nL 272.675439 208.565228 \r\nL 272.919028 210.904387 \r\nL 273.040822 210.734016 \r\nL 273.162616 211.89454 \r\nL 273.406204 209.274461 \r\nL 273.649793 210.023044 \r\nL 273.771587 210.093889 \r\nL 273.893381 210.604789 \r\nL 274.015175 209.361183 \r\nL 274.13697 209.279723 \r\nL 274.380558 210.790898 \r\nL 274.624146 209.901105 \r\nL 274.74594 210.774049 \r\nL 274.867735 208.973719 \r\nL 275.111323 211.32132 \r\nL 275.354911 209.250539 \r\nL 275.5985 210.935095 \r\nL 275.720294 209.82807 \r\nL 275.842088 210.081716 \r\nL 275.963882 212.659216 \r\nL 276.085676 208.015222 \r\nL 276.329265 209.919345 \r\nL 276.451059 211.059826 \r\nL 276.694647 208.781089 \r\nL 277.06003 210.858494 \r\nL 277.303618 209.833983 \r\nL 277.425412 210.075778 \r\nL 277.547206 208.432551 \r\nL 277.669 210.557228 \r\nL 277.912589 209.193431 \r\nL 278.034383 209.557231 \r\nL 278.277971 211.059684 \r\nL 278.399766 210.582124 \r\nL 278.52156 210.763259 \r\nL 278.643354 209.149739 \r\nL 278.765148 210.133035 \r\nL 278.886942 209.684233 \r\nL 279.130531 211.187603 \r\nL 279.374119 209.343376 \r\nL 279.495913 210.065859 \r\nL 279.617707 209.330185 \r\nL 279.739501 211.717697 \r\nL 279.861296 210.075972 \r\nL 279.98309 210.785162 \r\nL 280.104884 210.689489 \r\nL 280.226678 211.142004 \r\nL 280.348472 210.327339 \r\nL 280.470266 210.509899 \r\nL 280.592061 210.23703 \r\nL 280.713855 209.3843 \r\nL 280.835649 211.390073 \r\nL 281.079237 209.830884 \r\nL 281.44462 210.522517 \r\nL 281.566414 211.042901 \r\nL 281.688208 210.814602 \r\nL 281.810002 211.474413 \r\nL 281.931797 210.377556 \r\nL 282.175385 212.999151 \r\nL 282.297179 213.019616 \r\nL 282.418973 212.377257 \r\nL 282.540767 209.994082 \r\nL 282.662562 211.400836 \r\nL 282.784356 209.844587 \r\nL 282.90615 209.847318 \r\nL 283.027944 210.19066 \r\nL 283.149738 210.921791 \r\nL 283.271532 212.354894 \r\nL 283.393327 211.444745 \r\nL 283.515121 209.374073 \r\nL 283.636915 211.253179 \r\nL 283.758709 208.951159 \r\nL 283.880503 211.837554 \r\nL 284.002297 210.315138 \r\nL 284.245886 212.09752 \r\nL 284.489474 210.545175 \r\nL 284.611268 210.926083 \r\nL 284.854857 209.528636 \r\nL 285.098445 211.89205 \r\nL 285.220239 211.476266 \r\nL 285.342033 209.402522 \r\nL 285.463828 209.439883 \r\nL 285.585622 210.903638 \r\nL 285.707416 210.531434 \r\nL 285.82921 211.55151 \r\nL 285.951004 211.113369 \r\nL 286.072798 209.400048 \r\nL 286.194593 212.108679 \r\nL 286.316387 211.122126 \r\nL 286.438181 211.810314 \r\nL 286.681769 209.991877 \r\nL 286.925358 210.530066 \r\nL 287.168946 209.514493 \r\nL 287.29074 210.777671 \r\nL 287.412534 209.076972 \r\nL 287.534328 209.752067 \r\nL 287.656123 209.766581 \r\nL 288.021505 210.587629 \r\nL 288.143299 210.70226 \r\nL 288.386888 209.478921 \r\nL 288.508682 211.000411 \r\nL 288.75227 210.062496 \r\nL 288.874064 210.309908 \r\nL 288.995859 212.877571 \r\nL 289.117653 212.54212 \r\nL 289.361241 210.268514 \r\nL 289.483035 211.238835 \r\nL 289.604829 211.228806 \r\nL 289.726624 208.601131 \r\nL 290.092006 210.98832 \r\nL 290.2138 210.602287 \r\nL 290.335594 211.168665 \r\nL 290.457389 210.176094 \r\nL 290.579183 210.438664 \r\nL 290.700977 211.944973 \r\nL 290.944565 209.2544 \r\nL 291.066359 210.764126 \r\nL 291.309948 210.176233 \r\nL 291.431742 209.821474 \r\nL 291.67533 211.37037 \r\nL 291.797124 211.172541 \r\nL 291.918919 210.171491 \r\nL 292.162507 211.150207 \r\nL 292.406095 209.470408 \r\nL 292.52789 211.323291 \r\nL 292.649684 211.115254 \r\nL 292.771478 210.240389 \r\nL 292.893272 212.117003 \r\nL 293.13686 209.509389 \r\nL 293.258655 211.016078 \r\nL 293.380449 209.457384 \r\nL 293.502243 210.27774 \r\nL 293.745831 209.377239 \r\nL 293.867625 211.214963 \r\nL 293.98942 200.669365 \r\nL 294.111214 201.155201 \r\nL 294.233008 210.998305 \r\nL 294.354802 209.700016 \r\nL 294.476596 209.836646 \r\nL 294.59839 209.636494 \r\nL 294.720185 211.212191 \r\nL 294.841979 211.300652 \r\nL 294.963773 210.208585 \r\nL 295.207361 212.844388 \r\nL 295.329155 209.726382 \r\nL 295.45095 212.236702 \r\nL 295.572744 208.958679 \r\nL 295.694538 210.331984 \r\nL 295.816332 210.273077 \r\nL 295.938126 211.357331 \r\nL 296.059921 210.587521 \r\nL 296.181715 210.823859 \r\nL 296.303509 212.264065 \r\nL 296.547097 210.869052 \r\nL 296.668891 211.599592 \r\nL 296.790686 209.001566 \r\nL 296.91248 211.782245 \r\nL 297.034274 210.455983 \r\nL 297.156068 211.038759 \r\nL 297.277862 210.350352 \r\nL 297.399656 211.205196 \r\nL 297.643245 210.323781 \r\nL 297.765039 210.989377 \r\nL 297.886833 210.422014 \r\nL 298.008627 210.996673 \r\nL 298.130421 210.938177 \r\nL 298.252216 209.282384 \r\nL 298.37401 210.266211 \r\nL 298.495804 209.151369 \r\nL 298.739392 211.112766 \r\nL 298.861186 211.609861 \r\nL 298.982981 210.310807 \r\nL 299.104775 212.466076 \r\nL 299.348363 211.208892 \r\nL 299.591951 212.0457 \r\nL 299.713746 210.099954 \r\nL 299.957334 210.652351 \r\nL 300.079128 209.979373 \r\nL 300.322717 212.024128 \r\nL 300.444511 211.748075 \r\nL 300.566305 209.63845 \r\nL 300.688099 211.570917 \r\nL 300.809893 210.223766 \r\nL 300.931687 210.575017 \r\nL 301.053482 209.720733 \r\nL 301.175276 211.414918 \r\nL 301.29707 210.2371 \r\nL 301.540658 211.100832 \r\nL 301.784247 210.437881 \r\nL 301.906041 211.13064 \r\nL 302.027835 210.790085 \r\nL 302.149629 212.644259 \r\nL 302.393217 210.371341 \r\nL 302.515012 212.205388 \r\nL 302.7586 210.76053 \r\nL 302.880394 210.539859 \r\nL 303.002188 211.028913 \r\nL 303.123982 208.350305 \r\nL 303.367571 211.336349 \r\nL 303.489365 209.939969 \r\nL 303.611159 210.544927 \r\nL 303.732953 212.051579 \r\nL 303.976542 209.895728 \r\nL 304.22013 211.613578 \r\nL 304.341924 209.853662 \r\nL 304.463718 209.930143 \r\nL 304.707307 211.479726 \r\nL 304.829101 211.282241 \r\nL 304.950895 210.522556 \r\nL 305.072689 211.746594 \r\nL 305.316278 210.110055 \r\nL 305.438072 209.581826 \r\nL 305.559866 211.435053 \r\nL 305.68166 211.22736 \r\nL 305.803454 209.952335 \r\nL 305.925248 212.229796 \r\nL 306.047043 210.373328 \r\nL 306.168837 211.362785 \r\nL 306.412425 210.715269 \r\nL 306.534219 208.863919 \r\nL 306.777808 211.133122 \r\nL 306.899602 210.694079 \r\nL 307.021396 207.280779 \r\nL 307.14319 207.557539 \r\nL 307.264984 211.180344 \r\nL 307.386779 209.879958 \r\nL 307.508573 210.113242 \r\nL 307.630367 209.812245 \r\nL 307.752161 211.385846 \r\nL 307.873955 209.429271 \r\nL 307.995749 210.34866 \r\nL 308.117544 209.50265 \r\nL 308.239338 211.212962 \r\nL 308.361132 210.843885 \r\nL 308.482926 211.365993 \r\nL 308.60472 210.122929 \r\nL 308.726514 210.488875 \r\nL 308.848309 212.383495 \r\nL 309.091897 210.738126 \r\nL 309.213691 211.455451 \r\nL 309.457279 210.50876 \r\nL 309.700868 211.739719 \r\nL 309.822662 209.666346 \r\nL 309.944456 211.425187 \r\nL 310.309839 208.933948 \r\nL 310.431633 209.843428 \r\nL 310.553427 209.86531 \r\nL 310.797015 211.110644 \r\nL 310.91881 210.868646 \r\nL 311.040604 211.113749 \r\nL 311.162398 211.053158 \r\nL 311.284192 209.864488 \r\nL 311.405986 210.860072 \r\nL 311.649575 208.768927 \r\nL 311.893163 211.831007 \r\nL 312.014957 209.556221 \r\nL 312.136751 212.564291 \r\nL 312.258545 208.734176 \r\nL 312.502134 211.618128 \r\nL 312.623928 212.156507 \r\nL 312.745722 208.508527 \r\nL 312.867516 210.713994 \r\nL 312.98931 209.868368 \r\nL 313.354693 212.190656 \r\nL 313.476487 211.932867 \r\nL 313.598281 209.841506 \r\nL 313.720075 211.792238 \r\nL 313.84187 210.611064 \r\nL 313.963664 210.590802 \r\nL 314.085458 210.945436 \r\nL 314.207252 211.709297 \r\nL 314.450841 211.146039 \r\nL 314.572635 210.199952 \r\nL 314.694429 211.213624 \r\nL 314.816223 210.823581 \r\nL 314.938017 211.534605 \r\nL 315.059811 211.212315 \r\nL 315.181606 209.261088 \r\nL 315.3034 209.455805 \r\nL 315.425194 210.265575 \r\nL 315.546988 212.700675 \r\nL 315.668782 211.183829 \r\nL 315.790576 211.322384 \r\nL 315.912371 211.08994 \r\nL 316.034165 211.597259 \r\nL 316.155959 210.984684 \r\nL 316.399547 212.110548 \r\nL 316.643136 210.349014 \r\nL 316.76493 209.051211 \r\nL 316.886724 211.655445 \r\nL 317.130312 210.210204 \r\nL 317.252106 212.364567 \r\nL 317.495695 210.105842 \r\nL 317.617489 212.117796 \r\nL 317.739283 212.199183 \r\nL 317.861077 210.761316 \r\nL 317.982872 211.383133 \r\nL 318.104666 212.625435 \r\nL 318.348254 210.773405 \r\nL 318.470048 210.037498 \r\nL 318.591842 211.400313 \r\nL 318.713637 210.879872 \r\nL 318.835431 210.933382 \r\nL 318.957225 211.913113 \r\nL 319.079019 209.973573 \r\nL 319.200813 212.289689 \r\nL 319.322607 210.928859 \r\nL 319.444402 211.628099 \r\nL 319.566196 210.333895 \r\nL 319.809784 212.017437 \r\nL 319.931578 211.568888 \r\nL 320.053372 211.57979 \r\nL 320.175167 209.277032 \r\nL 320.418755 211.173307 \r\nL 320.540549 211.090977 \r\nL 320.662343 210.606324 \r\nL 320.784137 211.362948 \r\nL 320.905932 210.228037 \r\nL 321.027726 211.705438 \r\nL 321.14952 210.75876 \r\nL 321.271314 211.983212 \r\nL 321.636697 210.864663 \r\nL 321.758491 209.868876 \r\nL 321.880285 213.106218 \r\nL 322.002079 212.009979 \r\nL 322.123873 208.897152 \r\nL 322.245668 212.149657 \r\nL 322.367462 210.88568 \r\nL 322.61105 210.899166 \r\nL 322.732844 210.394469 \r\nL 322.854638 210.648258 \r\nL 322.976433 211.603793 \r\nL 323.098227 209.26087 \r\nL 323.341815 210.595966 \r\nL 323.463609 209.886012 \r\nL 323.707198 211.38303 \r\nL 323.828992 209.687632 \r\nL 323.950786 211.429778 \r\nL 324.194374 210.401244 \r\nL 324.316168 210.397104 \r\nL 324.437963 211.383182 \r\nL 324.559757 210.253149 \r\nL 324.681551 210.30599 \r\nL 324.803345 210.095432 \r\nL 324.925139 212.335344 \r\nL 325.290522 210.491875 \r\nL 325.53411 212.089852 \r\nL 325.655904 211.976848 \r\nL 325.777699 208.351294 \r\nL 326.021287 212.932412 \r\nL 326.143081 211.391972 \r\nL 326.264875 212.247348 \r\nL 326.386669 210.016209 \r\nL 326.508464 210.472341 \r\nL 326.630258 212.146491 \r\nL 326.752052 211.898676 \r\nL 326.873846 211.154485 \r\nL 326.99564 212.424801 \r\nL 327.117434 211.25602 \r\nL 327.239229 211.299555 \r\nL 327.361023 211.805308 \r\nL 327.482817 213.128 \r\nL 327.604611 210.175378 \r\nL 327.726405 212.111725 \r\nL 327.848199 210.315591 \r\nL 328.091788 210.928449 \r\nL 328.213582 209.460113 \r\nL 328.335376 213.257185 \r\nL 328.45717 210.439809 \r\nL 328.578964 211.795878 \r\nL 328.700759 211.333273 \r\nL 328.822553 211.459432 \r\nL 328.944347 209.508317 \r\nL 329.431524 212.18562 \r\nL 329.553318 210.81178 \r\nL 329.796906 212.498677 \r\nL 329.9187 211.680935 \r\nL 330.040495 211.860856 \r\nL 330.284083 209.970254 \r\nL 330.405877 210.290418 \r\nL 330.527671 210.069354 \r\nL 330.77126 212.146003 \r\nL 331.014848 211.060293 \r\nL 331.136642 209.346832 \r\nL 331.258436 212.079465 \r\nL 331.38023 210.685239 \r\nL 331.502025 211.484805 \r\nL 331.623819 210.157426 \r\nL 331.745613 210.815452 \r\nL 331.867407 213.081831 \r\nL 331.989201 210.797825 \r\nL 332.110995 211.890018 \r\nL 332.23279 209.529061 \r\nL 332.476378 211.290872 \r\nL 332.598172 210.34576 \r\nL 332.841761 211.92035 \r\nL 332.963555 211.40181 \r\nL 333.085349 211.635246 \r\nL 333.207143 211.541984 \r\nL 333.328937 212.186583 \r\nL 333.450731 211.261456 \r\nL 333.572526 211.190025 \r\nL 333.69432 212.183558 \r\nL 333.937908 210.219106 \r\nL 334.059702 211.848077 \r\nL 334.303291 210.773759 \r\nL 334.425085 210.771034 \r\nL 334.546879 209.719617 \r\nL 334.668673 211.84393 \r\nL 334.912261 210.124576 \r\nL 335.034056 212.239801 \r\nL 335.15585 210.868565 \r\nL 335.277644 211.552499 \r\nL 335.521232 210.78216 \r\nL 335.886615 212.243236 \r\nL 336.008409 211.832596 \r\nL 336.130203 210.151244 \r\nL 336.251997 210.386598 \r\nL 336.495586 212.670848 \r\nL 336.61738 211.651633 \r\nL 336.739174 211.763613 \r\nL 336.860968 211.617601 \r\nL 336.982762 210.542871 \r\nL 337.104557 210.949778 \r\nL 337.348145 210.685017 \r\nL 337.469939 210.836096 \r\nL 337.591733 210.681953 \r\nL 337.713527 211.617337 \r\nL 337.835322 211.600719 \r\nL 337.957116 210.498578 \r\nL 338.07891 212.04218 \r\nL 338.322498 210.931371 \r\nL 338.566087 212.062352 \r\nL 338.687881 212.277265 \r\nL 338.809675 209.744547 \r\nL 339.053263 213.3826 \r\nL 339.175057 210.769594 \r\nL 339.296852 212.7011 \r\nL 339.418646 209.241698 \r\nL 339.662234 212.605588 \r\nL 339.784028 212.787521 \r\nL 339.905822 211.617146 \r\nL 340.027617 212.889244 \r\nL 340.149411 211.135605 \r\nL 340.271205 211.779986 \r\nL 340.392999 211.122767 \r\nL 340.514793 213.59957 \r\nL 340.636588 210.002385 \r\nL 340.758382 212.58686 \r\nL 340.880176 210.51635 \r\nL 341.00197 213.894591 \r\nL 341.245558 210.123337 \r\nL 341.367353 213.741229 \r\nL 341.489147 210.073558 \r\nL 341.732735 211.718551 \r\nL 341.854529 211.608411 \r\nL 341.976323 211.923709 \r\nL 342.098118 210.149825 \r\nL 342.219912 212.050471 \r\nL 342.4635 211.236011 \r\nL 342.585294 211.313644 \r\nL 342.828883 213.003451 \r\nL 342.950677 212.127931 \r\nL 343.072471 212.36658 \r\nL 343.316059 210.476928 \r\nL 343.437853 212.792846 \r\nL 343.559648 210.556278 \r\nL 343.681442 211.75655 \r\nL 343.803236 210.553054 \r\nL 343.92503 211.991602 \r\nL 344.046824 211.766998 \r\nL 344.168619 209.894233 \r\nL 344.290413 212.560249 \r\nL 344.412207 210.266193 \r\nL 344.534001 211.955741 \r\nL 344.777589 210.485225 \r\nL 344.899384 213.537997 \r\nL 345.021178 211.249069 \r\nL 345.142972 212.336338 \r\nL 345.264766 210.070453 \r\nL 345.38656 212.357904 \r\nL 345.508354 210.528273 \r\nL 345.630149 211.093916 \r\nL 345.751943 212.312329 \r\nL 345.873737 211.488432 \r\nL 345.995531 211.813667 \r\nL 346.117325 210.121231 \r\nL 346.360914 212.58367 \r\nL 346.482708 210.922938 \r\nL 346.604502 210.824298 \r\nL 346.726296 212.565876 \r\nL 346.84809 211.143103 \r\nL 346.969884 212.3562 \r\nL 347.213473 210.618226 \r\nL 347.457061 212.190771 \r\nL 347.578855 212.106892 \r\nL 347.70065 212.186861 \r\nL 347.822444 212.740955 \r\nL 347.944238 214.756364 \r\nL 348.187826 211.191803 \r\nL 348.30962 210.757067 \r\nL 348.431415 211.243108 \r\nL 348.553209 210.453186 \r\nL 348.796797 211.838564 \r\nL 348.918591 212.54123 \r\nL 349.040385 212.227515 \r\nL 349.16218 213.637448 \r\nL 349.283974 209.71252 \r\nL 349.527562 212.987188 \r\nL 349.649356 211.971641 \r\nL 349.77115 212.169199 \r\nL 349.892945 211.950371 \r\nL 350.014739 210.028659 \r\nL 350.136533 212.889563 \r\nL 350.380121 211.046929 \r\nL 350.501915 211.205293 \r\nL 350.62371 212.017885 \r\nL 350.989092 211.965213 \r\nL 351.110886 212.754715 \r\nL 351.354475 210.965191 \r\nL 351.476269 213.519603 \r\nL 351.598063 212.368319 \r\nL 351.719857 212.719315 \r\nL 351.963446 210.828606 \r\nL 352.08524 212.322213 \r\nL 352.207034 211.240785 \r\nL 352.328828 212.6563 \r\nL 352.450622 210.90697 \r\nL 352.572416 211.713697 \r\nL 352.694211 214.354721 \r\nL 352.937799 211.371436 \r\nL 353.059593 212.248726 \r\nL 353.181387 211.2191 \r\nL 353.303181 212.316745 \r\nL 353.424976 211.077772 \r\nL 353.54677 213.100642 \r\nL 353.790358 210.966718 \r\nL 354.033946 214.475061 \r\nL 354.155741 212.527026 \r\nL 354.277535 213.654538 \r\nL 354.521123 210.768461 \r\nL 354.764712 212.895475 \r\nL 354.886506 212.417534 \r\nL 354.886506 212.417534 \r\n\" style=\"fill:none;stroke:#1f77b4;stroke-linecap:square;stroke-width:1.5;\"/>\r\n   </g>\r\n   <g id=\"patch_3\">\r\n    <path d=\"M 35.304688 224.64 \r\nL 35.304688 7.2 \r\n\" style=\"fill:none;stroke:#000000;stroke-linecap:square;stroke-linejoin:miter;stroke-width:0.8;\"/>\r\n   </g>\r\n   <g id=\"patch_4\">\r\n    <path d=\"M 370.104688 224.64 \r\nL 370.104688 7.2 \r\n\" style=\"fill:none;stroke:#000000;stroke-linecap:square;stroke-linejoin:miter;stroke-width:0.8;\"/>\r\n   </g>\r\n   <g id=\"patch_5\">\r\n    <path d=\"M 35.304688 224.64 \r\nL 370.104687 224.64 \r\n\" style=\"fill:none;stroke:#000000;stroke-linecap:square;stroke-linejoin:miter;stroke-width:0.8;\"/>\r\n   </g>\r\n   <g id=\"patch_6\">\r\n    <path d=\"M 35.304688 7.2 \r\nL 370.104687 7.2 \r\n\" style=\"fill:none;stroke:#000000;stroke-linecap:square;stroke-linejoin:miter;stroke-width:0.8;\"/>\r\n   </g>\r\n  </g>\r\n </g>\r\n <defs>\r\n  <clipPath id=\"pc9f3049688\">\r\n   <rect height=\"217.44\" width=\"334.8\" x=\"35.304688\" y=\"7.2\"/>\r\n  </clipPath>\r\n </defs>\r\n</svg>\r\n",
      "image/png": "[encoded data removed]"
     },
     "metadata": {
      "needs_background": "light"
     }
    }
   ],
   "source": [
    "Imin, Qmin = mixerTuner.step2CarrierLeakage(centers=[0, 0], spans=[0.2, 0.2], numIters=4, numGrids=[11, 11], shrink=0.5)\n",
    "mixerTuner.step1CoarseSweep(I=Imin, Q=Qmin, gain=0, phase=0)"
   ]
  },
  {
   "cell_type": "code",
   "execution_count": 12,
   "metadata": {},
   "outputs": [
    {
     "output_type": "stream",
     "name": "stdout",
     "text": [
      "step3IqImbalance\n",
      "@SA124B.initSweep: resolution= 250000.0\n",
      "iter, centers, spans: 0 [0, 0] [0.2 0.2]\n"
     ]
    },
    {
     "output_type": "display_data",
     "data": {
      "application/vnd.plotly.v1+json": {
       "config": {
        "plotlyServerURL": "https://plot.ly"
       },
       "data": [
        {
         "type": "surface",
         "x": [
          -0.1,
          -0.08,
          -0.060000000000000005,
          -0.04000000000000001,
          -0.020000000000000004,
          0,
          0.01999999999999999,
          0.04000000000000001,
          0.06,
          0.07999999999999999,
          0.1
         ],
         "y": [
          -0.1,
          -0.08,
          -0.060000000000000005,
          -0.04000000000000001,
          -0.020000000000000004,
          0,
          0.01999999999999999,
          0.04000000000000001,
          0.06,
          0.07999999999999999,
          0.1
         ],
         "z": [
          [
           -19.447212798869533,
           -19.843842672774862,
           -20.241713744671454,
           -20.65192970489632,
           -21.049952923721012,
           -21.46603392579686,
           -21.882878999516446,
           -22.32399880590086,
           -22.772582190044357,
           -23.24326171723619,
           -23.72354205485676
          ],
          [
           -19.53319933858654,
           -19.9402825958377,
           -20.340831089110207,
           -20.757010650129462,
           -21.151684130342407,
           -21.576318618177066,
           -22.01134859616388,
           -22.447393195168335,
           -22.90235795195117,
           -23.39247736672213,
           -23.890116981954545
          ],
          [
           -19.620540854280918,
           -20.004646754360202,
           -20.430727487786616,
           -20.833835896025224,
           -21.246574676169868,
           -21.67223980038901,
           -22.117267291466487,
           -22.573020051002768,
           -23.04259840726959,
           -23.50492623517879,
           -24.02336428757501
          ],
          [
           -19.665918704756848,
           -20.062916687658927,
           -20.472129270487514,
           -20.878075241823186,
           -21.315860182056298,
           -21.72761725294499,
           -22.18233308751879,
           -22.62717068244051,
           -23.097396074642976,
           -23.60363227328713,
           -24.109551093379356
          ],
          [
           -19.67289427992279,
           -20.092209105485605,
           -20.506288916808998,
           -20.91257030413784,
           -21.338882722445927,
           -21.770439087641602,
           -22.209774613936194,
           -22.66028169366221,
           -23.15176223898015,
           -23.630879157364053,
           -24.161551121141134
          ],
          [
           -19.68661894986696,
           -20.088072999949286,
           -20.511478231253218,
           -20.92335928414925,
           -21.35552025228233,
           -21.77646066935873,
           -22.210182297074535,
           -22.68190629860337,
           -23.148184091346554,
           -23.637250051802713,
           -24.162774478445694
          ],
          [
           -19.673391000811055,
           -20.093957991338986,
           -20.491916581328663,
           -20.897310667271274,
           -21.321268661613562,
           -21.760814551718415,
           -22.196240074957284,
           -22.63363395817792,
           -23.111868769332627,
           -23.60930694174623,
           -24.118851582023023
          ],
          [
           -19.63770122756435,
           -20.04432612230295,
           -20.445930171512032,
           -20.857212178314967,
           -21.272183398123904,
           -21.707597693856062,
           -22.14648384070689,
           -22.589898133248578,
           -23.05762806005985,
           -23.54498768949607,
           -24.033234612193592
          ],
          [
           -19.58914199675173,
           -19.97871069515963,
           -20.382904548623245,
           -20.78922237267179,
           -21.210517024946853,
           -21.62317931369569,
           -22.063250342685958,
           -22.49089911020047,
           -22.946136379014543,
           -23.438310079867062,
           -23.925422786763338
          ],
          [
           -19.499583348893495,
           -19.893504162118024,
           -20.301586027673924,
           -20.700056099274192,
           -21.107067423855636,
           -21.515665919874973,
           -21.940099129072156,
           -22.37712632997373,
           -22.82598584380634,
           -23.28340671964426,
           -23.774616738727428
          ],
          [
           -19.39419090327639,
           -19.78071871100286,
           -20.18073429306912,
           -20.57440691341667,
           -20.983589909261624,
           -21.381889514268455,
           -21.803869729584537,
           -22.227016292317128,
           -22.6668383031023,
           -23.11693318192194,
           -23.58179960878856
          ]
         ]
        }
       ],
       "layout": {
        "template": {
         "data": {
          "bar": [
           {
            "error_x": {
             "color": "#2a3f5f"
            },
            "error_y": {
             "color": "#2a3f5f"
            },
            "marker": {
             "line": {
              "color": "#E5ECF6",
              "width": 0.5
             }
            },
            "type": "bar"
           }
          ],
          "barpolar": [
           {
            "marker": {
             "line": {
              "color": "#E5ECF6",
              "width": 0.5
             }
            },
            "type": "barpolar"
           }
          ],
          "carpet": [
           {
            "aaxis": {
             "endlinecolor": "#2a3f5f",
             "gridcolor": "white",
             "linecolor": "white",
             "minorgridcolor": "white",
             "startlinecolor": "#2a3f5f"
            },
            "baxis": {
             "endlinecolor": "#2a3f5f",
             "gridcolor": "white",
             "linecolor": "white",
             "minorgridcolor": "white",
             "startlinecolor": "#2a3f5f"
            },
            "type": "carpet"
           }
          ],
          "choropleth": [
           {
            "colorbar": {
             "outlinewidth": 0,
             "ticks": ""
            },
            "type": "choropleth"
           }
          ],
          "contour": [
           {
            "colorbar": {
             "outlinewidth": 0,
             "ticks": ""
            },
            "colorscale": [
             [
              0,
              "#0d0887"
             ],
             [
              0.1111111111111111,
              "#46039f"
             ],
             [
              0.2222222222222222,
              "#7201a8"
             ],
             [
              0.3333333333333333,
              "#9c179e"
             ],
             [
              0.4444444444444444,
              "#bd3786"
             ],
             [
              0.5555555555555556,
              "#d8576b"
             ],
             [
              0.6666666666666666,
              "#ed7953"
             ],
             [
              0.7777777777777778,
              "#fb9f3a"
             ],
             [
              0.8888888888888888,
              "#fdca26"
             ],
             [
              1,
              "#f0f921"
             ]
            ],
            "type": "contour"
           }
          ],
          "contourcarpet": [
           {
            "colorbar": {
             "outlinewidth": 0,
             "ticks": ""
            },
            "type": "contourcarpet"
           }
          ],
          "heatmap": [
           {
            "colorbar": {
             "outlinewidth": 0,
             "ticks": ""
            },
            "colorscale": [
             [
              0,
              "#0d0887"
             ],
             [
              0.1111111111111111,
              "#46039f"
             ],
             [
              0.2222222222222222,
              "#7201a8"
             ],
             [
              0.3333333333333333,
              "#9c179e"
             ],
             [
              0.4444444444444444,
              "#bd3786"
             ],
             [
              0.5555555555555556,
              "#d8576b"
             ],
             [
              0.6666666666666666,
              "#ed7953"
             ],
             [
              0.7777777777777778,
              "#fb9f3a"
             ],
             [
              0.8888888888888888,
              "#fdca26"
             ],
             [
              1,
              "#f0f921"
             ]
            ],
            "type": "heatmap"
           }
          ],
          "heatmapgl": [
           {
            "colorbar": {
             "outlinewidth": 0,
             "ticks": ""
            },
            "colorscale": [
             [
              0,
              "#0d0887"
             ],
             [
              0.1111111111111111,
              "#46039f"
             ],
             [
              0.2222222222222222,
              "#7201a8"
             ],
             [
              0.3333333333333333,
              "#9c179e"
             ],
             [
              0.4444444444444444,
              "#bd3786"
             ],
             [
              0.5555555555555556,
              "#d8576b"
             ],
             [
              0.6666666666666666,
              "#ed7953"
             ],
             [
              0.7777777777777778,
              "#fb9f3a"
             ],
             [
              0.8888888888888888,
              "#fdca26"
             ],
             [
              1,
              "#f0f921"
             ]
            ],
            "type": "heatmapgl"
           }
          ],
          "histogram": [
           {
            "marker": {
             "colorbar": {
              "outlinewidth": 0,
              "ticks": ""
             }
            },
            "type": "histogram"
           }
          ],
          "histogram2d": [
           {
            "colorbar": {
             "outlinewidth": 0,
             "ticks": ""
            },
            "colorscale": [
             [
              0,
              "#0d0887"
             ],
             [
              0.1111111111111111,
              "#46039f"
             ],
             [
              0.2222222222222222,
              "#7201a8"
             ],
             [
              0.3333333333333333,
              "#9c179e"
             ],
             [
              0.4444444444444444,
              "#bd3786"
             ],
             [
              0.5555555555555556,
              "#d8576b"
             ],
             [
              0.6666666666666666,
              "#ed7953"
             ],
             [
              0.7777777777777778,
              "#fb9f3a"
             ],
             [
              0.8888888888888888,
              "#fdca26"
             ],
             [
              1,
              "#f0f921"
             ]
            ],
            "type": "histogram2d"
           }
          ],
          "histogram2dcontour": [
           {
            "colorbar": {
             "outlinewidth": 0,
             "ticks": ""
            },
            "colorscale": [
             [
              0,
              "#0d0887"
             ],
             [
              0.1111111111111111,
              "#46039f"
             ],
             [
              0.2222222222222222,
              "#7201a8"
             ],
             [
              0.3333333333333333,
              "#9c179e"
             ],
             [
              0.4444444444444444,
              "#bd3786"
             ],
             [
              0.5555555555555556,
              "#d8576b"
             ],
             [
              0.6666666666666666,
              "#ed7953"
             ],
             [
              0.7777777777777778,
              "#fb9f3a"
             ],
             [
              0.8888888888888888,
              "#fdca26"
             ],
             [
              1,
              "#f0f921"
             ]
            ],
            "type": "histogram2dcontour"
           }
          ],
          "mesh3d": [
           {
            "colorbar": {
             "outlinewidth": 0,
             "ticks": ""
            },
            "type": "mesh3d"
           }
          ],
          "parcoords": [
           {
            "line": {
             "colorbar": {
              "outlinewidth": 0,
              "ticks": ""
             }
            },
            "type": "parcoords"
           }
          ],
          "pie": [
           {
            "automargin": true,
            "type": "pie"
           }
          ],
          "scatter": [
           {
            "marker": {
             "colorbar": {
              "outlinewidth": 0,
              "ticks": ""
             }
            },
            "type": "scatter"
           }
          ],
          "scatter3d": [
           {
            "line": {
             "colorbar": {
              "outlinewidth": 0,
              "ticks": ""
             }
            },
            "marker": {
             "colorbar": {
              "outlinewidth": 0,
              "ticks": ""
             }
            },
            "type": "scatter3d"
           }
          ],
          "scattercarpet": [
           {
            "marker": {
             "colorbar": {
              "outlinewidth": 0,
              "ticks": ""
             }
            },
            "type": "scattercarpet"
           }
          ],
          "scattergeo": [
           {
            "marker": {
             "colorbar": {
              "outlinewidth": 0,
              "ticks": ""
             }
            },
            "type": "scattergeo"
           }
          ],
          "scattergl": [
           {
            "marker": {
             "colorbar": {
              "outlinewidth": 0,
              "ticks": ""
             }
            },
            "type": "scattergl"
           }
          ],
          "scattermapbox": [
           {
            "marker": {
             "colorbar": {
              "outlinewidth": 0,
              "ticks": ""
             }
            },
            "type": "scattermapbox"
           }
          ],
          "scatterpolar": [
           {
            "marker": {
             "colorbar": {
              "outlinewidth": 0,
              "ticks": ""
             }
            },
            "type": "scatterpolar"
           }
          ],
          "scatterpolargl": [
           {
            "marker": {
             "colorbar": {
              "outlinewidth": 0,
              "ticks": ""
             }
            },
            "type": "scatterpolargl"
           }
          ],
          "scatterternary": [
           {
            "marker": {
             "colorbar": {
              "outlinewidth": 0,
              "ticks": ""
             }
            },
            "type": "scatterternary"
           }
          ],
          "surface": [
           {
            "colorbar": {
             "outlinewidth": 0,
             "ticks": ""
            },
            "colorscale": [
             [
              0,
              "#0d0887"
             ],
             [
              0.1111111111111111,
              "#46039f"
             ],
             [
              0.2222222222222222,
              "#7201a8"
             ],
             [
              0.3333333333333333,
              "#9c179e"
             ],
             [
              0.4444444444444444,
              "#bd3786"
             ],
             [
              0.5555555555555556,
              "#d8576b"
             ],
             [
              0.6666666666666666,
              "#ed7953"
             ],
             [
              0.7777777777777778,
              "#fb9f3a"
             ],
             [
              0.8888888888888888,
              "#fdca26"
             ],
             [
              1,
              "#f0f921"
             ]
            ],
            "type": "surface"
           }
          ],
          "table": [
           {
            "cells": {
             "fill": {
              "color": "#EBF0F8"
             },
             "line": {
              "color": "white"
             }
            },
            "header": {
             "fill": {
              "color": "#C8D4E3"
             },
             "line": {
              "color": "white"
             }
            },
            "type": "table"
           }
          ]
         },
         "layout": {
          "annotationdefaults": {
           "arrowcolor": "#2a3f5f",
           "arrowhead": 0,
           "arrowwidth": 1
          },
          "autotypenumbers": "strict",
          "coloraxis": {
           "colorbar": {
            "outlinewidth": 0,
            "ticks": ""
           }
          },
          "colorscale": {
           "diverging": [
            [
             0,
             "#8e0152"
            ],
            [
             0.1,
             "#c51b7d"
            ],
            [
             0.2,
             "#de77ae"
            ],
            [
             0.3,
             "#f1b6da"
            ],
            [
             0.4,
             "#fde0ef"
            ],
            [
             0.5,
             "#f7f7f7"
            ],
            [
             0.6,
             "#e6f5d0"
            ],
            [
             0.7,
             "#b8e186"
            ],
            [
             0.8,
             "#7fbc41"
            ],
            [
             0.9,
             "#4d9221"
            ],
            [
             1,
             "#276419"
            ]
           ],
           "sequential": [
            [
             0,
             "#0d0887"
            ],
            [
             0.1111111111111111,
             "#46039f"
            ],
            [
             0.2222222222222222,
             "#7201a8"
            ],
            [
             0.3333333333333333,
             "#9c179e"
            ],
            [
             0.4444444444444444,
             "#bd3786"
            ],
            [
             0.5555555555555556,
             "#d8576b"
            ],
            [
             0.6666666666666666,
             "#ed7953"
            ],
            [
             0.7777777777777778,
             "#fb9f3a"
            ],
            [
             0.8888888888888888,
             "#fdca26"
            ],
            [
             1,
             "#f0f921"
            ]
           ],
           "sequentialminus": [
            [
             0,
             "#0d0887"
            ],
            [
             0.1111111111111111,
             "#46039f"
            ],
            [
             0.2222222222222222,
             "#7201a8"
            ],
            [
             0.3333333333333333,
             "#9c179e"
            ],
            [
             0.4444444444444444,
             "#bd3786"
            ],
            [
             0.5555555555555556,
             "#d8576b"
            ],
            [
             0.6666666666666666,
             "#ed7953"
            ],
            [
             0.7777777777777778,
             "#fb9f3a"
            ],
            [
             0.8888888888888888,
             "#fdca26"
            ],
            [
             1,
             "#f0f921"
            ]
           ]
          },
          "colorway": [
           "#636efa",
           "#EF553B",
           "#00cc96",
           "#ab63fa",
           "#FFA15A",
           "#19d3f3",
           "#FF6692",
           "#B6E880",
           "#FF97FF",
           "#FECB52"
          ],
          "font": {
           "color": "#2a3f5f"
          },
          "geo": {
           "bgcolor": "white",
           "lakecolor": "white",
           "landcolor": "#E5ECF6",
           "showlakes": true,
           "showland": true,
           "subunitcolor": "white"
          },
          "hoverlabel": {
           "align": "left"
          },
          "hovermode": "closest",
          "mapbox": {
           "style": "light"
          },
          "paper_bgcolor": "white",
          "plot_bgcolor": "#E5ECF6",
          "polar": {
           "angularaxis": {
            "gridcolor": "white",
            "linecolor": "white",
            "ticks": ""
           },
           "bgcolor": "#E5ECF6",
           "radialaxis": {
            "gridcolor": "white",
            "linecolor": "white",
            "ticks": ""
           }
          },
          "scene": {
           "xaxis": {
            "backgroundcolor": "#E5ECF6",
            "gridcolor": "white",
            "gridwidth": 2,
            "linecolor": "white",
            "showbackground": true,
            "ticks": "",
            "zerolinecolor": "white"
           },
           "yaxis": {
            "backgroundcolor": "#E5ECF6",
            "gridcolor": "white",
            "gridwidth": 2,
            "linecolor": "white",
            "showbackground": true,
            "ticks": "",
            "zerolinecolor": "white"
           },
           "zaxis": {
            "backgroundcolor": "#E5ECF6",
            "gridcolor": "white",
            "gridwidth": 2,
            "linecolor": "white",
            "showbackground": true,
            "ticks": "",
            "zerolinecolor": "white"
           }
          },
          "shapedefaults": {
           "line": {
            "color": "#2a3f5f"
           }
          },
          "ternary": {
           "aaxis": {
            "gridcolor": "white",
            "linecolor": "white",
            "ticks": ""
           },
           "baxis": {
            "gridcolor": "white",
            "linecolor": "white",
            "ticks": ""
           },
           "bgcolor": "#E5ECF6",
           "caxis": {
            "gridcolor": "white",
            "linecolor": "white",
            "ticks": ""
           }
          },
          "title": {
           "x": 0.05
          },
          "xaxis": {
           "automargin": true,
           "gridcolor": "white",
           "linecolor": "white",
           "ticks": "",
           "title": {
            "standoff": 15
           },
           "zerolinecolor": "white",
           "zerolinewidth": 2
          },
          "yaxis": {
           "automargin": true,
           "gridcolor": "white",
           "linecolor": "white",
           "ticks": "",
           "title": {
            "standoff": 15
           },
           "zerolinecolor": "white",
           "zerolinewidth": 2
          }
         }
        }
       }
      }
     },
     "metadata": {}
    },
    {
     "output_type": "stream",
     "name": "stdout",
     "text": [
      "iter, centers, spans: 1 (0.0, 0.1) [0.18 0.18]\n"
     ]
    },
    {
     "output_type": "display_data",
     "data": {
      "application/vnd.plotly.v1+json": {
       "config": {
        "plotlyServerURL": "https://plot.ly"
       },
       "data": [
        {
         "type": "surface",
         "x": [
          -0.09000000000000001,
          -0.07200000000000001,
          -0.054000000000000006,
          -0.036000000000000004,
          -0.018000000000000002,
          0,
          0.018000000000000002,
          0.03599999999999999,
          0.054000000000000006,
          0.07200000000000002,
          0.09000000000000001
         ],
         "y": [
          0.009999999999999995,
          0.027999999999999994,
          0.04599999999999999,
          0.06399999999999999,
          0.08199999999999999,
          0.09999999999999999,
          0.11799999999999998,
          0.136,
          0.15399999999999997,
          0.172,
          0.19
         ],
         "z": [
          [
           -21.750808836471524,
           -22.132581316449293,
           -22.52584835391553,
           -22.94294890851739,
           -23.369361739578547,
           -23.80558388407213,
           -24.280387017977713,
           -24.77254978238786,
           -25.277166255848808,
           -25.81850062248331,
           -26.395386541673442
          ],
          [
           -21.834783019186656,
           -22.234383968728668,
           -22.63773253910524,
           -23.052201070691563,
           -23.49221277781891,
           -23.935140885271775,
           -24.42630317962445,
           -24.93037531540958,
           -25.43903746846276,
           -26.02384999420902,
           -26.63563199340577
          ],
          [
           -21.91501017232986,
           -22.318355767566718,
           -22.725326071581346,
           -23.153583392357643,
           -23.597992568592634,
           -24.050871762469402,
           -24.535196650051194,
           -25.041109782023764,
           -25.595322750531178,
           -26.176639972334126,
           -26.797899238522742
          ],
          [
           -21.964543117768553,
           -22.379218066452008,
           -22.779191273001555,
           -23.211204921828557,
           -23.645400054844348,
           -24.114671223413755,
           -24.605933141404076,
           -25.132479304131973,
           -25.694891802900383,
           -26.280679021718445,
           -26.937051349582735
          ],
          [
           -21.99593195777582,
           -22.39109590761446,
           -22.817466546517434,
           -23.242398062313708,
           -23.692640267961256,
           -24.16776866320758,
           -24.63933076415447,
           -25.183836577485327,
           -25.726490396281815,
           -26.333935038167407,
           -27.00984151947875
          ],
          [
           -21.98957258364501,
           -22.39426038334683,
           -22.80723364992171,
           -23.238883307916442,
           -23.700832734580604,
           -24.162225520635662,
           -24.668769024079143,
           -25.179273032509297,
           -25.733138770984528,
           -26.347347147771256,
           -26.996510439067873
          ],
          [
           -21.983729501048646,
           -22.375582125150675,
           -22.793156607865082,
           -23.225454808127655,
           -23.656985231671978,
           -24.142541455091493,
           -24.6240223023692,
           -25.13936976754019,
           -25.706506785652774,
           -26.289666557119997,
           -26.94379684237683
          ],
          [
           -21.93793151784841,
           -22.32392565799373,
           -22.747584256926334,
           -23.16717403157838,
           -23.596986218451466,
           -24.07270140776856,
           -24.5446490207386,
           -25.07159273817221,
           -25.607048801114832,
           -26.19783212323004,
           -26.834472017207563
          ],
          [
           -21.86398534225439,
           -22.26058358304387,
           -22.664366314573495,
           -23.082989196284526,
           -23.513532243556323,
           -23.97282609901391,
           -24.450018845888092,
           -24.943611028820623,
           -25.48970067024479,
           -26.041658980175857,
           -26.64746090089277
          ],
          [
           -21.77911202839824,
           -22.174890946541257,
           -22.568149785474002,
           -22.971631659970814,
           -23.404920602984586,
           -23.841777936622602,
           -24.29570597306071,
           -24.80201947647131,
           -25.29826042015188,
           -25.846102075537384,
           -26.444703801021685
          ],
          [
           -21.659517188295535,
           -22.047392893866093,
           -22.440726487675985,
           -22.841411728246374,
           -23.258856367140684,
           -23.676938966126766,
           -24.128029548495487,
           -24.612710190177825,
           -25.09948404218949,
           -25.620515042710284,
           -26.17405706500387
          ]
         ]
        }
       ],
       "layout": {
        "template": {
         "data": {
          "bar": [
           {
            "error_x": {
             "color": "#2a3f5f"
            },
            "error_y": {
             "color": "#2a3f5f"
            },
            "marker": {
             "line": {
              "color": "#E5ECF6",
              "width": 0.5
             }
            },
            "type": "bar"
           }
          ],
          "barpolar": [
           {
            "marker": {
             "line": {
              "color": "#E5ECF6",
              "width": 0.5
             }
            },
            "type": "barpolar"
           }
          ],
          "carpet": [
           {
            "aaxis": {
             "endlinecolor": "#2a3f5f",
             "gridcolor": "white",
             "linecolor": "white",
             "minorgridcolor": "white",
             "startlinecolor": "#2a3f5f"
            },
            "baxis": {
             "endlinecolor": "#2a3f5f",
             "gridcolor": "white",
             "linecolor": "white",
             "minorgridcolor": "white",
             "startlinecolor": "#2a3f5f"
            },
            "type": "carpet"
           }
          ],
          "choropleth": [
           {
            "colorbar": {
             "outlinewidth": 0,
             "ticks": ""
            },
            "type": "choropleth"
           }
          ],
          "contour": [
           {
            "colorbar": {
             "outlinewidth": 0,
             "ticks": ""
            },
            "colorscale": [
             [
              0,
              "#0d0887"
             ],
             [
              0.1111111111111111,
              "#46039f"
             ],
             [
              0.2222222222222222,
              "#7201a8"
             ],
             [
              0.3333333333333333,
              "#9c179e"
             ],
             [
              0.4444444444444444,
              "#bd3786"
             ],
             [
              0.5555555555555556,
              "#d8576b"
             ],
             [
              0.6666666666666666,
              "#ed7953"
             ],
             [
              0.7777777777777778,
              "#fb9f3a"
             ],
             [
              0.8888888888888888,
              "#fdca26"
             ],
             [
              1,
              "#f0f921"
             ]
            ],
            "type": "contour"
           }
          ],
          "contourcarpet": [
           {
            "colorbar": {
             "outlinewidth": 0,
             "ticks": ""
            },
            "type": "contourcarpet"
           }
          ],
          "heatmap": [
           {
            "colorbar": {
             "outlinewidth": 0,
             "ticks": ""
            },
            "colorscale": [
             [
              0,
              "#0d0887"
             ],
             [
              0.1111111111111111,
              "#46039f"
             ],
             [
              0.2222222222222222,
              "#7201a8"
             ],
             [
              0.3333333333333333,
              "#9c179e"
             ],
             [
              0.4444444444444444,
              "#bd3786"
             ],
             [
              0.5555555555555556,
              "#d8576b"
             ],
             [
              0.6666666666666666,
              "#ed7953"
             ],
             [
              0.7777777777777778,
              "#fb9f3a"
             ],
             [
              0.8888888888888888,
              "#fdca26"
             ],
             [
              1,
              "#f0f921"
             ]
            ],
            "type": "heatmap"
           }
          ],
          "heatmapgl": [
           {
            "colorbar": {
             "outlinewidth": 0,
             "ticks": ""
            },
            "colorscale": [
             [
              0,
              "#0d0887"
             ],
             [
              0.1111111111111111,
              "#46039f"
             ],
             [
              0.2222222222222222,
              "#7201a8"
             ],
             [
              0.3333333333333333,
              "#9c179e"
             ],
             [
              0.4444444444444444,
              "#bd3786"
             ],
             [
              0.5555555555555556,
              "#d8576b"
             ],
             [
              0.6666666666666666,
              "#ed7953"
             ],
             [
              0.7777777777777778,
              "#fb9f3a"
             ],
             [
              0.8888888888888888,
              "#fdca26"
             ],
             [
              1,
              "#f0f921"
             ]
            ],
            "type": "heatmapgl"
           }
          ],
          "histogram": [
           {
            "marker": {
             "colorbar": {
              "outlinewidth": 0,
              "ticks": ""
             }
            },
            "type": "histogram"
           }
          ],
          "histogram2d": [
           {
            "colorbar": {
             "outlinewidth": 0,
             "ticks": ""
            },
            "colorscale": [
             [
              0,
              "#0d0887"
             ],
             [
              0.1111111111111111,
              "#46039f"
             ],
             [
              0.2222222222222222,
              "#7201a8"
             ],
             [
              0.3333333333333333,
              "#9c179e"
             ],
             [
              0.4444444444444444,
              "#bd3786"
             ],
             [
              0.5555555555555556,
              "#d8576b"
             ],
             [
              0.6666666666666666,
              "#ed7953"
             ],
             [
              0.7777777777777778,
              "#fb9f3a"
             ],
             [
              0.8888888888888888,
              "#fdca26"
             ],
             [
              1,
              "#f0f921"
             ]
            ],
            "type": "histogram2d"
           }
          ],
          "histogram2dcontour": [
           {
            "colorbar": {
             "outlinewidth": 0,
             "ticks": ""
            },
            "colorscale": [
             [
              0,
              "#0d0887"
             ],
             [
              0.1111111111111111,
              "#46039f"
             ],
             [
              0.2222222222222222,
              "#7201a8"
             ],
             [
              0.3333333333333333,
              "#9c179e"
             ],
             [
              0.4444444444444444,
              "#bd3786"
             ],
             [
              0.5555555555555556,
              "#d8576b"
             ],
             [
              0.6666666666666666,
              "#ed7953"
             ],
             [
              0.7777777777777778,
              "#fb9f3a"
             ],
             [
              0.8888888888888888,
              "#fdca26"
             ],
             [
              1,
              "#f0f921"
             ]
            ],
            "type": "histogram2dcontour"
           }
          ],
          "mesh3d": [
           {
            "colorbar": {
             "outlinewidth": 0,
             "ticks": ""
            },
            "type": "mesh3d"
           }
          ],
          "parcoords": [
           {
            "line": {
             "colorbar": {
              "outlinewidth": 0,
              "ticks": ""
             }
            },
            "type": "parcoords"
           }
          ],
          "pie": [
           {
            "automargin": true,
            "type": "pie"
           }
          ],
          "scatter": [
           {
            "marker": {
             "colorbar": {
              "outlinewidth": 0,
              "ticks": ""
             }
            },
            "type": "scatter"
           }
          ],
          "scatter3d": [
           {
            "line": {
             "colorbar": {
              "outlinewidth": 0,
              "ticks": ""
             }
            },
            "marker": {
             "colorbar": {
              "outlinewidth": 0,
              "ticks": ""
             }
            },
            "type": "scatter3d"
           }
          ],
          "scattercarpet": [
           {
            "marker": {
             "colorbar": {
              "outlinewidth": 0,
              "ticks": ""
             }
            },
            "type": "scattercarpet"
           }
          ],
          "scattergeo": [
           {
            "marker": {
             "colorbar": {
              "outlinewidth": 0,
              "ticks": ""
             }
            },
            "type": "scattergeo"
           }
          ],
          "scattergl": [
           {
            "marker": {
             "colorbar": {
              "outlinewidth": 0,
              "ticks": ""
             }
            },
            "type": "scattergl"
           }
          ],
          "scattermapbox": [
           {
            "marker": {
             "colorbar": {
              "outlinewidth": 0,
              "ticks": ""
             }
            },
            "type": "scattermapbox"
           }
          ],
          "scatterpolar": [
           {
            "marker": {
             "colorbar": {
              "outlinewidth": 0,
              "ticks": ""
             }
            },
            "type": "scatterpolar"
           }
          ],
          "scatterpolargl": [
           {
            "marker": {
             "colorbar": {
              "outlinewidth": 0,
              "ticks": ""
             }
            },
            "type": "scatterpolargl"
           }
          ],
          "scatterternary": [
           {
            "marker": {
             "colorbar": {
              "outlinewidth": 0,
              "ticks": ""
             }
            },
            "type": "scatterternary"
           }
          ],
          "surface": [
           {
            "colorbar": {
             "outlinewidth": 0,
             "ticks": ""
            },
            "colorscale": [
             [
              0,
              "#0d0887"
             ],
             [
              0.1111111111111111,
              "#46039f"
             ],
             [
              0.2222222222222222,
              "#7201a8"
             ],
             [
              0.3333333333333333,
              "#9c179e"
             ],
             [
              0.4444444444444444,
              "#bd3786"
             ],
             [
              0.5555555555555556,
              "#d8576b"
             ],
             [
              0.6666666666666666,
              "#ed7953"
             ],
             [
              0.7777777777777778,
              "#fb9f3a"
             ],
             [
              0.8888888888888888,
              "#fdca26"
             ],
             [
              1,
              "#f0f921"
             ]
            ],
            "type": "surface"
           }
          ],
          "table": [
           {
            "cells": {
             "fill": {
              "color": "#EBF0F8"
             },
             "line": {
              "color": "white"
             }
            },
            "header": {
             "fill": {
              "color": "#C8D4E3"
             },
             "line": {
              "color": "white"
             }
            },
            "type": "table"
           }
          ]
         },
         "layout": {
          "annotationdefaults": {
           "arrowcolor": "#2a3f5f",
           "arrowhead": 0,
           "arrowwidth": 1
          },
          "autotypenumbers": "strict",
          "coloraxis": {
           "colorbar": {
            "outlinewidth": 0,
            "ticks": ""
           }
          },
          "colorscale": {
           "diverging": [
            [
             0,
             "#8e0152"
            ],
            [
             0.1,
             "#c51b7d"
            ],
            [
             0.2,
             "#de77ae"
            ],
            [
             0.3,
             "#f1b6da"
            ],
            [
             0.4,
             "#fde0ef"
            ],
            [
             0.5,
             "#f7f7f7"
            ],
            [
             0.6,
             "#e6f5d0"
            ],
            [
             0.7,
             "#b8e186"
            ],
            [
             0.8,
             "#7fbc41"
            ],
            [
             0.9,
             "#4d9221"
            ],
            [
             1,
             "#276419"
            ]
           ],
           "sequential": [
            [
             0,
             "#0d0887"
            ],
            [
             0.1111111111111111,
             "#46039f"
            ],
            [
             0.2222222222222222,
             "#7201a8"
            ],
            [
             0.3333333333333333,
             "#9c179e"
            ],
            [
             0.4444444444444444,
             "#bd3786"
            ],
            [
             0.5555555555555556,
             "#d8576b"
            ],
            [
             0.6666666666666666,
             "#ed7953"
            ],
            [
             0.7777777777777778,
             "#fb9f3a"
            ],
            [
             0.8888888888888888,
             "#fdca26"
            ],
            [
             1,
             "#f0f921"
            ]
           ],
           "sequentialminus": [
            [
             0,
             "#0d0887"
            ],
            [
             0.1111111111111111,
             "#46039f"
            ],
            [
             0.2222222222222222,
             "#7201a8"
            ],
            [
             0.3333333333333333,
             "#9c179e"
            ],
            [
             0.4444444444444444,
             "#bd3786"
            ],
            [
             0.5555555555555556,
             "#d8576b"
            ],
            [
             0.6666666666666666,
             "#ed7953"
            ],
            [
             0.7777777777777778,
             "#fb9f3a"
            ],
            [
             0.8888888888888888,
             "#fdca26"
            ],
            [
             1,
             "#f0f921"
            ]
           ]
          },
          "colorway": [
           "#636efa",
           "#EF553B",
           "#00cc96",
           "#ab63fa",
           "#FFA15A",
           "#19d3f3",
           "#FF6692",
           "#B6E880",
           "#FF97FF",
           "#FECB52"
          ],
          "font": {
           "color": "#2a3f5f"
          },
          "geo": {
           "bgcolor": "white",
           "lakecolor": "white",
           "landcolor": "#E5ECF6",
           "showlakes": true,
           "showland": true,
           "subunitcolor": "white"
          },
          "hoverlabel": {
           "align": "left"
          },
          "hovermode": "closest",
          "mapbox": {
           "style": "light"
          },
          "paper_bgcolor": "white",
          "plot_bgcolor": "#E5ECF6",
          "polar": {
           "angularaxis": {
            "gridcolor": "white",
            "linecolor": "white",
            "ticks": ""
           },
           "bgcolor": "#E5ECF6",
           "radialaxis": {
            "gridcolor": "white",
            "linecolor": "white",
            "ticks": ""
           }
          },
          "scene": {
           "xaxis": {
            "backgroundcolor": "#E5ECF6",
            "gridcolor": "white",
            "gridwidth": 2,
            "linecolor": "white",
            "showbackground": true,
            "ticks": "",
            "zerolinecolor": "white"
           },
           "yaxis": {
            "backgroundcolor": "#E5ECF6",
            "gridcolor": "white",
            "gridwidth": 2,
            "linecolor": "white",
            "showbackground": true,
            "ticks": "",
            "zerolinecolor": "white"
           },
           "zaxis": {
            "backgroundcolor": "#E5ECF6",
            "gridcolor": "white",
            "gridwidth": 2,
            "linecolor": "white",
            "showbackground": true,
            "ticks": "",
            "zerolinecolor": "white"
           }
          },
          "shapedefaults": {
           "line": {
            "color": "#2a3f5f"
           }
          },
          "ternary": {
           "aaxis": {
            "gridcolor": "white",
            "linecolor": "white",
            "ticks": ""
           },
           "baxis": {
            "gridcolor": "white",
            "linecolor": "white",
            "ticks": ""
           },
           "bgcolor": "#E5ECF6",
           "caxis": {
            "gridcolor": "white",
            "linecolor": "white",
            "ticks": ""
           }
          },
          "title": {
           "x": 0.05
          },
          "xaxis": {
           "automargin": true,
           "gridcolor": "white",
           "linecolor": "white",
           "ticks": "",
           "title": {
            "standoff": 15
           },
           "zerolinecolor": "white",
           "zerolinewidth": 2
          },
          "yaxis": {
           "automargin": true,
           "gridcolor": "white",
           "linecolor": "white",
           "ticks": "",
           "title": {
            "standoff": 15
           },
           "zerolinecolor": "white",
           "zerolinewidth": 2
          }
         }
        }
       }
      }
     },
     "metadata": {}
    },
    {
     "output_type": "stream",
     "name": "stdout",
     "text": [
      "iter, centers, spans: 2 (-0.018000000000000002, 0.19) [0.1458 0.1458]\n"
     ]
    },
    {
     "output_type": "display_data",
     "data": {
      "application/vnd.plotly.v1+json": {
       "config": {
        "plotlyServerURL": "https://plot.ly"
       },
       "data": [
        {
         "type": "surface",
         "x": [
          -0.09090000000000001,
          -0.07632000000000001,
          -0.06174,
          -0.04716000000000001,
          -0.032580000000000005,
          -0.018000000000000002,
          -0.0034200000000000064,
          0.011160000000000003,
          0.02574,
          0.040319999999999995,
          0.054900000000000004
         ],
         "y": [
          0.1171,
          0.13168,
          0.14626,
          0.16084,
          0.17542000000000002,
          0.19,
          0.20458000000000004,
          0.21916000000000002,
          0.23374000000000003,
          0.24832000000000004,
          0.2629
         ],
         "z": [
          [
           -24.23969995292197,
           -24.64334218088528,
           -25.037509414388392,
           -25.481404859551493,
           -25.92227945221634,
           -26.38239642764786,
           -26.916925230327426,
           -27.452543660746418,
           -28.026436563527394,
           -29.712511172220157,
           -28.011104057360082
          ],
          [
           -24.361397734782972,
           -24.759844544388667,
           -25.186946628504327,
           -25.628754703243292,
           -26.078135584384885,
           -26.593960111630533,
           -27.11053441345184,
           -27.681612831202887,
           -28.310042506809072,
           -28.957239673345693,
           -30.22859909654731
          ],
          [
           -24.462948189825052,
           -24.877183678306498,
           -25.290279460112725,
           -25.75785160167126,
           -26.212228081031714,
           -26.74486804977975,
           -27.291232842856484,
           -27.894742853556647,
           -28.544260622189487,
           -29.22969816044063,
           -29.994298269758513
          ],
          [
           -24.54816750354775,
           -24.960301346987865,
           -25.40267654117628,
           -25.843348100786987,
           -26.33678201169455,
           -26.866288251579814,
           -27.432132183042267,
           -28.03429863836836,
           -28.718701722931993,
           -29.418685261940315,
           -30.258141695365875
          ],
          [
           -24.607757702134418,
           -25.013651849420565,
           -25.460063100488366,
           -25.93469742511888,
           -26.42355971586443,
           -26.950940990427487,
           -27.52659127970848,
           -28.17318380692272,
           -28.812841234829772,
           -29.577403734130588,
           -30.4599386213412
          ],
          [
           -24.61883070231681,
           -25.050443600336603,
           -25.487446683025272,
           -25.955111693105092,
           -26.476500284281837,
           -26.97957509647969,
           -27.56558370361058,
           -28.214044432081042,
           -28.886467713294937,
           -29.67945273087901,
           -30.53701874770218
          ],
          [
           -24.624330596415202,
           -25.0665908152311,
           -25.495253023128146,
           -25.95035143051464,
           -26.464973454185408,
           -27.00135670803552,
           -27.59702013781546,
           -28.214622745119332,
           -28.92097266161461,
           -29.680107039453542,
           -30.546265605193778
          ],
          [
           -24.608023819029125,
           -25.032396194769685,
           -25.473889956836448,
           -25.952671757093444,
           -26.441359661971294,
           -26.96821321273585,
           -27.546371565679646,
           -28.173950964786666,
           -28.84469338650319,
           -29.62300298151602,
           -30.468108069890757
          ],
          [
           -24.581600457441592,
           -24.982067465704166,
           -25.420927517816278,
           -25.889831401219215,
           -26.365171774019952,
           -26.902820484504108,
           -27.453496824889623,
           -28.08859905531291,
           -28.75566463494506,
           -29.4846900415624,
           -30.314518705545648
          ],
          [
           -24.506690458278715,
           -24.91891663495156,
           -25.346709296397012,
           -25.79992161392168,
           -26.28395633651827,
           -26.784013426753308,
           -27.34533881906974,
           -27.952044570157764,
           -28.584737018321714,
           -29.295931014152057,
           -30.07500649465224
          ],
          [
           -24.40981901060356,
           -24.821458151295328,
           -25.227598590657603,
           -25.679803632374398,
           -26.14879994393669,
           -26.62564365980617,
           -27.20144825534872,
           -27.746455804234056,
           -28.355644068063388,
           -29.050004511201575,
           -29.776267070313285
          ]
         ]
        }
       ],
       "layout": {
        "template": {
         "data": {
          "bar": [
           {
            "error_x": {
             "color": "#2a3f5f"
            },
            "error_y": {
             "color": "#2a3f5f"
            },
            "marker": {
             "line": {
              "color": "#E5ECF6",
              "width": 0.5
             }
            },
            "type": "bar"
           }
          ],
          "barpolar": [
           {
            "marker": {
             "line": {
              "color": "#E5ECF6",
              "width": 0.5
             }
            },
            "type": "barpolar"
           }
          ],
          "carpet": [
           {
            "aaxis": {
             "endlinecolor": "#2a3f5f",
             "gridcolor": "white",
             "linecolor": "white",
             "minorgridcolor": "white",
             "startlinecolor": "#2a3f5f"
            },
            "baxis": {
             "endlinecolor": "#2a3f5f",
             "gridcolor": "white",
             "linecolor": "white",
             "minorgridcolor": "white",
             "startlinecolor": "#2a3f5f"
            },
            "type": "carpet"
           }
          ],
          "choropleth": [
           {
            "colorbar": {
             "outlinewidth": 0,
             "ticks": ""
            },
            "type": "choropleth"
           }
          ],
          "contour": [
           {
            "colorbar": {
             "outlinewidth": 0,
             "ticks": ""
            },
            "colorscale": [
             [
              0,
              "#0d0887"
             ],
             [
              0.1111111111111111,
              "#46039f"
             ],
             [
              0.2222222222222222,
              "#7201a8"
             ],
             [
              0.3333333333333333,
              "#9c179e"
             ],
             [
              0.4444444444444444,
              "#bd3786"
             ],
             [
              0.5555555555555556,
              "#d8576b"
             ],
             [
              0.6666666666666666,
              "#ed7953"
             ],
             [
              0.7777777777777778,
              "#fb9f3a"
             ],
             [
              0.8888888888888888,
              "#fdca26"
             ],
             [
              1,
              "#f0f921"
             ]
            ],
            "type": "contour"
           }
          ],
          "contourcarpet": [
           {
            "colorbar": {
             "outlinewidth": 0,
             "ticks": ""
            },
            "type": "contourcarpet"
           }
          ],
          "heatmap": [
           {
            "colorbar": {
             "outlinewidth": 0,
             "ticks": ""
            },
            "colorscale": [
             [
              0,
              "#0d0887"
             ],
             [
              0.1111111111111111,
              "#46039f"
             ],
             [
              0.2222222222222222,
              "#7201a8"
             ],
             [
              0.3333333333333333,
              "#9c179e"
             ],
             [
              0.4444444444444444,
              "#bd3786"
             ],
             [
              0.5555555555555556,
              "#d8576b"
             ],
             [
              0.6666666666666666,
              "#ed7953"
             ],
             [
              0.7777777777777778,
              "#fb9f3a"
             ],
             [
              0.8888888888888888,
              "#fdca26"
             ],
             [
              1,
              "#f0f921"
             ]
            ],
            "type": "heatmap"
           }
          ],
          "heatmapgl": [
           {
            "colorbar": {
             "outlinewidth": 0,
             "ticks": ""
            },
            "colorscale": [
             [
              0,
              "#0d0887"
             ],
             [
              0.1111111111111111,
              "#46039f"
             ],
             [
              0.2222222222222222,
              "#7201a8"
             ],
             [
              0.3333333333333333,
              "#9c179e"
             ],
             [
              0.4444444444444444,
              "#bd3786"
             ],
             [
              0.5555555555555556,
              "#d8576b"
             ],
             [
              0.6666666666666666,
              "#ed7953"
             ],
             [
              0.7777777777777778,
              "#fb9f3a"
             ],
             [
              0.8888888888888888,
              "#fdca26"
             ],
             [
              1,
              "#f0f921"
             ]
            ],
            "type": "heatmapgl"
           }
          ],
          "histogram": [
           {
            "marker": {
             "colorbar": {
              "outlinewidth": 0,
              "ticks": ""
             }
            },
            "type": "histogram"
           }
          ],
          "histogram2d": [
           {
            "colorbar": {
             "outlinewidth": 0,
             "ticks": ""
            },
            "colorscale": [
             [
              0,
              "#0d0887"
             ],
             [
              0.1111111111111111,
              "#46039f"
             ],
             [
              0.2222222222222222,
              "#7201a8"
             ],
             [
              0.3333333333333333,
              "#9c179e"
             ],
             [
              0.4444444444444444,
              "#bd3786"
             ],
             [
              0.5555555555555556,
              "#d8576b"
             ],
             [
              0.6666666666666666,
              "#ed7953"
             ],
             [
              0.7777777777777778,
              "#fb9f3a"
             ],
             [
              0.8888888888888888,
              "#fdca26"
             ],
             [
              1,
              "#f0f921"
             ]
            ],
            "type": "histogram2d"
           }
          ],
          "histogram2dcontour": [
           {
            "colorbar": {
             "outlinewidth": 0,
             "ticks": ""
            },
            "colorscale": [
             [
              0,
              "#0d0887"
             ],
             [
              0.1111111111111111,
              "#46039f"
             ],
             [
              0.2222222222222222,
              "#7201a8"
             ],
             [
              0.3333333333333333,
              "#9c179e"
             ],
             [
              0.4444444444444444,
              "#bd3786"
             ],
             [
              0.5555555555555556,
              "#d8576b"
             ],
             [
              0.6666666666666666,
              "#ed7953"
             ],
             [
              0.7777777777777778,
              "#fb9f3a"
             ],
             [
              0.8888888888888888,
              "#fdca26"
             ],
             [
              1,
              "#f0f921"
             ]
            ],
            "type": "histogram2dcontour"
           }
          ],
          "mesh3d": [
           {
            "colorbar": {
             "outlinewidth": 0,
             "ticks": ""
            },
            "type": "mesh3d"
           }
          ],
          "parcoords": [
           {
            "line": {
             "colorbar": {
              "outlinewidth": 0,
              "ticks": ""
             }
            },
            "type": "parcoords"
           }
          ],
          "pie": [
           {
            "automargin": true,
            "type": "pie"
           }
          ],
          "scatter": [
           {
            "marker": {
             "colorbar": {
              "outlinewidth": 0,
              "ticks": ""
             }
            },
            "type": "scatter"
           }
          ],
          "scatter3d": [
           {
            "line": {
             "colorbar": {
              "outlinewidth": 0,
              "ticks": ""
             }
            },
            "marker": {
             "colorbar": {
              "outlinewidth": 0,
              "ticks": ""
             }
            },
            "type": "scatter3d"
           }
          ],
          "scattercarpet": [
           {
            "marker": {
             "colorbar": {
              "outlinewidth": 0,
              "ticks": ""
             }
            },
            "type": "scattercarpet"
           }
          ],
          "scattergeo": [
           {
            "marker": {
             "colorbar": {
              "outlinewidth": 0,
              "ticks": ""
             }
            },
            "type": "scattergeo"
           }
          ],
          "scattergl": [
           {
            "marker": {
             "colorbar": {
              "outlinewidth": 0,
              "ticks": ""
             }
            },
            "type": "scattergl"
           }
          ],
          "scattermapbox": [
           {
            "marker": {
             "colorbar": {
              "outlinewidth": 0,
              "ticks": ""
             }
            },
            "type": "scattermapbox"
           }
          ],
          "scatterpolar": [
           {
            "marker": {
             "colorbar": {
              "outlinewidth": 0,
              "ticks": ""
             }
            },
            "type": "scatterpolar"
           }
          ],
          "scatterpolargl": [
           {
            "marker": {
             "colorbar": {
              "outlinewidth": 0,
              "ticks": ""
             }
            },
            "type": "scatterpolargl"
           }
          ],
          "scatterternary": [
           {
            "marker": {
             "colorbar": {
              "outlinewidth": 0,
              "ticks": ""
             }
            },
            "type": "scatterternary"
           }
          ],
          "surface": [
           {
            "colorbar": {
             "outlinewidth": 0,
             "ticks": ""
            },
            "colorscale": [
             [
              0,
              "#0d0887"
             ],
             [
              0.1111111111111111,
              "#46039f"
             ],
             [
              0.2222222222222222,
              "#7201a8"
             ],
             [
              0.3333333333333333,
              "#9c179e"
             ],
             [
              0.4444444444444444,
              "#bd3786"
             ],
             [
              0.5555555555555556,
              "#d8576b"
             ],
             [
              0.6666666666666666,
              "#ed7953"
             ],
             [
              0.7777777777777778,
              "#fb9f3a"
             ],
             [
              0.8888888888888888,
              "#fdca26"
             ],
             [
              1,
              "#f0f921"
             ]
            ],
            "type": "surface"
           }
          ],
          "table": [
           {
            "cells": {
             "fill": {
              "color": "#EBF0F8"
             },
             "line": {
              "color": "white"
             }
            },
            "header": {
             "fill": {
              "color": "#C8D4E3"
             },
             "line": {
              "color": "white"
             }
            },
            "type": "table"
           }
          ]
         },
         "layout": {
          "annotationdefaults": {
           "arrowcolor": "#2a3f5f",
           "arrowhead": 0,
           "arrowwidth": 1
          },
          "autotypenumbers": "strict",
          "coloraxis": {
           "colorbar": {
            "outlinewidth": 0,
            "ticks": ""
           }
          },
          "colorscale": {
           "diverging": [
            [
             0,
             "#8e0152"
            ],
            [
             0.1,
             "#c51b7d"
            ],
            [
             0.2,
             "#de77ae"
            ],
            [
             0.3,
             "#f1b6da"
            ],
            [
             0.4,
             "#fde0ef"
            ],
            [
             0.5,
             "#f7f7f7"
            ],
            [
             0.6,
             "#e6f5d0"
            ],
            [
             0.7,
             "#b8e186"
            ],
            [
             0.8,
             "#7fbc41"
            ],
            [
             0.9,
             "#4d9221"
            ],
            [
             1,
             "#276419"
            ]
           ],
           "sequential": [
            [
             0,
             "#0d0887"
            ],
            [
             0.1111111111111111,
             "#46039f"
            ],
            [
             0.2222222222222222,
             "#7201a8"
            ],
            [
             0.3333333333333333,
             "#9c179e"
            ],
            [
             0.4444444444444444,
             "#bd3786"
            ],
            [
             0.5555555555555556,
             "#d8576b"
            ],
            [
             0.6666666666666666,
             "#ed7953"
            ],
            [
             0.7777777777777778,
             "#fb9f3a"
            ],
            [
             0.8888888888888888,
             "#fdca26"
            ],
            [
             1,
             "#f0f921"
            ]
           ],
           "sequentialminus": [
            [
             0,
             "#0d0887"
            ],
            [
             0.1111111111111111,
             "#46039f"
            ],
            [
             0.2222222222222222,
             "#7201a8"
            ],
            [
             0.3333333333333333,
             "#9c179e"
            ],
            [
             0.4444444444444444,
             "#bd3786"
            ],
            [
             0.5555555555555556,
             "#d8576b"
            ],
            [
             0.6666666666666666,
             "#ed7953"
            ],
            [
             0.7777777777777778,
             "#fb9f3a"
            ],
            [
             0.8888888888888888,
             "#fdca26"
            ],
            [
             1,
             "#f0f921"
            ]
           ]
          },
          "colorway": [
           "#636efa",
           "#EF553B",
           "#00cc96",
           "#ab63fa",
           "#FFA15A",
           "#19d3f3",
           "#FF6692",
           "#B6E880",
           "#FF97FF",
           "#FECB52"
          ],
          "font": {
           "color": "#2a3f5f"
          },
          "geo": {
           "bgcolor": "white",
           "lakecolor": "white",
           "landcolor": "#E5ECF6",
           "showlakes": true,
           "showland": true,
           "subunitcolor": "white"
          },
          "hoverlabel": {
           "align": "left"
          },
          "hovermode": "closest",
          "mapbox": {
           "style": "light"
          },
          "paper_bgcolor": "white",
          "plot_bgcolor": "#E5ECF6",
          "polar": {
           "angularaxis": {
            "gridcolor": "white",
            "linecolor": "white",
            "ticks": ""
           },
           "bgcolor": "#E5ECF6",
           "radialaxis": {
            "gridcolor": "white",
            "linecolor": "white",
            "ticks": ""
           }
          },
          "scene": {
           "xaxis": {
            "backgroundcolor": "#E5ECF6",
            "gridcolor": "white",
            "gridwidth": 2,
            "linecolor": "white",
            "showbackground": true,
            "ticks": "",
            "zerolinecolor": "white"
           },
           "yaxis": {
            "backgroundcolor": "#E5ECF6",
            "gridcolor": "white",
            "gridwidth": 2,
            "linecolor": "white",
            "showbackground": true,
            "ticks": "",
            "zerolinecolor": "white"
           },
           "zaxis": {
            "backgroundcolor": "#E5ECF6",
            "gridcolor": "white",
            "gridwidth": 2,
            "linecolor": "white",
            "showbackground": true,
            "ticks": "",
            "zerolinecolor": "white"
           }
          },
          "shapedefaults": {
           "line": {
            "color": "#2a3f5f"
           }
          },
          "ternary": {
           "aaxis": {
            "gridcolor": "white",
            "linecolor": "white",
            "ticks": ""
           },
           "baxis": {
            "gridcolor": "white",
            "linecolor": "white",
            "ticks": ""
           },
           "bgcolor": "#E5ECF6",
           "caxis": {
            "gridcolor": "white",
            "linecolor": "white",
            "ticks": ""
           }
          },
          "title": {
           "x": 0.05
          },
          "xaxis": {
           "automargin": true,
           "gridcolor": "white",
           "linecolor": "white",
           "ticks": "",
           "title": {
            "standoff": 15
           },
           "zerolinecolor": "white",
           "zerolinewidth": 2
          },
          "yaxis": {
           "automargin": true,
           "gridcolor": "white",
           "linecolor": "white",
           "ticks": "",
           "title": {
            "standoff": 15
           },
           "zerolinecolor": "white",
           "zerolinewidth": 2
          }
         }
        }
       }
      }
     },
     "metadata": {}
    },
    {
     "output_type": "stream",
     "name": "stdout",
     "text": [
      "iter, centers, spans: 3 (-0.0034200000000000064, 0.2629) [0.1062882 0.1062882]\n"
     ]
    },
    {
     "output_type": "display_data",
     "data": {
      "application/vnd.plotly.v1+json": {
       "config": {
        "plotlyServerURL": "https://plot.ly"
       },
       "data": [
        {
         "type": "surface",
         "x": [
          -0.05656410000000002,
          -0.045935280000000016,
          -0.03530646000000001,
          -0.024677640000000015,
          -0.01404882000000001,
          -0.0034200000000000064,
          0.007208819999999991,
          0.017837640000000002,
          0.02846646,
          0.039095279999999996,
          0.04972410000000001
         ],
         "y": [
          0.2097559,
          0.22038472,
          0.23101354000000002,
          0.24164236,
          0.25227118000000004,
          0.2629,
          0.27352882,
          0.28415764000000004,
          0.29478646000000003,
          0.30541528000000007,
          0.31604410000000005
         ],
         "z": [
          [
           -27.55849327647388,
           -27.9973262753477,
           -28.461826895716566,
           -28.966897547133936,
           -29.516371975790978,
           -30.085711636717416,
           -30.278470544003422,
           -30.795922571752907,
           -31.434659242619947,
           -23.12359774727882,
           -20.320466191883828
          ],
          [
           -27.637082779278533,
           -28.104781653931138,
           -28.591984639239566,
           -29.126444446501946,
           -29.67540730926432,
           -30.28537062545988,
           -30.958553700458314,
           -30.42542085493231,
           -30.990643342410745,
           -31.548843864205775,
           -22.88418646702407
          ],
          [
           -27.74439228472225,
           -28.191449629232178,
           -28.685748882241594,
           -29.221722402835137,
           -29.80032745483184,
           -30.425302185521932,
           -31.113082045934792,
           -31.876635553384414,
           -30.50876525652401,
           -31.036802829562507,
           -31.51189239955446
          ],
          [
           -27.770280805976352,
           -28.236897958305068,
           -28.745610996359584,
           -29.30298450004658,
           -29.860333264582298,
           -30.505165073404957,
           -31.227231819377447,
           -31.992761637419786,
           -30.084009080256028,
           -30.51843598118428,
           -30.951782434452998
          ],
          [
           -27.8047657474543,
           -28.259881793230722,
           -28.767918861972536,
           -29.324219333753515,
           -29.90644620626934,
           -30.55067710930503,
           -31.30034355618994,
           -32.060137349442755,
           -32.91896192384441,
           -30.0234229817278,
           -30.408591005630722
          ],
          [
           -27.791536121382425,
           -28.272113907572976,
           -28.77273904938861,
           -29.31389872580697,
           -29.9168543288794,
           -30.52372814675397,
           -31.25747892748721,
           -32.06298681803108,
           -32.95261620459553,
           -29.522902625533472,
           -29.85777253414869
          ],
          [
           -27.77143459071448,
           -28.259427936152353,
           -28.73283723667836,
           -29.306829397220152,
           -29.87981773762903,
           -30.49368844650255,
           -31.209769615416025,
           -32.00610435863321,
           -32.84811293639103,
           -33.883877616023156,
           -37.10433738130922
          ],
          [
           -27.72835706464983,
           -28.196080131273998,
           -28.674752757556913,
           -29.21909595076205,
           -29.770413246152895,
           -30.40172510670123,
           -31.11938552301719,
           -31.868081692108884,
           -32.688505652607645,
           -30.944649422079646,
           -31.452125699578875
          ],
          [
           -27.655473542333123,
           -28.123487466485283,
           -28.59393699216145,
           -29.12055715525771,
           -29.6756030655928,
           -30.26347880295882,
           -30.92298084622443,
           -31.680504017929483,
           -32.47006624013757,
           -31.4567480282282,
           -26.207841595074807
          ],
          [
           -27.565973182441905,
           -28.026122399853424,
           -28.46849073393278,
           -28.982142991751946,
           -29.51318536252577,
           -30.093935188885578,
           -30.739750069630784,
           -31.441458638735266,
           -31.341475141728875,
           -31.955594388843128,
           -26.57321164393826
          ],
          [
           -27.4561040794482,
           -27.870181965375775,
           -28.34198346049782,
           -28.820159351344575,
           -29.339452526071614,
           -29.893476218664166,
           -30.48328793911738,
           -31.15611264448214,
           -31.779159147127043,
           -26.786980647628933,
           -23.305200749360733
          ]
         ]
        }
       ],
       "layout": {
        "template": {
         "data": {
          "bar": [
           {
            "error_x": {
             "color": "#2a3f5f"
            },
            "error_y": {
             "color": "#2a3f5f"
            },
            "marker": {
             "line": {
              "color": "#E5ECF6",
              "width": 0.5
             }
            },
            "type": "bar"
           }
          ],
          "barpolar": [
           {
            "marker": {
             "line": {
              "color": "#E5ECF6",
              "width": 0.5
             }
            },
            "type": "barpolar"
           }
          ],
          "carpet": [
           {
            "aaxis": {
             "endlinecolor": "#2a3f5f",
             "gridcolor": "white",
             "linecolor": "white",
             "minorgridcolor": "white",
             "startlinecolor": "#2a3f5f"
            },
            "baxis": {
             "endlinecolor": "#2a3f5f",
             "gridcolor": "white",
             "linecolor": "white",
             "minorgridcolor": "white",
             "startlinecolor": "#2a3f5f"
            },
            "type": "carpet"
           }
          ],
          "choropleth": [
           {
            "colorbar": {
             "outlinewidth": 0,
             "ticks": ""
            },
            "type": "choropleth"
           }
          ],
          "contour": [
           {
            "colorbar": {
             "outlinewidth": 0,
             "ticks": ""
            },
            "colorscale": [
             [
              0,
              "#0d0887"
             ],
             [
              0.1111111111111111,
              "#46039f"
             ],
             [
              0.2222222222222222,
              "#7201a8"
             ],
             [
              0.3333333333333333,
              "#9c179e"
             ],
             [
              0.4444444444444444,
              "#bd3786"
             ],
             [
              0.5555555555555556,
              "#d8576b"
             ],
             [
              0.6666666666666666,
              "#ed7953"
             ],
             [
              0.7777777777777778,
              "#fb9f3a"
             ],
             [
              0.8888888888888888,
              "#fdca26"
             ],
             [
              1,
              "#f0f921"
             ]
            ],
            "type": "contour"
           }
          ],
          "contourcarpet": [
           {
            "colorbar": {
             "outlinewidth": 0,
             "ticks": ""
            },
            "type": "contourcarpet"
           }
          ],
          "heatmap": [
           {
            "colorbar": {
             "outlinewidth": 0,
             "ticks": ""
            },
            "colorscale": [
             [
              0,
              "#0d0887"
             ],
             [
              0.1111111111111111,
              "#46039f"
             ],
             [
              0.2222222222222222,
              "#7201a8"
             ],
             [
              0.3333333333333333,
              "#9c179e"
             ],
             [
              0.4444444444444444,
              "#bd3786"
             ],
             [
              0.5555555555555556,
              "#d8576b"
             ],
             [
              0.6666666666666666,
              "#ed7953"
             ],
             [
              0.7777777777777778,
              "#fb9f3a"
             ],
             [
              0.8888888888888888,
              "#fdca26"
             ],
             [
              1,
              "#f0f921"
             ]
            ],
            "type": "heatmap"
           }
          ],
          "heatmapgl": [
           {
            "colorbar": {
             "outlinewidth": 0,
             "ticks": ""
            },
            "colorscale": [
             [
              0,
              "#0d0887"
             ],
             [
              0.1111111111111111,
              "#46039f"
             ],
             [
              0.2222222222222222,
              "#7201a8"
             ],
             [
              0.3333333333333333,
              "#9c179e"
             ],
             [
              0.4444444444444444,
              "#bd3786"
             ],
             [
              0.5555555555555556,
              "#d8576b"
             ],
             [
              0.6666666666666666,
              "#ed7953"
             ],
             [
              0.7777777777777778,
              "#fb9f3a"
             ],
             [
              0.8888888888888888,
              "#fdca26"
             ],
             [
              1,
              "#f0f921"
             ]
            ],
            "type": "heatmapgl"
           }
          ],
          "histogram": [
           {
            "marker": {
             "colorbar": {
              "outlinewidth": 0,
              "ticks": ""
             }
            },
            "type": "histogram"
           }
          ],
          "histogram2d": [
           {
            "colorbar": {
             "outlinewidth": 0,
             "ticks": ""
            },
            "colorscale": [
             [
              0,
              "#0d0887"
             ],
             [
              0.1111111111111111,
              "#46039f"
             ],
             [
              0.2222222222222222,
              "#7201a8"
             ],
             [
              0.3333333333333333,
              "#9c179e"
             ],
             [
              0.4444444444444444,
              "#bd3786"
             ],
             [
              0.5555555555555556,
              "#d8576b"
             ],
             [
              0.6666666666666666,
              "#ed7953"
             ],
             [
              0.7777777777777778,
              "#fb9f3a"
             ],
             [
              0.8888888888888888,
              "#fdca26"
             ],
             [
              1,
              "#f0f921"
             ]
            ],
            "type": "histogram2d"
           }
          ],
          "histogram2dcontour": [
           {
            "colorbar": {
             "outlinewidth": 0,
             "ticks": ""
            },
            "colorscale": [
             [
              0,
              "#0d0887"
             ],
             [
              0.1111111111111111,
              "#46039f"
             ],
             [
              0.2222222222222222,
              "#7201a8"
             ],
             [
              0.3333333333333333,
              "#9c179e"
             ],
             [
              0.4444444444444444,
              "#bd3786"
             ],
             [
              0.5555555555555556,
              "#d8576b"
             ],
             [
              0.6666666666666666,
              "#ed7953"
             ],
             [
              0.7777777777777778,
              "#fb9f3a"
             ],
             [
              0.8888888888888888,
              "#fdca26"
             ],
             [
              1,
              "#f0f921"
             ]
            ],
            "type": "histogram2dcontour"
           }
          ],
          "mesh3d": [
           {
            "colorbar": {
             "outlinewidth": 0,
             "ticks": ""
            },
            "type": "mesh3d"
           }
          ],
          "parcoords": [
           {
            "line": {
             "colorbar": {
              "outlinewidth": 0,
              "ticks": ""
             }
            },
            "type": "parcoords"
           }
          ],
          "pie": [
           {
            "automargin": true,
            "type": "pie"
           }
          ],
          "scatter": [
           {
            "marker": {
             "colorbar": {
              "outlinewidth": 0,
              "ticks": ""
             }
            },
            "type": "scatter"
           }
          ],
          "scatter3d": [
           {
            "line": {
             "colorbar": {
              "outlinewidth": 0,
              "ticks": ""
             }
            },
            "marker": {
             "colorbar": {
              "outlinewidth": 0,
              "ticks": ""
             }
            },
            "type": "scatter3d"
           }
          ],
          "scattercarpet": [
           {
            "marker": {
             "colorbar": {
              "outlinewidth": 0,
              "ticks": ""
             }
            },
            "type": "scattercarpet"
           }
          ],
          "scattergeo": [
           {
            "marker": {
             "colorbar": {
              "outlinewidth": 0,
              "ticks": ""
             }
            },
            "type": "scattergeo"
           }
          ],
          "scattergl": [
           {
            "marker": {
             "colorbar": {
              "outlinewidth": 0,
              "ticks": ""
             }
            },
            "type": "scattergl"
           }
          ],
          "scattermapbox": [
           {
            "marker": {
             "colorbar": {
              "outlinewidth": 0,
              "ticks": ""
             }
            },
            "type": "scattermapbox"
           }
          ],
          "scatterpolar": [
           {
            "marker": {
             "colorbar": {
              "outlinewidth": 0,
              "ticks": ""
             }
            },
            "type": "scatterpolar"
           }
          ],
          "scatterpolargl": [
           {
            "marker": {
             "colorbar": {
              "outlinewidth": 0,
              "ticks": ""
             }
            },
            "type": "scatterpolargl"
           }
          ],
          "scatterternary": [
           {
            "marker": {
             "colorbar": {
              "outlinewidth": 0,
              "ticks": ""
             }
            },
            "type": "scatterternary"
           }
          ],
          "surface": [
           {
            "colorbar": {
             "outlinewidth": 0,
             "ticks": ""
            },
            "colorscale": [
             [
              0,
              "#0d0887"
             ],
             [
              0.1111111111111111,
              "#46039f"
             ],
             [
              0.2222222222222222,
              "#7201a8"
             ],
             [
              0.3333333333333333,
              "#9c179e"
             ],
             [
              0.4444444444444444,
              "#bd3786"
             ],
             [
              0.5555555555555556,
              "#d8576b"
             ],
             [
              0.6666666666666666,
              "#ed7953"
             ],
             [
              0.7777777777777778,
              "#fb9f3a"
             ],
             [
              0.8888888888888888,
              "#fdca26"
             ],
             [
              1,
              "#f0f921"
             ]
            ],
            "type": "surface"
           }
          ],
          "table": [
           {
            "cells": {
             "fill": {
              "color": "#EBF0F8"
             },
             "line": {
              "color": "white"
             }
            },
            "header": {
             "fill": {
              "color": "#C8D4E3"
             },
             "line": {
              "color": "white"
             }
            },
            "type": "table"
           }
          ]
         },
         "layout": {
          "annotationdefaults": {
           "arrowcolor": "#2a3f5f",
           "arrowhead": 0,
           "arrowwidth": 1
          },
          "autotypenumbers": "strict",
          "coloraxis": {
           "colorbar": {
            "outlinewidth": 0,
            "ticks": ""
           }
          },
          "colorscale": {
           "diverging": [
            [
             0,
             "#8e0152"
            ],
            [
             0.1,
             "#c51b7d"
            ],
            [
             0.2,
             "#de77ae"
            ],
            [
             0.3,
             "#f1b6da"
            ],
            [
             0.4,
             "#fde0ef"
            ],
            [
             0.5,
             "#f7f7f7"
            ],
            [
             0.6,
             "#e6f5d0"
            ],
            [
             0.7,
             "#b8e186"
            ],
            [
             0.8,
             "#7fbc41"
            ],
            [
             0.9,
             "#4d9221"
            ],
            [
             1,
             "#276419"
            ]
           ],
           "sequential": [
            [
             0,
             "#0d0887"
            ],
            [
             0.1111111111111111,
             "#46039f"
            ],
            [
             0.2222222222222222,
             "#7201a8"
            ],
            [
             0.3333333333333333,
             "#9c179e"
            ],
            [
             0.4444444444444444,
             "#bd3786"
            ],
            [
             0.5555555555555556,
             "#d8576b"
            ],
            [
             0.6666666666666666,
             "#ed7953"
            ],
            [
             0.7777777777777778,
             "#fb9f3a"
            ],
            [
             0.8888888888888888,
             "#fdca26"
            ],
            [
             1,
             "#f0f921"
            ]
           ],
           "sequentialminus": [
            [
             0,
             "#0d0887"
            ],
            [
             0.1111111111111111,
             "#46039f"
            ],
            [
             0.2222222222222222,
             "#7201a8"
            ],
            [
             0.3333333333333333,
             "#9c179e"
            ],
            [
             0.4444444444444444,
             "#bd3786"
            ],
            [
             0.5555555555555556,
             "#d8576b"
            ],
            [
             0.6666666666666666,
             "#ed7953"
            ],
            [
             0.7777777777777778,
             "#fb9f3a"
            ],
            [
             0.8888888888888888,
             "#fdca26"
            ],
            [
             1,
             "#f0f921"
            ]
           ]
          },
          "colorway": [
           "#636efa",
           "#EF553B",
           "#00cc96",
           "#ab63fa",
           "#FFA15A",
           "#19d3f3",
           "#FF6692",
           "#B6E880",
           "#FF97FF",
           "#FECB52"
          ],
          "font": {
           "color": "#2a3f5f"
          },
          "geo": {
           "bgcolor": "white",
           "lakecolor": "white",
           "landcolor": "#E5ECF6",
           "showlakes": true,
           "showland": true,
           "subunitcolor": "white"
          },
          "hoverlabel": {
           "align": "left"
          },
          "hovermode": "closest",
          "mapbox": {
           "style": "light"
          },
          "paper_bgcolor": "white",
          "plot_bgcolor": "#E5ECF6",
          "polar": {
           "angularaxis": {
            "gridcolor": "white",
            "linecolor": "white",
            "ticks": ""
           },
           "bgcolor": "#E5ECF6",
           "radialaxis": {
            "gridcolor": "white",
            "linecolor": "white",
            "ticks": ""
           }
          },
          "scene": {
           "xaxis": {
            "backgroundcolor": "#E5ECF6",
            "gridcolor": "white",
            "gridwidth": 2,
            "linecolor": "white",
            "showbackground": true,
            "ticks": "",
            "zerolinecolor": "white"
           },
           "yaxis": {
            "backgroundcolor": "#E5ECF6",
            "gridcolor": "white",
            "gridwidth": 2,
            "linecolor": "white",
            "showbackground": true,
            "ticks": "",
            "zerolinecolor": "white"
           },
           "zaxis": {
            "backgroundcolor": "#E5ECF6",
            "gridcolor": "white",
            "gridwidth": 2,
            "linecolor": "white",
            "showbackground": true,
            "ticks": "",
            "zerolinecolor": "white"
           }
          },
          "shapedefaults": {
           "line": {
            "color": "#2a3f5f"
           }
          },
          "ternary": {
           "aaxis": {
            "gridcolor": "white",
            "linecolor": "white",
            "ticks": ""
           },
           "baxis": {
            "gridcolor": "white",
            "linecolor": "white",
            "ticks": ""
           },
           "bgcolor": "#E5ECF6",
           "caxis": {
            "gridcolor": "white",
            "linecolor": "white",
            "ticks": ""
           }
          },
          "title": {
           "x": 0.05
          },
          "xaxis": {
           "automargin": true,
           "gridcolor": "white",
           "linecolor": "white",
           "ticks": "",
           "title": {
            "standoff": 15
           },
           "zerolinecolor": "white",
           "zerolinewidth": 2
          },
          "yaxis": {
           "automargin": true,
           "gridcolor": "white",
           "linecolor": "white",
           "ticks": "",
           "title": {
            "standoff": 15
           },
           "zerolinecolor": "white",
           "zerolinewidth": 2
          }
         }
        }
       }
      }
     },
     "metadata": {}
    },
    {
     "output_type": "stream",
     "name": "stdout",
     "text": [
      "iter, centers, spans: 4 (0.007208819999999991, 0.31604410000000005) [0.06973569 0.06973569]\n"
     ]
    },
    {
     "output_type": "display_data",
     "data": {
      "application/vnd.plotly.v1+json": {
       "config": {
        "plotlyServerURL": "https://plot.ly"
       },
       "data": [
        {
         "type": "surface",
         "x": [
          -0.02765902401000002,
          -0.02068545520800002,
          -0.013711886406000014,
          -0.00673831760400001,
          0.00023525119799999022,
          0.007208819999999991,
          0.014182388801999998,
          0.021155957604,
          0.028129526406,
          0.03510309520800001,
          0.04207666401
         ],
         "y": [
          0.28117625599000007,
          0.2881498247920001,
          0.2951233935940001,
          0.30209696239600003,
          0.30907053119800004,
          0.31604410000000005,
          0.32301766880200006,
          0.32999123760400006,
          0.336964806406,
          0.343938375208,
          0.35091194401000003
         ],
         "z": [
          [
           -31.745872934437767,
           -32.29472544389638,
           -30.20357317745974,
           -30.49139630055151,
           -30.820353673989853,
           -31.14239848824001,
           -25.732085255082165,
           -22.551559682675194,
           -22.558628373667585,
           -26.59572162596172,
           -26.378161942973325
          ],
          [
           -31.775981171119074,
           -32.359783589083705,
           -29.905977427167823,
           -30.184164517183344,
           -30.487266286407237,
           -30.755334469696994,
           -31.014926693962035,
           -22.387911949822705,
           -22.394739186125125,
           -26.318407410176373,
           -33.08732048932262
          ],
          [
           -31.811899614094468,
           -32.39743724868305,
           -32.986405715045095,
           -29.892114982256846,
           -30.140715778579516,
           -30.380374333017624,
           -38.38791628684666,
           -31.36785184473842,
           -26.051192150200105,
           -26.06273492857196,
           -32.49425514263861
          ],
          [
           -31.819340172120118,
           -32.37190061014036,
           -32.99288209006757,
           -33.61669055978216,
           -29.805685364556663,
           -30.034010701198252,
           -38.44725044465885,
           -39.85152577162074,
           -30.934771574519996,
           -25.797287162032273,
           -31.994409423555528
          ],
          [
           -31.802364474086847,
           -32.33899742357653,
           -32.9657729870696,
           -33.59679593761224,
           -29.49593227090985,
           -37.25676396081181,
           -38.38441397503664,
           -31.252390324640476,
           -30.51532297682851,
           -35.7531568615189,
           -31.498006200000017
          ],
          [
           -31.77506656997944,
           -32.25758715513187,
           -32.89753624739937,
           -33.5354706065436,
           -34.236235106082574,
           -37.08850486490593,
           -38.189365051637495,
           -31.71776649875302,
           -31.90615112476471,
           -35.646189787586096,
           -25.886585119352898
          ],
          [
           -31.694546075829148,
           -32.19285801230265,
           -32.77679400847087,
           -33.40179568676031,
           -30.915473558008284,
           -36.87405185543287,
           -31.944428198159347,
           -32.17554941290929,
           -32.39787716081109,
           -35.521732892411876,
           -26.122210323383047
          ],
          [
           -31.60407030734304,
           -32.09867749722734,
           -32.68590868402809,
           -33.266673290195016,
           -31.23737601692486,
           -31.645632554107923,
           -32.39910369129744,
           -32.69079258628358,
           -26.048346054572168,
           -26.353738511245144,
           -26.39492987913872
          ],
          [
           -31.458777131754932,
           -31.968287408660554,
           -32.4799302942055,
           -31.255754003852527,
           -31.62160750010651,
           -26.169085395903497,
           -32.9277713495658,
           -33.19305452813316,
           -22.805467977512205,
           -22.6287415748363,
           -22.976497820994414
          ],
          [
           -31.327689241509386,
           -31.801746617707312,
           -31.172513274737593,
           -31.5833169379282,
           -26.319566327203685,
           -26.42014489761065,
           -26.533758450811877,
           -27.06770714636146,
           -22.990320671754194,
           -18.196347239494624,
           -20.30675998212809
          ],
          [
           -31.144635255885536,
           -31.61988610683039,
           -31.50198393705055,
           -31.904960439015436,
           -26.579159320698093,
           -26.66991330992393,
           -23.13070601429398,
           -23.146199814873906,
           -23.177035087474717,
           -18.30578599187332,
           -20.437346729191763
          ]
         ]
        }
       ],
       "layout": {
        "template": {
         "data": {
          "bar": [
           {
            "error_x": {
             "color": "#2a3f5f"
            },
            "error_y": {
             "color": "#2a3f5f"
            },
            "marker": {
             "line": {
              "color": "#E5ECF6",
              "width": 0.5
             }
            },
            "type": "bar"
           }
          ],
          "barpolar": [
           {
            "marker": {
             "line": {
              "color": "#E5ECF6",
              "width": 0.5
             }
            },
            "type": "barpolar"
           }
          ],
          "carpet": [
           {
            "aaxis": {
             "endlinecolor": "#2a3f5f",
             "gridcolor": "white",
             "linecolor": "white",
             "minorgridcolor": "white",
             "startlinecolor": "#2a3f5f"
            },
            "baxis": {
             "endlinecolor": "#2a3f5f",
             "gridcolor": "white",
             "linecolor": "white",
             "minorgridcolor": "white",
             "startlinecolor": "#2a3f5f"
            },
            "type": "carpet"
           }
          ],
          "choropleth": [
           {
            "colorbar": {
             "outlinewidth": 0,
             "ticks": ""
            },
            "type": "choropleth"
           }
          ],
          "contour": [
           {
            "colorbar": {
             "outlinewidth": 0,
             "ticks": ""
            },
            "colorscale": [
             [
              0,
              "#0d0887"
             ],
             [
              0.1111111111111111,
              "#46039f"
             ],
             [
              0.2222222222222222,
              "#7201a8"
             ],
             [
              0.3333333333333333,
              "#9c179e"
             ],
             [
              0.4444444444444444,
              "#bd3786"
             ],
             [
              0.5555555555555556,
              "#d8576b"
             ],
             [
              0.6666666666666666,
              "#ed7953"
             ],
             [
              0.7777777777777778,
              "#fb9f3a"
             ],
             [
              0.8888888888888888,
              "#fdca26"
             ],
             [
              1,
              "#f0f921"
             ]
            ],
            "type": "contour"
           }
          ],
          "contourcarpet": [
           {
            "colorbar": {
             "outlinewidth": 0,
             "ticks": ""
            },
            "type": "contourcarpet"
           }
          ],
          "heatmap": [
           {
            "colorbar": {
             "outlinewidth": 0,
             "ticks": ""
            },
            "colorscale": [
             [
              0,
              "#0d0887"
             ],
             [
              0.1111111111111111,
              "#46039f"
             ],
             [
              0.2222222222222222,
              "#7201a8"
             ],
             [
              0.3333333333333333,
              "#9c179e"
             ],
             [
              0.4444444444444444,
              "#bd3786"
             ],
             [
              0.5555555555555556,
              "#d8576b"
             ],
             [
              0.6666666666666666,
              "#ed7953"
             ],
             [
              0.7777777777777778,
              "#fb9f3a"
             ],
             [
              0.8888888888888888,
              "#fdca26"
             ],
             [
              1,
              "#f0f921"
             ]
            ],
            "type": "heatmap"
           }
          ],
          "heatmapgl": [
           {
            "colorbar": {
             "outlinewidth": 0,
             "ticks": ""
            },
            "colorscale": [
             [
              0,
              "#0d0887"
             ],
             [
              0.1111111111111111,
              "#46039f"
             ],
             [
              0.2222222222222222,
              "#7201a8"
             ],
             [
              0.3333333333333333,
              "#9c179e"
             ],
             [
              0.4444444444444444,
              "#bd3786"
             ],
             [
              0.5555555555555556,
              "#d8576b"
             ],
             [
              0.6666666666666666,
              "#ed7953"
             ],
             [
              0.7777777777777778,
              "#fb9f3a"
             ],
             [
              0.8888888888888888,
              "#fdca26"
             ],
             [
              1,
              "#f0f921"
             ]
            ],
            "type": "heatmapgl"
           }
          ],
          "histogram": [
           {
            "marker": {
             "colorbar": {
              "outlinewidth": 0,
              "ticks": ""
             }
            },
            "type": "histogram"
           }
          ],
          "histogram2d": [
           {
            "colorbar": {
             "outlinewidth": 0,
             "ticks": ""
            },
            "colorscale": [
             [
              0,
              "#0d0887"
             ],
             [
              0.1111111111111111,
              "#46039f"
             ],
             [
              0.2222222222222222,
              "#7201a8"
             ],
             [
              0.3333333333333333,
              "#9c179e"
             ],
             [
              0.4444444444444444,
              "#bd3786"
             ],
             [
              0.5555555555555556,
              "#d8576b"
             ],
             [
              0.6666666666666666,
              "#ed7953"
             ],
             [
              0.7777777777777778,
              "#fb9f3a"
             ],
             [
              0.8888888888888888,
              "#fdca26"
             ],
             [
              1,
              "#f0f921"
             ]
            ],
            "type": "histogram2d"
           }
          ],
          "histogram2dcontour": [
           {
            "colorbar": {
             "outlinewidth": 0,
             "ticks": ""
            },
            "colorscale": [
             [
              0,
              "#0d0887"
             ],
             [
              0.1111111111111111,
              "#46039f"
             ],
             [
              0.2222222222222222,
              "#7201a8"
             ],
             [
              0.3333333333333333,
              "#9c179e"
             ],
             [
              0.4444444444444444,
              "#bd3786"
             ],
             [
              0.5555555555555556,
              "#d8576b"
             ],
             [
              0.6666666666666666,
              "#ed7953"
             ],
             [
              0.7777777777777778,
              "#fb9f3a"
             ],
             [
              0.8888888888888888,
              "#fdca26"
             ],
             [
              1,
              "#f0f921"
             ]
            ],
            "type": "histogram2dcontour"
           }
          ],
          "mesh3d": [
           {
            "colorbar": {
             "outlinewidth": 0,
             "ticks": ""
            },
            "type": "mesh3d"
           }
          ],
          "parcoords": [
           {
            "line": {
             "colorbar": {
              "outlinewidth": 0,
              "ticks": ""
             }
            },
            "type": "parcoords"
           }
          ],
          "pie": [
           {
            "automargin": true,
            "type": "pie"
           }
          ],
          "scatter": [
           {
            "marker": {
             "colorbar": {
              "outlinewidth": 0,
              "ticks": ""
             }
            },
            "type": "scatter"
           }
          ],
          "scatter3d": [
           {
            "line": {
             "colorbar": {
              "outlinewidth": 0,
              "ticks": ""
             }
            },
            "marker": {
             "colorbar": {
              "outlinewidth": 0,
              "ticks": ""
             }
            },
            "type": "scatter3d"
           }
          ],
          "scattercarpet": [
           {
            "marker": {
             "colorbar": {
              "outlinewidth": 0,
              "ticks": ""
             }
            },
            "type": "scattercarpet"
           }
          ],
          "scattergeo": [
           {
            "marker": {
             "colorbar": {
              "outlinewidth": 0,
              "ticks": ""
             }
            },
            "type": "scattergeo"
           }
          ],
          "scattergl": [
           {
            "marker": {
             "colorbar": {
              "outlinewidth": 0,
              "ticks": ""
             }
            },
            "type": "scattergl"
           }
          ],
          "scattermapbox": [
           {
            "marker": {
             "colorbar": {
              "outlinewidth": 0,
              "ticks": ""
             }
            },
            "type": "scattermapbox"
           }
          ],
          "scatterpolar": [
           {
            "marker": {
             "colorbar": {
              "outlinewidth": 0,
              "ticks": ""
             }
            },
            "type": "scatterpolar"
           }
          ],
          "scatterpolargl": [
           {
            "marker": {
             "colorbar": {
              "outlinewidth": 0,
              "ticks": ""
             }
            },
            "type": "scatterpolargl"
           }
          ],
          "scatterternary": [
           {
            "marker": {
             "colorbar": {
              "outlinewidth": 0,
              "ticks": ""
             }
            },
            "type": "scatterternary"
           }
          ],
          "surface": [
           {
            "colorbar": {
             "outlinewidth": 0,
             "ticks": ""
            },
            "colorscale": [
             [
              0,
              "#0d0887"
             ],
             [
              0.1111111111111111,
              "#46039f"
             ],
             [
              0.2222222222222222,
              "#7201a8"
             ],
             [
              0.3333333333333333,
              "#9c179e"
             ],
             [
              0.4444444444444444,
              "#bd3786"
             ],
             [
              0.5555555555555556,
              "#d8576b"
             ],
             [
              0.6666666666666666,
              "#ed7953"
             ],
             [
              0.7777777777777778,
              "#fb9f3a"
             ],
             [
              0.8888888888888888,
              "#fdca26"
             ],
             [
              1,
              "#f0f921"
             ]
            ],
            "type": "surface"
           }
          ],
          "table": [
           {
            "cells": {
             "fill": {
              "color": "#EBF0F8"
             },
             "line": {
              "color": "white"
             }
            },
            "header": {
             "fill": {
              "color": "#C8D4E3"
             },
             "line": {
              "color": "white"
             }
            },
            "type": "table"
           }
          ]
         },
         "layout": {
          "annotationdefaults": {
           "arrowcolor": "#2a3f5f",
           "arrowhead": 0,
           "arrowwidth": 1
          },
          "autotypenumbers": "strict",
          "coloraxis": {
           "colorbar": {
            "outlinewidth": 0,
            "ticks": ""
           }
          },
          "colorscale": {
           "diverging": [
            [
             0,
             "#8e0152"
            ],
            [
             0.1,
             "#c51b7d"
            ],
            [
             0.2,
             "#de77ae"
            ],
            [
             0.3,
             "#f1b6da"
            ],
            [
             0.4,
             "#fde0ef"
            ],
            [
             0.5,
             "#f7f7f7"
            ],
            [
             0.6,
             "#e6f5d0"
            ],
            [
             0.7,
             "#b8e186"
            ],
            [
             0.8,
             "#7fbc41"
            ],
            [
             0.9,
             "#4d9221"
            ],
            [
             1,
             "#276419"
            ]
           ],
           "sequential": [
            [
             0,
             "#0d0887"
            ],
            [
             0.1111111111111111,
             "#46039f"
            ],
            [
             0.2222222222222222,
             "#7201a8"
            ],
            [
             0.3333333333333333,
             "#9c179e"
            ],
            [
             0.4444444444444444,
             "#bd3786"
            ],
            [
             0.5555555555555556,
             "#d8576b"
            ],
            [
             0.6666666666666666,
             "#ed7953"
            ],
            [
             0.7777777777777778,
             "#fb9f3a"
            ],
            [
             0.8888888888888888,
             "#fdca26"
            ],
            [
             1,
             "#f0f921"
            ]
           ],
           "sequentialminus": [
            [
             0,
             "#0d0887"
            ],
            [
             0.1111111111111111,
             "#46039f"
            ],
            [
             0.2222222222222222,
             "#7201a8"
            ],
            [
             0.3333333333333333,
             "#9c179e"
            ],
            [
             0.4444444444444444,
             "#bd3786"
            ],
            [
             0.5555555555555556,
             "#d8576b"
            ],
            [
             0.6666666666666666,
             "#ed7953"
            ],
            [
             0.7777777777777778,
             "#fb9f3a"
            ],
            [
             0.8888888888888888,
             "#fdca26"
            ],
            [
             1,
             "#f0f921"
            ]
           ]
          },
          "colorway": [
           "#636efa",
           "#EF553B",
           "#00cc96",
           "#ab63fa",
           "#FFA15A",
           "#19d3f3",
           "#FF6692",
           "#B6E880",
           "#FF97FF",
           "#FECB52"
          ],
          "font": {
           "color": "#2a3f5f"
          },
          "geo": {
           "bgcolor": "white",
           "lakecolor": "white",
           "landcolor": "#E5ECF6",
           "showlakes": true,
           "showland": true,
           "subunitcolor": "white"
          },
          "hoverlabel": {
           "align": "left"
          },
          "hovermode": "closest",
          "mapbox": {
           "style": "light"
          },
          "paper_bgcolor": "white",
          "plot_bgcolor": "#E5ECF6",
          "polar": {
           "angularaxis": {
            "gridcolor": "white",
            "linecolor": "white",
            "ticks": ""
           },
           "bgcolor": "#E5ECF6",
           "radialaxis": {
            "gridcolor": "white",
            "linecolor": "white",
            "ticks": ""
           }
          },
          "scene": {
           "xaxis": {
            "backgroundcolor": "#E5ECF6",
            "gridcolor": "white",
            "gridwidth": 2,
            "linecolor": "white",
            "showbackground": true,
            "ticks": "",
            "zerolinecolor": "white"
           },
           "yaxis": {
            "backgroundcolor": "#E5ECF6",
            "gridcolor": "white",
            "gridwidth": 2,
            "linecolor": "white",
            "showbackground": true,
            "ticks": "",
            "zerolinecolor": "white"
           },
           "zaxis": {
            "backgroundcolor": "#E5ECF6",
            "gridcolor": "white",
            "gridwidth": 2,
            "linecolor": "white",
            "showbackground": true,
            "ticks": "",
            "zerolinecolor": "white"
           }
          },
          "shapedefaults": {
           "line": {
            "color": "#2a3f5f"
           }
          },
          "ternary": {
           "aaxis": {
            "gridcolor": "white",
            "linecolor": "white",
            "ticks": ""
           },
           "baxis": {
            "gridcolor": "white",
            "linecolor": "white",
            "ticks": ""
           },
           "bgcolor": "#E5ECF6",
           "caxis": {
            "gridcolor": "white",
            "linecolor": "white",
            "ticks": ""
           }
          },
          "title": {
           "x": 0.05
          },
          "xaxis": {
           "automargin": true,
           "gridcolor": "white",
           "linecolor": "white",
           "ticks": "",
           "title": {
            "standoff": 15
           },
           "zerolinecolor": "white",
           "zerolinewidth": 2
          },
          "yaxis": {
           "automargin": true,
           "gridcolor": "white",
           "linecolor": "white",
           "ticks": "",
           "title": {
            "standoff": 15
           },
           "zerolinecolor": "white",
           "zerolinewidth": 2
          }
         }
        }
       }
      }
     },
     "metadata": {}
    },
    {
     "output_type": "stream",
     "name": "stdout",
     "text": [
      "iter, centers, spans: 5 (-0.00673831760400001, 0.32999123760400006) [0.04117823 0.04117823]\n"
     ]
    },
    {
     "output_type": "display_data",
     "data": {
      "application/vnd.plotly.v1+json": {
       "config": {
        "plotlyServerURL": "https://plot.ly"
       },
       "data": [
        {
         "type": "surface",
         "x": [
          -0.02732743081346492,
          -0.023209608171571937,
          -0.019091785529678957,
          -0.014973962887785975,
          -0.010856140245892994,
          -0.00673831760400001,
          -0.0026204949621070305,
          0.0014973276797859494,
          0.005615150321678933,
          0.009732972963571916,
          0.0138507956054649
         ],
         "y": [
          0.3094021243945352,
          0.31351994703642816,
          0.31763776967832114,
          0.3217555923202141,
          0.3258734149621071,
          0.32999123760400006,
          0.33410906024589304,
          0.338226882887786,
          0.342344705529679,
          0.34646252817157197,
          0.35058035081346495
         ],
         "z": [
          [
           -30.805392679570378,
           -30.993118836893704,
           -31.19763867195434,
           -25.7157774966748,
           -22.43095540912476,
           -22.554976056433514,
           -22.547624117714488,
           -22.55954154980856,
           -26.56857395955201,
           -26.587068546770528,
           -26.363803743154275
          ],
          [
           -30.594994583234712,
           -30.771649998904916,
           -30.941178345220518,
           -31.10276351743902,
           -25.608289903738903,
           -22.433983283605283,
           -22.45742964085895,
           -22.45823272581919,
           -26.408469801795373,
           -26.416615457532114,
           -33.277381568230396
          ],
          [
           -30.406150876568642,
           -30.573337920234348,
           -30.73973165627181,
           -30.893542706657637,
           -31.62130484418105,
           -25.514690847263456,
           -22.364063955719555,
           -26.262416782239637,
           -26.264008130759937,
           -26.259953727094622,
           -32.94342203197223
          ],
          [
           -30.19486132898137,
           -30.36731565229115,
           -30.524945742253525,
           -30.64791882524378,
           -38.83000511536956,
           -31.447521701738236,
           -25.432640992498964,
           -26.09918009030672,
           -26.107463958623693,
           -26.099137846951418,
           -32.63099338238155
          ],
          [
           -30.003979208406374,
           -30.174387441675695,
           -30.31712464972423,
           -38.19754383259182,
           -38.983864834143986,
           -39.81121433294199,
           -31.067433334614787,
           -25.961565758736437,
           -25.940372374902086,
           -32.22917736548115,
           -32.29822769370955
          ],
          [
           -29.82631945867033,
           -29.963682021969955,
           -30.09704551360316,
           -38.23616689730967,
           -38.966605646017044,
           -39.879337618867865,
           -30.833359255878232,
           -30.968861341645646,
           -25.80214710263868,
           -31.906794339809903,
           -31.998692436265326
          ],
          [
           -29.623285892903215,
           -29.7569721518563,
           -37.51007796653161,
           -38.173127601760015,
           -38.9646052741997,
           -31.073433425350085,
           -31.19508839645528,
           -30.71011138648173,
           -30.850778379640456,
           -31.617538046416694,
           -31.690132983431322
          ],
          [
           -29.415365568086013,
           -29.5773141653215,
           -37.46943713492216,
           -38.08623340660459,
           -38.863389179409864,
           -31.348661948594266,
           -31.457836426378908,
           -30.483148254638,
           -35.54250284004803,
           -36.10545745474407,
           -31.425708143794804
          ],
          [
           -34.29361032590373,
           -36.745208372489756,
           -37.38896171566067,
           -38.0138960179291,
           -31.491788626204393,
           -31.631873491484033,
           -31.732651266476314,
           -37.56364200260788,
           -35.485863075556566,
           -36.073261155950945,
           -29.830101207656792
          ],
          [
           -34.22805843330943,
           -36.6520991431307,
           -37.21848680142665,
           -37.876611016179055,
           -31.740707896758803,
           -31.90351273202013,
           -31.979966658042425,
           -32.13567622345336,
           -35.391507377906365,
           -35.95338775677148,
           -25.962860846899286
          ],
          [
           -30.906640040814768,
           -31.121049935604237,
           -37.10852019405375,
           -31.885319872236725,
           -32.03663765336957,
           -32.160576799282936,
           -32.295369277044585,
           -25.796666882808825,
           -30.495213002992354,
           -33.005855020858775,
           -26.119930131564676
          ]
         ]
        }
       ],
       "layout": {
        "template": {
         "data": {
          "bar": [
           {
            "error_x": {
             "color": "#2a3f5f"
            },
            "error_y": {
             "color": "#2a3f5f"
            },
            "marker": {
             "line": {
              "color": "#E5ECF6",
              "width": 0.5
             }
            },
            "type": "bar"
           }
          ],
          "barpolar": [
           {
            "marker": {
             "line": {
              "color": "#E5ECF6",
              "width": 0.5
             }
            },
            "type": "barpolar"
           }
          ],
          "carpet": [
           {
            "aaxis": {
             "endlinecolor": "#2a3f5f",
             "gridcolor": "white",
             "linecolor": "white",
             "minorgridcolor": "white",
             "startlinecolor": "#2a3f5f"
            },
            "baxis": {
             "endlinecolor": "#2a3f5f",
             "gridcolor": "white",
             "linecolor": "white",
             "minorgridcolor": "white",
             "startlinecolor": "#2a3f5f"
            },
            "type": "carpet"
           }
          ],
          "choropleth": [
           {
            "colorbar": {
             "outlinewidth": 0,
             "ticks": ""
            },
            "type": "choropleth"
           }
          ],
          "contour": [
           {
            "colorbar": {
             "outlinewidth": 0,
             "ticks": ""
            },
            "colorscale": [
             [
              0,
              "#0d0887"
             ],
             [
              0.1111111111111111,
              "#46039f"
             ],
             [
              0.2222222222222222,
              "#7201a8"
             ],
             [
              0.3333333333333333,
              "#9c179e"
             ],
             [
              0.4444444444444444,
              "#bd3786"
             ],
             [
              0.5555555555555556,
              "#d8576b"
             ],
             [
              0.6666666666666666,
              "#ed7953"
             ],
             [
              0.7777777777777778,
              "#fb9f3a"
             ],
             [
              0.8888888888888888,
              "#fdca26"
             ],
             [
              1,
              "#f0f921"
             ]
            ],
            "type": "contour"
           }
          ],
          "contourcarpet": [
           {
            "colorbar": {
             "outlinewidth": 0,
             "ticks": ""
            },
            "type": "contourcarpet"
           }
          ],
          "heatmap": [
           {
            "colorbar": {
             "outlinewidth": 0,
             "ticks": ""
            },
            "colorscale": [
             [
              0,
              "#0d0887"
             ],
             [
              0.1111111111111111,
              "#46039f"
             ],
             [
              0.2222222222222222,
              "#7201a8"
             ],
             [
              0.3333333333333333,
              "#9c179e"
             ],
             [
              0.4444444444444444,
              "#bd3786"
             ],
             [
              0.5555555555555556,
              "#d8576b"
             ],
             [
              0.6666666666666666,
              "#ed7953"
             ],
             [
              0.7777777777777778,
              "#fb9f3a"
             ],
             [
              0.8888888888888888,
              "#fdca26"
             ],
             [
              1,
              "#f0f921"
             ]
            ],
            "type": "heatmap"
           }
          ],
          "heatmapgl": [
           {
            "colorbar": {
             "outlinewidth": 0,
             "ticks": ""
            },
            "colorscale": [
             [
              0,
              "#0d0887"
             ],
             [
              0.1111111111111111,
              "#46039f"
             ],
             [
              0.2222222222222222,
              "#7201a8"
             ],
             [
              0.3333333333333333,
              "#9c179e"
             ],
             [
              0.4444444444444444,
              "#bd3786"
             ],
             [
              0.5555555555555556,
              "#d8576b"
             ],
             [
              0.6666666666666666,
              "#ed7953"
             ],
             [
              0.7777777777777778,
              "#fb9f3a"
             ],
             [
              0.8888888888888888,
              "#fdca26"
             ],
             [
              1,
              "#f0f921"
             ]
            ],
            "type": "heatmapgl"
           }
          ],
          "histogram": [
           {
            "marker": {
             "colorbar": {
              "outlinewidth": 0,
              "ticks": ""
             }
            },
            "type": "histogram"
           }
          ],
          "histogram2d": [
           {
            "colorbar": {
             "outlinewidth": 0,
             "ticks": ""
            },
            "colorscale": [
             [
              0,
              "#0d0887"
             ],
             [
              0.1111111111111111,
              "#46039f"
             ],
             [
              0.2222222222222222,
              "#7201a8"
             ],
             [
              0.3333333333333333,
              "#9c179e"
             ],
             [
              0.4444444444444444,
              "#bd3786"
             ],
             [
              0.5555555555555556,
              "#d8576b"
             ],
             [
              0.6666666666666666,
              "#ed7953"
             ],
             [
              0.7777777777777778,
              "#fb9f3a"
             ],
             [
              0.8888888888888888,
              "#fdca26"
             ],
             [
              1,
              "#f0f921"
             ]
            ],
            "type": "histogram2d"
           }
          ],
          "histogram2dcontour": [
           {
            "colorbar": {
             "outlinewidth": 0,
             "ticks": ""
            },
            "colorscale": [
             [
              0,
              "#0d0887"
             ],
             [
              0.1111111111111111,
              "#46039f"
             ],
             [
              0.2222222222222222,
              "#7201a8"
             ],
             [
              0.3333333333333333,
              "#9c179e"
             ],
             [
              0.4444444444444444,
              "#bd3786"
             ],
             [
              0.5555555555555556,
              "#d8576b"
             ],
             [
              0.6666666666666666,
              "#ed7953"
             ],
             [
              0.7777777777777778,
              "#fb9f3a"
             ],
             [
              0.8888888888888888,
              "#fdca26"
             ],
             [
              1,
              "#f0f921"
             ]
            ],
            "type": "histogram2dcontour"
           }
          ],
          "mesh3d": [
           {
            "colorbar": {
             "outlinewidth": 0,
             "ticks": ""
            },
            "type": "mesh3d"
           }
          ],
          "parcoords": [
           {
            "line": {
             "colorbar": {
              "outlinewidth": 0,
              "ticks": ""
             }
            },
            "type": "parcoords"
           }
          ],
          "pie": [
           {
            "automargin": true,
            "type": "pie"
           }
          ],
          "scatter": [
           {
            "marker": {
             "colorbar": {
              "outlinewidth": 0,
              "ticks": ""
             }
            },
            "type": "scatter"
           }
          ],
          "scatter3d": [
           {
            "line": {
             "colorbar": {
              "outlinewidth": 0,
              "ticks": ""
             }
            },
            "marker": {
             "colorbar": {
              "outlinewidth": 0,
              "ticks": ""
             }
            },
            "type": "scatter3d"
           }
          ],
          "scattercarpet": [
           {
            "marker": {
             "colorbar": {
              "outlinewidth": 0,
              "ticks": ""
             }
            },
            "type": "scattercarpet"
           }
          ],
          "scattergeo": [
           {
            "marker": {
             "colorbar": {
              "outlinewidth": 0,
              "ticks": ""
             }
            },
            "type": "scattergeo"
           }
          ],
          "scattergl": [
           {
            "marker": {
             "colorbar": {
              "outlinewidth": 0,
              "ticks": ""
             }
            },
            "type": "scattergl"
           }
          ],
          "scattermapbox": [
           {
            "marker": {
             "colorbar": {
              "outlinewidth": 0,
              "ticks": ""
             }
            },
            "type": "scattermapbox"
           }
          ],
          "scatterpolar": [
           {
            "marker": {
             "colorbar": {
              "outlinewidth": 0,
              "ticks": ""
             }
            },
            "type": "scatterpolar"
           }
          ],
          "scatterpolargl": [
           {
            "marker": {
             "colorbar": {
              "outlinewidth": 0,
              "ticks": ""
             }
            },
            "type": "scatterpolargl"
           }
          ],
          "scatterternary": [
           {
            "marker": {
             "colorbar": {
              "outlinewidth": 0,
              "ticks": ""
             }
            },
            "type": "scatterternary"
           }
          ],
          "surface": [
           {
            "colorbar": {
             "outlinewidth": 0,
             "ticks": ""
            },
            "colorscale": [
             [
              0,
              "#0d0887"
             ],
             [
              0.1111111111111111,
              "#46039f"
             ],
             [
              0.2222222222222222,
              "#7201a8"
             ],
             [
              0.3333333333333333,
              "#9c179e"
             ],
             [
              0.4444444444444444,
              "#bd3786"
             ],
             [
              0.5555555555555556,
              "#d8576b"
             ],
             [
              0.6666666666666666,
              "#ed7953"
             ],
             [
              0.7777777777777778,
              "#fb9f3a"
             ],
             [
              0.8888888888888888,
              "#fdca26"
             ],
             [
              1,
              "#f0f921"
             ]
            ],
            "type": "surface"
           }
          ],
          "table": [
           {
            "cells": {
             "fill": {
              "color": "#EBF0F8"
             },
             "line": {
              "color": "white"
             }
            },
            "header": {
             "fill": {
              "color": "#C8D4E3"
             },
             "line": {
              "color": "white"
             }
            },
            "type": "table"
           }
          ]
         },
         "layout": {
          "annotationdefaults": {
           "arrowcolor": "#2a3f5f",
           "arrowhead": 0,
           "arrowwidth": 1
          },
          "autotypenumbers": "strict",
          "coloraxis": {
           "colorbar": {
            "outlinewidth": 0,
            "ticks": ""
           }
          },
          "colorscale": {
           "diverging": [
            [
             0,
             "#8e0152"
            ],
            [
             0.1,
             "#c51b7d"
            ],
            [
             0.2,
             "#de77ae"
            ],
            [
             0.3,
             "#f1b6da"
            ],
            [
             0.4,
             "#fde0ef"
            ],
            [
             0.5,
             "#f7f7f7"
            ],
            [
             0.6,
             "#e6f5d0"
            ],
            [
             0.7,
             "#b8e186"
            ],
            [
             0.8,
             "#7fbc41"
            ],
            [
             0.9,
             "#4d9221"
            ],
            [
             1,
             "#276419"
            ]
           ],
           "sequential": [
            [
             0,
             "#0d0887"
            ],
            [
             0.1111111111111111,
             "#46039f"
            ],
            [
             0.2222222222222222,
             "#7201a8"
            ],
            [
             0.3333333333333333,
             "#9c179e"
            ],
            [
             0.4444444444444444,
             "#bd3786"
            ],
            [
             0.5555555555555556,
             "#d8576b"
            ],
            [
             0.6666666666666666,
             "#ed7953"
            ],
            [
             0.7777777777777778,
             "#fb9f3a"
            ],
            [
             0.8888888888888888,
             "#fdca26"
            ],
            [
             1,
             "#f0f921"
            ]
           ],
           "sequentialminus": [
            [
             0,
             "#0d0887"
            ],
            [
             0.1111111111111111,
             "#46039f"
            ],
            [
             0.2222222222222222,
             "#7201a8"
            ],
            [
             0.3333333333333333,
             "#9c179e"
            ],
            [
             0.4444444444444444,
             "#bd3786"
            ],
            [
             0.5555555555555556,
             "#d8576b"
            ],
            [
             0.6666666666666666,
             "#ed7953"
            ],
            [
             0.7777777777777778,
             "#fb9f3a"
            ],
            [
             0.8888888888888888,
             "#fdca26"
            ],
            [
             1,
             "#f0f921"
            ]
           ]
          },
          "colorway": [
           "#636efa",
           "#EF553B",
           "#00cc96",
           "#ab63fa",
           "#FFA15A",
           "#19d3f3",
           "#FF6692",
           "#B6E880",
           "#FF97FF",
           "#FECB52"
          ],
          "font": {
           "color": "#2a3f5f"
          },
          "geo": {
           "bgcolor": "white",
           "lakecolor": "white",
           "landcolor": "#E5ECF6",
           "showlakes": true,
           "showland": true,
           "subunitcolor": "white"
          },
          "hoverlabel": {
           "align": "left"
          },
          "hovermode": "closest",
          "mapbox": {
           "style": "light"
          },
          "paper_bgcolor": "white",
          "plot_bgcolor": "#E5ECF6",
          "polar": {
           "angularaxis": {
            "gridcolor": "white",
            "linecolor": "white",
            "ticks": ""
           },
           "bgcolor": "#E5ECF6",
           "radialaxis": {
            "gridcolor": "white",
            "linecolor": "white",
            "ticks": ""
           }
          },
          "scene": {
           "xaxis": {
            "backgroundcolor": "#E5ECF6",
            "gridcolor": "white",
            "gridwidth": 2,
            "linecolor": "white",
            "showbackground": true,
            "ticks": "",
            "zerolinecolor": "white"
           },
           "yaxis": {
            "backgroundcolor": "#E5ECF6",
            "gridcolor": "white",
            "gridwidth": 2,
            "linecolor": "white",
            "showbackground": true,
            "ticks": "",
            "zerolinecolor": "white"
           },
           "zaxis": {
            "backgroundcolor": "#E5ECF6",
            "gridcolor": "white",
            "gridwidth": 2,
            "linecolor": "white",
            "showbackground": true,
            "ticks": "",
            "zerolinecolor": "white"
           }
          },
          "shapedefaults": {
           "line": {
            "color": "#2a3f5f"
           }
          },
          "ternary": {
           "aaxis": {
            "gridcolor": "white",
            "linecolor": "white",
            "ticks": ""
           },
           "baxis": {
            "gridcolor": "white",
            "linecolor": "white",
            "ticks": ""
           },
           "bgcolor": "#E5ECF6",
           "caxis": {
            "gridcolor": "white",
            "linecolor": "white",
            "ticks": ""
           }
          },
          "title": {
           "x": 0.05
          },
          "xaxis": {
           "automargin": true,
           "gridcolor": "white",
           "linecolor": "white",
           "ticks": "",
           "title": {
            "standoff": 15
           },
           "zerolinecolor": "white",
           "zerolinewidth": 2
          },
          "yaxis": {
           "automargin": true,
           "gridcolor": "white",
           "linecolor": "white",
           "ticks": "",
           "title": {
            "standoff": 15
           },
           "zerolinecolor": "white",
           "zerolinewidth": 2
          }
         }
        }
       }
      }
     },
     "metadata": {}
    },
    {
     "output_type": "stream",
     "name": "stdout",
     "text": [
      "iter, centers, spans: 6 (-0.00673831760400001, 0.32999123760400006) [0.0218838 0.0218838]\n"
     ]
    },
    {
     "output_type": "display_data",
     "data": {
      "application/vnd.plotly.v1+json": {
       "config": {
        "plotlyServerURL": "https://plot.ly"
       },
       "data": [
        {
         "type": "surface",
         "x": [
          -0.01768021651715125,
          -0.015491836734521003,
          -0.013303456951890755,
          -0.011115077169260506,
          -0.008926697386630258,
          -0.00673831760400001,
          -0.004549937821369761,
          -0.002361558038739513,
          -0.00017317825610926527,
          0.0020152015265209842,
          0.004203581309151232
         ],
         "y": [
          0.31904933869084884,
          0.3212377184734791,
          0.32342609825610935,
          0.32561447803873955,
          0.3278028578213698,
          0.32999123760400006,
          0.3321796173866303,
          0.3343679971692606,
          0.3365563769518908,
          0.33874475673452104,
          0.3409331365171513
         ],
         "z": [
          [
           -30.69683034191046,
           -30.765938410938457,
           -30.872452669016095,
           -38.7572984148545,
           -31.587389608182047,
           -25.457063795701142,
           -25.47246282897063,
           -22.32615512313318,
           -22.333411630898187,
           -26.19147751950513,
           -26.204182538558914
          ],
          [
           -30.58625158220563,
           -30.648402607160644,
           -30.762249138906828,
           -38.86493630462327,
           -31.405550535707345,
           -31.500656923365934,
           -25.395702839111895,
           -22.273659265492217,
           -26.12008455861888,
           -26.112766548214726,
           -26.125723051223407
          ],
          [
           -30.458595284806517,
           -30.56464510269519,
           -38.47769629762058,
           -38.842776983876504,
           -39.328349955867935,
           -31.336212281194864,
           -25.337622056393567,
           -25.366227081663713,
           -26.02458767077763,
           -26.041614766125566,
           -26.024328910921593
          ],
          [
           -30.371805363798916,
           -30.4317627609263,
           -38.51146346058874,
           -38.89451141878365,
           -39.33960989044732,
           -39.73502122620839,
           -25.286313144880747,
           -31.078858023886145,
           -31.179463712634455,
           -25.97306102423455,
           -25.955544186511286
          ],
          [
           -30.26828812869854,
           -38.19125775363477,
           -38.48421175658979,
           -38.942782071281016,
           -39.36578361460457,
           -39.80779405098107,
           -31.129295499049032,
           -30.960268981698643,
           -31.03792143973674,
           -31.114576525180727,
           -25.879347702241798
          ],
          [
           -30.13615089542976,
           -38.187616893793276,
           -38.529577821010335,
           -38.94498266389785,
           -39.39524171222121,
           -39.84347914704976,
           -30.898798002607062,
           -30.824211564834282,
           -30.90747567223212,
           -30.983731466272967,
           -31.030124398502952
          ],
          [
           -37.73564845044555,
           -38.165127914495486,
           -38.5294117860001,
           -38.9577820981837,
           -39.34757924912374,
           -39.76571379019853,
           -31.05362786227501,
           -30.690663949114185,
           -30.78190475848351,
           -30.861670989733337,
           -30.914511783093996
          ],
          [
           -37.77302518494325,
           -38.09161737767052,
           -38.52773202683035,
           -38.9294776201688,
           -39.289578199031126,
           -31.116867624770375,
           -31.164979181631605,
           -31.19841917579971,
           -30.655881679494296,
           -30.729634490465596,
           -30.786643687808574
          ],
          [
           -37.701555033583475,
           -38.0845643264136,
           -38.464384366737136,
           -38.816047305550356,
           -39.290171614602386,
           -31.240730050995065,
           -31.291555759530777,
           -31.333057120827814,
           -30.52858846765611,
           -30.59615152450542,
           -30.645089973324378
          ],
          [
           -37.66888137755896,
           -37.99254867090926,
           -38.45216928497143,
           -38.83420122085265,
           -31.2856932545865,
           -31.372775069233466,
           -31.43841972229821,
           -31.46830092071553,
           -37.357029980323446,
           -30.465874865534378,
           -30.55744245183457
          ],
          [
           -37.58927011934118,
           -37.98698133674449,
           -38.34426648542447,
           -38.70743139703532,
           -31.448604434886565,
           -31.52395495016493,
           -31.57063789391402,
           -31.65768291935402,
           -31.687256938145676,
           -30.36181210708536,
           -30.400294234881994
          ]
         ]
        }
       ],
       "layout": {
        "template": {
         "data": {
          "bar": [
           {
            "error_x": {
             "color": "#2a3f5f"
            },
            "error_y": {
             "color": "#2a3f5f"
            },
            "marker": {
             "line": {
              "color": "#E5ECF6",
              "width": 0.5
             }
            },
            "type": "bar"
           }
          ],
          "barpolar": [
           {
            "marker": {
             "line": {
              "color": "#E5ECF6",
              "width": 0.5
             }
            },
            "type": "barpolar"
           }
          ],
          "carpet": [
           {
            "aaxis": {
             "endlinecolor": "#2a3f5f",
             "gridcolor": "white",
             "linecolor": "white",
             "minorgridcolor": "white",
             "startlinecolor": "#2a3f5f"
            },
            "baxis": {
             "endlinecolor": "#2a3f5f",
             "gridcolor": "white",
             "linecolor": "white",
             "minorgridcolor": "white",
             "startlinecolor": "#2a3f5f"
            },
            "type": "carpet"
           }
          ],
          "choropleth": [
           {
            "colorbar": {
             "outlinewidth": 0,
             "ticks": ""
            },
            "type": "choropleth"
           }
          ],
          "contour": [
           {
            "colorbar": {
             "outlinewidth": 0,
             "ticks": ""
            },
            "colorscale": [
             [
              0,
              "#0d0887"
             ],
             [
              0.1111111111111111,
              "#46039f"
             ],
             [
              0.2222222222222222,
              "#7201a8"
             ],
             [
              0.3333333333333333,
              "#9c179e"
             ],
             [
              0.4444444444444444,
              "#bd3786"
             ],
             [
              0.5555555555555556,
              "#d8576b"
             ],
             [
              0.6666666666666666,
              "#ed7953"
             ],
             [
              0.7777777777777778,
              "#fb9f3a"
             ],
             [
              0.8888888888888888,
              "#fdca26"
             ],
             [
              1,
              "#f0f921"
             ]
            ],
            "type": "contour"
           }
          ],
          "contourcarpet": [
           {
            "colorbar": {
             "outlinewidth": 0,
             "ticks": ""
            },
            "type": "contourcarpet"
           }
          ],
          "heatmap": [
           {
            "colorbar": {
             "outlinewidth": 0,
             "ticks": ""
            },
            "colorscale": [
             [
              0,
              "#0d0887"
             ],
             [
              0.1111111111111111,
              "#46039f"
             ],
             [
              0.2222222222222222,
              "#7201a8"
             ],
             [
              0.3333333333333333,
              "#9c179e"
             ],
             [
              0.4444444444444444,
              "#bd3786"
             ],
             [
              0.5555555555555556,
              "#d8576b"
             ],
             [
              0.6666666666666666,
              "#ed7953"
             ],
             [
              0.7777777777777778,
              "#fb9f3a"
             ],
             [
              0.8888888888888888,
              "#fdca26"
             ],
             [
              1,
              "#f0f921"
             ]
            ],
            "type": "heatmap"
           }
          ],
          "heatmapgl": [
           {
            "colorbar": {
             "outlinewidth": 0,
             "ticks": ""
            },
            "colorscale": [
             [
              0,
              "#0d0887"
             ],
             [
              0.1111111111111111,
              "#46039f"
             ],
             [
              0.2222222222222222,
              "#7201a8"
             ],
             [
              0.3333333333333333,
              "#9c179e"
             ],
             [
              0.4444444444444444,
              "#bd3786"
             ],
             [
              0.5555555555555556,
              "#d8576b"
             ],
             [
              0.6666666666666666,
              "#ed7953"
             ],
             [
              0.7777777777777778,
              "#fb9f3a"
             ],
             [
              0.8888888888888888,
              "#fdca26"
             ],
             [
              1,
              "#f0f921"
             ]
            ],
            "type": "heatmapgl"
           }
          ],
          "histogram": [
           {
            "marker": {
             "colorbar": {
              "outlinewidth": 0,
              "ticks": ""
             }
            },
            "type": "histogram"
           }
          ],
          "histogram2d": [
           {
            "colorbar": {
             "outlinewidth": 0,
             "ticks": ""
            },
            "colorscale": [
             [
              0,
              "#0d0887"
             ],
             [
              0.1111111111111111,
              "#46039f"
             ],
             [
              0.2222222222222222,
              "#7201a8"
             ],
             [
              0.3333333333333333,
              "#9c179e"
             ],
             [
              0.4444444444444444,
              "#bd3786"
             ],
             [
              0.5555555555555556,
              "#d8576b"
             ],
             [
              0.6666666666666666,
              "#ed7953"
             ],
             [
              0.7777777777777778,
              "#fb9f3a"
             ],
             [
              0.8888888888888888,
              "#fdca26"
             ],
             [
              1,
              "#f0f921"
             ]
            ],
            "type": "histogram2d"
           }
          ],
          "histogram2dcontour": [
           {
            "colorbar": {
             "outlinewidth": 0,
             "ticks": ""
            },
            "colorscale": [
             [
              0,
              "#0d0887"
             ],
             [
              0.1111111111111111,
              "#46039f"
             ],
             [
              0.2222222222222222,
              "#7201a8"
             ],
             [
              0.3333333333333333,
              "#9c179e"
             ],
             [
              0.4444444444444444,
              "#bd3786"
             ],
             [
              0.5555555555555556,
              "#d8576b"
             ],
             [
              0.6666666666666666,
              "#ed7953"
             ],
             [
              0.7777777777777778,
              "#fb9f3a"
             ],
             [
              0.8888888888888888,
              "#fdca26"
             ],
             [
              1,
              "#f0f921"
             ]
            ],
            "type": "histogram2dcontour"
           }
          ],
          "mesh3d": [
           {
            "colorbar": {
             "outlinewidth": 0,
             "ticks": ""
            },
            "type": "mesh3d"
           }
          ],
          "parcoords": [
           {
            "line": {
             "colorbar": {
              "outlinewidth": 0,
              "ticks": ""
             }
            },
            "type": "parcoords"
           }
          ],
          "pie": [
           {
            "automargin": true,
            "type": "pie"
           }
          ],
          "scatter": [
           {
            "marker": {
             "colorbar": {
              "outlinewidth": 0,
              "ticks": ""
             }
            },
            "type": "scatter"
           }
          ],
          "scatter3d": [
           {
            "line": {
             "colorbar": {
              "outlinewidth": 0,
              "ticks": ""
             }
            },
            "marker": {
             "colorbar": {
              "outlinewidth": 0,
              "ticks": ""
             }
            },
            "type": "scatter3d"
           }
          ],
          "scattercarpet": [
           {
            "marker": {
             "colorbar": {
              "outlinewidth": 0,
              "ticks": ""
             }
            },
            "type": "scattercarpet"
           }
          ],
          "scattergeo": [
           {
            "marker": {
             "colorbar": {
              "outlinewidth": 0,
              "ticks": ""
             }
            },
            "type": "scattergeo"
           }
          ],
          "scattergl": [
           {
            "marker": {
             "colorbar": {
              "outlinewidth": 0,
              "ticks": ""
             }
            },
            "type": "scattergl"
           }
          ],
          "scattermapbox": [
           {
            "marker": {
             "colorbar": {
              "outlinewidth": 0,
              "ticks": ""
             }
            },
            "type": "scattermapbox"
           }
          ],
          "scatterpolar": [
           {
            "marker": {
             "colorbar": {
              "outlinewidth": 0,
              "ticks": ""
             }
            },
            "type": "scatterpolar"
           }
          ],
          "scatterpolargl": [
           {
            "marker": {
             "colorbar": {
              "outlinewidth": 0,
              "ticks": ""
             }
            },
            "type": "scatterpolargl"
           }
          ],
          "scatterternary": [
           {
            "marker": {
             "colorbar": {
              "outlinewidth": 0,
              "ticks": ""
             }
            },
            "type": "scatterternary"
           }
          ],
          "surface": [
           {
            "colorbar": {
             "outlinewidth": 0,
             "ticks": ""
            },
            "colorscale": [
             [
              0,
              "#0d0887"
             ],
             [
              0.1111111111111111,
              "#46039f"
             ],
             [
              0.2222222222222222,
              "#7201a8"
             ],
             [
              0.3333333333333333,
              "#9c179e"
             ],
             [
              0.4444444444444444,
              "#bd3786"
             ],
             [
              0.5555555555555556,
              "#d8576b"
             ],
             [
              0.6666666666666666,
              "#ed7953"
             ],
             [
              0.7777777777777778,
              "#fb9f3a"
             ],
             [
              0.8888888888888888,
              "#fdca26"
             ],
             [
              1,
              "#f0f921"
             ]
            ],
            "type": "surface"
           }
          ],
          "table": [
           {
            "cells": {
             "fill": {
              "color": "#EBF0F8"
             },
             "line": {
              "color": "white"
             }
            },
            "header": {
             "fill": {
              "color": "#C8D4E3"
             },
             "line": {
              "color": "white"
             }
            },
            "type": "table"
           }
          ]
         },
         "layout": {
          "annotationdefaults": {
           "arrowcolor": "#2a3f5f",
           "arrowhead": 0,
           "arrowwidth": 1
          },
          "autotypenumbers": "strict",
          "coloraxis": {
           "colorbar": {
            "outlinewidth": 0,
            "ticks": ""
           }
          },
          "colorscale": {
           "diverging": [
            [
             0,
             "#8e0152"
            ],
            [
             0.1,
             "#c51b7d"
            ],
            [
             0.2,
             "#de77ae"
            ],
            [
             0.3,
             "#f1b6da"
            ],
            [
             0.4,
             "#fde0ef"
            ],
            [
             0.5,
             "#f7f7f7"
            ],
            [
             0.6,
             "#e6f5d0"
            ],
            [
             0.7,
             "#b8e186"
            ],
            [
             0.8,
             "#7fbc41"
            ],
            [
             0.9,
             "#4d9221"
            ],
            [
             1,
             "#276419"
            ]
           ],
           "sequential": [
            [
             0,
             "#0d0887"
            ],
            [
             0.1111111111111111,
             "#46039f"
            ],
            [
             0.2222222222222222,
             "#7201a8"
            ],
            [
             0.3333333333333333,
             "#9c179e"
            ],
            [
             0.4444444444444444,
             "#bd3786"
            ],
            [
             0.5555555555555556,
             "#d8576b"
            ],
            [
             0.6666666666666666,
             "#ed7953"
            ],
            [
             0.7777777777777778,
             "#fb9f3a"
            ],
            [
             0.8888888888888888,
             "#fdca26"
            ],
            [
             1,
             "#f0f921"
            ]
           ],
           "sequentialminus": [
            [
             0,
             "#0d0887"
            ],
            [
             0.1111111111111111,
             "#46039f"
            ],
            [
             0.2222222222222222,
             "#7201a8"
            ],
            [
             0.3333333333333333,
             "#9c179e"
            ],
            [
             0.4444444444444444,
             "#bd3786"
            ],
            [
             0.5555555555555556,
             "#d8576b"
            ],
            [
             0.6666666666666666,
             "#ed7953"
            ],
            [
             0.7777777777777778,
             "#fb9f3a"
            ],
            [
             0.8888888888888888,
             "#fdca26"
            ],
            [
             1,
             "#f0f921"
            ]
           ]
          },
          "colorway": [
           "#636efa",
           "#EF553B",
           "#00cc96",
           "#ab63fa",
           "#FFA15A",
           "#19d3f3",
           "#FF6692",
           "#B6E880",
           "#FF97FF",
           "#FECB52"
          ],
          "font": {
           "color": "#2a3f5f"
          },
          "geo": {
           "bgcolor": "white",
           "lakecolor": "white",
           "landcolor": "#E5ECF6",
           "showlakes": true,
           "showland": true,
           "subunitcolor": "white"
          },
          "hoverlabel": {
           "align": "left"
          },
          "hovermode": "closest",
          "mapbox": {
           "style": "light"
          },
          "paper_bgcolor": "white",
          "plot_bgcolor": "#E5ECF6",
          "polar": {
           "angularaxis": {
            "gridcolor": "white",
            "linecolor": "white",
            "ticks": ""
           },
           "bgcolor": "#E5ECF6",
           "radialaxis": {
            "gridcolor": "white",
            "linecolor": "white",
            "ticks": ""
           }
          },
          "scene": {
           "xaxis": {
            "backgroundcolor": "#E5ECF6",
            "gridcolor": "white",
            "gridwidth": 2,
            "linecolor": "white",
            "showbackground": true,
            "ticks": "",
            "zerolinecolor": "white"
           },
           "yaxis": {
            "backgroundcolor": "#E5ECF6",
            "gridcolor": "white",
            "gridwidth": 2,
            "linecolor": "white",
            "showbackground": true,
            "ticks": "",
            "zerolinecolor": "white"
           },
           "zaxis": {
            "backgroundcolor": "#E5ECF6",
            "gridcolor": "white",
            "gridwidth": 2,
            "linecolor": "white",
            "showbackground": true,
            "ticks": "",
            "zerolinecolor": "white"
           }
          },
          "shapedefaults": {
           "line": {
            "color": "#2a3f5f"
           }
          },
          "ternary": {
           "aaxis": {
            "gridcolor": "white",
            "linecolor": "white",
            "ticks": ""
           },
           "baxis": {
            "gridcolor": "white",
            "linecolor": "white",
            "ticks": ""
           },
           "bgcolor": "#E5ECF6",
           "caxis": {
            "gridcolor": "white",
            "linecolor": "white",
            "ticks": ""
           }
          },
          "title": {
           "x": 0.05
          },
          "xaxis": {
           "automargin": true,
           "gridcolor": "white",
           "linecolor": "white",
           "ticks": "",
           "title": {
            "standoff": 15
           },
           "zerolinecolor": "white",
           "zerolinewidth": 2
          },
          "yaxis": {
           "automargin": true,
           "gridcolor": "white",
           "linecolor": "white",
           "ticks": "",
           "title": {
            "standoff": 15
           },
           "zerolinecolor": "white",
           "zerolinewidth": 2
          }
         }
        }
       }
      }
     },
     "metadata": {}
    },
    {
     "output_type": "stream",
     "name": "stdout",
     "text": [
      "iter, centers, spans: 7 (-0.00673831760400001, 0.32999123760400006) [0.01046695 0.01046695]\n"
     ]
    },
    {
     "output_type": "display_data",
     "data": {
      "application/vnd.plotly.v1+json": {
       "config": {
        "plotlyServerURL": "https://plot.ly"
       },
       "data": [
        {
         "type": "surface",
         "x": [
          -0.01197179393427362,
          -0.010925098668218898,
          -0.009878403402164176,
          -0.008831708136109454,
          -0.007785012870054732,
          -0.00673831760400001,
          -0.005691622337945288,
          -0.0046449270718905665,
          -0.0035982318058358446,
          -0.0025515365397811227,
          -0.0015048412737264007
         ],
         "y": [
          0.32475776127372646,
          0.3258044565397812,
          0.3268511518058359,
          0.3278978470718906,
          0.32894454233794534,
          0.32999123760400006,
          0.3310379328700548,
          0.3320846281361095,
          0.3331313234021642,
          0.33417801866821895,
          0.33522471393427367
         ],
         "z": [
          [
           -38.75298030609015,
           -38.942500916464994,
           -39.11261322440835,
           -39.39264004199809,
           -39.51748885221012,
           -31.27789267589368,
           -31.28475699176194,
           -25.29846374859949,
           -25.326103384022606,
           -31.14785482633587,
           -31.160435334713167
          ],
          [
           -38.771186801317214,
           -38.95931230490626,
           -39.11975972283791,
           -39.35585493520176,
           -39.550760968369104,
           -39.79802226311415,
           -31.221269556919392,
           -25.268610976694635,
           -25.290063514269715,
           -31.08070329650661,
           -31.131347043904345
          ],
          [
           -38.76793501040348,
           -38.9891863651369,
           -39.20367353154049,
           -39.392820082691415,
           -39.5684931450692,
           -39.750581276617,
           -31.160122840605442,
           -31.17743271563857,
           -30.97900496088351,
           -31.018420077449516,
           -31.033579369751852
          ],
          [
           -38.7906494846638,
           -38.981849186744455,
           -39.17319558905068,
           -39.40089904837042,
           -39.59300780896298,
           -39.849110932687864,
           -40.04116118799806,
           -31.131095165428103,
           -30.97035253753697,
           -30.95273592339218,
           -30.98992669741747
          ],
          [
           -38.79719665332418,
           -38.97268817929239,
           -39.20863049596849,
           -39.3992421263157,
           -39.572522411941236,
           -39.79615203653512,
           -40.03381580531861,
           -44.373171653490374,
           -30.853062671663462,
           -30.912458624884056,
           -30.924605504083036
          ],
          [
           -38.803242812950984,
           -38.972502850489576,
           -39.23565662071155,
           -39.42227825861782,
           -39.56929836459784,
           -39.86432609731064,
           -40.040239303269956,
           -30.874551213541626,
           -44.75624695478341,
           -30.838627624720058,
           -30.88163356821777
          ],
          [
           -38.78093167522114,
           -38.95363201836362,
           -39.19314548833081,
           -39.385682046333926,
           -39.5994784637187,
           -39.894792768920084,
           -30.929850681654695,
           -30.93155305783125,
           -44.85735751765128,
           -30.765259443059296,
           -30.81221103861871
          ],
          [
           -38.741105806596266,
           -38.9703305694473,
           -39.215322666396716,
           -39.3146396215832,
           -39.60088809085339,
           -39.82883966629184,
           -31.00309923230699,
           -31.025937618056258,
           -31.055605773526946,
           -30.723858386645748,
           -30.74481144129189
          ],
          [
           -38.77166885846789,
           -38.96410131999143,
           -39.15312697983093,
           -39.38304278870723,
           -39.59781650088152,
           -31.04117749530256,
           -31.051794762132513,
           -31.058355180251876,
           -31.125872100574636,
           -45.260089276808046,
           -30.70314591961424
          ],
          [
           -38.77651469289091,
           -38.91935658116425,
           -39.14685039559514,
           -39.352731985023,
           -39.57726317566356,
           -31.11779803432321,
           -31.12350009868059,
           -31.14127380394388,
           -31.175996919237956,
           -31.193233551114073,
           -30.62179217305948
          ],
          [
           -38.74432510247611,
           -38.8953313318614,
           -39.152205217659244,
           -39.35210766437716,
           -31.149669428704026,
           -31.164393204210196,
           -31.1670495913898,
           -31.21203134122833,
           -31.250000983485105,
           -31.262256536172483,
           -30.579234425851862
          ]
         ]
        }
       ],
       "layout": {
        "template": {
         "data": {
          "bar": [
           {
            "error_x": {
             "color": "#2a3f5f"
            },
            "error_y": {
             "color": "#2a3f5f"
            },
            "marker": {
             "line": {
              "color": "#E5ECF6",
              "width": 0.5
             }
            },
            "type": "bar"
           }
          ],
          "barpolar": [
           {
            "marker": {
             "line": {
              "color": "#E5ECF6",
              "width": 0.5
             }
            },
            "type": "barpolar"
           }
          ],
          "carpet": [
           {
            "aaxis": {
             "endlinecolor": "#2a3f5f",
             "gridcolor": "white",
             "linecolor": "white",
             "minorgridcolor": "white",
             "startlinecolor": "#2a3f5f"
            },
            "baxis": {
             "endlinecolor": "#2a3f5f",
             "gridcolor": "white",
             "linecolor": "white",
             "minorgridcolor": "white",
             "startlinecolor": "#2a3f5f"
            },
            "type": "carpet"
           }
          ],
          "choropleth": [
           {
            "colorbar": {
             "outlinewidth": 0,
             "ticks": ""
            },
            "type": "choropleth"
           }
          ],
          "contour": [
           {
            "colorbar": {
             "outlinewidth": 0,
             "ticks": ""
            },
            "colorscale": [
             [
              0,
              "#0d0887"
             ],
             [
              0.1111111111111111,
              "#46039f"
             ],
             [
              0.2222222222222222,
              "#7201a8"
             ],
             [
              0.3333333333333333,
              "#9c179e"
             ],
             [
              0.4444444444444444,
              "#bd3786"
             ],
             [
              0.5555555555555556,
              "#d8576b"
             ],
             [
              0.6666666666666666,
              "#ed7953"
             ],
             [
              0.7777777777777778,
              "#fb9f3a"
             ],
             [
              0.8888888888888888,
              "#fdca26"
             ],
             [
              1,
              "#f0f921"
             ]
            ],
            "type": "contour"
           }
          ],
          "contourcarpet": [
           {
            "colorbar": {
             "outlinewidth": 0,
             "ticks": ""
            },
            "type": "contourcarpet"
           }
          ],
          "heatmap": [
           {
            "colorbar": {
             "outlinewidth": 0,
             "ticks": ""
            },
            "colorscale": [
             [
              0,
              "#0d0887"
             ],
             [
              0.1111111111111111,
              "#46039f"
             ],
             [
              0.2222222222222222,
              "#7201a8"
             ],
             [
              0.3333333333333333,
              "#9c179e"
             ],
             [
              0.4444444444444444,
              "#bd3786"
             ],
             [
              0.5555555555555556,
              "#d8576b"
             ],
             [
              0.6666666666666666,
              "#ed7953"
             ],
             [
              0.7777777777777778,
              "#fb9f3a"
             ],
             [
              0.8888888888888888,
              "#fdca26"
             ],
             [
              1,
              "#f0f921"
             ]
            ],
            "type": "heatmap"
           }
          ],
          "heatmapgl": [
           {
            "colorbar": {
             "outlinewidth": 0,
             "ticks": ""
            },
            "colorscale": [
             [
              0,
              "#0d0887"
             ],
             [
              0.1111111111111111,
              "#46039f"
             ],
             [
              0.2222222222222222,
              "#7201a8"
             ],
             [
              0.3333333333333333,
              "#9c179e"
             ],
             [
              0.4444444444444444,
              "#bd3786"
             ],
             [
              0.5555555555555556,
              "#d8576b"
             ],
             [
              0.6666666666666666,
              "#ed7953"
             ],
             [
              0.7777777777777778,
              "#fb9f3a"
             ],
             [
              0.8888888888888888,
              "#fdca26"
             ],
             [
              1,
              "#f0f921"
             ]
            ],
            "type": "heatmapgl"
           }
          ],
          "histogram": [
           {
            "marker": {
             "colorbar": {
              "outlinewidth": 0,
              "ticks": ""
             }
            },
            "type": "histogram"
           }
          ],
          "histogram2d": [
           {
            "colorbar": {
             "outlinewidth": 0,
             "ticks": ""
            },
            "colorscale": [
             [
              0,
              "#0d0887"
             ],
             [
              0.1111111111111111,
              "#46039f"
             ],
             [
              0.2222222222222222,
              "#7201a8"
             ],
             [
              0.3333333333333333,
              "#9c179e"
             ],
             [
              0.4444444444444444,
              "#bd3786"
             ],
             [
              0.5555555555555556,
              "#d8576b"
             ],
             [
              0.6666666666666666,
              "#ed7953"
             ],
             [
              0.7777777777777778,
              "#fb9f3a"
             ],
             [
              0.8888888888888888,
              "#fdca26"
             ],
             [
              1,
              "#f0f921"
             ]
            ],
            "type": "histogram2d"
           }
          ],
          "histogram2dcontour": [
           {
            "colorbar": {
             "outlinewidth": 0,
             "ticks": ""
            },
            "colorscale": [
             [
              0,
              "#0d0887"
             ],
             [
              0.1111111111111111,
              "#46039f"
             ],
             [
              0.2222222222222222,
              "#7201a8"
             ],
             [
              0.3333333333333333,
              "#9c179e"
             ],
             [
              0.4444444444444444,
              "#bd3786"
             ],
             [
              0.5555555555555556,
              "#d8576b"
             ],
             [
              0.6666666666666666,
              "#ed7953"
             ],
             [
              0.7777777777777778,
              "#fb9f3a"
             ],
             [
              0.8888888888888888,
              "#fdca26"
             ],
             [
              1,
              "#f0f921"
             ]
            ],
            "type": "histogram2dcontour"
           }
          ],
          "mesh3d": [
           {
            "colorbar": {
             "outlinewidth": 0,
             "ticks": ""
            },
            "type": "mesh3d"
           }
          ],
          "parcoords": [
           {
            "line": {
             "colorbar": {
              "outlinewidth": 0,
              "ticks": ""
             }
            },
            "type": "parcoords"
           }
          ],
          "pie": [
           {
            "automargin": true,
            "type": "pie"
           }
          ],
          "scatter": [
           {
            "marker": {
             "colorbar": {
              "outlinewidth": 0,
              "ticks": ""
             }
            },
            "type": "scatter"
           }
          ],
          "scatter3d": [
           {
            "line": {
             "colorbar": {
              "outlinewidth": 0,
              "ticks": ""
             }
            },
            "marker": {
             "colorbar": {
              "outlinewidth": 0,
              "ticks": ""
             }
            },
            "type": "scatter3d"
           }
          ],
          "scattercarpet": [
           {
            "marker": {
             "colorbar": {
              "outlinewidth": 0,
              "ticks": ""
             }
            },
            "type": "scattercarpet"
           }
          ],
          "scattergeo": [
           {
            "marker": {
             "colorbar": {
              "outlinewidth": 0,
              "ticks": ""
             }
            },
            "type": "scattergeo"
           }
          ],
          "scattergl": [
           {
            "marker": {
             "colorbar": {
              "outlinewidth": 0,
              "ticks": ""
             }
            },
            "type": "scattergl"
           }
          ],
          "scattermapbox": [
           {
            "marker": {
             "colorbar": {
              "outlinewidth": 0,
              "ticks": ""
             }
            },
            "type": "scattermapbox"
           }
          ],
          "scatterpolar": [
           {
            "marker": {
             "colorbar": {
              "outlinewidth": 0,
              "ticks": ""
             }
            },
            "type": "scatterpolar"
           }
          ],
          "scatterpolargl": [
           {
            "marker": {
             "colorbar": {
              "outlinewidth": 0,
              "ticks": ""
             }
            },
            "type": "scatterpolargl"
           }
          ],
          "scatterternary": [
           {
            "marker": {
             "colorbar": {
              "outlinewidth": 0,
              "ticks": ""
             }
            },
            "type": "scatterternary"
           }
          ],
          "surface": [
           {
            "colorbar": {
             "outlinewidth": 0,
             "ticks": ""
            },
            "colorscale": [
             [
              0,
              "#0d0887"
             ],
             [
              0.1111111111111111,
              "#46039f"
             ],
             [
              0.2222222222222222,
              "#7201a8"
             ],
             [
              0.3333333333333333,
              "#9c179e"
             ],
             [
              0.4444444444444444,
              "#bd3786"
             ],
             [
              0.5555555555555556,
              "#d8576b"
             ],
             [
              0.6666666666666666,
              "#ed7953"
             ],
             [
              0.7777777777777778,
              "#fb9f3a"
             ],
             [
              0.8888888888888888,
              "#fdca26"
             ],
             [
              1,
              "#f0f921"
             ]
            ],
            "type": "surface"
           }
          ],
          "table": [
           {
            "cells": {
             "fill": {
              "color": "#EBF0F8"
             },
             "line": {
              "color": "white"
             }
            },
            "header": {
             "fill": {
              "color": "#C8D4E3"
             },
             "line": {
              "color": "white"
             }
            },
            "type": "table"
           }
          ]
         },
         "layout": {
          "annotationdefaults": {
           "arrowcolor": "#2a3f5f",
           "arrowhead": 0,
           "arrowwidth": 1
          },
          "autotypenumbers": "strict",
          "coloraxis": {
           "colorbar": {
            "outlinewidth": 0,
            "ticks": ""
           }
          },
          "colorscale": {
           "diverging": [
            [
             0,
             "#8e0152"
            ],
            [
             0.1,
             "#c51b7d"
            ],
            [
             0.2,
             "#de77ae"
            ],
            [
             0.3,
             "#f1b6da"
            ],
            [
             0.4,
             "#fde0ef"
            ],
            [
             0.5,
             "#f7f7f7"
            ],
            [
             0.6,
             "#e6f5d0"
            ],
            [
             0.7,
             "#b8e186"
            ],
            [
             0.8,
             "#7fbc41"
            ],
            [
             0.9,
             "#4d9221"
            ],
            [
             1,
             "#276419"
            ]
           ],
           "sequential": [
            [
             0,
             "#0d0887"
            ],
            [
             0.1111111111111111,
             "#46039f"
            ],
            [
             0.2222222222222222,
             "#7201a8"
            ],
            [
             0.3333333333333333,
             "#9c179e"
            ],
            [
             0.4444444444444444,
             "#bd3786"
            ],
            [
             0.5555555555555556,
             "#d8576b"
            ],
            [
             0.6666666666666666,
             "#ed7953"
            ],
            [
             0.7777777777777778,
             "#fb9f3a"
            ],
            [
             0.8888888888888888,
             "#fdca26"
            ],
            [
             1,
             "#f0f921"
            ]
           ],
           "sequentialminus": [
            [
             0,
             "#0d0887"
            ],
            [
             0.1111111111111111,
             "#46039f"
            ],
            [
             0.2222222222222222,
             "#7201a8"
            ],
            [
             0.3333333333333333,
             "#9c179e"
            ],
            [
             0.4444444444444444,
             "#bd3786"
            ],
            [
             0.5555555555555556,
             "#d8576b"
            ],
            [
             0.6666666666666666,
             "#ed7953"
            ],
            [
             0.7777777777777778,
             "#fb9f3a"
            ],
            [
             0.8888888888888888,
             "#fdca26"
            ],
            [
             1,
             "#f0f921"
            ]
           ]
          },
          "colorway": [
           "#636efa",
           "#EF553B",
           "#00cc96",
           "#ab63fa",
           "#FFA15A",
           "#19d3f3",
           "#FF6692",
           "#B6E880",
           "#FF97FF",
           "#FECB52"
          ],
          "font": {
           "color": "#2a3f5f"
          },
          "geo": {
           "bgcolor": "white",
           "lakecolor": "white",
           "landcolor": "#E5ECF6",
           "showlakes": true,
           "showland": true,
           "subunitcolor": "white"
          },
          "hoverlabel": {
           "align": "left"
          },
          "hovermode": "closest",
          "mapbox": {
           "style": "light"
          },
          "paper_bgcolor": "white",
          "plot_bgcolor": "#E5ECF6",
          "polar": {
           "angularaxis": {
            "gridcolor": "white",
            "linecolor": "white",
            "ticks": ""
           },
           "bgcolor": "#E5ECF6",
           "radialaxis": {
            "gridcolor": "white",
            "linecolor": "white",
            "ticks": ""
           }
          },
          "scene": {
           "xaxis": {
            "backgroundcolor": "#E5ECF6",
            "gridcolor": "white",
            "gridwidth": 2,
            "linecolor": "white",
            "showbackground": true,
            "ticks": "",
            "zerolinecolor": "white"
           },
           "yaxis": {
            "backgroundcolor": "#E5ECF6",
            "gridcolor": "white",
            "gridwidth": 2,
            "linecolor": "white",
            "showbackground": true,
            "ticks": "",
            "zerolinecolor": "white"
           },
           "zaxis": {
            "backgroundcolor": "#E5ECF6",
            "gridcolor": "white",
            "gridwidth": 2,
            "linecolor": "white",
            "showbackground": true,
            "ticks": "",
            "zerolinecolor": "white"
           }
          },
          "shapedefaults": {
           "line": {
            "color": "#2a3f5f"
           }
          },
          "ternary": {
           "aaxis": {
            "gridcolor": "white",
            "linecolor": "white",
            "ticks": ""
           },
           "baxis": {
            "gridcolor": "white",
            "linecolor": "white",
            "ticks": ""
           },
           "bgcolor": "#E5ECF6",
           "caxis": {
            "gridcolor": "white",
            "linecolor": "white",
            "ticks": ""
           }
          },
          "title": {
           "x": 0.05
          },
          "xaxis": {
           "automargin": true,
           "gridcolor": "white",
           "linecolor": "white",
           "ticks": "",
           "title": {
            "standoff": 15
           },
           "zerolinecolor": "white",
           "zerolinewidth": 2
          },
          "yaxis": {
           "automargin": true,
           "gridcolor": "white",
           "linecolor": "white",
           "ticks": "",
           "title": {
            "standoff": 15
           },
           "zerolinecolor": "white",
           "zerolinewidth": 2
          }
         }
        }
       }
      }
     },
     "metadata": {}
    },
    {
     "output_type": "stream",
     "name": "stdout",
     "text": [
      "iter, centers, spans: 8 (-0.0035982318058358446, 0.33417801866821895) [0.00450568 0.00450568]\n"
     ]
    },
    {
     "output_type": "display_data",
     "data": {
      "application/vnd.plotly.v1+json": {
       "config": {
        "plotlyServerURL": "https://plot.ly"
       },
       "data": [
        {
         "type": "surface",
         "x": [
          -0.005851071760329764,
          -0.00540050376943098,
          -0.004949935778532196,
          -0.004499367787633412,
          -0.004048799796734628,
          -0.0035982318058358446,
          -0.0031476638149370607,
          -0.002697095824038277,
          -0.002246527833139493,
          -0.0017959598422407092,
          -0.001345391851341925
         ],
         "y": [
          0.331925178713725,
          0.3323757467046238,
          0.3328263146955226,
          0.33327688268642136,
          0.3337274506773202,
          0.33417801866821895,
          0.3346285866591177,
          0.33507915465001653,
          0.3355297226409153,
          0.3359802906318141,
          0.3364308586227129
         ],
         "z": [
          [
           -30.958301734087033,
           -30.925476858301177,
           -30.95951813132851,
           -44.88412001478238,
           -45.05163638029772,
           -30.768347078050052,
           -30.794861250809188,
           -30.809801318379083,
           -30.827241432317063,
           -30.85128777051607,
           -30.86346141734796
          ],
          [
           -30.96246278026472,
           -30.977453369479942,
           -30.99163443945027,
           -44.92265693171878,
           -45.02801814586314,
           -30.775233670596375,
           -30.774809581813994,
           -30.78625083206286,
           -30.785940649587456,
           -30.815370166792906,
           -30.833733772047214
          ],
          [
           -30.99387458985154,
           -31.000069188813075,
           -30.999489218711002,
           -31.021259937364608,
           -45.013584875212345,
           -30.729973046828913,
           -30.733756043533294,
           -30.756475954503376,
           -30.794310931459226,
           -30.78540187097906,
           -30.783471722515667
          ],
          [
           -31.009102928680402,
           -31.032943313586205,
           -31.02938504100261,
           -31.040899779247145,
           -45.12234551195968,
           -45.228054947607916,
           -30.725747358081062,
           -30.727423587877748,
           -30.74901135467523,
           -30.759960350395414,
           -30.774264227825892
          ],
          [
           -31.054760950029955,
           -31.078119328617714,
           -31.06599515988604,
           -31.08169334384088,
           -31.10482140020721,
           -45.207849235102984,
           -30.700509402438623,
           -30.68874640944428,
           -30.7238092454695,
           -30.73610903164283,
           -30.75450648690715
          ],
          [
           -31.06585148675398,
           -31.092774257389532,
           -31.0881903316829,
           -31.104052291558748,
           -31.142611578634327,
           -45.24213825822153,
           -30.674863516585813,
           -30.682988696144722,
           -30.6994555041863,
           -30.700915434371854,
           -30.7546567175452
          ],
          [
           -31.10380175271659,
           -31.13704315646891,
           -31.10104082336667,
           -31.152362622693598,
           -31.141215617812268,
           -31.15446826524403,
           -30.637806093236104,
           -30.653428196771227,
           -30.68714351153964,
           -30.676378498708235,
           -30.699844061391378
          ],
          [
           -31.132483077398437,
           -31.149710623728087,
           -31.15536599935881,
           -31.179327151352222,
           -31.185855847446472,
           -31.18455082848884,
           -45.470491268275296,
           -30.629867518836672,
           -30.6312071741641,
           -30.653608066019228,
           -30.694532809042723
          ],
          [
           -31.160316033690872,
           -31.15872196487717,
           -31.18341469079753,
           -31.183825744559815,
           -31.213056187878028,
           -31.197651825351468,
           -31.222108454851007,
           -30.60355637281967,
           -30.61766591914758,
           -30.621826519873505,
           -30.63777847165171
          ],
          [
           -31.17157446013793,
           -31.20568405083524,
           -31.205294836094946,
           -31.23031050876374,
           -31.248480617688674,
           -31.235934767500904,
           -31.24773122981738,
           -30.58204140770275,
           -30.60515123656594,
           -30.620228294141395,
           -30.605918280085643
          ],
          [
           -31.21488381604151,
           -31.24708864830195,
           -31.258470340188428,
           -31.237709853342384,
           -31.25209136927499,
           -31.273210370121323,
           -31.274514788015498,
           -31.30936560360757,
           -30.56327909347716,
           -30.609464508489307,
           -30.595165263583052
          ]
         ]
        }
       ],
       "layout": {
        "template": {
         "data": {
          "bar": [
           {
            "error_x": {
             "color": "#2a3f5f"
            },
            "error_y": {
             "color": "#2a3f5f"
            },
            "marker": {
             "line": {
              "color": "#E5ECF6",
              "width": 0.5
             }
            },
            "type": "bar"
           }
          ],
          "barpolar": [
           {
            "marker": {
             "line": {
              "color": "#E5ECF6",
              "width": 0.5
             }
            },
            "type": "barpolar"
           }
          ],
          "carpet": [
           {
            "aaxis": {
             "endlinecolor": "#2a3f5f",
             "gridcolor": "white",
             "linecolor": "white",
             "minorgridcolor": "white",
             "startlinecolor": "#2a3f5f"
            },
            "baxis": {
             "endlinecolor": "#2a3f5f",
             "gridcolor": "white",
             "linecolor": "white",
             "minorgridcolor": "white",
             "startlinecolor": "#2a3f5f"
            },
            "type": "carpet"
           }
          ],
          "choropleth": [
           {
            "colorbar": {
             "outlinewidth": 0,
             "ticks": ""
            },
            "type": "choropleth"
           }
          ],
          "contour": [
           {
            "colorbar": {
             "outlinewidth": 0,
             "ticks": ""
            },
            "colorscale": [
             [
              0,
              "#0d0887"
             ],
             [
              0.1111111111111111,
              "#46039f"
             ],
             [
              0.2222222222222222,
              "#7201a8"
             ],
             [
              0.3333333333333333,
              "#9c179e"
             ],
             [
              0.4444444444444444,
              "#bd3786"
             ],
             [
              0.5555555555555556,
              "#d8576b"
             ],
             [
              0.6666666666666666,
              "#ed7953"
             ],
             [
              0.7777777777777778,
              "#fb9f3a"
             ],
             [
              0.8888888888888888,
              "#fdca26"
             ],
             [
              1,
              "#f0f921"
             ]
            ],
            "type": "contour"
           }
          ],
          "contourcarpet": [
           {
            "colorbar": {
             "outlinewidth": 0,
             "ticks": ""
            },
            "type": "contourcarpet"
           }
          ],
          "heatmap": [
           {
            "colorbar": {
             "outlinewidth": 0,
             "ticks": ""
            },
            "colorscale": [
             [
              0,
              "#0d0887"
             ],
             [
              0.1111111111111111,
              "#46039f"
             ],
             [
              0.2222222222222222,
              "#7201a8"
             ],
             [
              0.3333333333333333,
              "#9c179e"
             ],
             [
              0.4444444444444444,
              "#bd3786"
             ],
             [
              0.5555555555555556,
              "#d8576b"
             ],
             [
              0.6666666666666666,
              "#ed7953"
             ],
             [
              0.7777777777777778,
              "#fb9f3a"
             ],
             [
              0.8888888888888888,
              "#fdca26"
             ],
             [
              1,
              "#f0f921"
             ]
            ],
            "type": "heatmap"
           }
          ],
          "heatmapgl": [
           {
            "colorbar": {
             "outlinewidth": 0,
             "ticks": ""
            },
            "colorscale": [
             [
              0,
              "#0d0887"
             ],
             [
              0.1111111111111111,
              "#46039f"
             ],
             [
              0.2222222222222222,
              "#7201a8"
             ],
             [
              0.3333333333333333,
              "#9c179e"
             ],
             [
              0.4444444444444444,
              "#bd3786"
             ],
             [
              0.5555555555555556,
              "#d8576b"
             ],
             [
              0.6666666666666666,
              "#ed7953"
             ],
             [
              0.7777777777777778,
              "#fb9f3a"
             ],
             [
              0.8888888888888888,
              "#fdca26"
             ],
             [
              1,
              "#f0f921"
             ]
            ],
            "type": "heatmapgl"
           }
          ],
          "histogram": [
           {
            "marker": {
             "colorbar": {
              "outlinewidth": 0,
              "ticks": ""
             }
            },
            "type": "histogram"
           }
          ],
          "histogram2d": [
           {
            "colorbar": {
             "outlinewidth": 0,
             "ticks": ""
            },
            "colorscale": [
             [
              0,
              "#0d0887"
             ],
             [
              0.1111111111111111,
              "#46039f"
             ],
             [
              0.2222222222222222,
              "#7201a8"
             ],
             [
              0.3333333333333333,
              "#9c179e"
             ],
             [
              0.4444444444444444,
              "#bd3786"
             ],
             [
              0.5555555555555556,
              "#d8576b"
             ],
             [
              0.6666666666666666,
              "#ed7953"
             ],
             [
              0.7777777777777778,
              "#fb9f3a"
             ],
             [
              0.8888888888888888,
              "#fdca26"
             ],
             [
              1,
              "#f0f921"
             ]
            ],
            "type": "histogram2d"
           }
          ],
          "histogram2dcontour": [
           {
            "colorbar": {
             "outlinewidth": 0,
             "ticks": ""
            },
            "colorscale": [
             [
              0,
              "#0d0887"
             ],
             [
              0.1111111111111111,
              "#46039f"
             ],
             [
              0.2222222222222222,
              "#7201a8"
             ],
             [
              0.3333333333333333,
              "#9c179e"
             ],
             [
              0.4444444444444444,
              "#bd3786"
             ],
             [
              0.5555555555555556,
              "#d8576b"
             ],
             [
              0.6666666666666666,
              "#ed7953"
             ],
             [
              0.7777777777777778,
              "#fb9f3a"
             ],
             [
              0.8888888888888888,
              "#fdca26"
             ],
             [
              1,
              "#f0f921"
             ]
            ],
            "type": "histogram2dcontour"
           }
          ],
          "mesh3d": [
           {
            "colorbar": {
             "outlinewidth": 0,
             "ticks": ""
            },
            "type": "mesh3d"
           }
          ],
          "parcoords": [
           {
            "line": {
             "colorbar": {
              "outlinewidth": 0,
              "ticks": ""
             }
            },
            "type": "parcoords"
           }
          ],
          "pie": [
           {
            "automargin": true,
            "type": "pie"
           }
          ],
          "scatter": [
           {
            "marker": {
             "colorbar": {
              "outlinewidth": 0,
              "ticks": ""
             }
            },
            "type": "scatter"
           }
          ],
          "scatter3d": [
           {
            "line": {
             "colorbar": {
              "outlinewidth": 0,
              "ticks": ""
             }
            },
            "marker": {
             "colorbar": {
              "outlinewidth": 0,
              "ticks": ""
             }
            },
            "type": "scatter3d"
           }
          ],
          "scattercarpet": [
           {
            "marker": {
             "colorbar": {
              "outlinewidth": 0,
              "ticks": ""
             }
            },
            "type": "scattercarpet"
           }
          ],
          "scattergeo": [
           {
            "marker": {
             "colorbar": {
              "outlinewidth": 0,
              "ticks": ""
             }
            },
            "type": "scattergeo"
           }
          ],
          "scattergl": [
           {
            "marker": {
             "colorbar": {
              "outlinewidth": 0,
              "ticks": ""
             }
            },
            "type": "scattergl"
           }
          ],
          "scattermapbox": [
           {
            "marker": {
             "colorbar": {
              "outlinewidth": 0,
              "ticks": ""
             }
            },
            "type": "scattermapbox"
           }
          ],
          "scatterpolar": [
           {
            "marker": {
             "colorbar": {
              "outlinewidth": 0,
              "ticks": ""
             }
            },
            "type": "scatterpolar"
           }
          ],
          "scatterpolargl": [
           {
            "marker": {
             "colorbar": {
              "outlinewidth": 0,
              "ticks": ""
             }
            },
            "type": "scatterpolargl"
           }
          ],
          "scatterternary": [
           {
            "marker": {
             "colorbar": {
              "outlinewidth": 0,
              "ticks": ""
             }
            },
            "type": "scatterternary"
           }
          ],
          "surface": [
           {
            "colorbar": {
             "outlinewidth": 0,
             "ticks": ""
            },
            "colorscale": [
             [
              0,
              "#0d0887"
             ],
             [
              0.1111111111111111,
              "#46039f"
             ],
             [
              0.2222222222222222,
              "#7201a8"
             ],
             [
              0.3333333333333333,
              "#9c179e"
             ],
             [
              0.4444444444444444,
              "#bd3786"
             ],
             [
              0.5555555555555556,
              "#d8576b"
             ],
             [
              0.6666666666666666,
              "#ed7953"
             ],
             [
              0.7777777777777778,
              "#fb9f3a"
             ],
             [
              0.8888888888888888,
              "#fdca26"
             ],
             [
              1,
              "#f0f921"
             ]
            ],
            "type": "surface"
           }
          ],
          "table": [
           {
            "cells": {
             "fill": {
              "color": "#EBF0F8"
             },
             "line": {
              "color": "white"
             }
            },
            "header": {
             "fill": {
              "color": "#C8D4E3"
             },
             "line": {
              "color": "white"
             }
            },
            "type": "table"
           }
          ]
         },
         "layout": {
          "annotationdefaults": {
           "arrowcolor": "#2a3f5f",
           "arrowhead": 0,
           "arrowwidth": 1
          },
          "autotypenumbers": "strict",
          "coloraxis": {
           "colorbar": {
            "outlinewidth": 0,
            "ticks": ""
           }
          },
          "colorscale": {
           "diverging": [
            [
             0,
             "#8e0152"
            ],
            [
             0.1,
             "#c51b7d"
            ],
            [
             0.2,
             "#de77ae"
            ],
            [
             0.3,
             "#f1b6da"
            ],
            [
             0.4,
             "#fde0ef"
            ],
            [
             0.5,
             "#f7f7f7"
            ],
            [
             0.6,
             "#e6f5d0"
            ],
            [
             0.7,
             "#b8e186"
            ],
            [
             0.8,
             "#7fbc41"
            ],
            [
             0.9,
             "#4d9221"
            ],
            [
             1,
             "#276419"
            ]
           ],
           "sequential": [
            [
             0,
             "#0d0887"
            ],
            [
             0.1111111111111111,
             "#46039f"
            ],
            [
             0.2222222222222222,
             "#7201a8"
            ],
            [
             0.3333333333333333,
             "#9c179e"
            ],
            [
             0.4444444444444444,
             "#bd3786"
            ],
            [
             0.5555555555555556,
             "#d8576b"
            ],
            [
             0.6666666666666666,
             "#ed7953"
            ],
            [
             0.7777777777777778,
             "#fb9f3a"
            ],
            [
             0.8888888888888888,
             "#fdca26"
            ],
            [
             1,
             "#f0f921"
            ]
           ],
           "sequentialminus": [
            [
             0,
             "#0d0887"
            ],
            [
             0.1111111111111111,
             "#46039f"
            ],
            [
             0.2222222222222222,
             "#7201a8"
            ],
            [
             0.3333333333333333,
             "#9c179e"
            ],
            [
             0.4444444444444444,
             "#bd3786"
            ],
            [
             0.5555555555555556,
             "#d8576b"
            ],
            [
             0.6666666666666666,
             "#ed7953"
            ],
            [
             0.7777777777777778,
             "#fb9f3a"
            ],
            [
             0.8888888888888888,
             "#fdca26"
            ],
            [
             1,
             "#f0f921"
            ]
           ]
          },
          "colorway": [
           "#636efa",
           "#EF553B",
           "#00cc96",
           "#ab63fa",
           "#FFA15A",
           "#19d3f3",
           "#FF6692",
           "#B6E880",
           "#FF97FF",
           "#FECB52"
          ],
          "font": {
           "color": "#2a3f5f"
          },
          "geo": {
           "bgcolor": "white",
           "lakecolor": "white",
           "landcolor": "#E5ECF6",
           "showlakes": true,
           "showland": true,
           "subunitcolor": "white"
          },
          "hoverlabel": {
           "align": "left"
          },
          "hovermode": "closest",
          "mapbox": {
           "style": "light"
          },
          "paper_bgcolor": "white",
          "plot_bgcolor": "#E5ECF6",
          "polar": {
           "angularaxis": {
            "gridcolor": "white",
            "linecolor": "white",
            "ticks": ""
           },
           "bgcolor": "#E5ECF6",
           "radialaxis": {
            "gridcolor": "white",
            "linecolor": "white",
            "ticks": ""
           }
          },
          "scene": {
           "xaxis": {
            "backgroundcolor": "#E5ECF6",
            "gridcolor": "white",
            "gridwidth": 2,
            "linecolor": "white",
            "showbackground": true,
            "ticks": "",
            "zerolinecolor": "white"
           },
           "yaxis": {
            "backgroundcolor": "#E5ECF6",
            "gridcolor": "white",
            "gridwidth": 2,
            "linecolor": "white",
            "showbackground": true,
            "ticks": "",
            "zerolinecolor": "white"
           },
           "zaxis": {
            "backgroundcolor": "#E5ECF6",
            "gridcolor": "white",
            "gridwidth": 2,
            "linecolor": "white",
            "showbackground": true,
            "ticks": "",
            "zerolinecolor": "white"
           }
          },
          "shapedefaults": {
           "line": {
            "color": "#2a3f5f"
           }
          },
          "ternary": {
           "aaxis": {
            "gridcolor": "white",
            "linecolor": "white",
            "ticks": ""
           },
           "baxis": {
            "gridcolor": "white",
            "linecolor": "white",
            "ticks": ""
           },
           "bgcolor": "#E5ECF6",
           "caxis": {
            "gridcolor": "white",
            "linecolor": "white",
            "ticks": ""
           }
          },
          "title": {
           "x": 0.05
          },
          "xaxis": {
           "automargin": true,
           "gridcolor": "white",
           "linecolor": "white",
           "ticks": "",
           "title": {
            "standoff": 15
           },
           "zerolinecolor": "white",
           "zerolinewidth": 2
          },
          "yaxis": {
           "automargin": true,
           "gridcolor": "white",
           "linecolor": "white",
           "ticks": "",
           "title": {
            "standoff": 15
           },
           "zerolinecolor": "white",
           "zerolinewidth": 2
          }
         }
        }
       }
      }
     },
     "metadata": {}
    },
    {
     "output_type": "stream",
     "name": "stdout",
     "text": [
      "iter, centers, spans: 9 (-0.002697095824038277, 0.3346285866591177) [0.00174559 0.00174559]\n"
     ]
    },
    {
     "output_type": "display_data",
     "data": {
      "application/vnd.plotly.v1+json": {
       "config": {
        "plotlyServerURL": "https://plot.ly"
       },
       "data": [
        {
         "type": "surface",
         "x": [
          -0.003569892180847049,
          -0.0033953329094852944,
          -0.0032207736381235402,
          -0.0030462143667617857,
          -0.0028716550954000315,
          -0.002697095824038277,
          -0.0025225365526765223,
          -0.0023479772813147677,
          -0.0021734180099530136,
          -0.0019988587385912594,
          -0.0018242994672295046
         ],
         "y": [
          0.33375579030230895,
          0.3339303495736707,
          0.33410490884503247,
          0.3342794681163942,
          0.334454027387756,
          0.3346285866591177,
          0.33480314593047944,
          0.3349777052018412,
          0.33515226447320295,
          0.33532682374456474,
          0.33550138301592647
         ],
         "z": [
          [
           -31.108853700537107,
           -31.109384017584592,
           -45.19566191720986,
           -45.290729824557914,
           -45.37452185989699,
           -30.649489273918032,
           -30.685028808218842,
           -30.65981543128343,
           -30.676680089443085,
           -30.685249605509636,
           -30.675491131116356
          ],
          [
           -31.1285606418836,
           -31.154325976229483,
           -31.148936174476415,
           -45.15974657880109,
           -45.26610190750401,
           -30.664790477223622,
           -30.672325259549982,
           -30.662773415242473,
           -30.684978805685464,
           -30.673786891632655,
           -30.65969491570426
          ],
          [
           -31.136441962309103,
           -31.167016455127655,
           -31.17005104364676,
           -45.30359475802145,
           -45.325927935205414,
           -30.63677821760869,
           -30.663713545960444,
           -30.652771533109867,
           -30.66590646748538,
           -30.69254634064397,
           -30.673377343273447
          ],
          [
           -31.13274967445142,
           -31.148119238049684,
           -31.166997105602444,
           -31.160512374969027,
           -45.274438938609364,
           -45.282573623305225,
           -30.64304988117939,
           -30.639764890056536,
           -30.662379762303683,
           -30.659074313426817,
           -30.67028743750009
          ],
          [
           -31.158774592162604,
           -31.161165943835147,
           -31.16406930672829,
           -31.18411275259079,
           -45.314668420186095,
           -45.37976986251199,
           -30.634686393283832,
           -30.632933281590322,
           -30.627596371838475,
           -30.646626786448817,
           -30.662532223212683
          ],
          [
           -31.159146381060676,
           -31.184768668708234,
           -31.18131632503278,
           -31.17149020194805,
           -31.2114675709353,
           -45.365621779592644,
           -30.63778725058585,
           -30.604373916988155,
           -30.62377065098131,
           -30.635248736894365,
           -30.66104918666208
          ],
          [
           -31.18557819750873,
           -31.200262345153472,
           -31.185542247633666,
           -31.20742679404378,
           -31.191306772390124,
           -45.36576169692053,
           -45.49674861948584,
           -30.618018025522407,
           -30.628435119876006,
           -30.63420370890041,
           -30.642877094189696
          ],
          [
           -31.207390174598995,
           -31.202543753303363,
           -31.204466010342845,
           -31.214365889593804,
           -31.220448696018682,
           -31.223056788325106,
           -45.41314672285195,
           -30.62852656730526,
           -30.627350930878084,
           -30.614078065572617,
           -30.62014960316957
          ],
          [
           -31.208888650318404,
           -31.235267393135228,
           -31.207565218334654,
           -31.22777409325713,
           -31.237327836468214,
           -31.20799541157623,
           -45.4053736814588,
           -30.602425492134326,
           -30.625001679784024,
           -30.597505002555646,
           -30.615972924875134
          ],
          [
           -31.197769964129908,
           -31.22749841051228,
           -31.20746390206281,
           -31.23672021862797,
           -31.276814710554373,
           -31.226212939669406,
           -31.249351410601935,
           -45.47771613313783,
           -30.584074183780903,
           -30.608588154644618,
           -30.604264916371573
          ],
          [
           -31.249689620108388,
           -31.21819017031999,
           -31.232531640627936,
           -31.22012965025618,
           -31.243390725308625,
           -31.236003329071206,
           -31.25697466337058,
           -45.420334702564475,
           -30.569604364147867,
           -30.587962450789416,
           -30.601354783014397
          ]
         ]
        }
       ],
       "layout": {
        "template": {
         "data": {
          "bar": [
           {
            "error_x": {
             "color": "#2a3f5f"
            },
            "error_y": {
             "color": "#2a3f5f"
            },
            "marker": {
             "line": {
              "color": "#E5ECF6",
              "width": 0.5
             }
            },
            "type": "bar"
           }
          ],
          "barpolar": [
           {
            "marker": {
             "line": {
              "color": "#E5ECF6",
              "width": 0.5
             }
            },
            "type": "barpolar"
           }
          ],
          "carpet": [
           {
            "aaxis": {
             "endlinecolor": "#2a3f5f",
             "gridcolor": "white",
             "linecolor": "white",
             "minorgridcolor": "white",
             "startlinecolor": "#2a3f5f"
            },
            "baxis": {
             "endlinecolor": "#2a3f5f",
             "gridcolor": "white",
             "linecolor": "white",
             "minorgridcolor": "white",
             "startlinecolor": "#2a3f5f"
            },
            "type": "carpet"
           }
          ],
          "choropleth": [
           {
            "colorbar": {
             "outlinewidth": 0,
             "ticks": ""
            },
            "type": "choropleth"
           }
          ],
          "contour": [
           {
            "colorbar": {
             "outlinewidth": 0,
             "ticks": ""
            },
            "colorscale": [
             [
              0,
              "#0d0887"
             ],
             [
              0.1111111111111111,
              "#46039f"
             ],
             [
              0.2222222222222222,
              "#7201a8"
             ],
             [
              0.3333333333333333,
              "#9c179e"
             ],
             [
              0.4444444444444444,
              "#bd3786"
             ],
             [
              0.5555555555555556,
              "#d8576b"
             ],
             [
              0.6666666666666666,
              "#ed7953"
             ],
             [
              0.7777777777777778,
              "#fb9f3a"
             ],
             [
              0.8888888888888888,
              "#fdca26"
             ],
             [
              1,
              "#f0f921"
             ]
            ],
            "type": "contour"
           }
          ],
          "contourcarpet": [
           {
            "colorbar": {
             "outlinewidth": 0,
             "ticks": ""
            },
            "type": "contourcarpet"
           }
          ],
          "heatmap": [
           {
            "colorbar": {
             "outlinewidth": 0,
             "ticks": ""
            },
            "colorscale": [
             [
              0,
              "#0d0887"
             ],
             [
              0.1111111111111111,
              "#46039f"
             ],
             [
              0.2222222222222222,
              "#7201a8"
             ],
             [
              0.3333333333333333,
              "#9c179e"
             ],
             [
              0.4444444444444444,
              "#bd3786"
             ],
             [
              0.5555555555555556,
              "#d8576b"
             ],
             [
              0.6666666666666666,
              "#ed7953"
             ],
             [
              0.7777777777777778,
              "#fb9f3a"
             ],
             [
              0.8888888888888888,
              "#fdca26"
             ],
             [
              1,
              "#f0f921"
             ]
            ],
            "type": "heatmap"
           }
          ],
          "heatmapgl": [
           {
            "colorbar": {
             "outlinewidth": 0,
             "ticks": ""
            },
            "colorscale": [
             [
              0,
              "#0d0887"
             ],
             [
              0.1111111111111111,
              "#46039f"
             ],
             [
              0.2222222222222222,
              "#7201a8"
             ],
             [
              0.3333333333333333,
              "#9c179e"
             ],
             [
              0.4444444444444444,
              "#bd3786"
             ],
             [
              0.5555555555555556,
              "#d8576b"
             ],
             [
              0.6666666666666666,
              "#ed7953"
             ],
             [
              0.7777777777777778,
              "#fb9f3a"
             ],
             [
              0.8888888888888888,
              "#fdca26"
             ],
             [
              1,
              "#f0f921"
             ]
            ],
            "type": "heatmapgl"
           }
          ],
          "histogram": [
           {
            "marker": {
             "colorbar": {
              "outlinewidth": 0,
              "ticks": ""
             }
            },
            "type": "histogram"
           }
          ],
          "histogram2d": [
           {
            "colorbar": {
             "outlinewidth": 0,
             "ticks": ""
            },
            "colorscale": [
             [
              0,
              "#0d0887"
             ],
             [
              0.1111111111111111,
              "#46039f"
             ],
             [
              0.2222222222222222,
              "#7201a8"
             ],
             [
              0.3333333333333333,
              "#9c179e"
             ],
             [
              0.4444444444444444,
              "#bd3786"
             ],
             [
              0.5555555555555556,
              "#d8576b"
             ],
             [
              0.6666666666666666,
              "#ed7953"
             ],
             [
              0.7777777777777778,
              "#fb9f3a"
             ],
             [
              0.8888888888888888,
              "#fdca26"
             ],
             [
              1,
              "#f0f921"
             ]
            ],
            "type": "histogram2d"
           }
          ],
          "histogram2dcontour": [
           {
            "colorbar": {
             "outlinewidth": 0,
             "ticks": ""
            },
            "colorscale": [
             [
              0,
              "#0d0887"
             ],
             [
              0.1111111111111111,
              "#46039f"
             ],
             [
              0.2222222222222222,
              "#7201a8"
             ],
             [
              0.3333333333333333,
              "#9c179e"
             ],
             [
              0.4444444444444444,
              "#bd3786"
             ],
             [
              0.5555555555555556,
              "#d8576b"
             ],
             [
              0.6666666666666666,
              "#ed7953"
             ],
             [
              0.7777777777777778,
              "#fb9f3a"
             ],
             [
              0.8888888888888888,
              "#fdca26"
             ],
             [
              1,
              "#f0f921"
             ]
            ],
            "type": "histogram2dcontour"
           }
          ],
          "mesh3d": [
           {
            "colorbar": {
             "outlinewidth": 0,
             "ticks": ""
            },
            "type": "mesh3d"
           }
          ],
          "parcoords": [
           {
            "line": {
             "colorbar": {
              "outlinewidth": 0,
              "ticks": ""
             }
            },
            "type": "parcoords"
           }
          ],
          "pie": [
           {
            "automargin": true,
            "type": "pie"
           }
          ],
          "scatter": [
           {
            "marker": {
             "colorbar": {
              "outlinewidth": 0,
              "ticks": ""
             }
            },
            "type": "scatter"
           }
          ],
          "scatter3d": [
           {
            "line": {
             "colorbar": {
              "outlinewidth": 0,
              "ticks": ""
             }
            },
            "marker": {
             "colorbar": {
              "outlinewidth": 0,
              "ticks": ""
             }
            },
            "type": "scatter3d"
           }
          ],
          "scattercarpet": [
           {
            "marker": {
             "colorbar": {
              "outlinewidth": 0,
              "ticks": ""
             }
            },
            "type": "scattercarpet"
           }
          ],
          "scattergeo": [
           {
            "marker": {
             "colorbar": {
              "outlinewidth": 0,
              "ticks": ""
             }
            },
            "type": "scattergeo"
           }
          ],
          "scattergl": [
           {
            "marker": {
             "colorbar": {
              "outlinewidth": 0,
              "ticks": ""
             }
            },
            "type": "scattergl"
           }
          ],
          "scattermapbox": [
           {
            "marker": {
             "colorbar": {
              "outlinewidth": 0,
              "ticks": ""
             }
            },
            "type": "scattermapbox"
           }
          ],
          "scatterpolar": [
           {
            "marker": {
             "colorbar": {
              "outlinewidth": 0,
              "ticks": ""
             }
            },
            "type": "scatterpolar"
           }
          ],
          "scatterpolargl": [
           {
            "marker": {
             "colorbar": {
              "outlinewidth": 0,
              "ticks": ""
             }
            },
            "type": "scatterpolargl"
           }
          ],
          "scatterternary": [
           {
            "marker": {
             "colorbar": {
              "outlinewidth": 0,
              "ticks": ""
             }
            },
            "type": "scatterternary"
           }
          ],
          "surface": [
           {
            "colorbar": {
             "outlinewidth": 0,
             "ticks": ""
            },
            "colorscale": [
             [
              0,
              "#0d0887"
             ],
             [
              0.1111111111111111,
              "#46039f"
             ],
             [
              0.2222222222222222,
              "#7201a8"
             ],
             [
              0.3333333333333333,
              "#9c179e"
             ],
             [
              0.4444444444444444,
              "#bd3786"
             ],
             [
              0.5555555555555556,
              "#d8576b"
             ],
             [
              0.6666666666666666,
              "#ed7953"
             ],
             [
              0.7777777777777778,
              "#fb9f3a"
             ],
             [
              0.8888888888888888,
              "#fdca26"
             ],
             [
              1,
              "#f0f921"
             ]
            ],
            "type": "surface"
           }
          ],
          "table": [
           {
            "cells": {
             "fill": {
              "color": "#EBF0F8"
             },
             "line": {
              "color": "white"
             }
            },
            "header": {
             "fill": {
              "color": "#C8D4E3"
             },
             "line": {
              "color": "white"
             }
            },
            "type": "table"
           }
          ]
         },
         "layout": {
          "annotationdefaults": {
           "arrowcolor": "#2a3f5f",
           "arrowhead": 0,
           "arrowwidth": 1
          },
          "autotypenumbers": "strict",
          "coloraxis": {
           "colorbar": {
            "outlinewidth": 0,
            "ticks": ""
           }
          },
          "colorscale": {
           "diverging": [
            [
             0,
             "#8e0152"
            ],
            [
             0.1,
             "#c51b7d"
            ],
            [
             0.2,
             "#de77ae"
            ],
            [
             0.3,
             "#f1b6da"
            ],
            [
             0.4,
             "#fde0ef"
            ],
            [
             0.5,
             "#f7f7f7"
            ],
            [
             0.6,
             "#e6f5d0"
            ],
            [
             0.7,
             "#b8e186"
            ],
            [
             0.8,
             "#7fbc41"
            ],
            [
             0.9,
             "#4d9221"
            ],
            [
             1,
             "#276419"
            ]
           ],
           "sequential": [
            [
             0,
             "#0d0887"
            ],
            [
             0.1111111111111111,
             "#46039f"
            ],
            [
             0.2222222222222222,
             "#7201a8"
            ],
            [
             0.3333333333333333,
             "#9c179e"
            ],
            [
             0.4444444444444444,
             "#bd3786"
            ],
            [
             0.5555555555555556,
             "#d8576b"
            ],
            [
             0.6666666666666666,
             "#ed7953"
            ],
            [
             0.7777777777777778,
             "#fb9f3a"
            ],
            [
             0.8888888888888888,
             "#fdca26"
            ],
            [
             1,
             "#f0f921"
            ]
           ],
           "sequentialminus": [
            [
             0,
             "#0d0887"
            ],
            [
             0.1111111111111111,
             "#46039f"
            ],
            [
             0.2222222222222222,
             "#7201a8"
            ],
            [
             0.3333333333333333,
             "#9c179e"
            ],
            [
             0.4444444444444444,
             "#bd3786"
            ],
            [
             0.5555555555555556,
             "#d8576b"
            ],
            [
             0.6666666666666666,
             "#ed7953"
            ],
            [
             0.7777777777777778,
             "#fb9f3a"
            ],
            [
             0.8888888888888888,
             "#fdca26"
            ],
            [
             1,
             "#f0f921"
            ]
           ]
          },
          "colorway": [
           "#636efa",
           "#EF553B",
           "#00cc96",
           "#ab63fa",
           "#FFA15A",
           "#19d3f3",
           "#FF6692",
           "#B6E880",
           "#FF97FF",
           "#FECB52"
          ],
          "font": {
           "color": "#2a3f5f"
          },
          "geo": {
           "bgcolor": "white",
           "lakecolor": "white",
           "landcolor": "#E5ECF6",
           "showlakes": true,
           "showland": true,
           "subunitcolor": "white"
          },
          "hoverlabel": {
           "align": "left"
          },
          "hovermode": "closest",
          "mapbox": {
           "style": "light"
          },
          "paper_bgcolor": "white",
          "plot_bgcolor": "#E5ECF6",
          "polar": {
           "angularaxis": {
            "gridcolor": "white",
            "linecolor": "white",
            "ticks": ""
           },
           "bgcolor": "#E5ECF6",
           "radialaxis": {
            "gridcolor": "white",
            "linecolor": "white",
            "ticks": ""
           }
          },
          "scene": {
           "xaxis": {
            "backgroundcolor": "#E5ECF6",
            "gridcolor": "white",
            "gridwidth": 2,
            "linecolor": "white",
            "showbackground": true,
            "ticks": "",
            "zerolinecolor": "white"
           },
           "yaxis": {
            "backgroundcolor": "#E5ECF6",
            "gridcolor": "white",
            "gridwidth": 2,
            "linecolor": "white",
            "showbackground": true,
            "ticks": "",
            "zerolinecolor": "white"
           },
           "zaxis": {
            "backgroundcolor": "#E5ECF6",
            "gridcolor": "white",
            "gridwidth": 2,
            "linecolor": "white",
            "showbackground": true,
            "ticks": "",
            "zerolinecolor": "white"
           }
          },
          "shapedefaults": {
           "line": {
            "color": "#2a3f5f"
           }
          },
          "ternary": {
           "aaxis": {
            "gridcolor": "white",
            "linecolor": "white",
            "ticks": ""
           },
           "baxis": {
            "gridcolor": "white",
            "linecolor": "white",
            "ticks": ""
           },
           "bgcolor": "#E5ECF6",
           "caxis": {
            "gridcolor": "white",
            "linecolor": "white",
            "ticks": ""
           }
          },
          "title": {
           "x": 0.05
          },
          "xaxis": {
           "automargin": true,
           "gridcolor": "white",
           "linecolor": "white",
           "ticks": "",
           "title": {
            "standoff": 15
           },
           "zerolinecolor": "white",
           "zerolinewidth": 2
          },
          "yaxis": {
           "automargin": true,
           "gridcolor": "white",
           "linecolor": "white",
           "ticks": "",
           "title": {
            "standoff": 15
           },
           "zerolinecolor": "white",
           "zerolinewidth": 2
          }
         }
        }
       }
      }
     },
     "metadata": {}
    },
    {
     "output_type": "stream",
     "name": "stdout",
     "text": [
      "final centers: (-0.0025225365526765223, 0.33480314593047944)\n@SA124B.initSweep: resolution= 250000.0\n"
     ]
    },
    {
     "output_type": "display_data",
     "data": {
      "text/plain": "<Figure size 432x288 with 1 Axes>",
      "image/svg+xml": "<?xml version=\"1.0\" encoding=\"utf-8\" standalone=\"no\"?>\r\n<!DOCTYPE svg PUBLIC \"-//W3C//DTD SVG 1.1//EN\"\r\n  \"http://www.w3.org/Graphics/SVG/1.1/DTD/svg11.dtd\">\r\n<!-- Created with matplotlib (https://matplotlib.org/) -->\r\n<svg height=\"261.19625pt\" version=\"1.1\" viewBox=\"0 0 377.304687 261.19625\" width=\"377.304687pt\" xmlns=\"http://www.w3.org/2000/svg\" xmlns:xlink=\"http://www.w3.org/1999/xlink\">\r\n <metadata>\r\n  <rdf:RDF xmlns:cc=\"http://creativecommons.org/ns#\" xmlns:dc=\"http://purl.org/dc/elements/1.1/\" xmlns:rdf=\"http://www.w3.org/1999/02/22-rdf-syntax-ns#\">\r\n   <cc:Work>\r\n    <dc:type rdf:resource=\"http://purl.org/dc/dcmitype/StillImage\"/>\r\n    <dc:date>2021-01-13T16:16:46.970923</dc:date>\r\n    <dc:format>image/svg+xml</dc:format>\r\n    <dc:creator>\r\n     <cc:Agent>\r\n      <dc:title>Matplotlib v3.3.2, https://matplotlib.org/</dc:title>\r\n     </cc:Agent>\r\n    </dc:creator>\r\n   </cc:Work>\r\n  </rdf:RDF>\r\n </metadata>\r\n <defs>\r\n  <style type=\"text/css\">*{stroke-linecap:butt;stroke-linejoin:round;}</style>\r\n </defs>\r\n <g id=\"figure_1\">\r\n  <g id=\"patch_1\">\r\n   <path d=\"M 0 261.19625 \r\nL 377.304687 261.19625 \r\nL 377.304687 0 \r\nL 0 0 \r\nz\r\n\" style=\"fill:none;\"/>\r\n  </g>\r\n  <g id=\"axes_1\">\r\n   <g id=\"patch_2\">\r\n    <path d=\"M 35.304688 224.64 \r\nL 370.104688 224.64 \r\nL 370.104688 7.2 \r\nL 35.304688 7.2 \r\nz\r\n\" style=\"fill:#ffffff;\"/>\r\n   </g>\r\n   <g id=\"matplotlib.axis_1\">\r\n    <g id=\"xtick_1\">\r\n     <g id=\"line2d_1\">\r\n      <defs>\r\n       <path d=\"M 0 0 \r\nL 0 3.5 \r\n\" id=\"m2a78e7aab4\" style=\"stroke:#000000;stroke-width:0.8;\"/>\r\n      </defs>\r\n      <g>\r\n       <use style=\"stroke:#000000;stroke-width:0.8;\" x=\"80.910515\" xlink:href=\"#m2a78e7aab4\" y=\"224.64\"/>\r\n      </g>\r\n     </g>\r\n     <g id=\"text_1\">\r\n      <!-- 5.8 -->\r\n      <g transform=\"translate(72.958953 239.238438)scale(0.1 -0.1)\">\r\n       <defs>\r\n        <path d=\"M 10.796875 72.90625 \r\nL 49.515625 72.90625 \r\nL 49.515625 64.59375 \r\nL 19.828125 64.59375 \r\nL 19.828125 46.734375 \r\nQ 21.96875 47.46875 24.109375 47.828125 \r\nQ 26.265625 48.1875 28.421875 48.1875 \r\nQ 40.625 48.1875 47.75 41.5 \r\nQ 54.890625 34.8125 54.890625 23.390625 \r\nQ 54.890625 11.625 47.5625 5.09375 \r\nQ 40.234375 -1.421875 26.90625 -1.421875 \r\nQ 22.3125 -1.421875 17.546875 -0.640625 \r\nQ 12.796875 0.140625 7.71875 1.703125 \r\nL 7.71875 11.625 \r\nQ 12.109375 9.234375 16.796875 8.0625 \r\nQ 21.484375 6.890625 26.703125 6.890625 \r\nQ 35.15625 6.890625 40.078125 11.328125 \r\nQ 45.015625 15.765625 45.015625 23.390625 \r\nQ 45.015625 31 40.078125 35.4375 \r\nQ 35.15625 39.890625 26.703125 39.890625 \r\nQ 22.75 39.890625 18.8125 39.015625 \r\nQ 14.890625 38.140625 10.796875 36.28125 \r\nz\r\n\" id=\"DejaVuSans-53\"/>\r\n        <path d=\"M 10.6875 12.40625 \r\nL 21 12.40625 \r\nL 21 0 \r\nL 10.6875 0 \r\nz\r\n\" id=\"DejaVuSans-46\"/>\r\n        <path d=\"M 31.78125 34.625 \r\nQ 24.75 34.625 20.71875 30.859375 \r\nQ 16.703125 27.09375 16.703125 20.515625 \r\nQ 16.703125 13.921875 20.71875 10.15625 \r\nQ 24.75 6.390625 31.78125 6.390625 \r\nQ 38.8125 6.390625 42.859375 10.171875 \r\nQ 46.921875 13.96875 46.921875 20.515625 \r\nQ 46.921875 27.09375 42.890625 30.859375 \r\nQ 38.875 34.625 31.78125 34.625 \r\nz\r\nM 21.921875 38.8125 \r\nQ 15.578125 40.375 12.03125 44.71875 \r\nQ 8.5 49.078125 8.5 55.328125 \r\nQ 8.5 64.0625 14.71875 69.140625 \r\nQ 20.953125 74.21875 31.78125 74.21875 \r\nQ 42.671875 74.21875 48.875 69.140625 \r\nQ 55.078125 64.0625 55.078125 55.328125 \r\nQ 55.078125 49.078125 51.53125 44.71875 \r\nQ 48 40.375 41.703125 38.8125 \r\nQ 48.828125 37.15625 52.796875 32.3125 \r\nQ 56.78125 27.484375 56.78125 20.515625 \r\nQ 56.78125 9.90625 50.3125 4.234375 \r\nQ 43.84375 -1.421875 31.78125 -1.421875 \r\nQ 19.734375 -1.421875 13.25 4.234375 \r\nQ 6.78125 9.90625 6.78125 20.515625 \r\nQ 6.78125 27.484375 10.78125 32.3125 \r\nQ 14.796875 37.15625 21.921875 38.8125 \r\nz\r\nM 18.3125 54.390625 \r\nQ 18.3125 48.734375 21.84375 45.5625 \r\nQ 25.390625 42.390625 31.78125 42.390625 \r\nQ 38.140625 42.390625 41.71875 45.5625 \r\nQ 45.3125 48.734375 45.3125 54.390625 \r\nQ 45.3125 60.0625 41.71875 63.234375 \r\nQ 38.140625 66.40625 31.78125 66.40625 \r\nQ 25.390625 66.40625 21.84375 63.234375 \r\nQ 18.3125 60.0625 18.3125 54.390625 \r\nz\r\n\" id=\"DejaVuSans-56\"/>\r\n       </defs>\r\n       <use xlink:href=\"#DejaVuSans-53\"/>\r\n       <use x=\"63.623047\" xlink:href=\"#DejaVuSans-46\"/>\r\n       <use x=\"95.410156\" xlink:href=\"#DejaVuSans-56\"/>\r\n      </g>\r\n     </g>\r\n    </g>\r\n    <g id=\"xtick_2\">\r\n     <g id=\"line2d_2\">\r\n      <g>\r\n       <use style=\"stroke:#000000;stroke-width:0.8;\" x=\"141.807601\" xlink:href=\"#m2a78e7aab4\" y=\"224.64\"/>\r\n      </g>\r\n     </g>\r\n     <g id=\"text_2\">\r\n      <!-- 5.9 -->\r\n      <g transform=\"translate(133.856039 239.238438)scale(0.1 -0.1)\">\r\n       <defs>\r\n        <path d=\"M 10.984375 1.515625 \r\nL 10.984375 10.5 \r\nQ 14.703125 8.734375 18.5 7.8125 \r\nQ 22.3125 6.890625 25.984375 6.890625 \r\nQ 35.75 6.890625 40.890625 13.453125 \r\nQ 46.046875 20.015625 46.78125 33.40625 \r\nQ 43.953125 29.203125 39.59375 26.953125 \r\nQ 35.25 24.703125 29.984375 24.703125 \r\nQ 19.046875 24.703125 12.671875 31.3125 \r\nQ 6.296875 37.9375 6.296875 49.421875 \r\nQ 6.296875 60.640625 12.9375 67.421875 \r\nQ 19.578125 74.21875 30.609375 74.21875 \r\nQ 43.265625 74.21875 49.921875 64.515625 \r\nQ 56.59375 54.828125 56.59375 36.375 \r\nQ 56.59375 19.140625 48.40625 8.859375 \r\nQ 40.234375 -1.421875 26.421875 -1.421875 \r\nQ 22.703125 -1.421875 18.890625 -0.6875 \r\nQ 15.09375 0.046875 10.984375 1.515625 \r\nz\r\nM 30.609375 32.421875 \r\nQ 37.25 32.421875 41.125 36.953125 \r\nQ 45.015625 41.5 45.015625 49.421875 \r\nQ 45.015625 57.28125 41.125 61.84375 \r\nQ 37.25 66.40625 30.609375 66.40625 \r\nQ 23.96875 66.40625 20.09375 61.84375 \r\nQ 16.21875 57.28125 16.21875 49.421875 \r\nQ 16.21875 41.5 20.09375 36.953125 \r\nQ 23.96875 32.421875 30.609375 32.421875 \r\nz\r\n\" id=\"DejaVuSans-57\"/>\r\n       </defs>\r\n       <use xlink:href=\"#DejaVuSans-53\"/>\r\n       <use x=\"63.623047\" xlink:href=\"#DejaVuSans-46\"/>\r\n       <use x=\"95.410156\" xlink:href=\"#DejaVuSans-57\"/>\r\n      </g>\r\n     </g>\r\n    </g>\r\n    <g id=\"xtick_3\">\r\n     <g id=\"line2d_3\">\r\n      <g>\r\n       <use style=\"stroke:#000000;stroke-width:0.8;\" x=\"202.704687\" xlink:href=\"#m2a78e7aab4\" y=\"224.64\"/>\r\n      </g>\r\n     </g>\r\n     <g id=\"text_3\">\r\n      <!-- 6.0 -->\r\n      <g transform=\"translate(194.753125 239.238438)scale(0.1 -0.1)\">\r\n       <defs>\r\n        <path d=\"M 33.015625 40.375 \r\nQ 26.375 40.375 22.484375 35.828125 \r\nQ 18.609375 31.296875 18.609375 23.390625 \r\nQ 18.609375 15.53125 22.484375 10.953125 \r\nQ 26.375 6.390625 33.015625 6.390625 \r\nQ 39.65625 6.390625 43.53125 10.953125 \r\nQ 47.40625 15.53125 47.40625 23.390625 \r\nQ 47.40625 31.296875 43.53125 35.828125 \r\nQ 39.65625 40.375 33.015625 40.375 \r\nz\r\nM 52.59375 71.296875 \r\nL 52.59375 62.3125 \r\nQ 48.875 64.0625 45.09375 64.984375 \r\nQ 41.3125 65.921875 37.59375 65.921875 \r\nQ 27.828125 65.921875 22.671875 59.328125 \r\nQ 17.53125 52.734375 16.796875 39.40625 \r\nQ 19.671875 43.65625 24.015625 45.921875 \r\nQ 28.375 48.1875 33.59375 48.1875 \r\nQ 44.578125 48.1875 50.953125 41.515625 \r\nQ 57.328125 34.859375 57.328125 23.390625 \r\nQ 57.328125 12.15625 50.6875 5.359375 \r\nQ 44.046875 -1.421875 33.015625 -1.421875 \r\nQ 20.359375 -1.421875 13.671875 8.265625 \r\nQ 6.984375 17.96875 6.984375 36.375 \r\nQ 6.984375 53.65625 15.1875 63.9375 \r\nQ 23.390625 74.21875 37.203125 74.21875 \r\nQ 40.921875 74.21875 44.703125 73.484375 \r\nQ 48.484375 72.75 52.59375 71.296875 \r\nz\r\n\" id=\"DejaVuSans-54\"/>\r\n        <path d=\"M 31.78125 66.40625 \r\nQ 24.171875 66.40625 20.328125 58.90625 \r\nQ 16.5 51.421875 16.5 36.375 \r\nQ 16.5 21.390625 20.328125 13.890625 \r\nQ 24.171875 6.390625 31.78125 6.390625 \r\nQ 39.453125 6.390625 43.28125 13.890625 \r\nQ 47.125 21.390625 47.125 36.375 \r\nQ 47.125 51.421875 43.28125 58.90625 \r\nQ 39.453125 66.40625 31.78125 66.40625 \r\nz\r\nM 31.78125 74.21875 \r\nQ 44.046875 74.21875 50.515625 64.515625 \r\nQ 56.984375 54.828125 56.984375 36.375 \r\nQ 56.984375 17.96875 50.515625 8.265625 \r\nQ 44.046875 -1.421875 31.78125 -1.421875 \r\nQ 19.53125 -1.421875 13.0625 8.265625 \r\nQ 6.59375 17.96875 6.59375 36.375 \r\nQ 6.59375 54.828125 13.0625 64.515625 \r\nQ 19.53125 74.21875 31.78125 74.21875 \r\nz\r\n\" id=\"DejaVuSans-48\"/>\r\n       </defs>\r\n       <use xlink:href=\"#DejaVuSans-54\"/>\r\n       <use x=\"63.623047\" xlink:href=\"#DejaVuSans-46\"/>\r\n       <use x=\"95.410156\" xlink:href=\"#DejaVuSans-48\"/>\r\n      </g>\r\n     </g>\r\n    </g>\r\n    <g id=\"xtick_4\">\r\n     <g id=\"line2d_4\">\r\n      <g>\r\n       <use style=\"stroke:#000000;stroke-width:0.8;\" x=\"263.601774\" xlink:href=\"#m2a78e7aab4\" y=\"224.64\"/>\r\n      </g>\r\n     </g>\r\n     <g id=\"text_4\">\r\n      <!-- 6.1 -->\r\n      <g transform=\"translate(255.650211 239.238438)scale(0.1 -0.1)\">\r\n       <defs>\r\n        <path d=\"M 12.40625 8.296875 \r\nL 28.515625 8.296875 \r\nL 28.515625 63.921875 \r\nL 10.984375 60.40625 \r\nL 10.984375 69.390625 \r\nL 28.421875 72.90625 \r\nL 38.28125 72.90625 \r\nL 38.28125 8.296875 \r\nL 54.390625 8.296875 \r\nL 54.390625 0 \r\nL 12.40625 0 \r\nz\r\n\" id=\"DejaVuSans-49\"/>\r\n       </defs>\r\n       <use xlink:href=\"#DejaVuSans-54\"/>\r\n       <use x=\"63.623047\" xlink:href=\"#DejaVuSans-46\"/>\r\n       <use x=\"95.410156\" xlink:href=\"#DejaVuSans-49\"/>\r\n      </g>\r\n     </g>\r\n    </g>\r\n    <g id=\"xtick_5\">\r\n     <g id=\"line2d_5\">\r\n      <g>\r\n       <use style=\"stroke:#000000;stroke-width:0.8;\" x=\"324.49886\" xlink:href=\"#m2a78e7aab4\" y=\"224.64\"/>\r\n      </g>\r\n     </g>\r\n     <g id=\"text_5\">\r\n      <!-- 6.2 -->\r\n      <g transform=\"translate(316.547297 239.238438)scale(0.1 -0.1)\">\r\n       <defs>\r\n        <path d=\"M 19.1875 8.296875 \r\nL 53.609375 8.296875 \r\nL 53.609375 0 \r\nL 7.328125 0 \r\nL 7.328125 8.296875 \r\nQ 12.9375 14.109375 22.625 23.890625 \r\nQ 32.328125 33.6875 34.8125 36.53125 \r\nQ 39.546875 41.84375 41.421875 45.53125 \r\nQ 43.3125 49.21875 43.3125 52.78125 \r\nQ 43.3125 58.59375 39.234375 62.25 \r\nQ 35.15625 65.921875 28.609375 65.921875 \r\nQ 23.96875 65.921875 18.8125 64.3125 \r\nQ 13.671875 62.703125 7.8125 59.421875 \r\nL 7.8125 69.390625 \r\nQ 13.765625 71.78125 18.9375 73 \r\nQ 24.125 74.21875 28.421875 74.21875 \r\nQ 39.75 74.21875 46.484375 68.546875 \r\nQ 53.21875 62.890625 53.21875 53.421875 \r\nQ 53.21875 48.921875 51.53125 44.890625 \r\nQ 49.859375 40.875 45.40625 35.40625 \r\nQ 44.1875 33.984375 37.640625 27.21875 \r\nQ 31.109375 20.453125 19.1875 8.296875 \r\nz\r\n\" id=\"DejaVuSans-50\"/>\r\n       </defs>\r\n       <use xlink:href=\"#DejaVuSans-54\"/>\r\n       <use x=\"63.623047\" xlink:href=\"#DejaVuSans-46\"/>\r\n       <use x=\"95.410156\" xlink:href=\"#DejaVuSans-50\"/>\r\n      </g>\r\n     </g>\r\n    </g>\r\n    <g id=\"text_6\">\r\n     <!-- 1e9 -->\r\n     <g transform=\"translate(351.226562 251.916563)scale(0.1 -0.1)\">\r\n      <defs>\r\n       <path d=\"M 56.203125 29.59375 \r\nL 56.203125 25.203125 \r\nL 14.890625 25.203125 \r\nQ 15.484375 15.921875 20.484375 11.0625 \r\nQ 25.484375 6.203125 34.421875 6.203125 \r\nQ 39.59375 6.203125 44.453125 7.46875 \r\nQ 49.3125 8.734375 54.109375 11.28125 \r\nL 54.109375 2.78125 \r\nQ 49.265625 0.734375 44.1875 -0.34375 \r\nQ 39.109375 -1.421875 33.890625 -1.421875 \r\nQ 20.796875 -1.421875 13.15625 6.1875 \r\nQ 5.515625 13.8125 5.515625 26.8125 \r\nQ 5.515625 40.234375 12.765625 48.109375 \r\nQ 20.015625 56 32.328125 56 \r\nQ 43.359375 56 49.78125 48.890625 \r\nQ 56.203125 41.796875 56.203125 29.59375 \r\nz\r\nM 47.21875 32.234375 \r\nQ 47.125 39.59375 43.09375 43.984375 \r\nQ 39.0625 48.390625 32.421875 48.390625 \r\nQ 24.90625 48.390625 20.390625 44.140625 \r\nQ 15.875 39.890625 15.1875 32.171875 \r\nz\r\n\" id=\"DejaVuSans-101\"/>\r\n      </defs>\r\n      <use xlink:href=\"#DejaVuSans-49\"/>\r\n      <use x=\"63.623047\" xlink:href=\"#DejaVuSans-101\"/>\r\n      <use x=\"125.146484\" xlink:href=\"#DejaVuSans-57\"/>\r\n     </g>\r\n    </g>\r\n   </g>\r\n   <g id=\"matplotlib.axis_2\">\r\n    <g id=\"ytick_1\">\r\n     <g id=\"line2d_6\">\r\n      <defs>\r\n       <path d=\"M 0 0 \r\nL -3.5 0 \r\n\" id=\"m6fc75027a7\" style=\"stroke:#000000;stroke-width:0.8;\"/>\r\n      </defs>\r\n      <g>\r\n       <use style=\"stroke:#000000;stroke-width:0.8;\" x=\"35.304688\" xlink:href=\"#m6fc75027a7\" y=\"188.70579\"/>\r\n      </g>\r\n     </g>\r\n     <g id=\"text_7\">\r\n      <!-- −60 -->\r\n      <g transform=\"translate(7.2 192.505008)scale(0.1 -0.1)\">\r\n       <defs>\r\n        <path d=\"M 10.59375 35.5 \r\nL 73.1875 35.5 \r\nL 73.1875 27.203125 \r\nL 10.59375 27.203125 \r\nz\r\n\" id=\"DejaVuSans-8722\"/>\r\n       </defs>\r\n       <use xlink:href=\"#DejaVuSans-8722\"/>\r\n       <use x=\"83.789062\" xlink:href=\"#DejaVuSans-54\"/>\r\n       <use x=\"147.412109\" xlink:href=\"#DejaVuSans-48\"/>\r\n      </g>\r\n     </g>\r\n    </g>\r\n    <g id=\"ytick_2\">\r\n     <g id=\"line2d_7\">\r\n      <g>\r\n       <use style=\"stroke:#000000;stroke-width:0.8;\" x=\"35.304688\" xlink:href=\"#m6fc75027a7\" y=\"149.714898\"/>\r\n      </g>\r\n     </g>\r\n     <g id=\"text_8\">\r\n      <!-- −50 -->\r\n      <g transform=\"translate(7.2 153.514116)scale(0.1 -0.1)\">\r\n       <use xlink:href=\"#DejaVuSans-8722\"/>\r\n       <use x=\"83.789062\" xlink:href=\"#DejaVuSans-53\"/>\r\n       <use x=\"147.412109\" xlink:href=\"#DejaVuSans-48\"/>\r\n      </g>\r\n     </g>\r\n    </g>\r\n    <g id=\"ytick_3\">\r\n     <g id=\"line2d_8\">\r\n      <g>\r\n       <use style=\"stroke:#000000;stroke-width:0.8;\" x=\"35.304688\" xlink:href=\"#m6fc75027a7\" y=\"110.724005\"/>\r\n      </g>\r\n     </g>\r\n     <g id=\"text_9\">\r\n      <!-- −40 -->\r\n      <g transform=\"translate(7.2 114.523224)scale(0.1 -0.1)\">\r\n       <defs>\r\n        <path d=\"M 37.796875 64.3125 \r\nL 12.890625 25.390625 \r\nL 37.796875 25.390625 \r\nz\r\nM 35.203125 72.90625 \r\nL 47.609375 72.90625 \r\nL 47.609375 25.390625 \r\nL 58.015625 25.390625 \r\nL 58.015625 17.1875 \r\nL 47.609375 17.1875 \r\nL 47.609375 0 \r\nL 37.796875 0 \r\nL 37.796875 17.1875 \r\nL 4.890625 17.1875 \r\nL 4.890625 26.703125 \r\nz\r\n\" id=\"DejaVuSans-52\"/>\r\n       </defs>\r\n       <use xlink:href=\"#DejaVuSans-8722\"/>\r\n       <use x=\"83.789062\" xlink:href=\"#DejaVuSans-52\"/>\r\n       <use x=\"147.412109\" xlink:href=\"#DejaVuSans-48\"/>\r\n      </g>\r\n     </g>\r\n    </g>\r\n    <g id=\"ytick_4\">\r\n     <g id=\"line2d_9\">\r\n      <g>\r\n       <use style=\"stroke:#000000;stroke-width:0.8;\" x=\"35.304688\" xlink:href=\"#m6fc75027a7\" y=\"71.733113\"/>\r\n      </g>\r\n     </g>\r\n     <g id=\"text_10\">\r\n      <!-- −30 -->\r\n      <g transform=\"translate(7.2 75.532332)scale(0.1 -0.1)\">\r\n       <defs>\r\n        <path d=\"M 40.578125 39.3125 \r\nQ 47.65625 37.796875 51.625 33 \r\nQ 55.609375 28.21875 55.609375 21.1875 \r\nQ 55.609375 10.40625 48.1875 4.484375 \r\nQ 40.765625 -1.421875 27.09375 -1.421875 \r\nQ 22.515625 -1.421875 17.65625 -0.515625 \r\nQ 12.796875 0.390625 7.625 2.203125 \r\nL 7.625 11.71875 \r\nQ 11.71875 9.328125 16.59375 8.109375 \r\nQ 21.484375 6.890625 26.8125 6.890625 \r\nQ 36.078125 6.890625 40.9375 10.546875 \r\nQ 45.796875 14.203125 45.796875 21.1875 \r\nQ 45.796875 27.640625 41.28125 31.265625 \r\nQ 36.765625 34.90625 28.71875 34.90625 \r\nL 20.21875 34.90625 \r\nL 20.21875 43.015625 \r\nL 29.109375 43.015625 \r\nQ 36.375 43.015625 40.234375 45.921875 \r\nQ 44.09375 48.828125 44.09375 54.296875 \r\nQ 44.09375 59.90625 40.109375 62.90625 \r\nQ 36.140625 65.921875 28.71875 65.921875 \r\nQ 24.65625 65.921875 20.015625 65.03125 \r\nQ 15.375 64.15625 9.8125 62.3125 \r\nL 9.8125 71.09375 \r\nQ 15.4375 72.65625 20.34375 73.4375 \r\nQ 25.25 74.21875 29.59375 74.21875 \r\nQ 40.828125 74.21875 47.359375 69.109375 \r\nQ 53.90625 64.015625 53.90625 55.328125 \r\nQ 53.90625 49.265625 50.4375 45.09375 \r\nQ 46.96875 40.921875 40.578125 39.3125 \r\nz\r\n\" id=\"DejaVuSans-51\"/>\r\n       </defs>\r\n       <use xlink:href=\"#DejaVuSans-8722\"/>\r\n       <use x=\"83.789062\" xlink:href=\"#DejaVuSans-51\"/>\r\n       <use x=\"147.412109\" xlink:href=\"#DejaVuSans-48\"/>\r\n      </g>\r\n     </g>\r\n    </g>\r\n    <g id=\"ytick_5\">\r\n     <g id=\"line2d_10\">\r\n      <g>\r\n       <use style=\"stroke:#000000;stroke-width:0.8;\" x=\"35.304688\" xlink:href=\"#m6fc75027a7\" y=\"32.742221\"/>\r\n      </g>\r\n     </g>\r\n     <g id=\"text_11\">\r\n      <!-- −20 -->\r\n      <g transform=\"translate(7.2 36.54144)scale(0.1 -0.1)\">\r\n       <use xlink:href=\"#DejaVuSans-8722\"/>\r\n       <use x=\"83.789062\" xlink:href=\"#DejaVuSans-50\"/>\r\n       <use x=\"147.412109\" xlink:href=\"#DejaVuSans-48\"/>\r\n      </g>\r\n     </g>\r\n    </g>\r\n   </g>\r\n   <g id=\"line2d_11\">\r\n    <path clip-path=\"url(#pbdf1ac5e16)\" d=\"M 50.522869 41.198198 \r\nL 50.766458 206.526231 \r\nL 50.888252 209.644643 \r\nL 51.010046 208.669958 \r\nL 51.253634 211.989941 \r\nL 51.375429 210.51257 \r\nL 51.497223 210.435621 \r\nL 51.619017 210.753747 \r\nL 51.862605 209.101925 \r\nL 51.984399 211.739224 \r\nL 52.106194 211.697239 \r\nL 52.227988 210.153708 \r\nL 52.349782 211.260331 \r\nL 52.471576 211.261292 \r\nL 52.715164 210.666012 \r\nL 52.836959 211.086115 \r\nL 53.080547 209.892517 \r\nL 53.202341 210.361167 \r\nL 53.324135 211.905074 \r\nL 53.445929 211.561909 \r\nL 53.567724 208.903679 \r\nL 53.689518 209.466396 \r\nL 53.811312 209.315256 \r\nL 53.933106 208.77535 \r\nL 54.0549 211.305899 \r\nL 54.176694 210.084812 \r\nL 54.298489 210.927651 \r\nL 54.542077 209.652226 \r\nL 54.663871 210.005397 \r\nL 54.785665 209.691425 \r\nL 55.029254 208.216247 \r\nL 55.151048 210.210453 \r\nL 55.272842 209.80925 \r\nL 55.394636 209.882898 \r\nL 55.51643 209.026376 \r\nL 55.638225 211.980186 \r\nL 55.760019 211.148129 \r\nL 55.881813 211.847545 \r\nL 56.003607 209.277961 \r\nL 56.125401 209.782721 \r\nL 56.247195 210.928767 \r\nL 56.36899 210.869708 \r\nL 56.612578 212.254209 \r\nL 56.734372 210.369725 \r\nL 56.856166 210.600909 \r\nL 56.97796 210.424289 \r\nL 57.099755 208.415123 \r\nL 57.221549 211.817078 \r\nL 57.343343 210.210546 \r\nL 57.465137 211.201596 \r\nL 57.708725 209.474639 \r\nL 57.83052 211.374047 \r\nL 57.952314 210.124849 \r\nL 58.074108 210.55685 \r\nL 58.195902 210.053788 \r\nL 58.317696 211.556223 \r\nL 58.683079 209.613816 \r\nL 58.804873 210.484377 \r\nL 58.926667 212.271339 \r\nL 59.170256 210.357905 \r\nL 59.29205 211.425505 \r\nL 59.413844 210.49432 \r\nL 59.535638 211.710916 \r\nL 59.657432 209.791389 \r\nL 59.779226 210.299213 \r\nL 59.901021 210.278385 \r\nL 60.022815 210.622575 \r\nL 60.144609 210.244354 \r\nL 60.266403 210.902549 \r\nL 60.388197 210.559106 \r\nL 60.509991 211.367261 \r\nL 60.631786 209.96396 \r\nL 60.75358 211.191878 \r\nL 60.997168 209.493917 \r\nL 61.118962 210.920088 \r\nL 61.240756 209.166803 \r\nL 61.484345 211.472277 \r\nL 61.606139 210.862937 \r\nL 61.727933 210.994133 \r\nL 61.849727 210.570555 \r\nL 61.971522 211.547011 \r\nL 62.093316 208.273512 \r\nL 62.21511 211.527104 \r\nL 62.336904 211.450409 \r\nL 62.458698 209.118967 \r\nL 62.580492 211.091674 \r\nL 62.702287 211.066908 \r\nL 62.824081 210.684368 \r\nL 62.945875 212.346312 \r\nL 63.067669 209.293921 \r\nL 63.311257 210.273204 \r\nL 63.554846 208.71061 \r\nL 63.67664 209.091226 \r\nL 63.798434 211.254655 \r\nL 63.920228 209.919484 \r\nL 64.042022 211.480345 \r\nL 64.285611 208.874087 \r\nL 64.650993 210.747012 \r\nL 64.772787 210.680438 \r\nL 64.894582 207.969274 \r\nL 65.13817 211.209856 \r\nL 65.259964 209.75576 \r\nL 65.381758 210.779139 \r\nL 65.503553 210.783197 \r\nL 65.625347 209.285597 \r\nL 65.747141 209.695991 \r\nL 65.868935 210.617307 \r\nL 66.112523 208.699904 \r\nL 66.356112 211.448649 \r\nL 66.477906 211.10858 \r\nL 66.5997 208.543219 \r\nL 66.843288 210.532065 \r\nL 66.965083 209.429855 \r\nL 67.086877 210.86805 \r\nL 67.208671 209.595879 \r\nL 67.452259 210.656355 \r\nL 67.574053 210.390067 \r\nL 67.939436 207.580342 \r\nL 68.06123 210.428993 \r\nL 68.183024 210.497752 \r\nL 68.304818 209.402359 \r\nL 68.548407 210.740166 \r\nL 68.670201 211.582582 \r\nL 68.791995 210.756956 \r\nL 68.913789 210.778293 \r\nL 69.035583 207.886972 \r\nL 69.157378 212.542864 \r\nL 69.400966 208.542721 \r\nL 69.644554 211.929503 \r\nL 69.766349 208.132835 \r\nL 70.009937 209.428559 \r\nL 70.131731 209.543885 \r\nL 70.375319 212.102736 \r\nL 70.618908 209.807374 \r\nL 70.98429 209.728968 \r\nL 71.106084 210.303749 \r\nL 71.227879 210.138301 \r\nL 71.471467 210.518535 \r\nL 71.593261 210.19765 \r\nL 71.715055 212.000461 \r\nL 71.958644 209.002973 \r\nL 72.080438 211.04896 \r\nL 72.202232 209.891713 \r\nL 72.324026 211.232075 \r\nL 72.44582 209.490294 \r\nL 72.567614 211.52942 \r\nL 72.689409 209.61586 \r\nL 72.811203 210.129651 \r\nL 72.932997 210.11479 \r\nL 73.054791 209.248046 \r\nL 73.29838 210.756855 \r\nL 73.541968 209.687399 \r\nL 73.663762 207.626943 \r\nL 73.785556 208.3445 \r\nL 74.029145 210.142905 \r\nL 74.150939 209.201748 \r\nL 74.272733 209.491546 \r\nL 74.516321 211.386254 \r\nL 74.638115 210.911914 \r\nL 74.881704 208.787684 \r\nL 75.003498 211.473524 \r\nL 75.125292 207.912481 \r\nL 75.36888 209.718224 \r\nL 75.490675 208.283723 \r\nL 75.612469 211.010247 \r\nL 75.734263 210.984244 \r\nL 75.856057 210.60082 \r\nL 75.977851 212.26188 \r\nL 76.099645 210.251529 \r\nL 76.22144 210.285096 \r\nL 76.343234 210.186118 \r\nL 76.465028 208.980116 \r\nL 76.586822 211.832859 \r\nL 76.708616 210.06056 \r\nL 76.830411 211.164032 \r\nL 76.952205 210.129561 \r\nL 77.073999 211.387952 \r\nL 77.317587 208.779926 \r\nL 77.439381 213.143376 \r\nL 77.561176 209.772064 \r\nL 77.68297 210.650197 \r\nL 77.804764 210.582739 \r\nL 77.926558 208.695546 \r\nL 78.170146 209.936003 \r\nL 78.291941 209.654523 \r\nL 78.413735 209.721684 \r\nL 78.535529 210.604121 \r\nL 78.900911 207.788572 \r\nL 79.022706 209.606477 \r\nL 79.1445 207.499757 \r\nL 79.266294 211.835993 \r\nL 79.388088 209.594811 \r\nL 79.509882 210.353159 \r\nL 79.631676 209.49422 \r\nL 80.118853 211.94457 \r\nL 80.362442 210.265987 \r\nL 80.484236 210.539199 \r\nL 80.60603 210.272027 \r\nL 80.727824 209.285531 \r\nL 80.849618 184.591338 \r\nL 80.971412 186.055415 \r\nL 81.093207 210.316094 \r\nL 81.215001 210.389756 \r\nL 81.336795 209.223923 \r\nL 81.458589 211.782852 \r\nL 81.823972 208.195783 \r\nL 81.945766 210.689701 \r\nL 82.06756 209.810044 \r\nL 82.189354 212.450735 \r\nL 82.311148 208.667337 \r\nL 82.432942 209.972102 \r\nL 82.554737 209.072966 \r\nL 82.676531 209.767803 \r\nL 82.798325 208.031861 \r\nL 82.920119 210.674521 \r\nL 83.041913 209.407115 \r\nL 83.163707 210.477232 \r\nL 83.285502 208.734666 \r\nL 83.407296 211.992918 \r\nL 83.52909 210.3014 \r\nL 83.650884 210.678326 \r\nL 83.772678 209.672695 \r\nL 83.894473 210.465426 \r\nL 84.016267 209.610306 \r\nL 84.138061 209.903754 \r\nL 84.259855 210.641521 \r\nL 84.381649 209.21444 \r\nL 84.747032 211.871185 \r\nL 84.868826 209.406092 \r\nL 84.99062 209.4292 \r\nL 85.112414 209.31552 \r\nL 85.234208 209.034262 \r\nL 85.599591 211.161086 \r\nL 85.721385 209.442996 \r\nL 85.843179 212.766867 \r\nL 85.964973 207.927064 \r\nL 86.330356 210.604584 \r\nL 86.45215 210.974399 \r\nL 86.695738 207.469366 \r\nL 86.939327 208.343878 \r\nL 87.061121 210.280786 \r\nL 87.304709 209.31118 \r\nL 87.670092 210.709509 \r\nL 87.791886 210.23833 \r\nL 87.91368 208.937273 \r\nL 88.035474 211.181341 \r\nL 88.157269 207.699579 \r\nL 88.400857 209.50574 \r\nL 88.644445 208.246932 \r\nL 88.766239 209.027668 \r\nL 88.888034 208.709396 \r\nL 89.009828 211.213458 \r\nL 89.131622 210.040297 \r\nL 89.253416 211.627569 \r\nL 89.37521 209.140042 \r\nL 89.618799 211.622462 \r\nL 89.740593 209.850372 \r\nL 89.862387 210.718563 \r\nL 89.984181 209.91979 \r\nL 90.105975 210.885866 \r\nL 90.227769 208.711752 \r\nL 90.349564 208.726158 \r\nL 90.471358 212.934441 \r\nL 90.714946 208.776624 \r\nL 90.83674 209.305068 \r\nL 90.958534 211.067821 \r\nL 91.080329 208.590695 \r\nL 91.202123 209.72832 \r\nL 91.445711 208.79477 \r\nL 91.567505 210.397065 \r\nL 91.811094 207.80094 \r\nL 92.054682 210.468272 \r\nL 92.176476 206.613747 \r\nL 92.29827 211.630189 \r\nL 92.541859 210.147773 \r\nL 92.663653 209.289043 \r\nL 92.785447 210.554767 \r\nL 93.029035 210.644049 \r\nL 93.15083 211.741038 \r\nL 93.394418 209.283285 \r\nL 93.516212 212.544797 \r\nL 93.7598 208.931305 \r\nL 93.881595 208.568299 \r\nL 94.125183 209.750052 \r\nL 94.246977 209.485953 \r\nL 94.368771 208.847133 \r\nL 94.490565 211.573409 \r\nL 94.734154 209.313186 \r\nL 94.977742 210.403743 \r\nL 95.099536 209.580817 \r\nL 95.221331 210.113286 \r\nL 95.343125 208.430197 \r\nL 95.464919 209.731006 \r\nL 95.586713 209.033317 \r\nL 95.708507 210.336477 \r\nL 95.830301 207.090707 \r\nL 95.952096 212.436515 \r\nL 96.07389 209.774954 \r\nL 96.195684 210.212397 \r\nL 96.317478 208.633803 \r\nL 96.439272 208.99613 \r\nL 96.682861 210.397664 \r\nL 96.804655 208.539283 \r\nL 96.926449 212.24184 \r\nL 97.048243 208.14073 \r\nL 97.291831 210.470572 \r\nL 97.413626 208.634027 \r\nL 97.657214 210.842891 \r\nL 97.779008 209.529955 \r\nL 97.900802 210.525276 \r\nL 98.144391 208.987379 \r\nL 98.266185 208.702164 \r\nL 98.875156 212.414986 \r\nL 98.99695 208.81218 \r\nL 99.118744 210.036594 \r\nL 99.240538 208.612083 \r\nL 99.484127 210.602003 \r\nL 99.605921 208.588262 \r\nL 99.727715 209.141922 \r\nL 99.971303 207.452413 \r\nL 100.214892 210.987346 \r\nL 100.336686 208.857448 \r\nL 100.580274 210.014201 \r\nL 100.702068 209.504899 \r\nL 100.945657 210.324235 \r\nL 101.311039 208.07174 \r\nL 101.554627 209.412305 \r\nL 101.676422 208.166765 \r\nL 101.798216 208.65541 \r\nL 101.92001 208.338466 \r\nL 102.041804 211.746967 \r\nL 102.163598 207.560969 \r\nL 102.285393 211.260624 \r\nL 102.407187 208.774426 \r\nL 102.528981 210.413022 \r\nL 102.650775 208.132044 \r\nL 102.772569 209.615412 \r\nL 102.894363 209.309799 \r\nL 103.016158 208.652474 \r\nL 103.137952 210.528218 \r\nL 103.38154 209.322097 \r\nL 103.503334 209.004158 \r\nL 103.625128 209.992004 \r\nL 103.868717 208.955389 \r\nL 103.990511 210.719471 \r\nL 104.355893 209.050828 \r\nL 104.599482 211.278887 \r\nL 104.721276 208.089717 \r\nL 104.84307 209.96546 \r\nL 104.964864 208.594463 \r\nL 105.086658 210.669154 \r\nL 105.330247 207.898925 \r\nL 105.452041 210.128903 \r\nL 105.573835 207.925505 \r\nL 105.939218 210.279975 \r\nL 106.061012 209.743622 \r\nL 106.182806 208.043273 \r\nL 106.3046 210.080298 \r\nL 106.426394 208.98228 \r\nL 106.548189 212.246113 \r\nL 106.669983 209.07489 \r\nL 106.913571 209.806716 \r\nL 107.035365 209.287274 \r\nL 107.157159 209.462974 \r\nL 107.400748 208.92376 \r\nL 107.522542 208.857124 \r\nL 107.644336 208.031885 \r\nL 107.76613 211.278076 \r\nL 107.887924 209.991836 \r\nL 108.009719 210.476145 \r\nL 108.131513 207.739027 \r\nL 108.375101 209.333787 \r\nL 108.496895 208.588478 \r\nL 108.618689 208.774094 \r\nL 108.740484 210.079575 \r\nL 108.862278 206.836126 \r\nL 108.984072 212.184256 \r\nL 109.22766 208.094524 \r\nL 109.471249 208.452246 \r\nL 109.714837 210.33976 \r\nL 109.836631 209.042993 \r\nL 109.958425 212.008151 \r\nL 110.08022 207.28767 \r\nL 110.323808 210.243847 \r\nL 110.445602 208.4406 \r\nL 110.567396 209.331225 \r\nL 110.68919 211.157859 \r\nL 110.810985 209.312514 \r\nL 110.932779 210.310157 \r\nL 111.054573 209.176323 \r\nL 111.176367 203.699849 \r\nL 111.298161 86.797098 \r\nL 111.419955 86.958471 \r\nL 111.54175 206.086935 \r\nL 111.785338 211.180402 \r\nL 111.907132 209.904636 \r\nL 112.028926 210.736461 \r\nL 112.272515 209.137912 \r\nL 112.394309 209.607407 \r\nL 112.637897 207.678007 \r\nL 112.759691 209.955895 \r\nL 112.881485 208.480292 \r\nL 113.00328 209.391276 \r\nL 113.125074 208.160542 \r\nL 113.246868 210.94102 \r\nL 113.368662 208.350982 \r\nL 113.490456 208.785393 \r\nL 113.612251 210.660815 \r\nL 113.855839 210.068592 \r\nL 113.977633 210.340896 \r\nL 114.221221 209.077605 \r\nL 114.343016 210.32061 \r\nL 114.46481 209.921383 \r\nL 114.586604 210.369579 \r\nL 114.830192 207.809816 \r\nL 115.073781 211.85811 \r\nL 115.195575 208.617047 \r\nL 115.439163 209.472632 \r\nL 115.560957 208.304666 \r\nL 115.682751 208.295676 \r\nL 115.804546 211.227157 \r\nL 115.92634 207.600996 \r\nL 116.048134 210.531618 \r\nL 116.169928 208.929588 \r\nL 116.291722 210.517088 \r\nL 116.535311 209.241275 \r\nL 116.657105 210.239619 \r\nL 116.778899 210.158651 \r\nL 116.900693 212.106799 \r\nL 117.022487 209.435893 \r\nL 117.144282 211.268996 \r\nL 117.266076 208.575888 \r\nL 117.509664 211.103382 \r\nL 117.753252 212.058778 \r\nL 117.875047 210.235923 \r\nL 118.118635 210.91368 \r\nL 118.240429 210.166671 \r\nL 118.362223 208.183234 \r\nL 118.484017 209.891624 \r\nL 118.605812 208.111624 \r\nL 118.727606 210.327288 \r\nL 118.8494 209.804775 \r\nL 118.971194 211.804874 \r\nL 119.214782 208.934908 \r\nL 119.336577 210.520277 \r\nL 119.458371 208.836945 \r\nL 119.580165 211.845628 \r\nL 119.701959 208.380309 \r\nL 119.823753 209.732005 \r\nL 119.945547 209.821432 \r\nL 120.067342 209.286407 \r\nL 120.189136 208.024661 \r\nL 120.31093 208.961085 \r\nL 120.432724 208.876146 \r\nL 120.554518 208.043858 \r\nL 120.676313 209.058539 \r\nL 120.798107 211.183716 \r\nL 120.919901 208.486152 \r\nL 121.041695 210.684498 \r\nL 121.285283 208.495548 \r\nL 121.407078 209.161516 \r\nL 121.528872 208.400625 \r\nL 121.650666 208.726977 \r\nL 121.77246 210.170642 \r\nL 121.894254 208.277814 \r\nL 122.016048 208.529524 \r\nL 122.137843 209.551527 \r\nL 122.259637 209.535384 \r\nL 122.381431 207.126063 \r\nL 122.503225 210.124677 \r\nL 122.625019 209.253242 \r\nL 122.746813 209.996086 \r\nL 122.868608 209.297647 \r\nL 122.990402 210.033298 \r\nL 123.112196 206.89725 \r\nL 123.23399 207.890856 \r\nL 123.355784 207.426672 \r\nL 123.599373 209.005417 \r\nL 123.721167 210.71465 \r\nL 123.842961 208.638518 \r\nL 123.964755 208.974352 \r\nL 124.086549 206.327864 \r\nL 124.208344 206.545959 \r\nL 124.330138 209.367222 \r\nL 124.451932 208.64154 \r\nL 124.573726 209.301336 \r\nL 124.69552 208.38951 \r\nL 125.060903 210.262712 \r\nL 125.182697 207.623824 \r\nL 125.426285 210.188382 \r\nL 125.548079 208.632124 \r\nL 125.669874 210.241222 \r\nL 125.791668 209.441836 \r\nL 125.913462 210.193514 \r\nL 126.15705 206.520643 \r\nL 126.278844 208.852451 \r\nL 126.400639 207.803331 \r\nL 126.522433 208.125039 \r\nL 126.644227 210.099728 \r\nL 126.887815 209.494068 \r\nL 127.131404 207.691899 \r\nL 127.496786 209.780591 \r\nL 127.61858 209.754745 \r\nL 127.740375 208.32428 \r\nL 127.862169 208.493306 \r\nL 127.983963 209.149129 \r\nL 128.105757 207.647662 \r\nL 128.349345 208.660882 \r\nL 128.47114 208.93115 \r\nL 128.592934 209.857654 \r\nL 128.714728 208.995398 \r\nL 128.836522 210.54514 \r\nL 129.08011 209.836164 \r\nL 129.201905 208.227416 \r\nL 129.445493 210.124426 \r\nL 129.567287 208.051536 \r\nL 129.810875 209.426672 \r\nL 129.93267 211.370624 \r\nL 130.054464 208.695524 \r\nL 130.176258 210.524431 \r\nL 130.298052 205.780136 \r\nL 130.419846 209.795623 \r\nL 130.663435 209.34528 \r\nL 130.785229 211.351902 \r\nL 130.907023 209.202882 \r\nL 131.028817 209.984039 \r\nL 131.150611 209.912523 \r\nL 131.272405 209.536879 \r\nL 131.3942 207.572713 \r\nL 131.515994 209.768324 \r\nL 131.637788 209.036385 \r\nL 131.759582 209.774579 \r\nL 131.881376 209.271338 \r\nL 132.003171 211.290708 \r\nL 132.246759 208.650458 \r\nL 132.368553 210.063923 \r\nL 132.490347 210.112654 \r\nL 132.612141 211.427816 \r\nL 132.733936 209.370155 \r\nL 132.85573 209.473809 \r\nL 133.342906 207.49356 \r\nL 133.586495 209.302337 \r\nL 133.708289 212.131026 \r\nL 133.951877 208.280319 \r\nL 134.073671 210.497937 \r\nL 134.195466 209.407685 \r\nL 134.31726 211.160992 \r\nL 134.439054 208.615799 \r\nL 134.560848 209.553827 \r\nL 134.682642 209.069203 \r\nL 134.804436 210.099706 \r\nL 134.926231 208.226149 \r\nL 135.048025 209.151743 \r\nL 135.169819 208.991333 \r\nL 135.291613 210.08282 \r\nL 135.413407 208.332288 \r\nL 135.535202 210.169367 \r\nL 135.656996 210.076189 \r\nL 135.77879 208.54663 \r\nL 135.900584 209.397406 \r\nL 136.022378 209.22283 \r\nL 136.265967 208.002789 \r\nL 136.387761 211.204101 \r\nL 136.509555 208.257314 \r\nL 136.631349 209.201454 \r\nL 136.753143 207.602399 \r\nL 136.996732 209.847738 \r\nL 137.24032 206.745467 \r\nL 137.483908 210.107258 \r\nL 137.605702 209.502928 \r\nL 137.849291 207.623303 \r\nL 137.971085 210.152539 \r\nL 138.092879 208.10741 \r\nL 138.336467 209.83575 \r\nL 138.458262 210.394834 \r\nL 138.580056 208.960978 \r\nL 138.70185 210.449062 \r\nL 138.823644 209.24763 \r\nL 138.945438 210.402742 \r\nL 139.067233 208.589008 \r\nL 139.310821 209.063763 \r\nL 139.432615 210.216352 \r\nL 139.554409 208.521224 \r\nL 139.676203 209.963304 \r\nL 139.797998 208.194491 \r\nL 139.919792 209.168305 \r\nL 140.285174 207.523001 \r\nL 140.406968 211.653626 \r\nL 140.650557 209.047994 \r\nL 140.772351 208.543923 \r\nL 140.894145 208.713644 \r\nL 141.015939 209.268473 \r\nL 141.137733 207.869388 \r\nL 141.259528 208.74946 \r\nL 141.381322 207.925739 \r\nL 141.62491 210.082157 \r\nL 141.868498 208.658579 \r\nL 141.990293 210.295888 \r\nL 142.233881 208.914734 \r\nL 142.355675 209.366442 \r\nL 142.477469 210.778353 \r\nL 142.599264 208.300308 \r\nL 142.721058 209.061493 \r\nL 142.842852 208.868137 \r\nL 142.964646 208.947252 \r\nL 143.08644 209.737415 \r\nL 143.208234 209.742306 \r\nL 143.451823 208.085233 \r\nL 143.573617 209.821876 \r\nL 143.695411 209.655999 \r\nL 143.817205 208.690584 \r\nL 144.060794 210.082236 \r\nL 144.182588 210.240665 \r\nL 144.304382 209.729493 \r\nL 144.54797 210.109533 \r\nL 144.791559 208.931271 \r\nL 144.913353 209.171266 \r\nL 145.035147 210.274437 \r\nL 145.156941 208.668707 \r\nL 145.278735 211.181351 \r\nL 145.400529 210.526951 \r\nL 145.522324 210.488708 \r\nL 145.644118 211.352896 \r\nL 145.765912 209.75492 \r\nL 145.887706 209.86293 \r\nL 146.131295 209.333494 \r\nL 146.253089 209.474184 \r\nL 146.374883 207.248604 \r\nL 146.496677 209.946945 \r\nL 146.618471 209.717592 \r\nL 146.740265 212.550637 \r\nL 146.86206 209.964211 \r\nL 146.983854 211.3957 \r\nL 147.227442 209.844719 \r\nL 147.349236 211.602381 \r\nL 147.47103 209.841705 \r\nL 147.592825 210.003928 \r\nL 147.714619 209.523659 \r\nL 147.836413 209.764327 \r\nL 147.958207 208.333608 \r\nL 148.080001 209.977349 \r\nL 148.201795 208.619354 \r\nL 148.32359 210.523799 \r\nL 148.445384 208.76755 \r\nL 148.688972 210.500018 \r\nL 148.810766 208.635058 \r\nL 148.93256 209.272924 \r\nL 149.054355 208.926395 \r\nL 149.176149 211.040017 \r\nL 149.297943 210.029165 \r\nL 149.419737 211.603685 \r\nL 149.541531 209.247572 \r\nL 149.663326 209.304607 \r\nL 149.78512 206.022471 \r\nL 149.906914 209.899782 \r\nL 150.028708 210.22788 \r\nL 150.272296 208.128013 \r\nL 150.394091 210.299178 \r\nL 150.515885 210.471847 \r\nL 150.759473 208.550664 \r\nL 150.881267 208.022379 \r\nL 151.003061 210.194021 \r\nL 151.124856 208.431232 \r\nL 151.368444 210.4644 \r\nL 151.490238 208.967269 \r\nL 151.612032 209.348003 \r\nL 151.733826 210.196885 \r\nL 151.977415 209.104267 \r\nL 152.099209 209.255304 \r\nL 152.342797 210.650602 \r\nL 152.464591 210.518727 \r\nL 152.70818 209.801586 \r\nL 152.829974 208.770895 \r\nL 152.951768 209.876349 \r\nL 153.073562 209.70913 \r\nL 153.195356 208.544222 \r\nL 153.438945 211.924895 \r\nL 153.682533 208.772148 \r\nL 153.804327 208.665649 \r\nL 153.926122 208.852019 \r\nL 154.047916 208.573595 \r\nL 154.16971 207.356997 \r\nL 154.291504 207.55812 \r\nL 154.535092 210.988479 \r\nL 154.656887 208.392662 \r\nL 154.778681 209.312048 \r\nL 154.900475 208.360084 \r\nL 155.022269 209.895269 \r\nL 155.144063 209.785765 \r\nL 155.265857 209.148632 \r\nL 155.509446 211.00022 \r\nL 155.753034 207.677583 \r\nL 156.240211 209.922896 \r\nL 156.605593 208.183125 \r\nL 156.727387 211.084108 \r\nL 156.970976 208.351955 \r\nL 157.09277 210.2259 \r\nL 157.336358 209.141408 \r\nL 157.458153 209.979082 \r\nL 157.579947 209.263437 \r\nL 157.701741 210.493595 \r\nL 157.823535 207.914989 \r\nL 157.945329 209.415382 \r\nL 158.067123 208.04947 \r\nL 158.188918 208.188184 \r\nL 158.310712 211.264858 \r\nL 158.432506 210.604442 \r\nL 158.5543 207.999828 \r\nL 158.797888 209.245775 \r\nL 158.919683 209.306991 \r\nL 159.041477 207.817393 \r\nL 159.285065 209.509566 \r\nL 159.406859 207.27797 \r\nL 159.528653 209.970296 \r\nL 159.650448 207.969217 \r\nL 159.772242 210.061602 \r\nL 159.894036 209.969514 \r\nL 160.01583 211.394988 \r\nL 160.259418 208.970276 \r\nL 160.381213 210.015885 \r\nL 160.624801 209.629387 \r\nL 160.746595 207.651865 \r\nL 160.990184 210.013409 \r\nL 161.111978 209.951812 \r\nL 161.233772 208.599546 \r\nL 161.355566 211.587284 \r\nL 161.47736 209.107003 \r\nL 161.599154 209.307879 \r\nL 161.720949 210.73951 \r\nL 161.842743 208.593783 \r\nL 162.086331 211.467259 \r\nL 162.208125 211.066038 \r\nL 162.329919 210.060915 \r\nL 162.451714 210.804392 \r\nL 162.817096 206.077135 \r\nL 162.93889 209.960175 \r\nL 163.060684 210.110934 \r\nL 163.182479 209.214961 \r\nL 163.426067 210.382485 \r\nL 163.669655 207.975074 \r\nL 163.791449 209.063749 \r\nL 163.913244 208.128601 \r\nL 164.035038 210.042663 \r\nL 164.156832 209.215424 \r\nL 164.40042 210.593536 \r\nL 164.522215 208.447396 \r\nL 164.644009 209.488597 \r\nL 164.765803 208.336454 \r\nL 164.887597 208.302254 \r\nL 165.009391 210.333711 \r\nL 165.131185 209.418812 \r\nL 165.25298 209.916985 \r\nL 165.374774 211.021364 \r\nL 165.496568 209.673937 \r\nL 165.618362 210.341524 \r\nL 165.86195 209.612787 \r\nL 165.983745 210.906276 \r\nL 166.227333 208.568531 \r\nL 166.349127 209.972196 \r\nL 166.470921 209.653836 \r\nL 166.592715 210.048915 \r\nL 166.71451 209.532596 \r\nL 166.836304 210.51696 \r\nL 166.958098 210.308357 \r\nL 167.079892 208.442655 \r\nL 167.32348 208.479319 \r\nL 167.567069 211.179605 \r\nL 167.932451 209.066768 \r\nL 168.054246 210.069186 \r\nL 168.297834 209.435759 \r\nL 168.541422 210.880154 \r\nL 168.785011 207.638299 \r\nL 168.906805 209.090514 \r\nL 169.028599 208.350386 \r\nL 169.150393 210.402166 \r\nL 169.272187 208.017612 \r\nL 169.393981 210.280531 \r\nL 169.515776 208.055654 \r\nL 169.759364 211.197793 \r\nL 170.002952 208.457036 \r\nL 170.246541 209.904618 \r\nL 170.368335 209.98687 \r\nL 170.490129 207.650333 \r\nL 170.611923 210.450332 \r\nL 170.733717 210.572863 \r\nL 170.855511 208.588937 \r\nL 170.977306 209.486045 \r\nL 171.0991 209.243793 \r\nL 171.220894 208.250242 \r\nL 171.464482 209.951021 \r\nL 171.708071 206.124946 \r\nL 171.951659 190.309761 \r\nL 172.073453 158.532836 \r\nL 172.195247 17.129594 \r\nL 172.317042 17.083636 \r\nL 172.56063 190.140571 \r\nL 172.804218 207.272485 \r\nL 173.047807 209.055609 \r\nL 173.291395 208.989032 \r\nL 173.413189 210.032473 \r\nL 173.656777 209.641638 \r\nL 173.778572 208.210273 \r\nL 174.02216 210.019154 \r\nL 174.143954 208.196869 \r\nL 174.265748 208.183868 \r\nL 174.387542 211.586523 \r\nL 174.509337 209.104074 \r\nL 174.752925 210.732244 \r\nL 174.874719 209.555186 \r\nL 174.996513 209.639629 \r\nL 175.118307 211.453487 \r\nL 175.361896 208.657469 \r\nL 175.605484 209.110351 \r\nL 175.727278 201.56787 \r\nL 175.970867 210.293493 \r\nL 176.092661 210.533229 \r\nL 176.214455 208.587877 \r\nL 176.336249 210.188739 \r\nL 176.701632 209.057771 \r\nL 176.823426 209.019617 \r\nL 176.94522 210.042445 \r\nL 177.188808 209.164786 \r\nL 177.432397 208.662008 \r\nL 177.554191 207.937613 \r\nL 177.675985 209.870194 \r\nL 177.797779 209.218971 \r\nL 177.919573 209.326497 \r\nL 178.041368 210.267893 \r\nL 178.163162 210.266236 \r\nL 178.284956 209.747168 \r\nL 178.40675 210.948822 \r\nL 178.650338 208.802625 \r\nL 179.015721 210.820712 \r\nL 179.259309 209.3538 \r\nL 179.381104 209.627805 \r\nL 179.746486 209.458285 \r\nL 179.86828 210.446019 \r\nL 179.990074 210.240784 \r\nL 180.111869 208.193894 \r\nL 180.355457 210.464089 \r\nL 180.477251 208.933971 \r\nL 180.720839 210.343924 \r\nL 180.842634 207.881738 \r\nL 180.964428 211.009349 \r\nL 181.086222 209.078 \r\nL 181.32981 211.024674 \r\nL 181.451604 209.881459 \r\nL 181.573399 210.856379 \r\nL 181.695193 208.380701 \r\nL 181.816987 208.484877 \r\nL 181.938781 210.668778 \r\nL 182.060575 209.753764 \r\nL 182.182369 210.395236 \r\nL 182.304164 211.989093 \r\nL 182.547752 208.841425 \r\nL 182.79134 210.737151 \r\nL 182.913135 210.477968 \r\nL 183.156723 208.614064 \r\nL 183.278517 210.140231 \r\nL 183.400311 210.013631 \r\nL 183.522105 208.367595 \r\nL 183.6439 210.483831 \r\nL 183.765694 210.564279 \r\nL 184.009282 208.942188 \r\nL 184.131076 209.310591 \r\nL 184.25287 210.139299 \r\nL 184.374665 209.909687 \r\nL 184.496459 208.927865 \r\nL 184.618253 212.375511 \r\nL 184.983635 208.757887 \r\nL 185.10543 207.840694 \r\nL 185.227224 207.958434 \r\nL 185.349018 209.021601 \r\nL 185.470812 211.186977 \r\nL 185.836195 209.70093 \r\nL 185.957989 209.886846 \r\nL 186.079783 210.538861 \r\nL 186.201577 208.957145 \r\nL 186.323371 208.854327 \r\nL 186.445166 209.026215 \r\nL 186.56696 210.321161 \r\nL 186.688754 208.47102 \r\nL 186.810548 210.497767 \r\nL 186.932342 208.852417 \r\nL 187.054136 209.408172 \r\nL 187.175931 208.183094 \r\nL 187.297725 209.732819 \r\nL 187.419519 209.385794 \r\nL 187.541313 208.405441 \r\nL 187.663107 209.740839 \r\nL 187.784901 208.873065 \r\nL 187.906696 209.515861 \r\nL 188.02849 211.054248 \r\nL 188.272078 209.200926 \r\nL 188.393872 210.457696 \r\nL 188.637461 208.544369 \r\nL 188.759255 208.156668 \r\nL 189.124637 210.451323 \r\nL 189.246431 208.501712 \r\nL 189.368226 209.72551 \r\nL 189.49002 209.574352 \r\nL 189.611814 207.741816 \r\nL 189.733608 208.954574 \r\nL 189.855402 208.466231 \r\nL 189.977197 209.930731 \r\nL 190.342579 208.085968 \r\nL 190.464373 208.876194 \r\nL 190.586167 207.539487 \r\nL 190.707962 209.735232 \r\nL 190.829756 209.113429 \r\nL 190.95155 209.186086 \r\nL 191.073344 208.598 \r\nL 191.195138 210.120376 \r\nL 191.438727 208.971537 \r\nL 191.560521 209.234588 \r\nL 191.682315 210.094979 \r\nL 191.804109 209.311085 \r\nL 191.925903 209.296806 \r\nL 192.047697 208.689955 \r\nL 192.169492 210.251472 \r\nL 192.41308 209.021471 \r\nL 192.534874 211.183267 \r\nL 192.656668 209.213815 \r\nL 192.778462 209.633686 \r\nL 192.900257 209.38576 \r\nL 193.022051 209.825587 \r\nL 193.143845 208.539394 \r\nL 193.387433 210.276386 \r\nL 193.509227 208.467145 \r\nL 193.752816 210.854911 \r\nL 193.87461 207.474104 \r\nL 193.996404 210.810206 \r\nL 194.118198 208.876568 \r\nL 194.483581 211.65546 \r\nL 194.605375 208.943134 \r\nL 194.848963 208.574875 \r\nL 194.970758 210.451329 \r\nL 195.214346 208.29283 \r\nL 195.33614 211.764778 \r\nL 195.579728 208.995601 \r\nL 195.945111 210.242212 \r\nL 196.188699 208.373731 \r\nL 196.310493 209.897611 \r\nL 196.554082 208.120398 \r\nL 196.675876 208.149275 \r\nL 196.79767 209.978913 \r\nL 196.919464 209.706949 \r\nL 197.041258 208.959747 \r\nL 197.163053 210.625697 \r\nL 197.528435 208.732763 \r\nL 197.650229 212.155328 \r\nL 197.893818 209.046117 \r\nL 198.015612 211.620915 \r\nL 198.137406 207.646354 \r\nL 198.2592 209.824439 \r\nL 198.380994 208.840181 \r\nL 198.502789 211.012018 \r\nL 198.868171 209.545353 \r\nL 198.989965 209.737729 \r\nL 199.111759 210.396204 \r\nL 199.355348 206.936835 \r\nL 199.598936 210.204346 \r\nL 199.72073 208.360666 \r\nL 199.842524 210.587156 \r\nL 199.964319 209.729719 \r\nL 200.086113 210.240818 \r\nL 200.207907 208.086938 \r\nL 200.329701 209.654768 \r\nL 200.451495 208.680687 \r\nL 200.695084 210.472229 \r\nL 200.816878 211.298512 \r\nL 200.938672 208.853198 \r\nL 201.060466 211.014959 \r\nL 201.18226 209.025799 \r\nL 201.304055 209.174558 \r\nL 201.425849 210.437788 \r\nL 201.547643 210.08957 \r\nL 201.791231 208.502433 \r\nL 202.03482 209.791355 \r\nL 202.156614 210.014162 \r\nL 202.278408 207.586678 \r\nL 202.400202 210.198289 \r\nL 202.521996 209.433317 \r\nL 202.765585 203.23396 \r\nL 202.887379 208.522419 \r\nL 203.009173 208.384857 \r\nL 203.130967 208.919138 \r\nL 203.252761 208.682019 \r\nL 203.374555 208.768467 \r\nL 203.739938 211.793613 \r\nL 203.983526 209.071568 \r\nL 204.227115 208.350516 \r\nL 204.348909 209.154486 \r\nL 204.470703 209.08781 \r\nL 204.592497 209.394789 \r\nL 204.714291 210.219198 \r\nL 204.836086 208.295896 \r\nL 204.95788 208.45579 \r\nL 205.201468 210.919115 \r\nL 205.323262 209.27363 \r\nL 205.445056 209.89986 \r\nL 205.566851 211.335296 \r\nL 205.688645 209.159183 \r\nL 205.810439 209.79366 \r\nL 205.932233 209.549708 \r\nL 206.054027 209.993507 \r\nL 206.175821 208.711288 \r\nL 206.297616 210.329602 \r\nL 206.41941 209.827779 \r\nL 206.541204 207.73767 \r\nL 206.662998 210.806888 \r\nL 206.784792 211.046669 \r\nL 206.906586 209.359623 \r\nL 207.028381 210.886916 \r\nL 207.271969 209.185568 \r\nL 207.393763 209.705321 \r\nL 207.515557 211.871056 \r\nL 207.637351 210.058599 \r\nL 207.759146 211.177542 \r\nL 207.88094 209.585213 \r\nL 208.002734 210.572971 \r\nL 208.246322 207.843559 \r\nL 208.368117 209.756109 \r\nL 208.489911 209.59127 \r\nL 208.611705 211.276328 \r\nL 208.733499 208.418518 \r\nL 208.855293 210.524254 \r\nL 208.977087 209.493847 \r\nL 209.098882 209.460498 \r\nL 209.220676 208.217599 \r\nL 209.34247 210.554848 \r\nL 209.586058 208.940837 \r\nL 209.707852 209.15694 \r\nL 209.951441 210.40404 \r\nL 210.073235 209.235646 \r\nL 210.195029 210.900081 \r\nL 210.316823 208.822933 \r\nL 210.438617 210.479434 \r\nL 210.560412 209.445465 \r\nL 210.804 210.289436 \r\nL 210.925794 209.311417 \r\nL 211.047588 211.8847 \r\nL 211.169382 209.918758 \r\nL 211.291177 210.085196 \r\nL 211.412971 208.338211 \r\nL 211.534765 210.0911 \r\nL 211.656559 209.495327 \r\nL 211.900148 210.782593 \r\nL 212.021942 210.822019 \r\nL 212.143736 210.263204 \r\nL 212.387324 208.860744 \r\nL 212.509118 210.099194 \r\nL 212.752707 207.771652 \r\nL 212.874501 210.828228 \r\nL 212.996295 209.969277 \r\nL 213.118089 210.478862 \r\nL 213.239883 207.724271 \r\nL 213.361678 209.493585 \r\nL 213.483472 209.3092 \r\nL 213.72706 210.702702 \r\nL 213.848854 211.527471 \r\nL 213.970648 209.080642 \r\nL 214.214237 211.557768 \r\nL 214.457825 207.273252 \r\nL 214.579619 210.309443 \r\nL 214.701413 209.175963 \r\nL 214.823208 211.306206 \r\nL 214.945002 209.864825 \r\nL 215.066796 209.995668 \r\nL 215.18859 208.220477 \r\nL 215.310384 210.734255 \r\nL 215.432178 210.379052 \r\nL 215.553973 209.60623 \r\nL 215.675767 212.444531 \r\nL 215.797561 208.160134 \r\nL 215.919355 208.45575 \r\nL 216.041149 209.690813 \r\nL 216.284738 208.502893 \r\nL 216.406532 208.891676 \r\nL 216.771914 211.896134 \r\nL 217.015503 208.076485 \r\nL 217.259091 209.018916 \r\nL 217.380885 209.222526 \r\nL 217.502679 208.784568 \r\nL 217.624474 209.449036 \r\nL 217.746268 208.108389 \r\nL 217.868062 209.931793 \r\nL 217.989856 208.489349 \r\nL 218.233444 210.938882 \r\nL 218.355239 209.2865 \r\nL 218.477033 209.905833 \r\nL 218.598827 208.513316 \r\nL 218.842415 210.425103 \r\nL 218.964209 208.303628 \r\nL 219.086004 208.95363 \r\nL 219.207798 207.802274 \r\nL 219.451386 210.718041 \r\nL 219.57318 208.731513 \r\nL 219.694975 210.7439 \r\nL 219.816769 207.672224 \r\nL 220.060357 210.803238 \r\nL 220.303945 209.088099 \r\nL 220.42574 209.04407 \r\nL 220.547534 210.463518 \r\nL 220.669328 209.940441 \r\nL 220.791122 211.052488 \r\nL 221.03471 209.243459 \r\nL 221.156505 208.131751 \r\nL 221.278299 209.706629 \r\nL 221.400093 209.17863 \r\nL 221.643681 211.132823 \r\nL 221.765475 209.755708 \r\nL 221.88727 210.106251 \r\nL 222.009064 207.622816 \r\nL 222.130858 209.312498 \r\nL 222.252652 209.001392 \r\nL 222.374446 210.405021 \r\nL 222.49624 209.22753 \r\nL 222.618035 209.315478 \r\nL 222.739829 209.004372 \r\nL 222.861623 207.828162 \r\nL 222.983417 210.249645 \r\nL 223.105211 206.849688 \r\nL 223.3488 209.467972 \r\nL 223.592388 210.710809 \r\nL 223.714182 208.837104 \r\nL 223.835976 211.277491 \r\nL 223.957771 208.987317 \r\nL 224.079565 210.800781 \r\nL 224.201359 210.133503 \r\nL 224.323153 211.216112 \r\nL 224.444947 208.538452 \r\nL 224.566741 209.650193 \r\nL 224.81033 209.341384 \r\nL 224.932124 210.613583 \r\nL 225.053918 210.652096 \r\nL 225.297506 207.845351 \r\nL 225.419301 209.716623 \r\nL 225.541095 209.771113 \r\nL 225.662889 208.658339 \r\nL 225.784683 210.177284 \r\nL 225.906477 209.171528 \r\nL 226.028271 209.547478 \r\nL 226.150066 209.414699 \r\nL 226.27186 210.209168 \r\nL 226.515448 209.128316 \r\nL 226.637242 209.131528 \r\nL 226.759037 210.288586 \r\nL 226.880831 209.061615 \r\nL 227.002625 210.449326 \r\nL 227.124419 210.464185 \r\nL 227.246213 211.381734 \r\nL 227.489802 208.763369 \r\nL 227.611596 209.896998 \r\nL 227.73339 209.659138 \r\nL 227.855184 211.16004 \r\nL 227.976978 208.883308 \r\nL 228.098772 209.75072 \r\nL 228.220567 209.420175 \r\nL 228.342361 210.634158 \r\nL 228.585949 209.236941 \r\nL 228.707743 212.381361 \r\nL 228.829537 209.131681 \r\nL 228.951332 212.070037 \r\nL 229.073126 209.664572 \r\nL 229.19492 209.773588 \r\nL 229.316714 208.856174 \r\nL 229.438508 209.459057 \r\nL 229.560302 208.38037 \r\nL 229.682097 209.622061 \r\nL 229.803891 209.697734 \r\nL 229.925685 208.671946 \r\nL 230.169273 209.006155 \r\nL 230.412862 210.116382 \r\nL 230.534656 209.09454 \r\nL 230.65645 209.512955 \r\nL 230.778244 209.219517 \r\nL 230.900038 210.090191 \r\nL 231.021833 208.244345 \r\nL 231.265421 210.625234 \r\nL 231.387215 210.421952 \r\nL 231.509009 210.482067 \r\nL 231.630803 208.902782 \r\nL 231.874392 210.681975 \r\nL 231.996186 208.083087 \r\nL 232.11798 210.873437 \r\nL 232.361568 210.253999 \r\nL 232.483363 211.036459 \r\nL 232.605157 209.062241 \r\nL 232.726951 209.565691 \r\nL 232.848745 207.948573 \r\nL 232.970539 210.886656 \r\nL 233.092333 134.524321 \r\nL 233.214128 134.912812 \r\nL 233.335922 209.186933 \r\nL 233.457716 209.427498 \r\nL 233.57951 209.189958 \r\nL 233.701304 209.379181 \r\nL 233.944893 209.87527 \r\nL 234.066687 211.206619 \r\nL 234.188481 208.38909 \r\nL 234.310275 210.068966 \r\nL 234.432069 209.534469 \r\nL 234.553864 210.41413 \r\nL 234.675658 208.665048 \r\nL 234.919246 210.436095 \r\nL 235.162834 207.706899 \r\nL 235.406423 209.955913 \r\nL 235.528217 209.472773 \r\nL 235.650011 209.606329 \r\nL 235.893599 209.16323 \r\nL 236.015394 209.439851 \r\nL 236.137188 209.273916 \r\nL 236.258982 210.2528 \r\nL 236.380776 209.719831 \r\nL 236.624364 210.94967 \r\nL 236.746159 208.426435 \r\nL 236.867953 211.503355 \r\nL 236.989747 209.673432 \r\nL 237.111541 210.532678 \r\nL 237.233335 210.33987 \r\nL 237.355129 211.415981 \r\nL 237.598718 208.541104 \r\nL 237.842306 210.250947 \r\nL 238.085895 208.506301 \r\nL 238.207689 210.26766 \r\nL 238.329483 208.071201 \r\nL 238.451277 209.858003 \r\nL 238.573071 209.844585 \r\nL 238.694865 208.786721 \r\nL 238.81666 210.299168 \r\nL 238.938454 209.286914 \r\nL 239.060248 210.512299 \r\nL 239.182042 208.620303 \r\nL 239.303836 210.30808 \r\nL 239.42563 209.347347 \r\nL 239.547425 207.483694 \r\nL 239.669219 208.426762 \r\nL 239.791013 210.438606 \r\nL 239.912807 209.158266 \r\nL 240.034601 211.667215 \r\nL 240.156395 209.131846 \r\nL 240.27819 210.607556 \r\nL 240.521778 208.833654 \r\nL 240.643572 209.959943 \r\nL 240.765366 209.714744 \r\nL 240.88716 211.42317 \r\nL 241.008955 208.887931 \r\nL 241.252543 210.228818 \r\nL 241.374337 209.409278 \r\nL 241.496131 209.782637 \r\nL 241.617926 209.241172 \r\nL 241.73972 211.127376 \r\nL 241.861514 209.121233 \r\nL 241.983308 212.05225 \r\nL 242.105102 209.296736 \r\nL 242.348691 210.273375 \r\nL 242.592279 208.94016 \r\nL 242.714073 210.937664 \r\nL 242.835867 209.628572 \r\nL 242.957661 210.144178 \r\nL 243.20125 207.779798 \r\nL 243.444838 210.010523 \r\nL 243.566632 208.981341 \r\nL 243.688426 209.123174 \r\nL 243.810221 209.656184 \r\nL 243.932015 209.052842 \r\nL 244.053809 210.686362 \r\nL 244.175603 208.982805 \r\nL 244.297397 211.473544 \r\nL 244.419191 211.328075 \r\nL 244.66278 209.938723 \r\nL 244.784574 211.170604 \r\nL 245.028162 208.120288 \r\nL 245.149957 210.664828 \r\nL 245.515339 209.53435 \r\nL 245.637133 210.641606 \r\nL 245.880722 208.139759 \r\nL 246.002516 211.003871 \r\nL 246.12431 209.943815 \r\nL 246.246104 210.490286 \r\nL 246.367898 208.701804 \r\nL 246.489692 209.44998 \r\nL 246.733281 208.647309 \r\nL 246.855075 210.911579 \r\nL 246.976869 209.598762 \r\nL 247.098663 211.491365 \r\nL 247.220457 209.082661 \r\nL 247.342252 209.744465 \r\nL 247.464046 208.823609 \r\nL 247.58584 209.598789 \r\nL 247.707634 207.49208 \r\nL 247.829428 209.87057 \r\nL 247.951222 209.942237 \r\nL 248.194811 208.697138 \r\nL 248.316605 209.001584 \r\nL 248.560193 210.847384 \r\nL 248.681988 208.721056 \r\nL 248.925576 210.917528 \r\nL 249.04737 209.306539 \r\nL 249.290958 210.0281 \r\nL 249.412753 209.020825 \r\nL 249.534547 210.2761 \r\nL 249.656341 210.107636 \r\nL 249.778135 210.235776 \r\nL 249.899929 209.087295 \r\nL 250.021723 210.570213 \r\nL 250.143518 210.327066 \r\nL 250.387106 208.840539 \r\nL 250.5089 209.29015 \r\nL 250.630694 208.254669 \r\nL 250.752488 210.319881 \r\nL 250.874283 210.061695 \r\nL 250.996077 208.290215 \r\nL 251.117871 208.256641 \r\nL 251.239665 210.086589 \r\nL 251.361459 209.479692 \r\nL 251.483253 209.47412 \r\nL 251.605048 209.679203 \r\nL 251.97043 208.319129 \r\nL 252.092224 210.377848 \r\nL 252.214019 208.010273 \r\nL 252.335813 208.184285 \r\nL 252.457607 209.924498 \r\nL 252.579401 207.069404 \r\nL 252.822989 210.323343 \r\nL 252.944784 209.071738 \r\nL 253.066578 211.555324 \r\nL 253.188372 209.021642 \r\nL 253.310166 210.005807 \r\nL 253.43196 208.016192 \r\nL 253.675549 209.182336 \r\nL 253.797343 209.403555 \r\nL 253.919137 211.323084 \r\nL 254.162725 209.903083 \r\nL 254.284519 210.133792 \r\nL 254.528108 209.146757 \r\nL 254.649902 209.092065 \r\nL 254.771696 211.71174 \r\nL 255.015284 208.90235 \r\nL 255.137079 209.556224 \r\nL 255.258873 208.422118 \r\nL 255.380667 210.193526 \r\nL 255.502461 209.378687 \r\nL 255.746049 210.862874 \r\nL 255.867844 208.853101 \r\nL 256.111432 210.600857 \r\nL 256.35502 208.718688 \r\nL 256.598609 208.560075 \r\nL 256.842197 210.130927 \r\nL 256.963991 207.703267 \r\nL 257.085785 210.630122 \r\nL 257.20758 208.882141 \r\nL 257.329374 211.420677 \r\nL 257.451168 211.276894 \r\nL 257.572962 208.035879 \r\nL 257.81655 211.117253 \r\nL 258.060139 208.064527 \r\nL 258.303727 210.000702 \r\nL 258.425521 210.025702 \r\nL 258.547315 208.664996 \r\nL 258.66911 210.588116 \r\nL 258.790904 210.681302 \r\nL 259.034492 210.956725 \r\nL 259.156286 209.898783 \r\nL 259.27808 210.447369 \r\nL 259.399875 208.661001 \r\nL 259.521669 209.411291 \r\nL 259.643463 208.558949 \r\nL 259.765257 208.612849 \r\nL 259.887051 210.879233 \r\nL 260.008846 208.914492 \r\nL 260.13064 211.463248 \r\nL 260.252434 209.056658 \r\nL 260.374228 210.141259 \r\nL 260.496022 208.521658 \r\nL 260.617816 211.03003 \r\nL 260.739611 206.949132 \r\nL 260.983199 209.82085 \r\nL 261.226787 208.688049 \r\nL 261.348581 208.99461 \r\nL 261.470376 208.066708 \r\nL 261.59217 210.844639 \r\nL 261.713964 210.675583 \r\nL 261.835758 209.679064 \r\nL 261.957552 210.921126 \r\nL 262.079346 209.312251 \r\nL 262.201141 209.811724 \r\nL 262.322935 208.267439 \r\nL 262.444729 208.264185 \r\nL 262.566523 210.01024 \r\nL 262.688317 208.754047 \r\nL 262.810111 210.254174 \r\nL 262.931906 209.569376 \r\nL 263.0537 211.281077 \r\nL 263.175494 207.730898 \r\nL 263.297288 209.713976 \r\nL 263.662671 207.284128 \r\nL 263.784465 210.801673 \r\nL 263.906259 207.535023 \r\nL 264.028053 209.400873 \r\nL 264.149847 209.16373 \r\nL 264.271642 208.626721 \r\nL 264.393436 209.587517 \r\nL 264.51523 209.591086 \r\nL 264.637024 207.962839 \r\nL 264.758818 210.193709 \r\nL 264.880612 209.715645 \r\nL 265.002407 208.462645 \r\nL 265.124201 209.249924 \r\nL 265.367789 208.845656 \r\nL 265.489583 210.094565 \r\nL 265.611377 209.747051 \r\nL 265.733172 210.974925 \r\nL 265.97676 209.268355 \r\nL 266.098554 209.730887 \r\nL 266.220348 209.268371 \r\nL 266.342142 210.222337 \r\nL 266.463937 208.387921 \r\nL 266.585731 209.113269 \r\nL 266.707525 208.954885 \r\nL 266.829319 210.547842 \r\nL 266.951113 209.966525 \r\nL 267.072908 210.668531 \r\nL 267.194702 210.166076 \r\nL 267.43829 208.195426 \r\nL 267.560084 209.429663 \r\nL 267.681878 209.381609 \r\nL 267.803673 212.007922 \r\nL 268.047261 209.211807 \r\nL 268.169055 209.872318 \r\nL 268.290849 208.74485 \r\nL 268.412643 209.015416 \r\nL 268.534438 208.147179 \r\nL 268.656232 210.469446 \r\nL 268.89982 208.790297 \r\nL 269.021614 209.295337 \r\nL 269.265203 211.293065 \r\nL 269.508791 209.021124 \r\nL 269.630585 208.898814 \r\nL 269.874173 210.52364 \r\nL 269.995968 208.164256 \r\nL 270.117762 209.944361 \r\nL 270.36135 209.103092 \r\nL 270.483144 209.546066 \r\nL 270.604939 207.66504 \r\nL 270.726733 210.341634 \r\nL 270.848527 208.97205 \r\nL 270.970321 209.06063 \r\nL 271.092115 210.389231 \r\nL 271.213909 209.200543 \r\nL 271.335704 210.361402 \r\nL 271.457498 209.721412 \r\nL 271.579292 209.716664 \r\nL 271.82288 211.036631 \r\nL 271.944674 211.29519 \r\nL 272.066469 210.080711 \r\nL 272.188263 210.509529 \r\nL 272.310057 209.20686 \r\nL 272.431851 209.569254 \r\nL 272.553645 211.058185 \r\nL 272.797234 208.736889 \r\nL 272.919028 208.572836 \r\nL 273.162616 210.410635 \r\nL 273.28441 209.558418 \r\nL 273.527999 211.981679 \r\nL 273.649793 211.365224 \r\nL 273.893381 207.951887 \r\nL 274.13697 210.625767 \r\nL 274.258764 207.703626 \r\nL 274.380558 212.161228 \r\nL 274.624146 209.101181 \r\nL 274.74594 210.998695 \r\nL 274.989529 209.225178 \r\nL 275.111323 210.37976 \r\nL 275.233117 209.305963 \r\nL 275.354911 211.341919 \r\nL 275.5985 208.460332 \r\nL 275.963882 209.890021 \r\nL 276.085676 211.607684 \r\nL 276.20747 208.361077 \r\nL 276.451059 209.299175 \r\nL 276.572853 207.719366 \r\nL 276.816441 211.14976 \r\nL 276.938235 209.241486 \r\nL 277.06003 209.741826 \r\nL 277.181824 209.501116 \r\nL 277.303618 208.96054 \r\nL 277.425412 209.912721 \r\nL 277.547206 206.472513 \r\nL 277.790795 210.51326 \r\nL 277.912589 210.031629 \r\nL 278.034383 210.411398 \r\nL 278.156177 208.986346 \r\nL 278.277971 210.463071 \r\nL 278.399766 209.164224 \r\nL 278.52156 212.251805 \r\nL 278.643354 210.041633 \r\nL 278.765148 211.26594 \r\nL 278.886942 210.184086 \r\nL 279.008736 207.59964 \r\nL 279.252325 209.545117 \r\nL 279.374119 210.25803 \r\nL 279.495913 208.657533 \r\nL 279.617707 209.840371 \r\nL 279.739501 209.452605 \r\nL 279.861296 210.806753 \r\nL 279.98309 210.591099 \r\nL 280.104884 210.824788 \r\nL 280.226678 210.290815 \r\nL 280.348472 208.868652 \r\nL 280.592061 210.522634 \r\nL 280.957443 207.954562 \r\nL 281.201031 210.006291 \r\nL 281.322826 208.173746 \r\nL 281.44462 210.170459 \r\nL 281.566414 208.858009 \r\nL 281.810002 210.282299 \r\nL 281.931797 208.986244 \r\nL 282.053591 209.483067 \r\nL 282.175385 208.963426 \r\nL 282.297179 211.464361 \r\nL 282.540767 209.766877 \r\nL 282.662562 209.757381 \r\nL 282.784356 209.279856 \r\nL 282.90615 209.959699 \r\nL 283.027944 209.549659 \r\nL 283.149738 210.644878 \r\nL 283.271532 210.378969 \r\nL 283.393327 209.346895 \r\nL 283.515121 209.705858 \r\nL 283.636915 208.051804 \r\nL 283.758709 207.991946 \r\nL 283.880503 210.52265 \r\nL 284.002297 208.91758 \r\nL 284.124092 210.562296 \r\nL 284.245886 208.974942 \r\nL 284.489474 209.902442 \r\nL 284.611268 209.900348 \r\nL 284.733062 209.106882 \r\nL 284.854857 209.467941 \r\nL 284.976651 208.592232 \r\nL 285.220239 210.706486 \r\nL 285.342033 209.406472 \r\nL 285.463828 209.771522 \r\nL 285.585622 211.263107 \r\nL 285.82921 209.871965 \r\nL 285.951004 209.696604 \r\nL 286.072798 211.526065 \r\nL 286.316387 209.841246 \r\nL 286.559975 212.207839 \r\nL 286.803563 209.770972 \r\nL 286.925358 209.156952 \r\nL 287.047152 211.152132 \r\nL 287.168946 210.865201 \r\nL 287.29074 209.566091 \r\nL 287.412534 212.405971 \r\nL 287.656123 210.485962 \r\nL 287.777917 209.197953 \r\nL 287.899711 210.368524 \r\nL 288.021505 209.958789 \r\nL 288.143299 210.632366 \r\nL 288.265093 213.013193 \r\nL 288.630476 208.702052 \r\nL 288.75227 210.295442 \r\nL 288.995859 209.392144 \r\nL 289.117653 209.849109 \r\nL 289.239447 208.779781 \r\nL 289.483035 209.481666 \r\nL 289.604829 208.328414 \r\nL 289.848418 211.099469 \r\nL 289.970212 209.38387 \r\nL 290.092006 210.291879 \r\nL 290.335594 209.209417 \r\nL 290.457389 210.015 \r\nL 290.579183 206.912164 \r\nL 290.700977 208.788033 \r\nL 290.822771 208.88435 \r\nL 290.944565 208.803934 \r\nL 291.188154 211.28281 \r\nL 291.431742 209.608218 \r\nL 291.553536 212.263844 \r\nL 291.67533 208.979962 \r\nL 291.797124 209.797009 \r\nL 291.918919 211.450268 \r\nL 292.284301 209.603041 \r\nL 292.406095 210.220403 \r\nL 292.52789 207.761284 \r\nL 292.771478 210.939776 \r\nL 292.893272 209.040075 \r\nL 293.13686 210.706483 \r\nL 293.258655 210.162483 \r\nL 293.380449 208.84138 \r\nL 293.624037 210.364223 \r\nL 293.745831 206.791177 \r\nL 293.867625 196.853236 \r\nL 293.98942 62.603234 \r\nL 294.111214 62.580128 \r\nL 294.233008 197.242868 \r\nL 294.476596 209.985993 \r\nL 294.59839 208.676125 \r\nL 294.841979 210.10558 \r\nL 294.963773 211.165977 \r\nL 295.085567 209.416116 \r\nL 295.207361 210.297736 \r\nL 295.329155 209.362981 \r\nL 295.45095 210.243553 \r\nL 295.572744 209.631228 \r\nL 295.694538 209.628965 \r\nL 295.816332 208.257428 \r\nL 295.938126 209.845747 \r\nL 296.059921 209.442939 \r\nL 296.303509 210.636619 \r\nL 296.425303 210.02711 \r\nL 296.547097 210.459189 \r\nL 296.668891 208.29718 \r\nL 296.790686 208.476519 \r\nL 296.91248 210.466557 \r\nL 297.034274 209.04611 \r\nL 297.277862 209.852293 \r\nL 297.399656 209.632261 \r\nL 297.521451 210.626739 \r\nL 297.643245 210.143882 \r\nL 297.765039 208.666928 \r\nL 297.886833 209.469708 \r\nL 298.008627 208.527548 \r\nL 298.252216 210.612709 \r\nL 298.495804 209.252209 \r\nL 298.617598 210.718894 \r\nL 298.739392 210.053853 \r\nL 298.861186 210.718511 \r\nL 298.982981 209.763464 \r\nL 299.104775 211.600157 \r\nL 299.348363 209.929802 \r\nL 299.470157 211.112293 \r\nL 299.713746 209.932841 \r\nL 299.83554 211.61032 \r\nL 299.957334 210.213127 \r\nL 300.079128 211.284084 \r\nL 300.200922 208.707133 \r\nL 300.444511 211.538706 \r\nL 300.809893 209.186961 \r\nL 300.931687 210.336425 \r\nL 301.175276 210.057507 \r\nL 301.29707 213.114772 \r\nL 301.540658 209.738879 \r\nL 301.662452 210.552004 \r\nL 301.784247 210.398555 \r\nL 302.027835 209.496025 \r\nL 302.149629 211.428142 \r\nL 302.271423 208.88443 \r\nL 302.393217 209.665024 \r\nL 302.515012 209.318426 \r\nL 302.636806 211.092089 \r\nL 302.7586 209.905518 \r\nL 302.880394 211.206037 \r\nL 303.002188 209.911262 \r\nL 303.123982 210.832733 \r\nL 303.245777 209.839953 \r\nL 303.367571 210.773661 \r\nL 303.489365 208.62696 \r\nL 303.854748 212.136713 \r\nL 303.976542 210.635733 \r\nL 304.22013 211.3936 \r\nL 304.585513 208.827601 \r\nL 304.707307 208.392648 \r\nL 304.950895 211.56336 \r\nL 305.316278 209.717285 \r\nL 305.438072 210.335031 \r\nL 305.559866 210.010113 \r\nL 305.68166 210.0863 \r\nL 305.803454 211.055556 \r\nL 306.047043 208.807674 \r\nL 306.412425 210.95147 \r\nL 306.534219 208.830902 \r\nL 306.656013 210.949087 \r\nL 306.777808 209.732203 \r\nL 306.899602 210.727293 \r\nL 307.021396 207.545897 \r\nL 307.14319 210.48535 \r\nL 307.386779 208.357513 \r\nL 307.508573 211.277432 \r\nL 307.630367 208.936626 \r\nL 307.995749 211.339989 \r\nL 308.239338 210.467421 \r\nL 308.361132 209.813206 \r\nL 308.482926 208.115057 \r\nL 308.60472 208.67652 \r\nL 308.726514 208.663467 \r\nL 308.970103 210.047559 \r\nL 309.091897 209.17053 \r\nL 309.213691 209.512803 \r\nL 309.335485 210.786831 \r\nL 309.457279 210.175158 \r\nL 309.579074 210.605073 \r\nL 309.700868 208.550592 \r\nL 309.822662 208.618076 \r\nL 309.944456 210.265348 \r\nL 310.06625 209.278713 \r\nL 310.309839 209.985195 \r\nL 310.431633 208.770134 \r\nL 310.675221 211.566531 \r\nL 310.797015 209.316307 \r\nL 310.91881 211.087309 \r\nL 311.162398 209.946419 \r\nL 311.284192 210.728302 \r\nL 311.52778 210.024939 \r\nL 311.649575 210.571639 \r\nL 311.771369 209.971282 \r\nL 311.893163 212.378413 \r\nL 312.136751 208.31277 \r\nL 312.258545 208.924174 \r\nL 312.38034 212.219875 \r\nL 312.502134 209.636988 \r\nL 312.623928 209.491812 \r\nL 312.745722 210.052673 \r\nL 312.867516 211.736617 \r\nL 313.111105 209.018544 \r\nL 313.232899 208.856635 \r\nL 313.354693 210.739546 \r\nL 313.476487 210.77939 \r\nL 313.598281 209.484923 \r\nL 313.720075 210.55948 \r\nL 313.84187 210.14981 \r\nL 313.963664 210.600376 \r\nL 314.085458 209.033834 \r\nL 314.207252 210.154999 \r\nL 314.329046 209.650794 \r\nL 314.450841 211.500754 \r\nL 314.572635 210.353683 \r\nL 314.694429 211.010791 \r\nL 314.816223 209.281222 \r\nL 314.938017 209.601881 \r\nL 315.059811 209.321106 \r\nL 315.181606 211.879001 \r\nL 315.3034 210.430789 \r\nL 315.425194 210.680846 \r\nL 315.546988 210.130648 \r\nL 315.668782 211.617711 \r\nL 315.912371 209.275417 \r\nL 316.155959 211.433117 \r\nL 316.277753 210.459028 \r\nL 316.399547 211.411427 \r\nL 316.521341 211.15246 \r\nL 316.643136 210.211138 \r\nL 316.76493 210.782921 \r\nL 316.886724 212.849242 \r\nL 317.130312 210.255342 \r\nL 317.252106 210.778943 \r\nL 317.373901 209.393655 \r\nL 317.495695 210.794589 \r\nL 317.617489 209.942996 \r\nL 317.739283 211.485424 \r\nL 317.861077 209.179435 \r\nL 317.982872 209.748552 \r\nL 318.104666 211.094954 \r\nL 318.22646 209.666615 \r\nL 318.348254 211.519424 \r\nL 318.470048 209.095701 \r\nL 318.591842 210.956596 \r\nL 318.713637 210.876834 \r\nL 318.835431 213.064269 \r\nL 318.957225 210.240516 \r\nL 319.079019 211.523228 \r\nL 319.200813 210.450603 \r\nL 319.322607 211.966198 \r\nL 319.444402 211.884356 \r\nL 319.566196 209.393466 \r\nL 319.68799 211.862278 \r\nL 319.809784 210.635546 \r\nL 319.931578 211.869504 \r\nL 320.053372 210.193856 \r\nL 320.175167 211.35915 \r\nL 320.418755 210.974217 \r\nL 320.540549 212.121688 \r\nL 320.662343 210.721734 \r\nL 320.784137 210.71486 \r\nL 320.905932 210.868353 \r\nL 321.027726 210.463412 \r\nL 321.14952 211.951452 \r\nL 321.271314 210.198431 \r\nL 321.514902 210.861569 \r\nL 321.636697 212.451987 \r\nL 321.758491 210.51353 \r\nL 321.880285 212.030228 \r\nL 322.123873 209.533184 \r\nL 322.245668 211.243349 \r\nL 322.489256 209.334446 \r\nL 322.61105 211.569154 \r\nL 322.732844 211.428383 \r\nL 322.854638 211.63165 \r\nL 322.976433 210.158931 \r\nL 323.098227 212.734985 \r\nL 323.220021 210.342836 \r\nL 323.341815 212.124218 \r\nL 323.463609 209.879134 \r\nL 323.707198 212.154744 \r\nL 323.828992 210.16955 \r\nL 323.950786 211.655827 \r\nL 324.194374 210.295543 \r\nL 324.316168 211.327099 \r\nL 324.437963 210.137933 \r\nL 324.681551 211.046225 \r\nL 324.803345 209.934186 \r\nL 324.925139 212.888655 \r\nL 325.046933 210.471125 \r\nL 325.168728 210.522219 \r\nL 325.290522 210.875134 \r\nL 325.412316 212.709849 \r\nL 325.53411 210.114344 \r\nL 325.655904 211.058065 \r\nL 325.777699 209.503031 \r\nL 326.021287 211.229948 \r\nL 326.143081 210.121744 \r\nL 326.264875 211.083418 \r\nL 326.508464 211.155804 \r\nL 326.630258 210.215176 \r\nL 326.752052 210.910659 \r\nL 326.873846 212.575662 \r\nL 326.99564 212.510045 \r\nL 327.117434 209.463285 \r\nL 327.361023 211.987073 \r\nL 327.604611 210.616537 \r\nL 327.726405 211.261027 \r\nL 327.969994 210.061707 \r\nL 328.091788 209.940576 \r\nL 328.213582 211.048181 \r\nL 328.335376 210.617936 \r\nL 328.45717 210.855375 \r\nL 328.578964 210.292559 \r\nL 328.700759 211.172141 \r\nL 328.822553 210.668786 \r\nL 328.944347 209.399475 \r\nL 329.187935 210.763445 \r\nL 329.553318 211.213429 \r\nL 329.675112 209.352797 \r\nL 329.9187 211.326567 \r\nL 330.040495 210.611258 \r\nL 330.284083 211.632254 \r\nL 330.405877 210.526339 \r\nL 330.527671 211.765217 \r\nL 330.649465 211.392767 \r\nL 330.893054 211.949137 \r\nL 331.136642 211.016268 \r\nL 331.258436 212.287468 \r\nL 331.38023 211.426336 \r\nL 331.502025 208.930376 \r\nL 331.623819 209.505926 \r\nL 331.867407 213.007048 \r\nL 331.989201 208.690587 \r\nL 332.110995 211.488559 \r\nL 332.23279 210.42721 \r\nL 332.354584 211.954081 \r\nL 332.476378 210.566283 \r\nL 332.598172 210.929479 \r\nL 332.719966 210.303735 \r\nL 332.841761 208.589204 \r\nL 332.963555 211.913768 \r\nL 333.085349 210.249397 \r\nL 333.207143 211.176807 \r\nL 333.328937 211.204115 \r\nL 333.450731 212.671198 \r\nL 333.572526 210.262501 \r\nL 333.816114 211.013563 \r\nL 333.937908 211.002827 \r\nL 334.059702 212.697336 \r\nL 334.181496 212.108479 \r\nL 334.303291 210.366733 \r\nL 334.425085 212.469528 \r\nL 334.546879 211.052424 \r\nL 334.668673 212.654118 \r\nL 334.790467 210.726937 \r\nL 334.912261 212.254912 \r\nL 335.034056 211.488068 \r\nL 335.15585 209.878681 \r\nL 335.277644 211.501862 \r\nL 335.399438 210.426384 \r\nL 335.521232 210.650177 \r\nL 335.643026 211.861495 \r\nL 335.764821 211.732 \r\nL 335.886615 211.946544 \r\nL 336.008409 209.880097 \r\nL 336.130203 213.072431 \r\nL 336.251997 211.830269 \r\nL 336.373792 212.484216 \r\nL 336.61738 210.430098 \r\nL 336.739174 211.27583 \r\nL 336.982762 210.523834 \r\nL 337.104557 210.899567 \r\nL 337.226351 210.683693 \r\nL 337.348145 212.099293 \r\nL 337.469939 210.575579 \r\nL 337.591733 213.472904 \r\nL 337.713527 211.4903 \r\nL 337.835322 212.480433 \r\nL 337.957116 209.754211 \r\nL 338.07891 212.408276 \r\nL 338.322498 211.327957 \r\nL 338.444292 212.024983 \r\nL 338.566087 211.130198 \r\nL 338.687881 211.516136 \r\nL 338.809675 210.073107 \r\nL 339.053263 211.693268 \r\nL 339.175057 210.586814 \r\nL 339.296852 211.550237 \r\nL 339.418646 209.583808 \r\nL 339.905822 213.051229 \r\nL 340.027617 212.987362 \r\nL 340.271205 209.868848 \r\nL 340.392999 212.469637 \r\nL 340.636588 210.632843 \r\nL 341.00197 211.667453 \r\nL 341.123764 213.179035 \r\nL 341.489147 209.088105 \r\nL 341.610941 208.26704 \r\nL 341.854529 210.400396 \r\nL 342.098118 208.928272 \r\nL 342.219912 211.272253 \r\nL 342.4635 211.603439 \r\nL 342.585294 211.047373 \r\nL 342.707088 212.512076 \r\nL 342.950677 210.105681 \r\nL 343.194265 211.949031 \r\nL 343.316059 212.28855 \r\nL 343.437853 211.045 \r\nL 343.559648 212.284239 \r\nL 343.681442 211.909441 \r\nL 343.92503 212.455697 \r\nL 344.046824 212.863101 \r\nL 344.168619 209.054958 \r\nL 344.290413 212.778857 \r\nL 344.412207 210.936388 \r\nL 344.534001 211.437043 \r\nL 344.655795 209.217004 \r\nL 344.777589 209.037782 \r\nL 344.899384 211.384446 \r\nL 345.021178 211.243111 \r\nL 345.142972 210.026707 \r\nL 345.38656 211.870208 \r\nL 345.508354 209.960224 \r\nL 345.630149 211.365244 \r\nL 345.751943 210.734443 \r\nL 345.995531 212.294429 \r\nL 346.117325 209.858536 \r\nL 346.360914 211.789194 \r\nL 346.482708 213.071566 \r\nL 346.604502 210.597597 \r\nL 346.726296 210.691048 \r\nL 346.84809 212.259512 \r\nL 346.969884 212.047918 \r\nL 347.091679 213.07242 \r\nL 347.335267 211.68308 \r\nL 347.578855 212.944035 \r\nL 347.70065 210.422898 \r\nL 347.822444 213.628976 \r\nL 348.187826 210.208254 \r\nL 348.30962 211.756825 \r\nL 348.431415 210.678177 \r\nL 348.553209 212.791272 \r\nL 348.796797 211.564845 \r\nL 348.918591 211.847726 \r\nL 349.040385 210.187475 \r\nL 349.283974 212.145137 \r\nL 349.405768 209.961649 \r\nL 349.527562 211.158205 \r\nL 349.649356 214.756364 \r\nL 349.77115 210.740329 \r\nL 349.892945 211.336592 \r\nL 350.014739 210.87034 \r\nL 350.258327 212.801179 \r\nL 350.380121 212.468035 \r\nL 350.501915 210.437289 \r\nL 350.62371 213.856471 \r\nL 350.745504 208.464352 \r\nL 350.867298 212.878825 \r\nL 350.989092 210.702856 \r\nL 351.110886 212.821493 \r\nL 351.232681 212.137953 \r\nL 351.354475 212.78877 \r\nL 351.963446 209.784314 \r\nL 352.08524 213.992822 \r\nL 352.207034 210.48992 \r\nL 352.450622 211.818832 \r\nL 352.572416 210.958619 \r\nL 352.694211 213.627335 \r\nL 352.937799 211.377265 \r\nL 353.059593 211.67322 \r\nL 353.181387 212.357617 \r\nL 353.303181 210.415485 \r\nL 353.54677 211.993268 \r\nL 353.668564 211.668981 \r\nL 353.790358 212.155016 \r\nL 353.912152 210.78246 \r\nL 354.155741 213.777558 \r\nL 354.399329 210.578674 \r\nL 354.521123 211.432168 \r\nL 354.642917 208.760952 \r\nL 354.764712 195.249935 \r\nL 354.886506 61.998941 \r\nL 354.886506 61.998941 \r\n\" style=\"fill:none;stroke:#1f77b4;stroke-linecap:square;stroke-width:1.5;\"/>\r\n   </g>\r\n   <g id=\"patch_3\">\r\n    <path d=\"M 35.304688 224.64 \r\nL 35.304688 7.2 \r\n\" style=\"fill:none;stroke:#000000;stroke-linecap:square;stroke-linejoin:miter;stroke-width:0.8;\"/>\r\n   </g>\r\n   <g id=\"patch_4\">\r\n    <path d=\"M 370.104688 224.64 \r\nL 370.104688 7.2 \r\n\" style=\"fill:none;stroke:#000000;stroke-linecap:square;stroke-linejoin:miter;stroke-width:0.8;\"/>\r\n   </g>\r\n   <g id=\"patch_5\">\r\n    <path d=\"M 35.304688 224.64 \r\nL 370.104687 224.64 \r\n\" style=\"fill:none;stroke:#000000;stroke-linecap:square;stroke-linejoin:miter;stroke-width:0.8;\"/>\r\n   </g>\r\n   <g id=\"patch_6\">\r\n    <path d=\"M 35.304688 7.2 \r\nL 370.104687 7.2 \r\n\" style=\"fill:none;stroke:#000000;stroke-linecap:square;stroke-linejoin:miter;stroke-width:0.8;\"/>\r\n   </g>\r\n  </g>\r\n </g>\r\n <defs>\r\n  <clipPath id=\"pbdf1ac5e16\">\r\n   <rect height=\"217.44\" width=\"334.8\" x=\"35.304688\" y=\"7.2\"/>\r\n  </clipPath>\r\n </defs>\r\n</svg>\r\n",
      "image/png": "[encoded data removed]"
     },
     "metadata": {
      "needs_background": "light"
     }
    }
   ],
   "source": [
    "gmin, pmin = mixerTuner.step3IqImbalance(centers=[0, 0], spans=[0.2, 0.2], numIters=10, numGrids=[11, 11], shrink=0.9)\n",
    "mixerTuner.step1CoarseSweep(I=Imin, Q=Qmin, gain=gmin, phase=pmin)"
   ]
  },
  {
   "cell_type": "code",
   "execution_count": 6,
   "metadata": {},
   "outputs": [],
   "source": [
    "#mixerTuner.sa124B.stop()"
   ]
  }
 ]
}