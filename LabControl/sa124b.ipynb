{
 "metadata": {
  "language_info": {
   "codemirror_mode": {
    "name": "ipython",
    "version": 3
   },
   "file_extension": ".py",
   "mimetype": "text/x-python",
   "name": "python",
   "nbconvert_exporter": "python",
   "pygments_lexer": "ipython3",
   "version": "3.8.5-final"
  },
  "orig_nbformat": 2,
  "kernelspec": {
   "name": "python3",
   "display_name": "Python 3",
   "language": "python"
  }
 },
 "nbformat": 4,
 "nbformat_minor": 2,
 "cells": [
  {
   "cell_type": "code",
   "execution_count": null,
   "metadata": {},
   "outputs": [],
   "source": []
  },
  {
   "cell_type": "code",
   "execution_count": 1,
   "metadata": {},
   "outputs": [],
   "source": [
    "from h5register.h5register import*\n",
    "from Instruments.SA124B.SA124B import SA124B\n",
    "arr = np.array([2,3,4])"
   ]
  },
  {
   "cell_type": "code",
   "execution_count": 2,
   "metadata": {},
   "outputs": [
    {
     "output_type": "stream",
     "name": "stdout",
     "text": [
      "@SA124B.initSweep: resolution= 6000000.0\n",
      "(2001,) float64\n",
      "(2001,) float64\n",
      "(2001,) float64\n",
      "(2001,) float64\n",
      "(2001,) float64\n",
      "(2001,) float64\n",
      "(2001,) float64\n",
      "(2001,) float64\n",
      "(2001,) float64\n",
      "(2001,) float64\n"
     ]
    }
   ],
   "source": [
    "sa124B = SA124B(serialNumber = 19184645, mode = 'sweep')\n",
    "freqs, amps = sa124B.initSweep(center=6e9, span=2e9, N=200, power=0)\n",
    "for i in range(10):\n",
    "    amps = sa124B.getSweep(len(amps))\n",
    "    data = DataSet(\"instrument_SA124B.testfolder.\"+BASIC_FILEPATH, \"sweep_{}\".format(i))\n",
    "    print(amps.shape, amps.dtype)\n",
    "    data.extend(amps) \n",
    "    data.close()"
   ]
  },
  {
   "cell_type": "code",
   "execution_count": 9,
   "metadata": {},
   "outputs": [
    {
     "output_type": "stream",
     "name": "stdout",
     "text": [
      "[-51.8756327  -51.84096183 -51.80629096 ... -52.99154847 -53.00178171\n",
      " -53.01201495]\n",
      "[-51.8756327  -51.84096183 -51.80629096 ... -53.11186168 -53.00177113\n",
      " -52.89168059]\n",
      "[-51.8756327  -51.88107103 -51.88650936 ... -52.87121791 -52.88145116\n",
      " -52.8916844 ]\n",
      "[-51.8756327  -51.84096183 -51.80629096 ... -52.87121791 -52.84134196\n",
      " -52.811466  ]\n",
      "[-51.8756327  -51.92118121 -51.96672973 ... -52.99154847 -53.00178171\n",
      " -53.01201495]\n",
      "[-51.8756327  -51.88107103 -51.88650936 ... -52.87121791 -52.92156134\n",
      " -52.97190477]\n",
      "[-51.9959603  -51.96128943 -51.92661856 ... -52.75089031 -52.76112355\n",
      " -52.7713568 ]\n",
      "[-51.8756327  -51.88107103 -51.88650936 ... -52.87121791 -52.84134196\n",
      " -52.811466  ]\n",
      "[-51.8756327  -51.84096183 -51.80629096 ... -53.11186168 -53.00177113\n",
      " -52.89168059]\n",
      "[-52.11629086 -52.0415098  -51.96672875 ... -52.99154847 -53.04188612\n",
      " -53.09222376]\n"
     ]
    }
   ],
   "source": [
    "with h5pyd.File(\"instrument_SA124B.testfolder.\"+BASIC_FILEPATH, \"a\") as f:\n",
    "    for i in range(10):\n",
    "        print(f['sweep_{}'.format(i)][()])"
   ]
  },
  {
   "cell_type": "code",
   "execution_count": null,
   "metadata": {},
   "outputs": [],
   "source": []
  },
  {
   "cell_type": "code",
   "execution_count": null,
   "metadata": {},
   "outputs": [],
   "source": [
    "import h5pyd "
   ]
  },
  {
   "cell_type": "code",
   "execution_count": null,
   "metadata": {},
   "outputs": [],
   "source": []
  },
  {
   "cell_type": "code",
   "execution_count": null,
   "metadata": {},
   "outputs": [],
   "source": []
  }
 ]
}