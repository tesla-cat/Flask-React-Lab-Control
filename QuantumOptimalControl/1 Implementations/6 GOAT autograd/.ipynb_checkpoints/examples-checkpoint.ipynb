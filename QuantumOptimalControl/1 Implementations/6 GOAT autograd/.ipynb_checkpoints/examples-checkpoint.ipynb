{
 "cells": [
  {
   "cell_type": "code",
   "execution_count": 1,
   "metadata": {},
   "outputs": [],
   "source": [
    "from goat import goat\n",
    "from qutip import qeye, sigmax, sigmay, fock, tensor\n",
    "import autograd.numpy as np"
   ]
  },
  {
   "cell_type": "code",
   "execution_count": null,
   "metadata": {},
   "outputs": [
    {
     "data": {
      "image/png": "[encoded data removed]",
      "text/plain": [
       "<Figure size 432x288 with 1 Axes>"
      ]
     },
     "metadata": {
      "needs_background": "light"
     },
     "output_type": "display_data"
    },
    {
     "name": "stdout",
     "output_type": "stream",
     "text": [
      "2e-01 "
     ]
    },
    {
     "name": "stderr",
     "output_type": "stream",
     "text": [
      "c:\\python38\\lib\\site-packages\\autograd\\numpy\\numpy_vjps.py:99: RuntimeWarning: invalid value encountered in cdouble_scalars\n",
      "  defvjp(anp.sqrt,    lambda ans, x : lambda g: g * 0.5 * x**-0.5)\n",
      "C:\\Users\\e0134117\\Desktop\\qoc\\1 Implementations\\6 GOAT autograd\\odeIntAutograd.py:65: RuntimeWarning: invalid value encountered in cdouble_scalars\n",
      "  h0 = 1e-2 * d0 / d1\n",
      "C:\\Users\\e0134117\\Desktop\\qoc\\1 Implementations\\6 GOAT autograd\\odeIntAutograd.py:68: RuntimeWarning: invalid value encountered in cdouble_scalars\n",
      "  d2 = rmsNorm(f1 - f0) / h0\n",
      "C:\\Users\\e0134117\\Desktop\\qoc\\1 Implementations\\6 GOAT autograd\\odeIntAutograd.py:73: RuntimeWarning: invalid value encountered in cdouble_scalars\n",
      "  h1 = np.power( 1e-2/maxD, 1/(P+1) )\n",
      "C:\\Users\\e0134117\\Desktop\\qoc\\1 Implementations\\6 GOAT autograd\\odeIntAutograd.py:86: RuntimeWarning: invalid value encountered in true_divide\n",
      "  errNorm = rmsNorm((y1-y1h) / scale)\n"
     ]
    }
   ],
   "source": [
    "I = qeye(2); sx = sigmax(); sy = sigmay()\n",
    "\n",
    "H0 = I*0; Hcs = [sx, sy]\n",
    "T = np.pi/2; nT = 100\n",
    "psi0 = I; psig = sx\n",
    "\n",
    "p = goat(H0, Hcs, T, nT, psi0, psig, nC = 6)"
   ]
  },
  {
   "cell_type": "code",
   "execution_count": null,
   "metadata": {},
   "outputs": [],
   "source": [
    "from Hqc import Hqc, cat\n",
    "\n",
    "NQ = 2; NC = 15\n",
    "v1 = tensor(fock(NQ, 0), fock(NC, 0))\n",
    "v2 = tensor(fock(NQ, 0), cat(NC, 1.2))\n",
    "\n",
    "H0, Hcs = Hqc(NQ, NC, drive=1e-3, chi=3e-3, kerrQ=0.4, kerrC=1e-5)\n",
    "T = 200; nT = 200\n",
    "psi0 = [v1]; psig = [v2]\n",
    "\n",
    "p = goat(H0, Hcs, T, nT, psi0, psig, nC = 16)"
   ]
  },
  {
   "cell_type": "code",
   "execution_count": null,
   "metadata": {},
   "outputs": [],
   "source": []
  }
 ],
 "metadata": {
  "kernelspec": {
   "display_name": "Python 3",
   "language": "python",
   "name": "python3"
  },
  "language_info": {
   "codemirror_mode": {
    "name": "ipython",
    "version": 3
   },
   "file_extension": ".py",
   "mimetype": "text/x-python",
   "name": "python",
   "nbconvert_exporter": "python",
   "pygments_lexer": "ipython3",
   "version": "3.8.3"
  }
 },
 "nbformat": 4,
 "nbformat_minor": 4
}
