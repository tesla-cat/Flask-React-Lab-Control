{
 "metadata": {
  "language_info": {
   "codemirror_mode": {
    "name": "ipython",
    "version": 3
   },
   "file_extension": ".py",
   "mimetype": "text/x-python",
   "name": "python",
   "nbconvert_exporter": "python",
   "pygments_lexer": "ipython3",
   "version": "3.8.3-final"
  },
  "orig_nbformat": 2,
  "kernelspec": {
   "name": "python3",
   "display_name": "Python 3"
  }
 },
 "nbformat": 4,
 "nbformat_minor": 2,
 "cells": [
  {
   "cell_type": "code",
   "execution_count": 1,
   "metadata": {},
   "outputs": [
    {
     "output_type": "stream",
     "name": "stdout",
     "text": [
      "1e+00 5e-01 1e+00 9e-01 2e-01 9e-01 6e-02 6e-02 1e+00 7e-01 6e-02 4e-02 3e-02 9e-02 2e-02 2e-02 1e-02 1e-02 9e-03 6e-03 4e-03 2e-03 2e-02 1e-03 1e-03 2e-03 8e-04 5e-04 7e-05 5e-05 4e-05 2e-05 1e-05 2e-06 6e-07 3e-07 2e-07 2e-07 2e-07 "
     ]
    }
   ],
   "source": [
    "\n",
    "from qutip import qeye, sigmax, sigmay\n",
    "import autograd.numpy as np\n",
    "from minimize import minimize\n",
    "def toNp(x): return np.array(x.full())\n",
    "\n",
    "I = toNp( qeye(2) )\n",
    "sx = toNp( sigmax() )\n",
    "sy = toNp( sigmay() )\n",
    "\n",
    "a0 = np.ones([2, 1, 3])\n",
    "\n",
    "minimize(U0=I, Ug=sx, T=np.pi, H0=I*0, Hcs=[sx, sy], a0=a0)"
   ]
  }
 ]
}