{
 "metadata": {
  "language_info": {
   "codemirror_mode": {
    "name": "ipython",
    "version": 3
   },
   "file_extension": ".py",
   "mimetype": "text/x-python",
   "name": "python",
   "nbconvert_exporter": "python",
   "pygments_lexer": "ipython3",
   "version": "3.8.5-final"
  },
  "orig_nbformat": 2,
  "kernelspec": {
   "name": "python3",
   "display_name": "Python 3"
  }
 },
 "nbformat": 4,
 "nbformat_minor": 2,
 "cells": [
  {
   "cell_type": "code",
   "execution_count": 1,
   "metadata": {},
   "outputs": [
    {
     "output_type": "error",
     "ename": "ModuleNotFoundError",
     "evalue": "No module named 'autograd'",
     "traceback": [
      "\u001b[0;31m---------------------------------------------------------------------------\u001b[0m",
      "\u001b[0;31mModuleNotFoundError\u001b[0m                       Traceback (most recent call last)",
      "\u001b[0;32m<ipython-input-1-c780a7a47959>\u001b[0m in \u001b[0;36m<module>\u001b[0;34m\u001b[0m\n\u001b[1;32m      1\u001b[0m \u001b[0;32mfrom\u001b[0m \u001b[0mqutip\u001b[0m \u001b[0;32mimport\u001b[0m \u001b[0mqeye\u001b[0m\u001b[0;34m,\u001b[0m \u001b[0msigmax\u001b[0m\u001b[0;34m,\u001b[0m \u001b[0msigmay\u001b[0m\u001b[0;34m,\u001b[0m \u001b[0mtensor\u001b[0m\u001b[0;34m,\u001b[0m \u001b[0mfock\u001b[0m\u001b[0;34m\u001b[0m\u001b[0;34m\u001b[0m\u001b[0m\n\u001b[0;32m----> 2\u001b[0;31m \u001b[0;32mimport\u001b[0m \u001b[0mautograd\u001b[0m\u001b[0;34m.\u001b[0m\u001b[0mnumpy\u001b[0m \u001b[0;32mas\u001b[0m \u001b[0mnp\u001b[0m\u001b[0;34m\u001b[0m\u001b[0;34m\u001b[0m\u001b[0m\n\u001b[0m\u001b[1;32m      3\u001b[0m \u001b[0;32mfrom\u001b[0m \u001b[0mminimize\u001b[0m \u001b[0;32mimport\u001b[0m \u001b[0mminimize\u001b[0m\u001b[0;34m\u001b[0m\u001b[0;34m\u001b[0m\u001b[0m\n\u001b[1;32m      4\u001b[0m \u001b[0;32mdef\u001b[0m \u001b[0mtoNp\u001b[0m\u001b[0;34m(\u001b[0m\u001b[0mx\u001b[0m\u001b[0;34m)\u001b[0m\u001b[0;34m:\u001b[0m \u001b[0;32mreturn\u001b[0m \u001b[0mnp\u001b[0m\u001b[0;34m.\u001b[0m\u001b[0marray\u001b[0m\u001b[0;34m(\u001b[0m\u001b[0mx\u001b[0m\u001b[0;34m.\u001b[0m\u001b[0mfull\u001b[0m\u001b[0;34m(\u001b[0m\u001b[0;34m)\u001b[0m\u001b[0;34m)\u001b[0m\u001b[0;34m\u001b[0m\u001b[0;34m\u001b[0m\u001b[0m\n\u001b[1;32m      5\u001b[0m \u001b[0;34m\u001b[0m\u001b[0m\n",
      "\u001b[0;31mModuleNotFoundError\u001b[0m: No module named 'autograd'"
     ]
    }
   ],
   "source": [
    "from qutip import qeye, sigmax, sigmay, tensor, fock\n",
    "import autograd.numpy as np\n",
    "from minimize import minimize\n",
    "def toNp(x): return np.array(x.full())\n",
    "\n",
    "def outer(a,b): return a*b.dag()\n",
    "def sigx(j,k): return  outer(k,j) + outer(j,k)\n",
    "def sigy(j,k): return (outer(k,j) - outer(j,k)) * 1j\n",
    "def H0j(j,N,delta,lam):\n",
    "    ka = fock(N, j-1); kb = fock(N, j)\n",
    "    return delta[j] * outer(kb,kb) \n",
    "def Hxj(j,N,delta,lam):\n",
    "    ka = fock(N, j-1); kb = fock(N, j)\n",
    "    return 1/2 * lam[j] * sigx(ka,kb)\n",
    "def Hyj(j,N,delta,lam):\n",
    "    ka = fock(N, j-1); kb = fock(N, j)\n",
    "    return 1/2 * lam[j] * sigy(ka,kb)\n",
    "def H0(N,delta,lam): return sum([H0j(j,N,delta,lam) for j in range(1,N)])\n",
    "def Hx(N,delta,lam): return sum([Hxj(j,N,delta,lam) for j in range(1,N)])\n",
    "def Hy(N,delta,lam): return sum([Hyj(j,N,delta,lam) for j in range(1,N)])\n",
    "\n",
    "lam2 = np.sqrt(2)    # relative strength of the 0 − 1 to 1 − 2 transition\n",
    "lam=[None, 1, lam2, lam2**2]\n",
    "\n",
    "Delta= -2*np.pi * 0.4    # anharmonicity: −0.4 GHz \n",
    "del1 = 0\n",
    "del2 = Delta + del1\n",
    "del3 = Delta + del2\n",
    "delta=[None, del1, del2, del3]\n",
    "\n",
    "N=4   # dimension\n",
    "\n",
    "U0_ = toNp( qeye(N) )\n",
    "Ug_ = toNp( tensor(sigmax(), qeye(N-2) ) )\n",
    "H0_ = toNp( H0(N,delta,lam) )\n",
    "Hcs_ = [toNp( Hx(N,delta,lam) ), toNp( Hy(N,delta,lam) ) ]\n",
    "\n",
    "a0 = np.ones([2, 10, 3])\n",
    "\n",
    "minimize(U0=U0_, Ug=Ug_, T=np.pi*10, H0=H0_, Hcs=Hcs_, a0=a0)"
   ]
  }
 ]
}